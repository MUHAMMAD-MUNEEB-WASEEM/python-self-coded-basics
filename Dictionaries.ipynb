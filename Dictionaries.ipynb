{
 "cells": [
  {
   "cell_type": "markdown",
   "metadata": {},
   "source": [
    "## Dictionaries"
   ]
  },
  {
   "cell_type": "code",
   "execution_count": 1,
   "metadata": {},
   "outputs": [],
   "source": [
    "#A dictionary in Python is a collection of key-value pairs. Each key is associated to a value, and you can use a key to \n",
    "#access the value related to that key. A key’s value can be a number, a string, a list, or even another dictionary.\n",
    "#In fact, you can use any object that you can create in Python as a value in a dictionary. In Python, a dictionary is \n",
    "#wrapped in braces, {}, with a series of key value pairs inside the braces\n",
    "\n",
    "#you can also say that dictionaries are a “bag” of values, each with its own label and with no order\n",
    "#A key-value pair is a set of values associated with each other. When you provide a key, Python returns the value \n",
    "#associated with that key.The structure of dictionary is similar to the code for creating a list. Both begin with a \n",
    "#variable name and equal sign: but in a list, brackets are square brackets, and in a dictionary, brackets are \n",
    "#curly brackets.Every key is connected to its value by a colon, and individual key-value pairs are separated\n",
    "#by commas. You can store as many key-value pairs as you want in a dictionary.  The biggest difference b/w list and\n",
    "#dictionary is that In a list, each chunk is one thing. In a dictionary, each chunk is a paired key and value:\n",
    "#The simplest dictionary has exactly one key-value pair"
   ]
  },
  {
   "cell_type": "markdown",
   "metadata": {},
   "source": [
    "### Defining Dictionary"
   ]
  },
  {
   "cell_type": "code",
   "execution_count": 27,
   "metadata": {},
   "outputs": [],
   "source": [
    "#Now lets create a dictionary containing information of a company employee\n",
    "customer_1 = {\n",
    "    \"first name\": \"Martin\", \n",
    "    \"last name\": \"Jordan\", \n",
    "    \"address\": \"0001 fake St.\",\n",
    "    }\n",
    "#here\n",
    "#key is \"first name\", value is \"Martin\"\n",
    "#key is \"last name\", value is \"Jordan\"\n",
    "#key is \"address\", value is \"0001 fake St.\"\n",
    "#and each key value pair is separated by comma\n",
    "#you people wondering why I set each key value pair at one line, but I have all the answers; you want to know why??\n",
    "#here is your answer->When you're defining a dictionary that contains more than two or three key value pairs, \n",
    "#it's a good idea to break the pairs into separate lines for readability:\n",
    "\n",
    "#to do this, closely listen and follow my instructions\n",
    "#press enter after the opening square bracket. Then indent the next\n",
    "#line one level (four spaces), and write the first key-value pair, followed by\n",
    "#a comma. Now from here when you press enter, your text editor will automatically indent all subsequent \n",
    "#key-value pairs to match the first key-value pair. Once you’ve done defining the dictionary, add a closing brace on a\n",
    "#new line after the last key-value pair and indent it one level so it aligns with\n",
    "#the keys in the dictionary. Notice that it’s good practice to include a comma after the\n",
    "#last key-value pair as well, so you’re ready to add a new key-value pair on the next line."
   ]
  },
  {
   "cell_type": "code",
   "execution_count": 72,
   "metadata": {},
   "outputs": [],
   "source": [
    "#Dictionaries have a number of useful built-in methods and the most common ones are get(), keys(), values() and items()\n",
    "#method and we will discuss all these as we move on, so stick together learn together"
   ]
  },
  {
   "cell_type": "markdown",
   "metadata": {},
   "source": [
    "### Accessing values in a Dictionary and get() method"
   ]
  },
  {
   "cell_type": "code",
   "execution_count": 38,
   "metadata": {},
   "outputs": [
    {
     "name": "stdout",
     "output_type": "stream",
     "text": [
      "Accessing Maritin's martin_address-> 0001 fake St.\n",
      "\n",
      "Accessing Martin's first name-> Martin\n",
      "\n",
      "Checking the type of dictionary-> <class 'dict'>\n",
      "Accessing Martin's id-> 0\n"
     ]
    }
   ],
   "source": [
    "#The purpose of a dictionary is to store information that you can later utilize. For example, you might want to know \n",
    "#what Martin address is? How do you find it?\n",
    "#Earlier I told you dictionary is somewhat similar to list, except list works on indices and dictionary on keys\n",
    "\n",
    "#To get the value associated with a key, give the name of the dictionary and then place key with in square brackets as \n",
    "#shown here\n",
    "#lets store martin address in a new variable\n",
    "martin_address = customer_1['address']#as you can see I am accessing value by giving particular key in square brackets\n",
    "#followed by dictionary name\n",
    "print(\"Accessing Maritin's martin_address->\", martin_address)#lets print it out\n",
    "#as you can see its quite simple\n",
    "\n",
    "#likewise you can also acceess martin's first name\n",
    "print(\"\\nAccessing Martin's first name->\", customer_1['first name'])\n",
    "\n",
    "#you can also check the type of dictionary by calling type function to it\n",
    "print('\\nChecking the type of dictionary->', type(customer_1))\n",
    "\n",
    "#What if you access that key which is not in a dictionary?? did you ask this question from yourself?\n",
    "#we know in that case python raise an error or traceback as key not in dictionary, we have alternative method \n",
    "#which is get() method\n",
    "#This pattern of checking to see if a key is already in a dictionary and assuming a default value if the key is not\n",
    "#there is so common, that there is a method called get() that does this for us and it accepts default value as parameter\n",
    "#and return that default upon calling a key which is not their in a dictionary to avoid  Traceback\n",
    "#its syntax is, use dictionary name with method get() and take two parameters, one the key which you want to access\n",
    "#and second is the default value which we get incase of absence of key\n",
    "#lets try it with our customer_1 dictionary, as id is not a key in dictionary, lets call id key with normal access method\n",
    "#which we learn above and hopefully we'll get an error\n",
    "\n",
    "#uncomment below line, its necessary\n",
    "#print(\"Accessing Martin's id->\", customer_1['get'])\n",
    "#see we got an error, lets comment out this line and follow the same procedure using get method\n",
    "\n",
    "print(\"Accessing Martin's id->\", customer_1.get('id', 0))#we have set 0 as default value, you can set whatever you want\n",
    "#depending upon your case\n",
    "#it works and return default value 0 as key is not their in our dictionary and we got no error\n",
    "\n",
    "#so lets jump to different topic"
   ]
  },
  {
   "cell_type": "markdown",
   "metadata": {},
   "source": [
    "### Adding New items"
   ]
  },
  {
   "cell_type": "code",
   "execution_count": 29,
   "metadata": {},
   "outputs": [
    {
     "name": "stdout",
     "output_type": "stream",
     "text": [
      "{'first name': 'Martin', 'last name': 'Jordan', 'address': '0001 fake St.', 'city': 'Houston'}\n"
     ]
    }
   ],
   "source": [
    "#Dictionaries are dynamic structures, and you can add new key-value pairs to a dictionary at any time. For example, \n",
    "#to add a new key-value pair, you would give the name of the dictionary followed by the new key in square brackets along \n",
    "#with the new value.\n",
    "#lets try to add martin's city where he live\n",
    "customer_1['city'] = 'Houston'#so what I did is defining a same dictionary and place new key in square bracket and assign\n",
    "#it a new value, lets print out our dictionary so we can check whether new key value pair added in dictionary or not\n",
    "print(customer_1)"
   ]
  },
  {
   "cell_type": "markdown",
   "metadata": {},
   "source": [
    "### Empty Dictionary"
   ]
  },
  {
   "cell_type": "code",
   "execution_count": 30,
   "metadata": {},
   "outputs": [
    {
     "name": "stdout",
     "output_type": "stream",
     "text": [
      "{'mangoes': 95, 'pomegranates': 100, 'apples': 75, 'guavas': 65, 'oranges': 110}\n",
      "95\n"
     ]
    }
   ],
   "source": [
    "#lets define empty dictionary in a same manner as we define empty list.\n",
    "#Empty dictionary is sometimes very useful when you are counting frequency of words etc. which we discuss later in this \n",
    "#section. \n",
    "#So new we are creating empty dictionary with name inventory which contains fruits as keys and their stock as value\n",
    "\n",
    "inventory = {}\n",
    "#now we know how to add key value pair in a dictionary, lets do it quickly\n",
    "inventory['mangoes'] = 95\n",
    "inventory['pomegranates'] = 100\n",
    "inventory['apples'] = 75\n",
    "inventory['guavas'] = 65\n",
    "inventory['oranges'] = 110\n",
    "\n",
    "print(inventory)\n",
    "#again you can also access to any of key value pair, lets access the king of fruits, mango\n",
    "print(inventory['mangoes'])"
   ]
  },
  {
   "cell_type": "markdown",
   "metadata": {},
   "source": [
    "### Modifying and Removing items"
   ]
  },
  {
   "cell_type": "code",
   "execution_count": 31,
   "metadata": {},
   "outputs": [
    {
     "name": "stdout",
     "output_type": "stream",
     "text": [
      "{'mangoes': 195, 'pomegranates': 100, 'apples': 75, 'guavas': 65, 'oranges': 110}\n"
     ]
    }
   ],
   "source": [
    "#changing the value of element is also very similar to making a new key value pair, use dictionary name along with square \n",
    "#brackets and call that key in it whose value you have to modify and then assign a new value to it, you can also recall\n",
    "#how we use to change values of list, the difference is that list uses index and dictionary uses key in this case\n",
    "#let change the value of mangoes the key\n",
    "inventory['mangoes'] = 195#i am giving the name of the dictionary with the key in square brackets and then\n",
    "#the new value you want to associated with that key.\n",
    "print(inventory)#lets print it out and see value of mangoes has changed"
   ]
  },
  {
   "cell_type": "code",
   "execution_count": 32,
   "metadata": {},
   "outputs": [
    {
     "name": "stdout",
     "output_type": "stream",
     "text": [
      "{'mangoes': 195, 'pomegranates': 100, 'apples': 75, 'oranges': 110}\n"
     ]
    }
   ],
   "source": [
    "#Similar to list, del statement is used toremove a key-value pair. All del needs is the name of the dictionary \n",
    "#square brackets and the key that you want to remove.\n",
    "#let say i want to remove guava from my inventory, let see how we can do this\n",
    "del inventory['guavas']#name of the dictionary then square brackets and the key you want to remove which guava in this case\n",
    "\n",
    "#now lets check whether guavas has been removed from our dictionary or not\n",
    "print(inventory)\n",
    "#so yeah it has been removed"
   ]
  },
  {
   "cell_type": "markdown",
   "metadata": {},
   "source": [
    "### Looping Through a Dictionary"
   ]
  },
  {
   "cell_type": "code",
   "execution_count": 33,
   "metadata": {},
   "outputs": [],
   "source": [
    "#Dictionaries can be used to store information in a variety of ways; therefore, several different ways exist to\n",
    "#loop through them. You can loop through all of a dictionary’s key-value pairs, through its keys, or through its values.\n",
    "#using items() method, keys() method and values() method respectively"
   ]
  },
  {
   "cell_type": "markdown",
   "metadata": {},
   "source": [
    "#### Looping through all key value pairs in a dictionary by using items method "
   ]
  },
  {
   "cell_type": "code",
   "execution_count": 60,
   "metadata": {},
   "outputs": [
    {
     "name": "stdout",
     "output_type": "stream",
     "text": [
      "\n",
      "Key: first name\n",
      "Value: Martin\n",
      "\n",
      "Key: last name\n",
      "Value: Jordan\n",
      "\n",
      "Key: address\n",
      "Value: 0001 fake St.\n",
      "\n",
      "******************Using different variables**********************\n",
      "\n",
      "The key is first name and the value is Martin\n",
      "The key is last name and the value is Jordan\n",
      "The key is address and the value is 0001 fake St.\n"
     ]
    }
   ],
   "source": [
    "#We know we can access any single piece of information in dictionary based on above learned techniques. \n",
    "#But what if we wanted to see everything stored in dictionary? To do so, we could have to loop through the\n",
    "#dictionary using a for loop:\n",
    "\n",
    "#As mentioned above, we have three methods to loop over dictionary and all three methods have their speciality\n",
    "#first of all lets discuss .items() method\n",
    "\n",
    "#after the keyword for you code 2 variables (your choice of names) both separated by comma, one for keys and another for\n",
    "#values and then in or not in operator and then name of the dictionary followed by the method items(), \n",
    "#which returns a list of key-value pairs as it return two variables thats why we need two variables just after for keyword\n",
    "\n",
    "#lets again define our customer_1 dictionary\n",
    "\n",
    "customer_1 = {\n",
    "    \"first name\": \"Martin\", \n",
    "    \"last name\": \"Jordan\", \n",
    "    \"address\": \"0001 fake St.\",\n",
    "    }\n",
    "\n",
    "#lets write for loop to loop over it\n",
    "for key, value in customer_1.items():#see i have define two variables, one for key and other for value just afyter for keyword\n",
    "    #and then in operator and then name of the dictionary followed by .items() method and it returns key value which we\n",
    "    #have stored in using key value variables\n",
    "    print(\"\\nKey: \" + key)#print key\n",
    "    print(\"Value: \" + value)#print corresponding value\n",
    "\n",
    "#this loop run untils for loop access all key value pair\n",
    "\n",
    "#It is not necessary to alway define two varibles with names key and value, you can use any variable you want, but use \n",
    "#variables which maintains easyness\n",
    "\n",
    "print(\"\\n******************Using different variables**********************\\n\")\n",
    "\n",
    "#lets use different varibles\n",
    "for k, v in customer_1.items():\n",
    "    print(f\"The key is {k} and the value is {v}\")\n",
    "    \n",
    "#Note that it is not necessay that python return key-value pairs in the same order in which they were stored, even when \n",
    "#looping through a dictionary. It doesn’t care about the order in they are stored; it tracks only the connections between\n",
    "#individual keys and their values. If you want items in certain order, you have to sort the keys which we discuss in \n",
    "#minutes in looping through all dictionary's keys in order"
   ]
  },
  {
   "cell_type": "markdown",
   "metadata": {},
   "source": [
    "#### Looping through all keys in a dictionary by using keys method or by just looping over dictionary"
   ]
  },
  {
   "cell_type": "code",
   "execution_count": 61,
   "metadata": {},
   "outputs": [
    {
     "name": "stdout",
     "output_type": "stream",
     "text": [
      "The key is First Name\n",
      "The key is Last Name\n",
      "The key is Address\n",
      "\n",
      "***************** Getting keys without using keys method ******************\n",
      "\n",
      "The key is First Name\n",
      "The key is Last Name\n",
      "The key is Address\n",
      "\n",
      "***************** Getting values using dictionary name square brackets and key in it ***************\n",
      "\n",
      "\n",
      "The key is first name\n",
      "The value is Martin\n",
      "\n",
      "The key is last name\n",
      "The value is Jordan\n",
      "\n",
      "The key is address\n",
      "The value is 0001 fake St.\n"
     ]
    }
   ],
   "source": [
    "#Hopefully you guys got clear understanding regarding items() method, now its time for keys method,\n",
    "#The keys() method is useful when you only need keys anddon’t need to work with all of the values in a dictionary.\n",
    "\n",
    "#unlike items, keys method only return keys so we have to use one variable just after for keyword and rest remains the same\n",
    "\n",
    "for k in customer_1.keys():\n",
    "    print(f\"The key is {k.title()}\")\n",
    "\n",
    "#It’s so common to iterate over the keys in a dictionary that you can omit the keys method call in the \n",
    "#for loop — iterating over a dictionary implicitly iterates over its keys. lets also try this\n",
    "print(\"\\n***************** Getting keys without using keys method ******************\\n\")\n",
    "for i in customer_1:\n",
    "    print('The key is', i.title())\n",
    "\n",
    "print(\"\\n***************** Getting values using dictionary name square brackets and key in it ***************\\n\")\n",
    "#recall from accessing values in a dictionary section that dictionary_name followed by key in square brackets return value\n",
    "#and both above for loops returns keys so if we use dictionary name and square brackets with that keys, we can get values\n",
    "#its similar when we use range function with for loop and place iterator with list name and square brackets which works as\n",
    "#index of particular value of list and we get values, so lets try this\n",
    "#you can use any method you want\n",
    "for key in customer_1.keys():\n",
    "    print(\"\\nThe key is\", key)\n",
    "    print(\"The value is\", customer_1[key])\n",
    "#you can see we get values corresponding to each key"
   ]
  },
  {
   "cell_type": "markdown",
   "metadata": {},
   "source": [
    "#### Looping Through all Dictionary’s Keys in Order"
   ]
  },
  {
   "cell_type": "code",
   "execution_count": 65,
   "metadata": {},
   "outputs": [
    {
     "name": "stdout",
     "output_type": "stream",
     "text": [
      "The sorted key is Address\n",
      "The sorted value is 0001 Fake St.\n",
      "The sorted key is First Name\n",
      "The sorted value is Martin\n",
      "The sorted key is Last Name\n",
      "The sorted value is Jordan\n",
      "\n",
      "************************Sorting in reverse alphabetical or descending order********************\n",
      "\n",
      "The sorted key is Last Name\n",
      "The sorted value is Jordan\n",
      "The sorted key is First Name\n",
      "The sorted value is Martin\n",
      "The sorted key is Address\n",
      "The sorted value is 0001 Fake St.\n"
     ]
    }
   ],
   "source": [
    "#as we discussed earlier that we  never get the items from a dictionary in any\n",
    "#predictable order. That’s even not a problem, because we are interested in obtaining a correct value associated with\n",
    "#each key. One way to return items in a certain order is to sort the keys as they’re\n",
    "#returned in the for loop. We know how to use sorted function and recall that it makes a copy not sort original string or\n",
    "#dictionary so we can use the sorted() function to get a copy of the keys in order\n",
    "\n",
    "#And also remember that sorted by default sorts in ascending or alphabetical order on the other hand if you want to sort\n",
    "#in reverse alphabetical or descending order, then you have to pass reverse=True in sorted function\n",
    "\n",
    "#what we have to do is just to wrap sorted function around the dictionary name followed by keys method in for loop line\n",
    "#lets illustrate it\n",
    "#We are sorting in ascending or alphabetical order\n",
    "for key in sorted(customer_1.keys()):#using sorted with dictionary_name.keys() method\n",
    "    print(f'The sorted key is {key.title()}')#printing sorted keys\n",
    "    print(f'The sorted value is {customer_1[key].title()}')#printing sorted values\n",
    "    \n",
    "#Now writing code to sort in reverse alphabetical or descending order\n",
    "print('\\n************************Sorting in reverse alphabetical or descending order********************\\n')\n",
    "\n",
    "for key in sorted(customer_1.keys(), reverse=True):#using sorted with dictionary_name.keys() method\n",
    "    print(f'The sorted key is {key.title()}')#printing sorted keys\n",
    "    print(f'The sorted value is {customer_1[key].title()}')#printing sorted values\n",
    "#so you can see we got results in reverse alphabetical order"
   ]
  },
  {
   "cell_type": "markdown",
   "metadata": {},
   "source": [
    "#### Looping through all values in a dictionary by using values and using set() method to avoid repeatativeness in values"
   ]
  },
  {
   "cell_type": "code",
   "execution_count": 71,
   "metadata": {},
   "outputs": [
    {
     "name": "stdout",
     "output_type": "stream",
     "text": [
      "The value is Martin\n",
      "The value is Jordan\n",
      "The value is 0001 Fake St.\n",
      "\n",
      "********************** Using set around values method ***********************\n",
      " \n",
      "The value is Martin\n",
      "The value is 0001 Fake St.\n",
      "The value is Jordan\n",
      "\n",
      "******************* Using set with repeatative dataset *********************\n",
      "\n",
      "The value is Martin\n",
      "The value is 0001 Fake St.\n",
      "The value is Jordan\n"
     ]
    }
   ],
   "source": [
    "#now its time for the third method which is .values() method and it is similar in use like .keys() method , but the \n",
    "#difference is if you want values that a dictionary contains, you can use the values() method to return a list of values\n",
    "#without any keys. so lets quicky try this as now it is very simple for us\n",
    "\n",
    "#again using our customer_1 example\n",
    "customer_1 = {\n",
    "    \"first name\": \"Martin\", \n",
    "    \"last name\": \"Jordan\", \n",
    "    \"address\": \"0001 fake St.\",\n",
    "    }\n",
    "for value in customer_1.values():\n",
    "    print('The value is', value.title())\n",
    "    \n",
    "#what if you have a repeated values?? Did you ask this question from yourself? if you want to become programmer, make a\n",
    "#habbit to ask such questions from yourself, this is the data of only one customer, if we have large data set then their\n",
    "#would be possibility that many people might have same names, to avoid repeatation and maintain uniqueness we wrap set()\n",
    "#function around dictionary_name.values() method. A set is similar to a list except that each item in the set must beunique\n",
    "\n",
    "print('\\n********************** Using set around values method ***********************\\n ')\n",
    "#lets use set \n",
    "for value in set(customer_1.values()):#using set with dictionary_name.values() method\n",
    "    print('The value is', value.title())\n",
    "#since their is no repeatative value, so we haven't got the effect of set usage\n",
    "#lets create some repeatative dataset to see how set works\n",
    "customer_1_new = {\n",
    "    \"first name\": \"Martin\", \n",
    "    \"last name\": \"Jordan\",\n",
    "    \"father's name\": \"Jordan\",# i have added fathers name also equal to jordan just to verify how sets work\n",
    "    \"address\": \"0001 fake St.\",\n",
    "    }\n",
    "print(\"\\n******************* Using set with repeatative dataset *********************\\n\")\n",
    "for v in set(customer_1_new.values()):\n",
    "    print('The value is', v.title())#see it only returns one Jordan although we have define 2\n"
   ]
  },
  {
   "cell_type": "markdown",
   "metadata": {},
   "source": [
    "### BONUS MATERIAL: COUNTING PATTERN OR DICTIONARY ACCUMULATION"
   ]
  },
  {
   "cell_type": "code",
   "execution_count": 7,
   "metadata": {},
   "outputs": [
    {
     "name": "stdout",
     "output_type": "stream",
     "text": [
      "Enter a line of text:\n",
      "When Python gives you an error, its not your fault, its python who is unable to understand what you are trying to say\n",
      "List of words ['When', 'Python', 'gives', 'you', 'an', 'error,', 'its', 'not', 'your', 'fault,', 'its', 'python', 'who', 'is', 'unable', 'to', 'understand', 'what', 'you', 'are', 'trying', 'to', 'say']\n",
      "\n",
      "Counts:\n",
      " {'When': 1, 'Python': 1, 'gives': 1, 'you': 2, 'an': 1, 'error,': 1, 'its': 2, 'not': 1, 'your': 1, 'fault,': 1, 'python': 1, 'who': 1, 'is': 1, 'unable': 1, 'to': 2, 'understand': 1, 'what': 1, 'are': 1, 'trying': 1, 'say': 1}\n"
     ]
    }
   ],
   "source": [
    "#As you guys already do what accumulator pattern does, recall it loop over sequence of items and update accumulator \n",
    "#variable each time, now we combine list, accumulator pattern, for loop and dictionaries-> sounds amazing haan?\n",
    "#What we are going to do is we read paragraph or line of text what you want to say, and check what words appear and how\n",
    "#many times they appear? we can take benefits from it in a lot of ways, like in reviewing system of movies or games etc\n",
    "#lets try it out\n",
    "\n",
    "counts = dict()\n",
    "#you can also make empty dictionary like this\n",
    "#count = {}#its totally your choice\n",
    "#Now lets take an input from user\n",
    "line = input('Enter a line of text:\\n')\n",
    "#The pattern to count the frequncy of words in a line or paragraph or essay is to split the line into words, and we know\n",
    "#how to loop through list items using for loop then we will loop through the words and by using accumulator pattern which \n",
    "#is in the form of dictionary here track the count of each word independently. \n",
    "#Now converting list to dictionary\n",
    "words = line.split()\n",
    "#Note that as I always told, keep track of your working using print function to check whether you are going in the right\n",
    "#direction or not\n",
    "print('List of words', words)\n",
    "for word in words:\n",
    "    #we knew that dictionary has same way of accessing an old key or creating a new key\n",
    "    #I have already teach you how to use get method, so here what we are doing is initially the counts dictioanary is empty\n",
    "    #so for example the came as the not in dictionary so counts.get return 0 and 0 + 1 = 1 so counts[the] = 1 means the\n",
    "    #becomes the key of counts dictionary with value 1 and same of other words, now again let say the came so counts.get\n",
    "    #check whether the is already in a dictionary or not as the has already came 1 time before so it return 1 and 1+1=2\n",
    "    #so counts[the] = 2 which means the key has value 2 means the appears 2 times in a text and so on..\n",
    "    #so in short, what it is doing is that when it see any word it open uo its vocabulary and see whether the current word\n",
    "    #appear before in a text or not, if not then it say I am giving you 1 as you are appearing first time, and if its \n",
    "    #already came before then it smiles and increase its frequency or value or what you want to say....\n",
    "    #I hope its not difficult to understand for you guys\n",
    "    counts[word] = counts.get(word,0) + 1\n",
    "#now lets print our dictionary\n",
    "print('\\nCounts:\\n', counts)"
   ]
  },
  {
   "cell_type": "markdown",
   "metadata": {},
   "source": [
    "### A List of Dictioanaries"
   ]
  },
  {
   "cell_type": "code",
   "execution_count": 8,
   "metadata": {},
   "outputs": [],
   "source": [
    "#You guys already learned about list and dictionaries, then you guys might wondereing what does list of dictionaries means?\n",
    "#Recall that I told you guys list can store any type of data, so dictionaries is also a data, whether of a person , place \n",
    "#or country etc, you lets try to make a list which contains dictionaries as its elements"
   ]
  },
  {
   "cell_type": "code",
   "execution_count": 13,
   "metadata": {},
   "outputs": [
    {
     "name": "stdout",
     "output_type": "stream",
     "text": [
      "{'first name': 'Allen', 'last name': 'Taylor', 'address': '0002 fake St.'}\n",
      "\n",
      "*******************Using for loop to access all items of list***********************\n",
      "\n",
      "{'first name': 'Martin', 'last name': 'Jordan', 'address': '0001 fake St.'}\n",
      "{'first name': 'Allen', 'last name': 'Taylor', 'address': '0002 fake St.'}\n",
      "{'first name': 'David', 'last name': 'Michael', 'address': '0003 fake St.'}\n"
     ]
    }
   ],
   "source": [
    "#But wait, did you guys asks from yourself why we are doing this, I told I will not going to leave you without giving you\n",
    "#proper and in depth knowledge, lets learn together how it works\n",
    "#When we created a customer dictionary, its only store data of one person, so what if we want to store data of any company\n",
    "#employees or some similar to that, so for this we use list of dictionaries\n",
    "\n",
    "#lets create a data of 3 people\n",
    "employee_1 = {\n",
    "    \"first name\": \"Martin\", \n",
    "    \"last name\": \"Jordan\", \n",
    "    \"address\": \"0001 fake St.\",\n",
    "    }\n",
    "employee_2 = {\n",
    "    \"first name\": \"Allen\", \n",
    "    \"last name\": \"Taylor\", \n",
    "    \"address\": \"0002 fake St.\",\n",
    "    }\n",
    "employee_3 = {\n",
    "    \"first name\": \"David\", \n",
    "    \"last name\": \"Michael\", \n",
    "    \"address\": \"0003 fake St.\",\n",
    "    }\n",
    "#So here the data of 3 employees\n",
    "#lets create a list with name employees\n",
    "employees = [employee_1, employee_2, employee_3]\n",
    "#if you want to access any one item or element, you can simply access using list architecture means by providing index no\n",
    "#so lets try to access employee 2 details which is at index 1\n",
    "print(employees[1])#see we get details in the form of dictionary\n",
    "#What if we want to print them all or access them all at once, remember we have a weapon of for loop\n",
    "\n",
    "print('\\n*******************Using for loop to access all items of list***********************\\n')\n",
    "for employee in employees:\n",
    "    print(employee)"
   ]
  },
  {
   "cell_type": "code",
   "execution_count": 38,
   "metadata": {},
   "outputs": [
    {
     "name": "stdout",
     "output_type": "stream",
     "text": [
      "[{'first name': 'Martin', 'last name': 'Jordan', 'address': '0001 fake St.'}, {'first name': 'Allen', 'last name': 'Taylor', 'address': '0002 fake St.'}, {'first name': 'David', 'last name': 'Michael', 'address': '0003 fake St.'}]\n",
      "\n",
      "printing a list after appending a new dictionary\n",
      " [{'first name': 'Martin', 'last name': 'Jordan', 'address': '0001 fake St.'}, {'first name': 'Allen', 'last name': 'Taylor', 'address': '0002 fake St.'}, {'first name': 'David', 'last name': 'Michael', 'address': '0003 fake St.'}, {'first name': 'Alex', 'last name': 'Cameron', 'address': '0003 fake St.'}]\n",
      "\n",
      "deleting employee 3 details:\n",
      "\n",
      "\n",
      "employees_a-> [{'first name': 'Martin', 'last name': 'Jordan', 'address': '0001 fake St.'}, {'first name': 'Allen', 'last name': 'Taylor', 'address': '0002 fake St.'}, {'first name': 'Alex', 'last name': 'Cameron', 'address': '0003 fake St.'}]\n"
     ]
    }
   ],
   "source": [
    "#note that you guys can perform all those operation on list of dictioanaries that we learn in list section, let see how \n",
    "#you can append new list of dictionaries, I am creating a new dictionary that we will use to append\n",
    "employee_4 = {\n",
    "    \"first name\": \"Alex\", \n",
    "    \"last name\": \"Cameron\", \n",
    "    \"address\": \"0003 fake St.\",\n",
    "    }\n",
    "employees_a =employees.copy()#I am creating a copy of employees list and store it in employees another\n",
    "#so first of all lets print it\n",
    "print(employees_a)\n",
    "#so now append a new dictionary to it\n",
    "employees_a.append(employee_4)\n",
    "print('\\nprinting a list after appending a new dictionary\\n', employees_a)\n",
    "\n",
    "print('\\ndeleting employee 3 details:\\n')\n",
    "employees_a.remove(employee_3)\n",
    "#so lets see whether its remove from employees_a list or not\n",
    "print('\\nemployees_a->', employees_a)\n",
    "#see it works, If you wish you can try more list operations on it, let move forward"
   ]
  },
  {
   "cell_type": "code",
   "execution_count": 15,
   "metadata": {},
   "outputs": [
    {
     "name": "stdout",
     "output_type": "stream",
     "text": [
      "\n",
      "***************print alien's information***********************\n",
      "\n",
      "{'color': 'green', 'points': 10}\n",
      "{'color': 'blue', 'points': 15}\n",
      "{'color': 'red', 'points': 20}\n"
     ]
    }
   ],
   "source": [
    "#Now its time to deal monsters with python, huh just kidding, Its time to work on aliens example, as it help us when we \n",
    "#create our alien invasion game\n",
    "#lets make a fleet of aliens, we make a list of aliens in which each alien is a dictionary of information about that alien.\n",
    "#its similar to employees list so lets quickly make it\n",
    "alien_1 = {'color': 'green', 'points': 10}\n",
    "alien_2 = {'color': 'blue', 'points': 15}\n",
    "alien_3 = {'color': 'red', 'points': 20}\n",
    "#lets store this alien dictionaries in aliens list\n",
    "aliens = [alien_1, alien_2, alien_3]\n",
    "#now lets print them out using for loop as we did before\n",
    "print(\"\\n***************print alien's information***********************\\n\")\n",
    "for alien in aliens:\n",
    "    print(alien)"
   ]
  },
  {
   "cell_type": "code",
   "execution_count": 26,
   "metadata": {},
   "outputs": [
    {
     "name": "stdout",
     "output_type": "stream",
     "text": [
      "No of aliens 45\n",
      "\n",
      "****************** Accessing first 3 aliens*****************\n",
      "\n",
      "{'color': 'blue', 'points': 15, 'speed': 'slow'}\n",
      "{'color': 'blue', 'points': 15, 'speed': 'slow'}\n",
      "{'color': 'blue', 'points': 15, 'speed': 'slow'}\n"
     ]
    }
   ],
   "source": [
    "#A more realistic example would involve more than three aliens, so it may take time, so lets see a code that automatically generates each \n",
    "#alien and later we can change its characteristics if we want, so lets make an empty list which we use to store aliens in \n",
    "#them\n",
    "aliens = []\n",
    "#now we are making 45 blue aliens\n",
    "for alien_num in range(45):#this loop runs 30 times\n",
    "    new_alien = {'color': 'blue', 'points': 15, 'speed': 'slow'}\n",
    "    aliens.append(new_alien)#append new alien 20 times in aliens list\n",
    "#you can check len of alien list, it should return 20\n",
    "print(\"No of aliens\", len(aliens))#so we got confirmation, let proceed further\n",
    "#you can also check few aliens again using for loop\n",
    "print(\"\\n****************** Accessing first 3 aliens*****************\\n\")\n",
    "for alien in aliens[0:3]:#we only access first 3 aliens\n",
    "    print(alien)"
   ]
  },
  {
   "cell_type": "code",
   "execution_count": 27,
   "metadata": {
    "scrolled": true
   },
   "outputs": [
    {
     "name": "stdout",
     "output_type": "stream",
     "text": [
      "{'color': 'yellow', 'points': 25, 'speed': 'fast'}\n",
      "{'color': 'yellow', 'points': 25, 'speed': 'fast'}\n",
      "{'color': 'yellow', 'points': 25, 'speed': 'fast'}\n",
      "{'color': 'yellow', 'points': 25, 'speed': 'fast'}\n",
      "{'color': 'yellow', 'points': 25, 'speed': 'fast'}\n",
      "{'color': 'yellow', 'points': 25, 'speed': 'fast'}\n",
      "{'color': 'yellow', 'points': 25, 'speed': 'fast'}\n",
      "{'color': 'yellow', 'points': 25, 'speed': 'fast'}\n",
      "{'color': 'yellow', 'points': 25, 'speed': 'fast'}\n",
      "{'color': 'yellow', 'points': 25, 'speed': 'fast'}\n",
      "{'color': 'blue', 'points': 15, 'speed': 'slow'}\n",
      "{'color': 'blue', 'points': 15, 'speed': 'slow'}\n",
      "{'color': 'blue', 'points': 15, 'speed': 'slow'}\n",
      "{'color': 'blue', 'points': 15, 'speed': 'slow'}\n",
      "{'color': 'blue', 'points': 15, 'speed': 'slow'}\n"
     ]
    }
   ],
   "source": [
    "#So thses all 45 aliens have blue color and slow speed, let say when alien color changes it moves faster, so let see how\n",
    "#it works\n",
    "#lets modify first 10 aliens\n",
    "for alien in aliens[:10]:\n",
    "    if alien['color'] == 'blue':\n",
    "        alien['color'] = 'yellow'\n",
    "        alien['speed'] = 'fast'\n",
    "        alien['points'] = 25\n",
    "        \n",
    "#as we have modified only first 10 aliens out of 45, so lets print just first 15 aliens in which 10 are the modified ones\n",
    "#and remaining 5 are the old ones with blue color slow speed and 15 point, so lets quickly print them\n",
    "for alien in aliens[:15]:\n",
    "    print(alien)"
   ]
  },
  {
   "cell_type": "code",
   "execution_count": null,
   "metadata": {},
   "outputs": [],
   "source": [
    "#It’s common to store a number of dictionaries in a list when each dictionary contains many kinds of information about one \n",
    "#object.\n",
    "#So i am hopeful that you guys got to know how to use list of dictionaries and when to use "
   ]
  },
  {
   "cell_type": "markdown",
   "metadata": {},
   "source": [
    "### A List in a Dictionary"
   ]
  },
  {
   "cell_type": "code",
   "execution_count": 52,
   "metadata": {},
   "outputs": [
    {
     "name": "stdout",
     "output_type": "stream",
     "text": [
      "User-> {'first name': 'David', 'last name': 'Marsh', 'address': '0002 fake St.', 'email_id': ['DavidMarsh@fakeaccount.com', 'David.Marsh19@fakeaccount.com']}\n",
      "\n",
      "Accessing list of email ids using dictionary key-> ['DavidMarsh@fakeaccount.com', 'David.Marsh19@fakeaccount.com']\n",
      "\n",
      "An email id's of user are-> DavidMarsh@fakeaccount.com\n",
      "\n",
      "An email id's of user are-> David.Marsh19@fakeaccount.com\n",
      "\n",
      "Printing user details after appending new email to it-> {'first name': 'David', 'last name': 'Marsh', 'address': '0002 fake St.', 'email_id': ['DavidMarsh@fakeaccount.com', 'David.Marsh19@fakeaccount.com', 'David_Marsh100@fakeaccount.com']}\n",
      "\n",
      "Printing user information after deleting the first email address-> {'first name': 'David', 'last name': 'Marsh', 'address': '0002 fake St.', 'email_id': ['David.Marsh19@fakeaccount.com', 'David_Marsh100@fakeaccount.com']}\n"
     ]
    }
   ],
   "source": [
    "#Rather than putting a dictionary inside a list, it’s sometimes useful to put a list inside a dictionary.\n",
    "#let say we have a user or employee with more than one email address or more than one phone number, We know how to make \n",
    "#employee data using dictionary but what about more than one email or phone number etc, for this we use list inside a\n",
    "#dictionary to tackle such scenerios. Lets dive in together and make most of it\n",
    "\n",
    "user = {\n",
    "    'first name' : 'David',\n",
    "    'last name' : 'Marsh',\n",
    "    'address' : '0002 fake St.',\n",
    "    'email_id':['DavidMarsh@fakeaccount.com', 'David.Marsh19@fakeaccount.com'],\n",
    "    }\n",
    "#lets print user\n",
    "print('User->', user)\n",
    "\n",
    "#Now we have list inside a dictionary, lets access email_id key\n",
    "print(\"\\nAccessing list of email ids using dictionary key->\", user['email_id'])\n",
    "#as we know user['email_id'] gives two emails or list of emails or generally a list, and we know how to loop over list\n",
    "for email_id in user['email_id']:#user[email_id] is a list of emails and we are iterating over it\n",
    "    print(\"\\nAn email id's of user are->\",email_id)#see got two email address\n",
    "#you can also append in a list of emails, or generally in list which is inside a dictionary\n",
    "#You guys already know how to append in a list, and we know user[email_id] is returning us a list of emails so we just\n",
    "#have to use append with it, simple!!\n",
    "user['email_id'].append('David_Marsh100@fakeaccount.com')\n",
    "print('\\nPrinting user details after appending new email to it->', user)\n",
    "#see its very easy, you can do all those operation that you can perform using list as user[email_id] is returning us a list\n",
    "#lets delete first email address from it, and I know you all guys know how to do it, lets check it quickly\n",
    "del user['email_id'][0]#user[email_id]gives us a list and you can call it as list name and 0 is then index given to it\n",
    "print('\\nPrinting user information after deleting the first email address->', user)"
   ]
  },
  {
   "cell_type": "code",
   "execution_count": 58,
   "metadata": {},
   "outputs": [
    {
     "name": "stdout",
     "output_type": "stream",
     "text": [
      "\n",
      "Cuisine is Ammerican and its famous dishes are ['hamburgers', 'coffee'] \n",
      "hamburgers\n",
      "coffee\n",
      "\n",
      "Cuisine is Italian and its famous dishes are ['lasagna', 'pizza'] \n",
      "lasagna\n",
      "pizza\n",
      "\n",
      "Cuisine is Thai and its famous dishes are ['pad thai', 'noodles'] \n",
      "pad thai\n",
      "noodles\n"
     ]
    }
   ],
   "source": [
    "#Earlier we have already discussed it, when we have nested data structure, most of the times we need two for loops, \n",
    "#one to access outer data, second to access inner, lets quicky check it \n",
    "cuisines = {\n",
    "    'Ammerican' : ['hamburgers', 'coffee'],\n",
    "    'Italian' : ['lasagna', 'pizza'],\n",
    "    'Thai' : ['pad thai', 'noodles'],\n",
    "    }\n",
    "#we have list of values now\n",
    "for key, value in cuisines.items():#iterating over key value pair\n",
    "    print(f'\\nCuisine is {key} and its famous dishes are {value} ')\n",
    "    #as we have list of elements in values part, so loop over values to access elements in values part\n",
    "    for v in value:\n",
    "        print(v)#see we get values separately\n",
    "\n",
    "#As what I have told you guys, I am trying to give you every inch knowledge that use in real world scenerios so you guys\n",
    "#should not face difficulties when handling these topics"
   ]
  },
  {
   "cell_type": "markdown",
   "metadata": {},
   "source": [
    "### A Dictioanary in a Dictioanary"
   ]
  },
  {
   "cell_type": "code",
   "execution_count": 59,
   "metadata": {},
   "outputs": [],
   "source": [
    "#Now quicly check our last dictionary topic, we have learn list of dictionaries, then list inside a dictionary, so what \n",
    "#left?? A dictionary in a dictionary, although it is used in complex scenerios especially when working node js, but it is\n",
    "#better to understand this at this point so we wouldn't face any difficulty in future"
   ]
  },
  {
   "cell_type": "code",
   "execution_count": 79,
   "metadata": {},
   "outputs": [
    {
     "name": "stdout",
     "output_type": "stream",
     "text": [
      "{'Davmarsh': {'first': 'David', 'last': 'Marsh', 'location': 'Australia'}, 'Martjordan': {'first': 'Martin', 'last': 'Jordan', 'location': 'Spain'}}\n",
      "\n",
      "Accessing Davmarsh key-> {'first': 'David', 'last': 'Marsh', 'location': 'Australia'}\n",
      "\n",
      "Accessing Davmarsh first name-> David\n",
      "\n",
      "******** Accessing Davmarsh first name using second method to make process easy for our learners *************\n",
      "\n",
      "\n",
      "dictionary of values of Davmarsh key-> {'first': 'David', 'last': 'Marsh', 'location': 'Australia'}\n",
      "\n",
      "Accessing Davmarsh first name using second method-> David\n",
      "\n",
      "deleting Davmarsh location -> {'Davmarsh': {'first': 'David', 'last': 'Marsh'}, 'Martjordan': {'first': 'Martin', 'last': 'Jordan', 'location': 'Spain'}}\n"
     ]
    }
   ],
   "source": [
    "#You can nest a dictionary inside another dictionary. For example, if you have several users for a website, \n",
    "#each with a unique username, you can use their usernames as the keys in a dictionary and then you can then store \n",
    "#information about each user by using a dictionary as the value associated with their usernames.\n",
    "\n",
    "users_of_websites = {#this is the staring curly bracket of users of websites dictionary\n",
    "    'Davmarsh': {#Davmarsh is the key and it has dictionary of values, where each value has its key value pair\n",
    "    'first': 'David',\n",
    "    'last': 'Marsh',\n",
    "    'location': 'Australia',\n",
    "    },#this is the end of first key\n",
    "    'Martjordan': {#Second key start from here, and again it also has dictionary of values with key value pair\n",
    "    'first': 'Martin',\n",
    "    'last': 'Jordan',\n",
    "    'location': 'Spain',\n",
    "    },#end of second ket\n",
    "    }#and this is the end of user of website dictionary\n",
    "#first print it out\n",
    "print(users_of_websites)\n",
    "#you can access Davmarsh key and it gives you dictionary containing 3 values where each values it itself a key value pair\n",
    "print('\\nAccessing Davmarsh key->',users_of_websites['Davmarsh'])\n",
    "#Note that this gives you dictionary of values, and you know how to access dictionary data, what if you want to know its\n",
    "#first name, lets check it out\n",
    "#users_of_websites['Davmarsh'] this gives you another dictioanary and we know the method of accessing key \n",
    "#by placing key inside square brackets\n",
    "print('\\nAccessing Davmarsh first name->',users_of_websites['Davmarsh']['first'])\n",
    "print('\\n******** Accessing Davmarsh first name using second method to make process easy for our learners *************\\n')\n",
    "#if you are facing difficulty in understanding it, lets save users_of_websites['Davmarsh'] in another variable to ease\n",
    "#complexity\n",
    "dict_of_values = users_of_websites['Davmarsh']\n",
    "print('\\ndictionary of values of Davmarsh key->', dict_of_values)\n",
    "#now you know how to access key by calling dictionary name followed by key in square brackets, now lets do it\n",
    "print('\\nAccessing Davmarsh first name using second method->',dict_of_values['first'])\n",
    "\n",
    "#in the same way you can also delte one of its value from dictionary of values just use del statement before\n",
    "del dict_of_values['location']\n",
    "#now lets quickly print out users of website dictioanry for verification\n",
    "print('\\ndeleting Davmarsh location ->', users_of_websites)\n",
    "\n",
    "#I think now its become much easier, try to repeat it 2 to 3 times if you are facing difficulty\n",
    "\n"
   ]
  },
  {
   "cell_type": "code",
   "execution_count": 80,
   "metadata": {},
   "outputs": [
    {
     "name": "stdout",
     "output_type": "stream",
     "text": [
      "\n",
      "Username: Davmarsh\n",
      "\tFull name: David Marsh\n",
      "\tLocation: Australia\n",
      "\n",
      "Username: Martjordan\n",
      "\tFull name: Martin Jordan\n",
      "\tLocation: Spain\n"
     ]
    }
   ],
   "source": [
    "#lets quickly perform looping\n",
    "#same dictionary as before\n",
    "users_of_websites = {#this is the staring curly bracket of users of websites dictionary\n",
    "    'Davmarsh': {#Davmarsh is the key and it has dictionary of values, where each value has its key value pair\n",
    "    'first': 'David',\n",
    "    'last': 'Marsh',\n",
    "    'location': 'Australia',\n",
    "    },#this is the end of first key\n",
    "    'Martjordan': {#Second key start from here, and again it also has dictionary of values with key value pair\n",
    "    'first': 'Martin',\n",
    "    'last': 'Jordan',\n",
    "    'location': 'Spain',\n",
    "    },#end of second ket\n",
    "    }#and this is the end of user of website dictionary\n",
    "\n",
    "for username, user_details in users_of_websites.items():#iterating over key which is username and values which is \n",
    "    #dictionary of values with a name user_details\n",
    "    print(\"\\nUsername: \" + username)#printing both keys or username\n",
    "    full_name = user_details['first'] + \" \" + user_details['last']#making full name by accessing dictioanary of values\n",
    "    #and in that dictionary access key 'first' and key 'last'\n",
    "    location = user_details['location']#accessing location key in values dictionary which is user_details here\n",
    "    print(\"\\tFull name: \" + full_name.title())#now printing both fullname and location\n",
    "    print(\"\\tLocation: \" + location.title())\n",
    "    \n",
    "#So that's all for dictioanary, I have tried to cover all those structure and architecture which are used in dealing \n",
    "#real word problems, now lets solve some exercises together and having fun"
   ]
  },
  {
   "cell_type": "markdown",
   "metadata": {},
   "source": [
    "### EXERCISE"
   ]
  },
  {
   "cell_type": "markdown",
   "metadata": {},
   "source": [
    "Q1: Use a dictionary to store information about a friend you know.\n",
    "Store their first name, last name, age, and the city in which they live. You\n",
    "should have keys such as first_name, last_name, age, and city. Print each\n",
    "piece of information stored in your dictionary."
   ]
  },
  {
   "cell_type": "code",
   "execution_count": 2,
   "metadata": {},
   "outputs": [
    {
     "name": "stdout",
     "output_type": "stream",
     "text": [
      "First_Name is Adam\n",
      "Last_Name is Chris\n",
      "Age is 22\n",
      "City is New York\n"
     ]
    }
   ],
   "source": [
    "friend = {'first_name' : 'Adam', 'last_name' : 'Chris', 'age' : 22, 'city' : 'New York'}\n",
    "\n",
    "for k, v in friend.items():\n",
    "    print(f'{k.title()} is {v}')"
   ]
  },
  {
   "cell_type": "markdown",
   "metadata": {},
   "source": [
    "Q2: The dictionary golds contains the total number of gold medals that countries have won over the course of history. Use dictionary mechanics to find the number of golds USA has won, and assign that number to the variable name usa_golds. Do not hard code this!\n",
    "\n"
   ]
  },
  {
   "cell_type": "code",
   "execution_count": 14,
   "metadata": {},
   "outputs": [
    {
     "name": "stdout",
     "output_type": "stream",
     "text": [
      "2681\n"
     ]
    }
   ],
   "source": [
    "#Its very simple problem, so quickly see it\n",
    "golds = {\"Italy\": 114, \"Germany\": 782, \"Pakistan\": 10, \"Sweden\": 627, \"USA\": 2681, \"Zimbabwe\": 8, \"Greece\": 111, \"Mongolia\": 24, \"Brazil\": 108, \"Croatia\": 34, \"Algeria\": 15, \"Switzerland\": 323, \"Yugoslavia\": 87, \"China\": 526, \"Egypt\": 26, \"Norway\": 477, \"Spain\": 133, \"Australia\": 480, \"Slovakia\": 29, \"Canada\": 22, \"New Zealand\": 100, \"Denmark\": 180, \"Chile\": 13, \"Argentina\": 70, \"Thailand\": 24, \"Cuba\": 209, \"Uganda\": 7,  \"England\": 806, \"Denmark\": 180, \"Ukraine\": 122, \"Bahamas\": 12}\n",
    "\n",
    "#we know how to access value in a dictionary and after accessing it, we will assign it to variable usa_golds\n",
    "usa_golds = golds[\"USA\"]#so I have assigned it to usa_golds after accessing it from dict\n",
    "print(usa_golds)#now its time to print\n",
    "#and it give us the correct result"
   ]
  },
  {
   "cell_type": "markdown",
   "metadata": {},
   "source": [
    "Q3: The dictionary golds contains information about how many gold medals each country won in the 2016 Olympics. But today, Spain won 2 more gold medals. Update golds to reflect this information"
   ]
  },
  {
   "cell_type": "code",
   "execution_count": 9,
   "metadata": {},
   "outputs": [
    {
     "name": "stdout",
     "output_type": "stream",
     "text": [
      "{'Italy': 12, 'USA': 33, 'Brazil': 15, 'China': 27, 'Spain': 21, 'Canada': 22, 'Argentina': 8, 'England': 29}\n"
     ]
    }
   ],
   "source": [
    "#below is the dictionary gold containing information about gold medals\n",
    "gold_medals = {\"Italy\": 12, \"USA\": 33, \"Brazil\": 15, \"China\": 27, \"Spain\": 19, \"Canada\": 22, \"Argentina\": 8, \"England\": 29}\n",
    "#we know how to modify dictionary items so we add 2 in spain gold medals\n",
    "gold_medals[\"Spain\"] = gold_medals[\"Spain\"] + 2#earlier it contains 19 and after addition of 2 it should have to print 21\n",
    "\n",
    "print(gold_medals)#see we spain value 21"
   ]
  },
  {
   "cell_type": "markdown",
   "metadata": {},
   "source": [
    "Q4: Make a dictionary containing three major rivers and the country\n",
    "each river runs through. One key-value pair might be 'nile': 'egypt'.\n",
    "\n",
    "• Use a loop to print a sentence about each river, such as The Nile runs\n",
    "through Egypt.\n",
    "\n",
    "• Use a loop to print the name of each river included in the dictionary.\n",
    "\n",
    "• Use a loop to print the name of each country included in the dictionary."
   ]
  },
  {
   "cell_type": "code",
   "execution_count": 18,
   "metadata": {},
   "outputs": [
    {
     "name": "stdout",
     "output_type": "stream",
     "text": [
      "\n",
      "**************** printing first for loop to print out sentence about each rivers *****************\n",
      "\n",
      "The Nile runs through Egypt\n",
      "The Amazon runs through Peru\n",
      "The Yangtze runs through China\n",
      "\n",
      "**************** printing second for loop to print name each river *****************\n",
      "\n",
      "The river name is Nile\n",
      "The river name is Amazon\n",
      "The river name is Yangtze\n",
      "\n",
      "**************** printing third for loop to print out name of each country *****************\n",
      "\n",
      "The country name is Egypt\n",
      "The country name is Peru\n",
      "The country name is China\n"
     ]
    }
   ],
   "source": [
    "major_rivers = {\n",
    "    'nile' : 'egypt',\n",
    "    'amazon' : 'peru',\n",
    "    'yangtze' : 'china',\n",
    "    }\n",
    "#This is our dictionary with name major rivers containing river name and corresponding country name\n",
    "\n",
    "print('\\n**************** printing first for loop to print out sentence about each rivers *****************\\n')\n",
    "\n",
    "for river, country in major_rivers.items():#in our dictionary key is river name and the value in country name\n",
    "    print(f'The {river.title()} runs through {country.title()}')\n",
    "    \n",
    "print('\\n**************** printing second for loop to print name each river *****************\\n')\n",
    "\n",
    "for river in major_rivers.keys():#iterating over only keys of the dictionary to print name of each river\n",
    "    print(f'The river name is {river.title()}')\n",
    "    \n",
    "print('\\n**************** printing third for loop to print out name of each country *****************\\n')\n",
    "    \n",
    "for country in major_rivers.values():#iterating over only values of the dictionary to print name of each country\n",
    "    print(f'The country name is {country.title()}')"
   ]
  },
  {
   "cell_type": "markdown",
   "metadata": {},
   "source": [
    "Q5: The dictionary semester shows a schedule for a year semester. The key is the course name and the value is the number of credits. Find the total number of credits taken this semester and assign it to the variable credits. Do not hardcode this – use dictionary accumulation!"
   ]
  },
  {
   "cell_type": "code",
   "execution_count": null,
   "metadata": {},
   "outputs": [],
   "source": [
    "semester = {'MT 272':4, 'EL 240':4, 'EL 260':3, 'BME 105':3}\n",
    "#This is our semester dictionary\n",
    "#what we have to do here is to sum all number of credits which are values of dictionary here, and we know we can easily\n",
    "#do this with the help of accumulator pattern\n",
    "credits = 0#accumulator or sum variable\n",
    "for k, in Junior:\n",
    "    credits = credits + Junior[key]\n",
    "    \n",
    "print(credits)"
   ]
  },
  {
   "cell_type": "markdown",
   "metadata": {},
   "source": [
    "Q6: Create a dictionary, freq, that displays each character in string stri as the key and its frequency as the value."
   ]
  },
  {
   "cell_type": "code",
   "execution_count": 2,
   "metadata": {},
   "outputs": [
    {
     "name": "stdout",
     "output_type": "stream",
     "text": [
      "{'p': 10, 'e': 9, 't': 2, 'r': 4, ' ': 8, 'i': 4, 'c': 4, 'k': 4, 'd': 3, 'a': 2, 'o': 2, 'f': 2, 'l': 2, 's': 2}\n"
     ]
    }
   ],
   "source": [
    "#This problem is related to our dictionary accumulation\n",
    "stri = \"peter piper picked a peck of pickled peppers\"\n",
    "freq = {} #creating an empty dictionary\n",
    "for char in stri:#iterating over all char of string including spaces\n",
    "    freq[char] = freq.get(char, 1) + 1#if char not in dictionary then assign its value 1 and if its already in dictionary \n",
    "    #then increase its value by 1\n",
    "print(freq)"
   ]
  },
  {
   "cell_type": "code",
   "execution_count": null,
   "metadata": {},
   "outputs": [],
   "source": []
  }
 ],
 "metadata": {
  "kernelspec": {
   "display_name": "Python 3",
   "language": "python",
   "name": "python3"
  },
  "language_info": {
   "codemirror_mode": {
    "name": "ipython",
    "version": 3
   },
   "file_extension": ".py",
   "mimetype": "text/x-python",
   "name": "python",
   "nbconvert_exporter": "python",
   "pygments_lexer": "ipython3",
   "version": "3.7.4"
  }
 },
 "nbformat": 4,
 "nbformat_minor": 4
}
