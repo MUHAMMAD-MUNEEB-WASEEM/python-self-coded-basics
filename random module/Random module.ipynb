{
 "cells": [
  {
   "cell_type": "markdown",
   "metadata": {},
   "source": [
    "# RANDOM MODULE"
   ]
  },
  {
   "cell_type": "code",
   "execution_count": 2,
   "metadata": {},
   "outputs": [],
   "source": [
    "import random"
   ]
  },
  {
   "cell_type": "code",
   "execution_count": 6,
   "metadata": {},
   "outputs": [],
   "source": [
    "# for int numbers\n",
    "#random.randint(a, b)\n",
    "#random.randrange(start,stop,step)\n",
    "\n",
    "# for flaoting point numbers\n",
    "#random.random()#no range\n",
    "#random.uniform(start,stop)# with range\n",
    "\n",
    "# for sequence\n",
    "#random.shuffle(sequence)#shuffle the input sequence\n",
    "#random.choice(sequence)#give any of one value from sequence\n",
    "#random.sample(sequence, required output values)"
   ]
  },
  {
   "cell_type": "code",
   "execution_count": 3,
   "metadata": {},
   "outputs": [
    {
     "name": "stdout",
     "output_type": "stream",
     "text": [
      "9\n"
     ]
    }
   ],
   "source": [
    "print(random.randint(1,10))"
   ]
  },
  {
   "cell_type": "code",
   "execution_count": 4,
   "metadata": {},
   "outputs": [
    {
     "name": "stdout",
     "output_type": "stream",
     "text": [
      "89\n",
      "\n",
      "62\n",
      "20\n",
      "38\n",
      "66\n"
     ]
    }
   ],
   "source": [
    "\n",
    "print(random.randrange(1,100))#Even odd values\n",
    "print()\n",
    "for i in range(1,5):\n",
    "    print(random.randrange(0,100,2))#Even values"
   ]
  },
  {
   "cell_type": "code",
   "execution_count": 15,
   "metadata": {},
   "outputs": [
    {
     "name": "stdout",
     "output_type": "stream",
     "text": [
      "0.22600403546609826\n"
     ]
    }
   ],
   "source": [
    "print(random.random())\n"
   ]
  },
  {
   "cell_type": "code",
   "execution_count": 17,
   "metadata": {},
   "outputs": [
    {
     "name": "stdout",
     "output_type": "stream",
     "text": [
      "18.295874176403494\n",
      "12.810167149660781\n",
      "15.850829472734782\n",
      "18.274081704109534\n"
     ]
    }
   ],
   "source": [
    "for i in range(1,5):\n",
    "    print(random.uniform(1,20))"
   ]
  },
  {
   "cell_type": "code",
   "execution_count": 47,
   "metadata": {},
   "outputs": [
    {
     "name": "stdout",
     "output_type": "stream",
     "text": [
      "['B', 3, 'A', 4, 'C', 'D', 1, 2]\n"
     ]
    }
   ],
   "source": [
    "lst = [\"A\", \"B\", \"C\", \"D\", 1, 2, 3, 4]\n",
    "a = random.shuffle(lst)\n",
    "print(lst)"
   ]
  },
  {
   "cell_type": "code",
   "execution_count": 35,
   "metadata": {},
   "outputs": [
    {
     "name": "stdout",
     "output_type": "stream",
     "text": [
      "4\n"
     ]
    }
   ],
   "source": [
    "print(random.choice(lst))"
   ]
  },
  {
   "cell_type": "code",
   "execution_count": 36,
   "metadata": {},
   "outputs": [
    {
     "name": "stdout",
     "output_type": "stream",
     "text": [
      "4\n",
      "2\n",
      "4\n",
      "C\n",
      "D\n"
     ]
    }
   ],
   "source": [
    "for i in range(5):\n",
    "    print(random.choice(lst))"
   ]
  },
  {
   "cell_type": "code",
   "execution_count": 45,
   "metadata": {},
   "outputs": [
    {
     "name": "stdout",
     "output_type": "stream",
     "text": [
      "['Muneeb']\n",
      "*****\n",
      "['Muneeb', 'hammad']\n",
      "*****\n",
      "['Ammar', 'Muneeb', 'hasan']\n"
     ]
    }
   ],
   "source": [
    "#AWARD CEREMONY\n",
    "competants = ['Muneeb', 'khalid', 'Ammar', 'hasan', 'hammad']\n",
    "print(random.sample(competants, 1))\n",
    "print(\"*****\")\n",
    "print(random.sample(competants, 2))\n",
    "print(\"*****\")\n",
    "print(random.sample(competants, 3))"
   ]
  },
  {
   "cell_type": "code",
   "execution_count": null,
   "metadata": {},
   "outputs": [],
   "source": []
  },
  {
   "cell_type": "code",
   "execution_count": null,
   "metadata": {},
   "outputs": [],
   "source": []
  }
 ],
 "metadata": {
  "kernelspec": {
   "display_name": "Python 3",
   "language": "python",
   "name": "python3"
  },
  "language_info": {
   "codemirror_mode": {
    "name": "ipython",
    "version": 3
   },
   "file_extension": ".py",
   "mimetype": "text/x-python",
   "name": "python",
   "nbconvert_exporter": "python",
   "pygments_lexer": "ipython3",
   "version": "3.7.4"
  }
 },
 "nbformat": 4,
 "nbformat_minor": 2
}
