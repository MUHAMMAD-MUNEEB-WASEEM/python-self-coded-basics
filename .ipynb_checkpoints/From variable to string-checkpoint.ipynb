{
 "cells": [
  {
   "cell_type": "markdown",
   "metadata": {},
   "source": [
    "## VARIABLES"
   ]
  },
  {
   "cell_type": "code",
   "execution_count": 1,
   "metadata": {},
   "outputs": [],
   "source": [
    "#variables are used to store information which you can used when required"
   ]
  },
  {
   "cell_type": "markdown",
   "metadata": {},
   "source": [
    "### STRING VARIABLES"
   ]
  },
  {
   "cell_type": "code",
   "execution_count": 1,
   "metadata": {},
   "outputs": [],
   "source": [
    "#Note: In python '=' is assignement operator not equals to operator as we used it to assign values or strings etc..\n",
    "first_name = 'John'\n",
    "#print(first_name)\n",
    "#you can check the type using type variable\n",
    "#print(type(first_name))\n",
    "\n",
    "#you can also store different string in first_name and it will not repeat the old one\n",
    "first_name = 'Harry'\n",
    "#print(first_name)\n",
    "\n",
    "last_name = 'Smith'\n",
    "#now you can use the information stored in above two variables when neededc as I mentioned earlier\n",
    "\n",
    "#this is called string concatenation, combining strings\n",
    "name = first_name + last_name\n",
    "#print(name)\n",
    "\n",
    "#you can also add space between them, and again this time it will not consider the previous store information\n",
    "name = first_name + ' ' + last_name\n",
    "#print(name)\n",
    "\n",
    "#we will discuss string in details later in this course"
   ]
  },
  {
   "cell_type": "markdown",
   "metadata": {},
   "source": [
    "### INTEGER VARIABLES"
   ]
  },
  {
   "cell_type": "code",
   "execution_count": 54,
   "metadata": {},
   "outputs": [
    {
     "name": "stdout",
     "output_type": "stream",
     "text": [
      "12\n"
     ]
    }
   ],
   "source": [
    "a = 4\n",
    "#here you can also check the type of integer\n",
    "#print(type(a))\n",
    "\n",
    "#similarly like in string, you can also alter the a value by assigning different number\n",
    "a = 10\n",
    "#print(a)\n",
    "\n",
    "b = 2\n",
    "#print(b)\n",
    "\n",
    "#you can also add a and b and store their result in third variable\n",
    "c = a + b\n",
    "print(c)\n",
    "\n"
   ]
  },
  {
   "cell_type": "code",
   "execution_count": 55,
   "metadata": {},
   "outputs": [
    {
     "ename": "TypeError",
     "evalue": "unsupported operand type(s) for +: 'int' and 'str'",
     "output_type": "error",
     "traceback": [
      "\u001b[1;31m---------------------------------------------------------------------------\u001b[0m",
      "\u001b[1;31mTypeError\u001b[0m                                 Traceback (most recent call last)",
      "\u001b[1;32m<ipython-input-55-a7a2a559accf>\u001b[0m in \u001b[0;36m<module>\u001b[1;34m\u001b[0m\n\u001b[0;32m      3\u001b[0m \u001b[0ma\u001b[0m \u001b[1;33m=\u001b[0m \u001b[1;36m123\u001b[0m\u001b[1;33m\u001b[0m\u001b[1;33m\u001b[0m\u001b[0m\n\u001b[0;32m      4\u001b[0m \u001b[0mb\u001b[0m \u001b[1;33m=\u001b[0m \u001b[1;34m'apple'\u001b[0m\u001b[1;33m\u001b[0m\u001b[1;33m\u001b[0m\u001b[0m\n\u001b[1;32m----> 5\u001b[1;33m \u001b[0mc\u001b[0m \u001b[1;33m=\u001b[0m \u001b[0ma\u001b[0m \u001b[1;33m+\u001b[0m \u001b[0mb\u001b[0m\u001b[1;33m\u001b[0m\u001b[1;33m\u001b[0m\u001b[0m\n\u001b[0m\u001b[0;32m      6\u001b[0m \u001b[0mprint\u001b[0m\u001b[1;33m(\u001b[0m\u001b[0mc\u001b[0m\u001b[1;33m)\u001b[0m\u001b[1;33m\u001b[0m\u001b[1;33m\u001b[0m\u001b[0m\n",
      "\u001b[1;31mTypeError\u001b[0m: unsupported operand type(s) for +: 'int' and 'str'"
     ]
    }
   ],
   "source": [
    "#Note that you cannot add or concatenate int or float into str, if you do python give you an error. Let's try this\n",
    "#and be ready for error\n",
    "a = 123\n",
    "b = 'apple'\n",
    "c = a + b\n",
    "print(c)\n",
    "#try to read an error and it will tell you that you cannnot add int and str\n",
    "#To convert int or float into str or we have to use type conversion which we discuss later in detail"
   ]
  },
  {
   "cell_type": "markdown",
   "metadata": {},
   "source": [
    "**Operators Slide**"
   ]
  },
  {
   "cell_type": "markdown",
   "metadata": {},
   "source": [
    "## OPERATORS"
   ]
  },
  {
   "cell_type": "code",
   "execution_count": 26,
   "metadata": {},
   "outputs": [],
   "source": [
    "#Addition\n",
    "#print(a+b)\n",
    "\n",
    "#or you can assign the result of both a and b into different or new variable\n",
    "c = a + b\n",
    "#print(c)\n",
    "\n",
    "#and if you dont want the information for further used, then its not necessary to assign values to variables\n",
    "c = 10 + 2\n",
    "#print(c)\n",
    "\n",
    "#Subtraction\n",
    "#print(a-b)\n",
    "\n",
    "#or you can assign the result of both a and b into different or new variable\n",
    "c = a - b\n",
    "#print(c)\n",
    "\n",
    "#and if you dont want the information for further used, then its not necessary to assign values to variables\n",
    "c = 10 - 2\n",
    "#print(c)\n",
    "\n",
    "#Multiplication\n",
    "#print(a*b)\n",
    "\n",
    "#or you can assign the result of both a and b into different or new variable\n",
    "c = a * b\n",
    "#print(c)\n",
    "\n",
    "#and if you dont want the information for further used, then its not necessary to assign values to variables\n",
    "c = 10 * 2\n",
    "#print(c)\n",
    "\n",
    "#Integer division\n",
    "#for integer division we used two forward slashes\n",
    "#print(a//b)\n",
    "\n",
    "#or you can assign the result of both a and b into different or new variable\n",
    "c = a // b\n",
    "#print(c)\n",
    "\n",
    "#and if you dont want the information for further used, then its not necessary to assign values to variables\n",
    "c = 10 // 2\n",
    "#print(c)\n",
    "\n",
    "#Float division\n",
    "#for float division we used one forward slash\n",
    "#print(a/b)\n",
    "\n",
    "#or you can assign the result of both a and b into different or new variable\n",
    "c = a / b\n",
    "#print(c)\n",
    "\n",
    "#and if you dont want the information for further used, then its not necessary to assign values to variables\n",
    "c = 10 / 2\n",
    "#print(c)\n",
    "\n",
    "#Difference b/w Integer and float Division\n",
    "#Now let say we have to divide 16 by 3 which returns answer in decimal, so lets try it\n",
    "#Now this time I am using different variables to avoid unnecessary conflicts\n",
    "\n",
    "#Integer division\n",
    "x = 16\n",
    "y = 3 \n",
    "z = x//y\n",
    "#print(z)\n",
    "#As you can see it only gives answer in whole number \n",
    "\n",
    "#Float division\n",
    "x = 16\n",
    "y = 3 \n",
    "z = x/y\n",
    "#print(z)\n",
    "#As you can see it only gives answer in floating point or in decimals\n",
    "\n",
    "#Modulus operator\n",
    "#It returns remainder\n",
    "#Now let use the above example, it should have to return 1\n",
    "p = x%y\n",
    "#print(p)\n",
    "\n",
    "#Now lets try another example with modulus operator\n",
    "s = 17\n",
    "t = 3\n",
    "#print(17%3)\n",
    "\n",
    "#Power operator\n",
    "d = 10**2\n",
    "#print(d)\n",
    "\n",
    "#you can also roots, cube root, 4 roots or any power using this power operator\n",
    "e = 4**1/2\n",
    "#print(e)\n",
    "\n",
    "#So, these were some operators which we used in python "
   ]
  },
  {
   "cell_type": "markdown",
   "metadata": {},
   "source": [
    "### OPERATOR PRECEDENCE"
   ]
  },
  {
   "cell_type": "markdown",
   "metadata": {},
   "source": [
    " Highest precedence rule to lowest precedence rule:\n",
    "1.  Parenthesis are always respected\n",
    "2.  Exponentiation (raise to a power)\n",
    "3.  Multiplication, Division, and Remainder\n",
    "4.  Addition and Subtraction\n",
    "5.  Left to right"
   ]
  },
  {
   "cell_type": "code",
   "execution_count": 31,
   "metadata": {},
   "outputs": [
    {
     "name": "stdout",
     "output_type": "stream",
     "text": [
      "11.0\n"
     ]
    }
   ],
   "source": [
    "#Always Follow precedence top to bottom and left to right associativity\n",
    "\n",
    "#1\n",
    "x = 1 + (2 * 3)\n",
    "#print(x)\n",
    "#firstly, 2 multiply with 3 give us 6 as it is in parenthesis and their result will add to 1 so we get 7\n",
    "\n",
    "#2\n",
    "y = 1 + 2 ** 3 / 4 * 5\n",
    "#Now, lets unpack it. First exponential term will be solve as 2 power 3 result in 8, so we get 1+8/4*5, as both \n",
    "#multiplication and division has same precedence so we follow left to right rule means first we solve 8/4 results \n",
    "#in 2.0 and then multiply it with 5 returns 10.0 and then add 1 to it to get 11.0\n",
    "print(y)"
   ]
  },
  {
   "cell_type": "markdown",
   "metadata": {},
   "source": [
    "### ASSIGNMENT WITH EXPRESSION"
   ]
  },
  {
   "cell_type": "code",
   "execution_count": 45,
   "metadata": {},
   "outputs": [
    {
     "name": "stdout",
     "output_type": "stream",
     "text": [
      "10\n"
     ]
    }
   ],
   "source": [
    "#assignment with expression is used to used previous information with new one\n",
    "#So let say we have\n",
    "x = 5\n",
    "\n",
    "#Now we want to add more value to same x, not in different so\n",
    "x = x + 5\n",
    "#print(x)\n",
    "#here x on left hand side store new result whereas the right one is used as previous information variable. We can also \n",
    "#write it as \n",
    "\n",
    "#x += 5\n",
    "#first comment out the x = x+5 to avoid any conflicts\n",
    "#print(x)\n",
    "\n",
    "#Now we can use the assignment with expression with all operators\n",
    "#x = x-5\n",
    "#again comment out the x = x + 5 and x += 5\n",
    "#print(x)\n",
    "#x -= 5\n",
    "\n",
    "#x = x*5\n",
    "#x *= 5\n",
    "#print(x)\n",
    "\n",
    "#x = x/5\n",
    "#x /= 5\n",
    "#print(x)\n",
    "\n",
    "#x = x%5\n",
    "#x %= 5\n",
    "#print(x)\n",
    "\n",
    "#x = x**5\n",
    "#x **= 5\n",
    "#print(x)"
   ]
  },
  {
   "cell_type": "markdown",
   "metadata": {},
   "source": [
    "## TYPE CONVERSION"
   ]
  },
  {
   "cell_type": "code",
   "execution_count": 8,
   "metadata": {},
   "outputs": [],
   "source": [
    "#Type conversion is used to convert one type into another. lets study it more in detail\n",
    "#There are three main type conversion which are commonly used\n",
    "#1. int()\n",
    "#2. float()\n",
    "#3. str()\n",
    "\n",
    "x = float(16)\n",
    "#it converts int 16 into float and we can use it anywhere we want\n",
    "#print(type(x))\n",
    "\n",
    "#similarly float to int\n",
    "y = int(5.0)\n",
    "#As we know 5.0 is a floating point or decimal number but as we apply int type conversion so it will return us int or 5\n",
    "#print(type(y))\n",
    "#print(y)"
   ]
  },
  {
   "cell_type": "markdown",
   "metadata": {},
   "source": [
    "### STRING CONVERSION"
   ]
  },
  {
   "cell_type": "code",
   "execution_count": 10,
   "metadata": {},
   "outputs": [
    {
     "name": "stdout",
     "output_type": "stream",
     "text": [
      "GoGoGoGoGo\n"
     ]
    }
   ],
   "source": [
    "#+ implies “concatenation”\n",
    "# * implies “multiple concatenation”\n",
    "\n",
    "#concatentaion\n",
    "#Now its time to convert int or float into str which we left above\n",
    "#the example was\n",
    "a = 123\n",
    "b = 'apple'\n",
    "#to concatenate these, we use str() type conversion with a\n",
    "c = b + str(a)\n",
    "#print(c)\n",
    "#OR we can also write it down as\n",
    "#print('apple' + '123')\n",
    "#Now lets discuss about multiple concatenation\n",
    "\n",
    "#multiple concatenation\n",
    "print(\"Go\"*5)\n",
    "#it will rprint 5 times go, means it multiply string with given no of times\n",
    "#I hope you people got clear understanding of type conversion. So lets proceed to out new topic"
   ]
  },
  {
   "cell_type": "markdown",
   "metadata": {},
   "source": [
    "## INPUT FROM USER"
   ]
  },
  {
   "cell_type": "code",
   "execution_count": 3,
   "metadata": {},
   "outputs": [
    {
     "name": "stdout",
     "output_type": "stream",
     "text": [
      "Enter your salary: 10\n",
      "10\n"
     ]
    }
   ],
   "source": [
    "#some times you have to store arbitrary information in variable opposing to constant so in that case we use input function\n",
    "#For example to calculate the salary of employees, each employee has different salary so we cannot assign constant salary\n",
    "#to variable. So for that we have to use input function so with the help of it, we take different inputs as per our \n",
    "#requirement\n",
    "\n",
    "#a = input(\"Enter your salary: \")\n",
    "#Note that salary is in float or int, so here we need to used type conversion \n",
    "#comment the above a\n",
    "\n",
    "a = int(input('Enter your salary: '))\n",
    "print(a)\n",
    "#what it does is to convert the salary which was initally taken as str and convert it to int or float as per our need\n",
    "#Now when we run this cell, it will prompt us the input"
   ]
  },
  {
   "cell_type": "code",
   "execution_count": 4,
   "metadata": {},
   "outputs": [],
   "source": [
    "#Questions related to input"
   ]
  },
  {
   "cell_type": "markdown",
   "metadata": {},
   "source": [
    "Q1: Write a program that will convert degrees celsius to degrees fahrenheit."
   ]
  },
  {
   "cell_type": "code",
   "execution_count": 6,
   "metadata": {},
   "outputs": [
    {
     "name": "stdout",
     "output_type": "stream",
     "text": [
      "Enter temp in celsius: 32\n",
      "The temperature in fahrenheit is 89.6\n"
     ]
    }
   ],
   "source": [
    "celsius = int(input(\"Enter temp in celsius: \"))\n",
    "#Now formula for celsius to fahrenheit is \n",
    "fahrenheit = (9/5)*celsius + 32\n",
    "print(\"The temperature in fahrenheit is\", fahrenheit)"
   ]
  },
  {
   "cell_type": "markdown",
   "metadata": {},
   "source": [
    "Q2. Write a program that will compute the area of a rectangle. Prompt the user to enter the width and height of the rectangle and store the values in variables called width and height. Print a nice message with the answer."
   ]
  },
  {
   "cell_type": "code",
   "execution_count": 7,
   "metadata": {},
   "outputs": [
    {
     "name": "stdout",
     "output_type": "stream",
     "text": [
      "Enter width of rectangle: 4\n",
      "Enter height of rectangle: 3\n",
      "The area of the rectangle is 12\n"
     ]
    }
   ],
   "source": [
    "width = int(input(\"Enter width of rectangle: \"))\n",
    "height = int(input(\"Enter height of rectangle: \"))\n",
    "\n",
    "area = width * height\n",
    "\n",
    "print(\"The area of the rectangle is\", area)"
   ]
  },
  {
   "cell_type": "markdown",
   "metadata": {},
   "source": [
    "## BOOLEAN VALUES"
   ]
  },
  {
   "cell_type": "code",
   "execution_count": 11,
   "metadata": {},
   "outputs": [
    {
     "name": "stdout",
     "output_type": "stream",
     "text": [
      "<class 'bool'>\n",
      "<class 'bool'>\n"
     ]
    }
   ],
   "source": [
    "#Their are two boolean values, True and False\n",
    "#Note that their initials are capitalize\n",
    "print(type(True))\n",
    "print(type(False))"
   ]
  },
  {
   "cell_type": "markdown",
   "metadata": {},
   "source": [
    "## COMPARISION OPERATORS"
   ]
  },
  {
   "cell_type": "markdown",
   "metadata": {},
   "source": [
    "1. x == y               # x is equal to y\n",
    "2. x != y               # x is not equal to y\n",
    "3. x > y                # x is greater than y\n",
    "4. x < y                # x is less than y\n",
    "5. x >= y               # x is greater than or equal to y\n",
    "6. x <= y               # x is less than or equal to y"
   ]
  },
  {
   "cell_type": "code",
   "execution_count": 25,
   "metadata": {},
   "outputs": [
    {
     "name": "stdout",
     "output_type": "stream",
     "text": [
      "True\n",
      "False\n"
     ]
    }
   ],
   "source": [
    "#we will discuss all 6 comparision operators 1 by 1\n",
    "#starting from no 1 which is equal to operator\n",
    "\n",
    "#1\n",
    "print(5 == 5)\n",
    "print(5 == 6)\n",
    "#comment no 1 before going to 2 and so on\n",
    "\n",
    "#coming on towards no 2 which is not equal to\n",
    "#2\n",
    "#print(5 != 6)\n",
    "#print(5 != 5)\n",
    "\n",
    "#3\n",
    "#print(5 > 4)\n",
    "#print(5 > 8)\n",
    "\n",
    "#4\n",
    "#print(9 < 10)\n",
    "#print(9 < 8)\n",
    "\n",
    "\n",
    "#5\n",
    "#print(5 >= 5)\n",
    "#print(5 >= 4)\n",
    "#print(5 >= 9)\n",
    "\n",
    "#6\n",
    "#print(5 <= 5)\n",
    "#print(5 <= 9)\n",
    "#print(5 <= 3)"
   ]
  },
  {
   "cell_type": "markdown",
   "metadata": {},
   "source": [
    "## LOGICAL OPERATORS"
   ]
  },
  {
   "cell_type": "code",
   "execution_count": 31,
   "metadata": {},
   "outputs": [
    {
     "name": "stdout",
     "output_type": "stream",
     "text": [
      "False\n"
     ]
    }
   ],
   "source": [
    "#There are three logical operators in python. and, or, and not. \n",
    "#The meaning of these operators in python is similar to their meaning in English\n",
    "\n",
    "x = 10\n",
    "#AND -> it is True when both or all given conditions are true\n",
    "print(x > 0 and x < 11)#returns True as both conditions satifies\n",
    "print(x > 0 and x < 9)#returns False as 10 not less than 9\n",
    "#comment above when proceeding forward\n",
    "\n",
    "#OR -> it is true when either of the given condition is True\n",
    "#print(x > 0 or x < -1)#returns True as 10 > 0 and not considering the other given condition\n",
    "#print(x % 5 == 0 or x % 9 == 0)#again returns True as first condition satisfies\n",
    "\n",
    "#not -> Converts True to False or vice versa\n",
    "#print(not(True))"
   ]
  },
  {
   "cell_type": "markdown",
   "metadata": {},
   "source": [
    "## IDENTITY OPERATORS"
   ]
  },
  {
   "cell_type": "code",
   "execution_count": 37,
   "metadata": {},
   "outputs": [
    {
     "name": "stdout",
     "output_type": "stream",
     "text": [
      "False\n",
      "True\n"
     ]
    }
   ],
   "source": [
    "#The identity operators are 'is' and 'is not'. \n",
    "#Their function is similar to the double equality sign (==) and the exclamation mark with equality sign (!=)\n",
    "#Now lets begin with is identity operator\n",
    "\n",
    "print(5 is 6)\n",
    "print(5 is 5)\n",
    "#comment above before procedding forward\n",
    "\n",
    "#print(10 is not 12)\n",
    "#print(10 is not 10)\n",
    "\n",
    "#print('apple' is 'apple')\n",
    "#print('mango' is not 'apple')"
   ]
  },
  {
   "cell_type": "markdown",
   "metadata": {},
   "source": [
    "## in AND not IN OPEARATOR"
   ]
  },
  {
   "cell_type": "code",
   "execution_count": 16,
   "metadata": {},
   "outputs": [
    {
     "name": "stdout",
     "output_type": "stream",
     "text": [
      "True\n",
      "True\n",
      "True\n",
      "False\n"
     ]
    }
   ],
   "source": [
    "#in is used to check whether one string is part of the other or not or any element belongs to list or dictionary\n",
    "#dont confuse with list and dictionary, we will discuss it later, right now just focus string\n",
    "#lets check it out\n",
    "\n",
    "print('m' in 'mango')#True as m belongs to mango\n",
    "print('app' in 'apple')#True as m belongs to mango\n",
    "print('t' not in 'banana')#True as t not in banana\n",
    "print('c' in 'banana')#False as c not in banana"
   ]
  },
  {
   "cell_type": "markdown",
   "metadata": {},
   "source": [
    "## CONDITIONAL STATEMENTS"
   ]
  },
  {
   "cell_type": "code",
   "execution_count": 1,
   "metadata": {},
   "outputs": [],
   "source": [
    "#Programming often includes inspecting a set of conditions and deciding which action to take based on those conditions.\n",
    "#Python’s if statement permits you to inspect the current state of a program and respond appropriately to that state."
   ]
  },
  {
   "cell_type": "markdown",
   "metadata": {},
   "source": [
    "### if-else"
   ]
  },
  {
   "cell_type": "raw",
   "metadata": {},
   "source": [
    "if Condition:\n",
    "    STATEMENTS_1        # executed if condition evaluates to True\n",
    "else:\n",
    "    STATEMENTS_2        # executed if condition evaluates to False"
   ]
  },
  {
   "cell_type": "markdown",
   "metadata": {},
   "source": [
    "if Boolean Expression:\n",
    "    STATEMENTS_1        # executed if condition evaluates to True\n",
    "else:\n",
    "    STATEMENTS_2        # executed if condition evaluates to False"
   ]
  },
  {
   "cell_type": "code",
   "execution_count": 3,
   "metadata": {},
   "outputs": [
    {
     "name": "stdout",
     "output_type": "stream",
     "text": [
      "The animal is a dog\n",
      "condition is False\n",
      "TRUE\n"
     ]
    }
   ],
   "source": [
    "#Statement_1 will be executed when if condition is True otherwise Statement_2 will be executed \n",
    "#We can alse use all operators like logical, comparison, identity with conditional statements\n",
    "#now lets try examples\n",
    "animal = 'dog'\n",
    "\n",
    "#we know when we want to check whether one thing is equal to other, we use == operator\n",
    "#1\n",
    "if animal == 'dog':\n",
    "    print('The animal is a dog')\n",
    "else:\n",
    "    print('The animal is a dog')\n",
    "\n",
    "#2\n",
    "#lets try one more example\n",
    "if 6 == 10:#6 not equals to 10 so it will not run\n",
    "    print('condition is True')\n",
    "else:\n",
    "    print('condition is False')\n",
    "\n",
    "#3    \n",
    "#you can also place condition within the brackets\n",
    "if (4 + 5 == 10):#not true so this will not run\n",
    "    print(\"TRUE\")\n",
    "if (6 + 3 == 9):#this one is true\n",
    "    print(\"TRUE\")\n",
    "else:\n",
    "    print(\"FALSE\")\n",
    "    \n",
    "#you can use many if as you want but else will only be once"
   ]
  },
  {
   "cell_type": "markdown",
   "metadata": {},
   "source": [
    "### if-elif-else"
   ]
  },
  {
   "cell_type": "code",
   "execution_count": 6,
   "metadata": {},
   "outputs": [],
   "source": [
    "#Often, you'll have to test in excess of two potential circumstances, and to assess these you can utilize Python's \n",
    "#if-elif-else language structure. Python executes just one  block in an if-elif-else chain. \n",
    "#It runs each conditional test in order until one passes. At the point when a test passes, \n",
    "#the code following that test is executed and Python avoids the remainder of the tests.\n",
    "#This is sometimes referred to as a chained conditional."
   ]
  },
  {
   "cell_type": "code",
   "execution_count": 11,
   "metadata": {},
   "outputs": [
    {
     "name": "stdout",
     "output_type": "stream",
     "text": [
      "a is greater than b\n"
     ]
    }
   ],
   "source": [
    "######################## Difference between if and elif #################################\n",
    "#Note that order matters alot. When initial condition becoming True the conditions rest to it will not be executed, that's\n",
    "#the benefit of elif whereas in case of only if-else, when one if statements sets to True, Python continue on checking\n",
    "#rest of the conditions which slower the processing speed\n",
    "\n",
    "#1\n",
    "#lets try an example\n",
    "a = 7\n",
    "b = 4\n",
    "\n",
    "if a < b:\n",
    "    print(\"a is less than b\")\n",
    "elif a > b:#here elif condition is True, so this block will run\n",
    "    print(\"a is greater than b\")\n",
    "else:\n",
    "    print(\"a and b must be equal\")"
   ]
  },
  {
   "cell_type": "markdown",
   "metadata": {},
   "source": [
    "### NESTED CONDITIONALS"
   ]
  },
  {
   "cell_type": "code",
   "execution_count": 2,
   "metadata": {},
   "outputs": [
    {
     "name": "stdout",
     "output_type": "stream",
     "text": [
      "Enter your pet name: rabbit\n",
      "Enter you pet age: 3\n",
      "It's not a dog\n"
     ]
    }
   ],
   "source": [
    "#Nested conditionals are used when we want one condition to be nested within another.\n",
    "#Now lets begin work on nested conditional\n",
    "\n",
    "#1\n",
    "#here we have example in which we ask pet name and its age from user and if pet is dog then if condition will run and if\n",
    "#pets age is less than equal to 1 then we will say its puppy other wise its not and if pet_name is not dog the else block\n",
    "#will run\n",
    "\n",
    "pet_name = input('Enter your pet name: ')\n",
    "pet_age = int(input(\"Enter you pet age: \"))\n",
    "\n",
    "if pet_name == 'dog':\n",
    "    if pet_age <= 1:\n",
    "        print('Puppy')\n",
    "    else: \n",
    "        print('Not puppy')\n",
    "else:\n",
    "    print(\"It's not a dog\")"
   ]
  },
  {
   "cell_type": "markdown",
   "metadata": {},
   "source": [
    "## EXERCISE"
   ]
  },
  {
   "cell_type": "markdown",
   "metadata": {},
   "source": [
    "Q1 Write code that asks the user to enter a numeric score (0-100). In response, it should print out the score and corresponding letter grade, according to the table below.\n",
    "\n",
    "Score                                       | Grade\n",
    "                             -------------  | -------------\n",
    "greater than equal to 90 and less than 100  | A\n",
    "greater than equal to 80 and less than 90   | B\n",
    "greater than equal to 70 and less than 80   | C\n",
    "greater than equal to 60 and less than 70   | D\n",
    "less than 60                                | F\n"
   ]
  },
  {
   "cell_type": "code",
   "execution_count": 9,
   "metadata": {},
   "outputs": [
    {
     "name": "stdout",
     "output_type": "stream",
     "text": [
      "Enter a score from 0 to 100 (decimal points are allowed): 49\n",
      "Grade is F\n"
     ]
    }
   ],
   "source": [
    "score = float(input(\"Enter a score from 0 to 100 (decimal points are allowed): \"))\n",
    "\n",
    "if score >= 90 and score < 100:\n",
    "    print('Grade is A')\n",
    "elif score >= 80 and score < 90:\n",
    "    print('Grade is B')\n",
    "elif score >= 70 and score < 80:\n",
    "    print('Grade is C')\n",
    "elif score >= 60 and score < 70:\n",
    "    print('Grade is D')\n",
    "else:\n",
    "    print('Grade is F')\n",
    "\n",
    "    "
   ]
  },
  {
   "cell_type": "markdown",
   "metadata": {},
   "source": [
    "Q2 Write a python program to check whether the number is even or odd"
   ]
  },
  {
   "cell_type": "code",
   "execution_count": 12,
   "metadata": {},
   "outputs": [
    {
     "name": "stdout",
     "output_type": "stream",
     "text": [
      "Enter number: 3\n",
      "odd\n"
     ]
    }
   ],
   "source": [
    "num = int(input(\"Enter number: \"))\n",
    "\n",
    "if num % 2 == 0:\n",
    "    print(\"The given number is even\")\n",
    "else:\n",
    "    print('odd')"
   ]
  },
  {
   "cell_type": "markdown",
   "metadata": {},
   "source": [
    "Q3: Write a Python program to check a triangle is equilateral, isosceles or scalene.\n",
    "> Note :\n",
    "An equilateral triangle is a triangle in which all three sides are equal.\n",
    "A scalene triangle is a triangle that has three unequal sides.\n",
    "An isosceles triangle is a triangle with (at least) two equal sides."
   ]
  },
  {
   "cell_type": "code",
   "execution_count": 19,
   "metadata": {},
   "outputs": [
    {
     "name": "stdout",
     "output_type": "stream",
     "text": [
      "x: 4\n",
      "y: 2\n",
      "z: 1\n",
      "Scalene triangle\n"
     ]
    }
   ],
   "source": [
    "#if all sides of triangle are equal then it will be equilateral triangle, if atleat any of two sides are equal than it will\n",
    "#be isosceles triangle and if none of the sides are equal than it will be scalene triangle. Let code for it\n",
    "\n",
    "x = int(input(\"x: \"))\n",
    "y = int(input(\"y: \"))\n",
    "z = int(input(\"z: \"))\n",
    "\n",
    "if x == y == z:#equilateral as all are equal\n",
    "    print(\"Equilateral triangle\")\n",
    "elif x==y or y==z or z==x:#isosceles whether x or y, y or z or z or x will be equal\n",
    "    print(\"isosceles triangle\")\n",
    "else:#scalene as none of them equal\n",
    "    print(\"Scalene triangle\")"
   ]
  },
  {
   "cell_type": "markdown",
   "metadata": {},
   "source": [
    "Q4: Write a program for amusement park in which children less than age of 4 will be allowed for free. People of age less\n",
    "than 18 will be charge 10 dollars, people with an age less than 65 will be charge 15 dollars and for senior citizens of \n",
    "age greater than 65 it will charge 5 dollars"
   ]
  },
  {
   "cell_type": "code",
   "execution_count": 27,
   "metadata": {},
   "outputs": [
    {
     "name": "stdout",
     "output_type": "stream",
     "text": [
      "Enter your age: 18\n",
      "15 $\n"
     ]
    }
   ],
   "source": [
    "age = int(input(\"Enter your age: \"))\n",
    "if age < 4:#all less than 4\n",
    "    price = 0\n",
    "    print(price)\n",
    "elif age < 18:#all greater than eqal to 4 and less than 18\n",
    "    price = 10\n",
    "    print(price,'$')\n",
    "elif age < 65:#all greater than equal to 18 and less 65\n",
    "    price = 15\n",
    "    print(price, '$')\n",
    "else:#here this else refers to all greater than equal to 65\n",
    "    price = 5\n",
    "    print(price, \"$\")"
   ]
  },
  {
   "cell_type": "markdown",
   "metadata": {},
   "source": [
    "Q5: Write an if-elif-else chain that determines a person’s\n",
    "stage of life. Set a value for the variable age, and then:\n",
    "    \n",
    "•\t If the person is less than 2 years old, print a message that the person is a baby.\n",
    "\n",
    "•\t If the person is at least 2 years old but less than 4, print a message that the person is a toddler.\n",
    "\n",
    "•\t If the person is at least 4 years old but less than 13, print a message that the person is a kid.\n",
    "\n",
    "•\t If the person is at least 13 years old but less than 20, print a message that the person is a teenager.\n",
    "\n",
    "•\t If the person is at least 20 years old but less than 65, print a message that the person is an adult.\n",
    "\n",
    "•\t If the person is age 65 or older, print a message that the person is an elder."
   ]
  },
  {
   "cell_type": "code",
   "execution_count": 34,
   "metadata": {},
   "outputs": [
    {
     "name": "stdout",
     "output_type": "stream",
     "text": [
      "Enter age : 70\n",
      "The person is an elder.\n"
     ]
    }
   ],
   "source": [
    "age = int(input(\"Enter age : \"))\n",
    "\n",
    "if age < 2:\n",
    "    print(\"The person is a baby.\")\n",
    "elif age >= 2 and age < 4:\n",
    "    print(\"The person is a toddler \")\n",
    "elif age >= 4 and age < 13:\n",
    "    print(\"The person is a kid.\")\n",
    "elif age >=13 and age < 20:\n",
    "    print(\"The person is a teenager.\")\n",
    "elif age >=20 and age < 65:\n",
    "    print(\"The person is an adult.\")\n",
    "else:\n",
    "    print(\"The person is an elder.\")"
   ]
  },
  {
   "cell_type": "markdown",
   "metadata": {},
   "source": [
    "Q6: Choose a color for an alien\n",
    "\n",
    "If the alien’s color is green, print a statement that the player just earned 5 points for shooting the alien.\n",
    "\n",
    "If the alien’s color isn’t green, print a statement that the player just earned 10 points."
   ]
  },
  {
   "cell_type": "code",
   "execution_count": 5,
   "metadata": {},
   "outputs": [
    {
     "name": "stdout",
     "output_type": "stream",
     "text": [
      "Enter Alien color : green\n",
      "The player just earned 5 points for shooting the alien\n"
     ]
    }
   ],
   "source": [
    "Alien_color=input(\"Enter Alien color : \")\n",
    "\n",
    "if Alien_color == \"green\":\n",
    "    print(\"The player just earned 5 points for shooting the alien\")\n",
    "else:\n",
    "    print(\"The player just earned 10 points.\")"
   ]
  },
  {
   "cell_type": "markdown",
   "metadata": {},
   "source": [
    "Q7: Take a user input from console line.Store it in a variable called Alien_color.\n",
    "\n",
    "If the alien’s color is red, print a statement that the player just earned 5 points for shooting the alien.\n",
    "\n",
    "If the alien’s color isn’t green, print a statement that the player just earned 10 points.\n",
    "\n",
    "If the alien's color isn't red or green , print a statment :, Alien is no more....."
   ]
  },
  {
   "cell_type": "code",
   "execution_count": 3,
   "metadata": {},
   "outputs": [
    {
     "name": "stdout",
     "output_type": "stream",
     "text": [
      "Enter Alien color : red\n",
      "The player earned 15 points.\n"
     ]
    }
   ],
   "source": [
    "Alien_color=input(\"Enter Alien color : \")\n",
    "\n",
    "if Alien_color == \"green\":\n",
    "    print(\"The player just earned 5 points for shooting the alien\")\n",
    "\n",
    "elif Alien_color == \"yellow\":\n",
    "    print(\"The player just earned 10 points.\")\n",
    "\n",
    "elif Alien_color == \"red\":\n",
    "    print(\"The player earned 15 points.\")"
   ]
  },
  {
   "cell_type": "markdown",
   "metadata": {},
   "source": [
    "## DATA STRUCTURES:"
   ]
  },
  {
   "cell_type": "code",
   "execution_count": 6,
   "metadata": {},
   "outputs": [],
   "source": [
    "#Data structures are used to store collection of related data. Their are 4 built in data structures in python.\n",
    "#1. List.\n",
    "#2. Tuple.\n",
    "#3. Dictionary\n",
    "#4. Sets"
   ]
  },
  {
   "cell_type": "code",
   "execution_count": 7,
   "metadata": {},
   "outputs": [],
   "source": [
    "#lets taik about for list now."
   ]
  },
  {
   "cell_type": "markdown",
   "metadata": {},
   "source": [
    "## LIST"
   ]
  },
  {
   "cell_type": "code",
   "execution_count": 8,
   "metadata": {},
   "outputs": [],
   "source": [
    "#A list is a collection of items in a particular order. You can make a list that includes the letters of the alphabet, \n",
    "#the digits from 0–9, or the names of all the people in your family. You can put anything you want into a list\n",
    "\n",
    "#A list is a data structure in Python that is a mutable, or changeable, ordered sequence of elements.\n",
    "#Mutable or changable means we can change values of lists.\n",
    "#Each element or value that is inside of a list is called an item\n",
    "\n",
    "#Because a list usually contains more than one element, it’s a good idea to make the #name of your list plural, \n",
    "#such as letters, digits, or names. In Python, square brackets ([]) indicate a list, and individual elements in the list \n",
    "#are separated by commas."
   ]
  },
  {
   "cell_type": "code",
   "execution_count": 5,
   "metadata": {},
   "outputs": [
    {
     "data": {
      "text/plain": [
       "['__add__',\n",
       " '__class__',\n",
       " '__contains__',\n",
       " '__delattr__',\n",
       " '__delitem__',\n",
       " '__dir__',\n",
       " '__doc__',\n",
       " '__eq__',\n",
       " '__format__',\n",
       " '__ge__',\n",
       " '__getattribute__',\n",
       " '__getitem__',\n",
       " '__gt__',\n",
       " '__hash__',\n",
       " '__iadd__',\n",
       " '__imul__',\n",
       " '__init__',\n",
       " '__init_subclass__',\n",
       " '__iter__',\n",
       " '__le__',\n",
       " '__len__',\n",
       " '__lt__',\n",
       " '__mul__',\n",
       " '__ne__',\n",
       " '__new__',\n",
       " '__reduce__',\n",
       " '__reduce_ex__',\n",
       " '__repr__',\n",
       " '__reversed__',\n",
       " '__rmul__',\n",
       " '__setattr__',\n",
       " '__setitem__',\n",
       " '__sizeof__',\n",
       " '__str__',\n",
       " '__subclasshook__',\n",
       " 'append',\n",
       " 'clear',\n",
       " 'copy',\n",
       " 'count',\n",
       " 'extend',\n",
       " 'index',\n",
       " 'insert',\n",
       " 'pop',\n",
       " 'remove',\n",
       " 'reverse',\n",
       " 'sort']"
      ]
     },
     "execution_count": 5,
     "metadata": {},
     "output_type": "execute_result"
    }
   ],
   "source": [
    "dir(list())\n",
    "#just ignore the underscore methods and focus on the last 11 methods without underscore starting from append till sort\n",
    "#These are essential parts of list and we will try to cover all these 11 methods as we move on"
   ]
  },
  {
   "cell_type": "code",
   "execution_count": 16,
   "metadata": {},
   "outputs": [],
   "source": [
    "#lets consider the list of cities\n",
    "cities = [\"Atlanta\", \"Baltimore\", \"Chicago\", \"Denver\", \"Los Angeles\", \"Seattle\"]\n",
    "#here we make list name plural as it is a collection of data\n"
   ]
  },
  {
   "cell_type": "markdown",
   "metadata": {},
   "source": [
    "### Accessing Elements in a List"
   ]
  },
  {
   "cell_type": "code",
   "execution_count": 23,
   "metadata": {},
   "outputs": [
    {
     "name": "stdout",
     "output_type": "stream",
     "text": [
      "Atlanta\n",
      "Welcome to Atlanta\n",
      "Baltimore Chicago\n",
      "Seattle\n",
      "You are invited for a party at Los Angeles\n"
     ]
    }
   ],
   "source": [
    "#Note that index postion starts at 0 not 1\n",
    "#To access an element in a list, write the name of the list followed by the index of the item enclosed in square brackets.\n",
    "#let say we want to access 'Atlanta' which is the first element of list at index 0\n",
    "print(cities[0])\n",
    "print('Welcome to ' + cities[0].title())#title makes first letter capital\n",
    "\n",
    "#similarly you can also access different elements in a same manner\n",
    "print(cities[1], cities[2])\n",
    "\n",
    "#Python has a special syntax for accessing the last element in a list. By asking for the item at index -1, \n",
    "#Python always returns the last item in the list:\n",
    "#Here last item of list is 'Seattle', so lets access it\n",
    "print(cities[-1])\n",
    "\n",
    "#This convention extends to other negative index values as well. The index -2 returns the second item from the end of the \n",
    "#list, the index -3 returns the third item from the end, and so forth.\n",
    "#this type of indexing is called negative or reverse indexing\n",
    "#normal: [0, 1, 2 ,3, 4]\n",
    "#reverse: [-5, -4, -3, -2, -1]\n",
    "print('You are invited for a party at ' + cities[-2])\n",
    "\n",
    "#So keep in your mind that normal indexing starts from left and reverse indexing starts from right"
   ]
  },
  {
   "cell_type": "markdown",
   "metadata": {},
   "source": [
    "### Modifying(Mutable), Adding, and Removing Elements"
   ]
  },
  {
   "cell_type": "markdown",
   "metadata": {},
   "source": [
    "#### Modifying Elements in a List"
   ]
  },
  {
   "cell_type": "code",
   "execution_count": 8,
   "metadata": {},
   "outputs": [
    {
     "name": "stdout",
     "output_type": "stream",
     "text": [
      "['honda', 'yamaha', 'suzuki']\n",
      "['ducati', 'yamaha', 'suzuki']\n"
     ]
    }
   ],
   "source": [
    "#The syntax for modifying an element of list is somewhat similar to the syntax for accessing an element in a list. \n",
    "#To change an element or item, use the name of the list followed by the index of the element you want to change, and then assign\n",
    "#the new value you want that item to have.\n",
    "\n",
    "#lets consider a list\n",
    "motorcycles = ['honda', 'yamaha', 'suzuki']\n",
    "print(motorcycles)\n",
    "\n",
    "#now lets modify first element or item at index 0, using list name followed by index in [] and assign a new element to it\n",
    "motorcycles[0] = 'ducati'\n",
    "print(motorcycles)\n",
    "#initially it was honda and now it becomes 'ducati'"
   ]
  },
  {
   "cell_type": "markdown",
   "metadata": {},
   "source": [
    "#### Adding Elements to a List"
   ]
  },
  {
   "cell_type": "code",
   "execution_count": 9,
   "metadata": {},
   "outputs": [
    {
     "name": "stdout",
     "output_type": "stream",
     "text": [
      "['ducati', 'yamaha', 'suzuki']\n",
      "['ducati', 'yamaha', 'suzuki', 'honda']\n"
     ]
    }
   ],
   "source": [
    "#We can add element to a list using 4 common methods\n",
    "#1. By using append, append by default add element at the end of the list\n",
    "#2. By using insert, insert takes two argument (position, 'element') or you can remember it like this (where, what)\n",
    "#3. third one is quite simple as we use concatenation technique or in simple words we can say addition operator +\n",
    "#4. By using extend method. It is similar to concatenation method\n",
    "print(motorcycles)\n",
    "#help(motorcycles.append())#by placing cursor in bracket of append and press shift+tab you can check what require for append\n",
    "\n",
    "#1.lets start by using the append function\n",
    "motorcycles.append('honda')#it will place honda at the end of the motorcycles list\n",
    "print(motorcycles)#if you run this cell again and again everytime append method increament honda at the end of the list\n",
    "#so better is run previuos cell before running this cell\n",
    "\n"
   ]
  },
  {
   "cell_type": "code",
   "execution_count": 46,
   "metadata": {},
   "outputs": [
    {
     "name": "stdout",
     "output_type": "stream",
     "text": [
      "['123.5', 'John', 'Chicago', False]\n",
      "['123.5', 'Smith', 'John', 'Chicago', False]\n"
     ]
    }
   ],
   "source": [
    "#2. Now its time for the insert \n",
    "#As I have said earlier that you can add any type of data in list. So lets this out\n",
    "collections = ['123.5', 'John', 'Chicago', False]#now here we use many data types\n",
    "print(collections)\n",
    "\n",
    "#ok so now I am applying the insert method and remember that it takes two parameters , one for position and what you are\n",
    "#inserting\n",
    "collections.insert(1, 'Smith')#I have inserted Smith as postion 1 means John will move to position 2\n",
    "print(collections)#Woo, it works as you guys can see, you can play with positions \n"
   ]
  },
  {
   "cell_type": "code",
   "execution_count": 10,
   "metadata": {},
   "outputs": [],
   "source": [
    "#3. Now lets try the addition method or concatenation method you can call with any name that you like, it is alternative\n",
    "#to extend\n",
    "#lets again consider the example of cities but this time I will show you how to play with empty list. So lets dive in"
   ]
  },
  {
   "cell_type": "code",
   "execution_count": 55,
   "metadata": {},
   "outputs": [
    {
     "name": "stdout",
     "output_type": "stream",
     "text": [
      "[]\n"
     ]
    }
   ],
   "source": [
    "cities = []\n",
    "print(cities)#you can confirm it that its an empty list"
   ]
  },
  {
   "cell_type": "code",
   "execution_count": 56,
   "metadata": {},
   "outputs": [
    {
     "name": "stdout",
     "output_type": "stream",
     "text": [
      "['Chicago', 'Los Angles', 'New York']\n",
      "['Chicago', 'Los Angles', 'New York', 'Seattle', 'Dallar']\n"
     ]
    }
   ],
   "source": [
    "#Now lets fill in elements to list\n",
    "cities.append('Chicago')\n",
    "cities.insert(1, 'Los Angles')\n",
    "cities.append('New York')\n",
    "print(cities)\n",
    "#So now lets try out the third method which uses addition or concatenation\n",
    "cities = cities + ['Seattle', 'Dallar']\n",
    "#what it does is that it adds seattle and dallas in previuosly created cities list and you can also consider it as\n",
    "#assignment with expression which we guys already see with int\n",
    "\n",
    "#haa, You guys might be thinking I am crazy, but thats how it works in coding. I have shown you guys different methods \n",
    "#to fill empty list and the best part is u guys are already familiar with it. So lets print it out\n",
    "print(cities)"
   ]
  },
  {
   "cell_type": "code",
   "execution_count": 11,
   "metadata": {},
   "outputs": [
    {
     "name": "stdout",
     "output_type": "stream",
     "text": [
      "['honda', 'yamaha', 'suzuki', 'Ducati', 'Harley Davidson']\n"
     ]
    }
   ],
   "source": [
    "#4.Now its time for our 4th method which is extend, and again it is also very simple and easy to use like the other methods\n",
    "#Again using our motorcycles example\n",
    "motorcycles = ['honda', 'yamaha', 'suzuki']\n",
    "\n",
    "#Note that dont forget to use square brackets as we our dealing with list\n",
    "motorcycles.extend(['Ducati', 'Harley Davidson'])\n",
    "print(motorcycles)"
   ]
  },
  {
   "cell_type": "markdown",
   "metadata": {},
   "source": [
    " #### Removing Elements from a List"
   ]
  },
  {
   "cell_type": "code",
   "execution_count": 57,
   "metadata": {},
   "outputs": [],
   "source": [
    "#like incase of addition, we can remove any item or element from list in three ways\n",
    "#1. By using remove method. It takes value or item or element as parameter which we want to eradicate from list.\n",
    "#2. By using del statment. If you know the index of the item you want to remove from a list, you can use the del statement.\n",
    "#3. By using pop method. The pop() method by default removes the last item in a list, but it lets you work with that item\n",
    "#   after removing it. Means to say the items will not be permenantly deleted, you can store it in some new variable\n",
    "#   I used the word default with pop means if no index given then will remove the last item and you can store it in some\n",
    "#   different variable and if index given then it will work accordingly."
   ]
  },
  {
   "cell_type": "code",
   "execution_count": 60,
   "metadata": {},
   "outputs": [
    {
     "name": "stdout",
     "output_type": "stream",
     "text": [
      "['honda', 'yamaha', 'suzuki', 'ducati']\n",
      "['honda', 'yamaha', 'suzuki']\n"
     ]
    }
   ],
   "source": [
    "#Now lets dive into the sea of removing list elements.\n",
    "\n",
    "#1. We starts with remove method which works with value\n",
    "#Now again consider our million dollar example. Huh! motorcycles\n",
    "motorcycles = ['honda', 'yamaha', 'suzuki', 'ducati']\n",
    "print(motorcycles)#lets print them out for our assurance\n",
    "\n",
    "motorcycles.remove('ducati')#applying the remove method\n",
    "print(motorcycles)#and magic happens\n"
   ]
  },
  {
   "cell_type": "code",
   "execution_count": 63,
   "metadata": {},
   "outputs": [
    {
     "name": "stdout",
     "output_type": "stream",
     "text": [
      "['honda', 'yamaha', 'suzuki', 'ducati']\n",
      "['yamaha', 'suzuki', 'ducati']\n",
      "['yamaha', 'suzuki']\n"
     ]
    }
   ],
   "source": [
    "#2. Now its time to use the del statement\n",
    "#As I mentioned earlier del statement works on indexing\n",
    "#So again considering our motorcycles examples\n",
    "\n",
    "motorcycles = ['honda', 'yamaha', 'suzuki', 'ducati']\n",
    "print(motorcycles)#lets print them out for our assurance\n",
    "\n",
    "#use del statement then space then name of list and index of the element that you want to remove\n",
    "del motorcycles[0]#it will remove the honda from the motorcycles list\n",
    "#lets check it out\n",
    "print(motorcycles)\n",
    "\n",
    "#now let say you want to remove ducati, then you can either use 2 if starting from l.H.S or -1 if starting from R.H.S\n",
    "del motorcycles[-1]\n",
    "print(motorcycles)\n",
    "\n",
    "#So I hope you guys understand both the del and remove methods."
   ]
  },
  {
   "cell_type": "code",
   "execution_count": 67,
   "metadata": {},
   "outputs": [
    {
     "name": "stdout",
     "output_type": "stream",
     "text": [
      "['honda', 'yamaha', 'suzuki']\n",
      "['honda', 'yamaha']\n",
      "suzuki\n",
      "['honda', 'suzuki']\n",
      "yamaha\n",
      "The first motorcycle I owned was a Yamaha.\n"
     ]
    }
   ],
   "source": [
    "#Now third and the last method which is used for removing list element is pop. By default pop method will remove last\n",
    "#element of list if no index is given to it and can store the removing element into new variable. If you want to remove\n",
    "#element from certain position, then you can pass index to pop\n",
    "#so now lets begin with it\n",
    "\n",
    "motorcycles = ['honda', 'yamaha', 'suzuki']\n",
    "print(motorcycles)\n",
    "\n",
    "#here as you can see I haven't pass any index to pop which means it will automatically remove last element of motorcycle\n",
    "#list and store that in popped_motorcycle which we can use anytime we want\n",
    "popped_motorcycle = motorcycles.pop()\n",
    "print(motorcycles)#now lets print our motorcycle list after removing the last element\n",
    "print(popped_motorcycle)#and here is our last element\n",
    "\n",
    "#Now passing index to pop method\n",
    "motorcycles = ['honda', 'yamaha', 'suzuki']\n",
    "first_owned = motorcycles.pop(1)#removing honda and storing it in first_owned variable for further use\n",
    "print(motorcycles)\n",
    "print(first_owned)\n",
    "print('The first motorcycle I owned was a ' + first_owned.title() + '.')\n"
   ]
  },
  {
   "cell_type": "markdown",
   "metadata": {},
   "source": [
    "### LIST SLICING"
   ]
  },
  {
   "cell_type": "code",
   "execution_count": 18,
   "metadata": {},
   "outputs": [
    {
     "name": "stdout",
     "output_type": "stream",
     "text": [
      "['Atlanta', 'Baltimore', 'Chicago', 'Denver', 'Los Angeles', 'Seattle']\n",
      "['Atlanta', 'Baltimore', 'Chicago']\n",
      "['Atlanta', 'Baltimore', 'Chicago']\n",
      "['Atlanta', 'Baltimore', 'Chicago', 'Denver', 'Los Angeles', 'Seattle']\n",
      "['Baltimore', 'Chicago', 'Denver']\n"
     ]
    }
   ],
   "source": [
    "#1\n",
    "#The slice operator [n:m] returns the part of the string starting with the character at index n and go up to \n",
    "#but not including the character at index m\n",
    "\n",
    "#Again for new bees, keep in mind that the index followed by colon or you can say m will not included its like starting\n",
    "#from n till m-1, or till before m. You will get clear understanding of this in just a minutes.\n",
    "\n",
    "#let say we want the first three elements of a list which are at indexes 0, 1 and 2, you would request indices 0 through 3,\n",
    "#means from index 0 to 3 but excluding item at index 3, so it would return elements of indexes 0, 1, and 2.\n",
    "\n",
    "#I am demonstrating it using our cities example\n",
    "cities = [\"Atlanta\", \"Baltimore\", \"Chicago\", \"Denver\", \"Los Angeles\", \"Seattle\"]\n",
    "print(cities)\n",
    "\n",
    "#for first elements \n",
    "print(cities[0:3])#not index 3 is not included\n",
    "#see you get first 3 elements, and you can also store it in a new variable\n",
    "\n",
    "new_cities = cities[0:3]\n",
    "print(new_cities)\n",
    "\n",
    "#Note that When you slice from an original list, the original list is unchanged. Think \"copy,\" not \"cut.\"\n",
    "#lets confirm it by printing our original list\n",
    "print(cities)#You can see it\n",
    "\n",
    "#You can generate any subset of a list. For example, if you want the second, third, and fourth items in a list, \n",
    "#you would start the slice at index 1 which is for the second element till index 4 but again remember that the index 4 is \n",
    "#not included\n",
    "\n",
    "new_cities_1 = cities[1:4]\n",
    "print(new_cities_1)#see it works"
   ]
  },
  {
   "cell_type": "code",
   "execution_count": 21,
   "metadata": {},
   "outputs": [
    {
     "name": "stdout",
     "output_type": "stream",
     "text": [
      "['Atlanta', 'Baltimore', 'Chicago', 'Denver']\n",
      "['Denver', 'Los Angeles', 'Seattle']\n",
      "['Los Angeles', 'Seattle']\n"
     ]
    }
   ],
   "source": [
    "#2\n",
    "#If you omit the first index, or omit n (before the colon), the slice starts at the beginning of the list or starts at \n",
    "#index 0. Similarly if you omit the second index or m, the slice goes to the end of the list.\n",
    "\n",
    "#lets discuss it too, here is our cities example\n",
    "\n",
    "cities = [\"Atlanta\", \"Baltimore\", \"Chicago\", \"Denver\", \"Los Angeles\", \"Seattle\"]\n",
    "\n",
    "#lets say we want first 4 elements, so we can code it as\n",
    "print(cities[:4])#Note that we omit first index which means our slice starts from the begining of the list, \n",
    "#it is equivalent to cities[0:4], see you get first 4 elements\n",
    "\n",
    "#Now lets try one example by omiting the second index or index followed by the colon\n",
    "#Here we print last three elements means starting from index 3 till end\n",
    "print(cities[3:])\n",
    "#last two elements\n",
    "print(cities[4:])"
   ]
  },
  {
   "cell_type": "code",
   "execution_count": 29,
   "metadata": {},
   "outputs": [
    {
     "name": "stdout",
     "output_type": "stream",
     "text": [
      "['Baltimore', 'Chicago', 'Denver']\n",
      "['Chicago', 'Denver', 'Los Angeles', 'Seattle']\n"
     ]
    }
   ],
   "source": [
    "#Now its time for list slicing by using negative indexing. I will not leave you guys before giving the complete useful\n",
    "#knowledge. You have to bear me\n",
    "\n",
    "#lets copy our cities example\n",
    "cities = [\"Atlanta\", \"Baltimore\", \"Chicago\", \"Denver\", \"Los Angeles\", \"Seattle\"]\n",
    "\n",
    "#note that direction for slicing in both normal and reverse index case is always from left to right\n",
    "#lets slice second third and fourth element, in negative indexing we use -5 for second element and -3 for denver but we no\n",
    "#that index followed by colon is not included so we have to add + 1 means till -2. So inshort we slice from -5 till -2\n",
    "#which is excluded\n",
    "print(cities[-5:-2])#Yes its work for us\n",
    "\n",
    "#for last 4 element we can simply do like this\n",
    "print(cities[-4:])#omiting the final index assures that list slice tillll end of the list.\n",
    "\n",
    "#I hope you guys are getting my lectures. If you face difficulty in any of the section you guys can tell me in comment \n",
    "#section or by sending email"
   ]
  },
  {
   "cell_type": "markdown",
   "metadata": {},
   "source": [
    "### Copying a List"
   ]
  },
  {
   "cell_type": "code",
   "execution_count": 34,
   "metadata": {},
   "outputs": [
    {
     "name": "stdout",
     "output_type": "stream",
     "text": [
      "['pizza', 'falafel', 'carrot cake']\n",
      "['pizza', 'falafel', 'carrot cake']\n"
     ]
    }
   ],
   "source": [
    "#Many times, you’ll want to make an entirely a new list based on the first one.\n",
    "\n",
    "#For example, imagine we have a list of our favorite foods and want to make a separate list of foods that a friend likes. \n",
    "#This friend likes everything in our list so far, so we can create their list by copying ours:\n",
    "#We can copy a list completely without specifiying any indices\n",
    "my_foods = ['pizza', 'falafel', 'carrot cake']\n",
    "friend_foods = my_foods[:]\n",
    "\n",
    "print(my_foods)\n",
    "print(friend_foods)#as we make copy, so now both list are same\n",
    "#We can also copy a list using copy method\n",
    "friend_foods = my_foods.copy"
   ]
  },
  {
   "cell_type": "code",
   "execution_count": 40,
   "metadata": {},
   "outputs": [
    {
     "name": "stdout",
     "output_type": "stream",
     "text": [
      "['pizza', 'falafel', 'carrot cake', 'chines', 'chinese', 'chinese']\n",
      "['pizza', 'falafel', 'carrot cake', 'chines', 'chinese', 'ice cream']\n"
     ]
    }
   ],
   "source": [
    "#As you can see we have two separate lists and to prove that, we’ll add a new food\n",
    "#to each list and show that each list keeps track of the appropriate person’s\n",
    "friend_foods = my_foods[:]\n",
    "\n",
    "my_foods.append('chinese')#adding chinese to my food\n",
    "friend_foods.append('ice cream')#adding ice cream to friend's food\n",
    "#As I had copy original my_foods list to friends_food and perform changes after copying. So changes should have to \n",
    "#different for each corresponding list. lets print both the lists\n",
    "\n",
    "print(my_foods)\n",
    "print(friend_foods)\n",
    "#So yeah! it works fine"
   ]
  },
  {
   "cell_type": "code",
   "execution_count": 41,
   "metadata": {},
   "outputs": [
    {
     "name": "stdout",
     "output_type": "stream",
     "text": [
      "['pizza', 'falafel', 'carrot cake']\n",
      "['pizza', 'falafel', 'carrot cake']\n",
      "['pizza', 'falafel', 'carrot cake', 'chinese']\n",
      "['pizza', 'falafel', 'carrot cake', 'chinese']\n"
     ]
    }
   ],
   "source": [
    "#So we are done with copying. Note that beginners often do mistake assign new list to the list they want to copy and does \n",
    "#not either use slicing or copy method. What problem with that is when you change in original list, the new list also gets\n",
    "#change. Lets check it out\n",
    "my_foods = ['pizza', 'falafel', 'carrot cake']\n",
    "friend_foods = my_foods\n",
    "#see I have assign my_foods to friend_foods. When I do any changing in my_foods, friend_foods will also by change which\n",
    "#does not belongs to copy method any more\n",
    "print(my_foods)\n",
    "print(friend_foods)\n",
    "#now lets add some foods to my_foods and it will also comes under friend_foods\n",
    "my_foods.append('chinese')\n",
    "print(my_foods)\n",
    "print(friend_foods)\n",
    "#You guys see that changing the thing in my_foods also effect the friend_foods. So beware and understand the diff b/w\n",
    "#assigning and copying"
   ]
  },
  {
   "cell_type": "markdown",
   "metadata": {},
   "source": [
    "### COUNT"
   ]
  },
  {
   "cell_type": "code",
   "execution_count": 43,
   "metadata": {},
   "outputs": [
    {
     "data": {
      "text/plain": [
       "3"
      ]
     },
     "execution_count": 43,
     "metadata": {},
     "output_type": "execute_result"
    }
   ],
   "source": [
    "#count tells how many times particular value is present in a list\n",
    "#lets consider something like\n",
    "collections = [11,22,\"hello\",33,33,33]\n",
    "#here three 33 are present in a list so count method will return 3\n",
    "collections.count(33)\n",
    "#now lets try one of the python built in function which is len() function "
   ]
  },
  {
   "cell_type": "markdown",
   "metadata": {},
   "source": [
    "### len()"
   ]
  },
  {
   "cell_type": "code",
   "execution_count": 45,
   "metadata": {},
   "outputs": [
    {
     "name": "stdout",
     "output_type": "stream",
     "text": [
      "6\n"
     ]
    }
   ],
   "source": [
    "#its tells the length of particular item\n",
    "#lets apply len to our collections list\n",
    "collections = [11,22,\"hello\",33,33,33]\n",
    "print(len(collections))#since their are 6 elements or items in a list so len function should have to return 6. lets see\n",
    "\n",
    "#so it give us the correct answer"
   ]
  },
  {
   "cell_type": "markdown",
   "metadata": {},
   "source": [
    "### Index"
   ]
  },
  {
   "cell_type": "code",
   "execution_count": 49,
   "metadata": {},
   "outputs": [
    {
     "name": "stdout",
     "output_type": "stream",
     "text": [
      "2\n",
      "0\n"
     ]
    }
   ],
   "source": [
    "#It give the index of a particular list element\n",
    "#lets understand it by using one of our example\n",
    "motorcycle = ['honda', 'yamaha', 'Ducati']\n",
    "\n",
    "#lets find the index of Ducati, index method should have to return 2\n",
    "print(motorcycle.index('Ducati'))\n",
    "\n",
    "#What happens if we have repeated elemeents in a list. lets chek it out\n",
    "collections = ['honda', 'yamaha', 'Ducati', 'suzuki', 'honda']\n",
    "#As you guys can se honda repeated two times in a list, let see whether it give us the index of \n",
    "#first honda or the second honda or both\n",
    "\n",
    "print(collections.index('honda'))\n",
    "#So we got confirmation that index method return that index of value which appears first in a list"
   ]
  },
  {
   "cell_type": "markdown",
   "metadata": {},
   "source": [
    "### Sorting a List Permanently with the sort() Method"
   ]
  },
  {
   "cell_type": "code",
   "execution_count": 51,
   "metadata": {},
   "outputs": [
    {
     "data": {
      "text/plain": [
       "[2, 3, 5, 11, 44, 66, 77]"
      ]
     },
     "execution_count": 51,
     "metadata": {},
     "output_type": "execute_result"
    }
   ],
   "source": [
    "#Python's sort() method is used to sort a list. It sorts a list in ascending or alphabetical order \n",
    "#sort() method consist of reverse parameter which by default sets to False which means we dont want our list in reverse or\n",
    "#or descending order. However if you want list in descending or reverse order then we have to change reverse parameter \n",
    "#value to True. Lets understand this together.\n",
    "\n",
    "#lets create a numbers list\n",
    "nums = [11,2,3,44,5,66,77]\n",
    "nums.sort()#it will sort nums in ascending order\n",
    "nums"
   ]
  },
  {
   "cell_type": "code",
   "execution_count": 52,
   "metadata": {},
   "outputs": [
    {
     "name": "stdout",
     "output_type": "stream",
     "text": [
      "[2, 3, 5, 11, 44, 66, 77]\n"
     ]
    }
   ],
   "source": [
    "#As I have told you by default, reverse parameter sets to False thats numbers sorted in ascending order. Lets confirm this\n",
    "#as we dont believe anythig without seeing by our eyes except in god\n",
    "\n",
    "#I am again calling numbers list\n",
    "nums = [11,2,3,44,5,66,77]\n",
    "\n",
    "#lets try sort by setting reverse=False\n",
    "nums.sort(reverse=False)\n",
    "print(nums)"
   ]
  },
  {
   "cell_type": "code",
   "execution_count": 58,
   "metadata": {},
   "outputs": [
    {
     "name": "stdout",
     "output_type": "stream",
     "text": [
      "[2, 3, 5, 11, 44, 66, 77]\n",
      "['audi', 'bmw', 'subaru', 'toyota']\n",
      "['toyota', 'subaru', 'bmw', 'audi']\n"
     ]
    },
    {
     "data": {
      "text/plain": [
       "[77, 66, 44, 11, 5, 3, 2]"
      ]
     },
     "execution_count": 58,
     "metadata": {},
     "output_type": "execute_result"
    }
   ],
   "source": [
    "#As you guys hopefully got this by seeing the heading of sort, that it permenantly sort list. Means after sorting when we\n",
    "#call it, it will always appear in sorted order\n",
    "print(nums)#see we got assurance of this\n",
    "\n",
    "#Similarly, lets try some new example\n",
    "cars = ['bmw', 'audi', 'toyota', 'subaru']\n",
    "cars.sort()#again it will sort this in ascending or alphabetical order\n",
    "print(cars)\n",
    "\n",
    "#for reverse alphabetical or descending order, you can try it by setting reverse=True\n",
    "\n",
    "cars = ['bmw', 'audi', 'toyota', 'subaru']\n",
    "cars.sort(reverse=True)#let see what we get from this\n",
    "print(cars)#yeah it works\n",
    "\n",
    "#Similarly we can also make numbers in a list in descending order\n",
    "nums = [11,2,3,44,5,66,77]\n",
    "nums.sort(reverse=True)\n",
    "nums#see we get numbers in reverse or descending order\n",
    "\n",
    "#As I have already mentioned and prove that .sort() method sort list permanently. What if we need original list and its \n",
    "#sorted version?? Try to ask such questions from yourself before some one ask from you as it will increase your mental\n",
    "#strength. But you together we will definitely find something for it. lets think together."
   ]
  },
  {
   "cell_type": "markdown",
   "metadata": {},
   "source": [
    "### Sorting a List Temporarily with the sorted() Function"
   ]
  },
  {
   "cell_type": "code",
   "execution_count": 67,
   "metadata": {},
   "outputs": [
    {
     "name": "stdout",
     "output_type": "stream",
     "text": [
      "This is your original list: ['bmw', 'audi', 'toyota', 'subaru']\n",
      "\n",
      "Now here is the sorted version of the list: ['audi', 'bmw', 'subaru', 'toyota']\n",
      "\n",
      "Storing in a varible ['audi', 'bmw', 'subaru', 'toyota']\n",
      "\n",
      "Checking version of original list ['bmw', 'audi', 'toyota', 'subaru']\n",
      "\n",
      "Sorting numbers in a descending order [77, 66, 44, 11, 5, 3, 2]\n"
     ]
    }
   ],
   "source": [
    "#Here is your answer. To maintain the original order of a list but represent it in a sorted order, you can use the \n",
    "#sorted() function.Let’s try this function on the list of cars.\n",
    "\n",
    "cars = ['bmw', 'audi', 'toyota', 'subaru']\n",
    "print(\"This is your original list:\", cars)\n",
    "\n",
    "#Now we use sorted fucntion to get its sorted version\n",
    "print(\"\\nNow here is the sorted version of the list:\", sorted(cars))\n",
    "\n",
    "#You can also save sorted version in some new varible\n",
    "sorted_version = sorted(cars)\n",
    "print('\\nStoring in a varible', sorted_version)\n",
    "\n",
    "#Now lets check whether our original list remains in a original form or it is also get sorted\n",
    "print('\\nChecking version of original list', cars)#Well it maintains its integrity\n",
    "\n",
    "#you can also use sorted function to sort in a reverse or descending order\n",
    "#lets try this to numbers list\n",
    "nums = [11,2,3,44,5,66,77]\n",
    "print('\\nSorting numbers in a descending order', sorted(nums, reverse=True))\n",
    "#So hope you guys now understand how we can sort list in python either temporarily or permenantly"
   ]
  },
  {
   "cell_type": "markdown",
   "metadata": {},
   "source": [
    "### List in Reverse Order"
   ]
  },
  {
   "cell_type": "code",
   "execution_count": 96,
   "metadata": {},
   "outputs": [
    {
     "name": "stdout",
     "output_type": "stream",
     "text": [
      "['bmw', 'audi', 'toyota', 'subaru']\n",
      "\n",
      "Reverse version of car list ['subaru', 'toyota', 'audi', 'bmw']\n",
      "\n",
      "Every 2nd element [11, 4, 78, 100]\n",
      "\n",
      "reversing using slicing and -1 as step size [110, 101, 100, 63, 78, 44, 4, 2, 11]\n"
     ]
    }
   ],
   "source": [
    "#Now this is one more main function left, which is called reverse function\n",
    "#Note that reverse() funtion doesn’t sort the list backward alphabetically or in descending order ;\n",
    "#it simply reverses the order of the list:\n",
    "\n",
    "#lets play with it\n",
    "cars = ['bmw', 'audi', 'toyota', 'subaru']\n",
    "print(cars)\n",
    "\n",
    "cars.reverse()\n",
    "print('\\nReverse version of car list', cars)\n",
    "\n",
    "#As we know when doing slicing in python, it requires two indices, one for start one for end which is excluded.\n",
    "#Now add index by following another colon which will work as step size\n",
    "#for example when performing slicing, we start from nth or first index and move one step towards the mth or ending index.\n",
    "#What if we want to move faster?? maybe we want to take two steps, 3 steps. So here step size come into play\n",
    "\n",
    "numbers = [11, 2, 4, 44, 78, 63, 100, 101, 110]\n",
    "#let say we want to slice our list till 7 elements but we want to skip every next element, means we have to take 2 steps\n",
    "#every time\n",
    "#so try this out together\n",
    "\n",
    "print('\\nEvery 2nd element', numbers[0:7:2])\n",
    "#so final syntax of list would be list_name[start:stop:step_size]\n",
    "\n",
    "#We can also reverse our list by using slicing\n",
    "#you know that square brackets with : without index is used to get full list. What if we add -1 as step size. let se\n",
    "print('\\nreversing using slicing and -1 as step size', numbers[::-1])#Boom! magic happens"
   ]
  },
  {
   "cell_type": "markdown",
   "metadata": {},
   "source": [
    "### List in List"
   ]
  },
  {
   "cell_type": "code",
   "execution_count": 97,
   "metadata": {},
   "outputs": [
    {
     "name": "stdout",
     "output_type": "stream",
     "text": [
      "[111, 222, 333, [0, 1, 2, 3, 4, 5]]\n",
      "\n",
      "Accessing second list [0, 1, 2, 3, 4, 5]\n",
      "\n",
      "Accessing elements of second list 4\n",
      "Appending in second lists [111, 222, 333, [0, 1, 2, 3, 4, 5, 'hello']]\n",
      "removing hello from second lists [111, 222, 333, [0, 1, 2, 3, 4, 5]]\n"
     ]
    }
   ],
   "source": [
    "#We are fully aware that list can store any kind of data type in it, Can you imagine list as a data in another list??\n",
    "#Now we are in a position to try this a I swear you guys hardly need some seconds to understand it\n",
    "\n",
    "lists = [111,222,333,[0,1,2,3,4,5]]#this is our list and at index 3 their is another list.\n",
    "#first of all print it\n",
    "print(lists)\n",
    "\n",
    "#Consider second list as any other data type like string or int because you can apply all those methods and functions\n",
    "#which we already learned before\n",
    "#you can access its second list as\n",
    "print('\\nAccessing second list', lists[3])\n",
    "\n",
    "#you can access second list elements by using another square bracket\n",
    "#for example you want to access 5th element in second list\n",
    "print('\\nAccessing elements of second list', lists[3][4])\n",
    "\n",
    "#you can append in second list like\n",
    "lists[3].append('hello')\n",
    "print('Appending in second lists', lists)\n",
    "\n",
    "#you can remove anything from second list\n",
    "lists[3].remove('hello')\n",
    "print('removing hello from second lists' ,lists)"
   ]
  },
  {
   "cell_type": "markdown",
   "metadata": {},
   "source": [
    "### Range with List"
   ]
  },
  {
   "cell_type": "code",
   "execution_count": 130,
   "metadata": {},
   "outputs": [
    {
     "name": "stdout",
     "output_type": "stream",
     "text": [
      "[0, 1, 2, 3, 4, 5, 6, 7, 8, 9]\n",
      "[0, 1, 2, 3, 4, 5, 6, 7, 8, 9]\n",
      "[0, 2, 4, 6, 8, 10]\n",
      "[-11, -10, -9, -8, -7, -6, -5, -4, -3, -2, -1]\n"
     ]
    }
   ],
   "source": [
    "#range function take three arguments. One for start, one for stop which again upto but not included and step size\n",
    "#start and step size are optional but end or stop one is compulsory\n",
    "#range(start, stop, step_size)\n",
    "\n",
    "#lets get list of first 10 numbers\n",
    "#their are two ways to get it\n",
    "print(list(range(0, 10)))#note that by default step size is one\n",
    "\n",
    "#another method is just given one argument in range which is for end\n",
    "print(list(range(10)))\n",
    "\n",
    "#lets print every 2nd number from 0 to 10 and this time we have to include 10 \n",
    "print(list(range(0, 11, 2)))\n",
    "\n",
    "#lets print negative numbers \n",
    "print(list(range(-11, 0)))"
   ]
  },
  {
   "cell_type": "code",
   "execution_count": 131,
   "metadata": {},
   "outputs": [],
   "source": [
    "#I thinks I have discuss list in quiet detail and covers almost all necessary operations, methods and functions of it\n",
    "#Lets rolls with its examples"
   ]
  },
  {
   "cell_type": "markdown",
   "metadata": {},
   "source": [
    "## EXERCISE"
   ]
  },
  {
   "cell_type": "markdown",
   "metadata": {},
   "source": [
    "Q1: Write a Python program to find the index of an item in a specified list. find index of 10 in a given list: \n",
    "\n",
    "nums =[20, 30, 4, -6, 10, -9] "
   ]
  },
  {
   "cell_type": "code",
   "execution_count": 133,
   "metadata": {},
   "outputs": [
    {
     "name": "stdout",
     "output_type": "stream",
     "text": [
      "4\n"
     ]
    }
   ],
   "source": [
    "nums =[20, 30, 4, -6, 10, -9]\n",
    "print(nums.index(10))"
   ]
  },
  {
   "cell_type": "markdown",
   "metadata": {},
   "source": [
    "Q2: Write a Python program to append a list to the second list."
   ]
  },
  {
   "cell_type": "code",
   "execution_count": 135,
   "metadata": {},
   "outputs": [
    {
     "name": "stdout",
     "output_type": "stream",
     "text": [
      "[1, 2, 3, 0, 'Red', 'Green', 'Black']\n"
     ]
    }
   ],
   "source": [
    "list1 = [1, 2, 3, 0]\n",
    "list2 = ['Red', 'Green', 'Black']\n",
    "combine_list= list1 + list2\n",
    "print(combine_list)"
   ]
  },
  {
   "cell_type": "markdown",
   "metadata": {},
   "source": [
    "Q3: Write a Python program to split a list into different variables."
   ]
  },
  {
   "cell_type": "code",
   "execution_count": 136,
   "metadata": {},
   "outputs": [
    {
     "name": "stdout",
     "output_type": "stream",
     "text": [
      "Using First Method:\n",
      "('Black', '#000000', 'rgb(0, 0, 0)')\n",
      "('Red', '#FF0000', 'rgb(255, 0, 0)')\n",
      "('Yellow', '#FFFF00', 'rgb(255, 255, 0)')\n",
      "Using Second Method\n",
      "('Black', '#000000', 'rgb(0, 0, 0)')\n",
      "('Red', '#FF0000', 'rgb(255, 0, 0)')\n",
      "('Yellow', '#FFFF00', 'rgb(255, 255, 0)')\n"
     ]
    }
   ],
   "source": [
    "color = [(\"Black\", \"#000000\", \"rgb(0, 0, 0)\"), (\"Red\", \"#FF0000\", \"rgb(255, 0, 0)\"),\n",
    "         (\"Yellow\", \"#FFFF00\", \"rgb(255, 255, 0)\")]\n",
    "#Their is a color list with 3 items or elements separated by comma\n",
    "#First method:\n",
    "print('Using First Method:')\n",
    "print(color[0])\n",
    "print(color[1])\n",
    "print(color[2])\n",
    "\n",
    "#Second Method: \n",
    "print('Using Second Method')\n",
    "var1, var2, var3 = color\n",
    "print(var1)\n",
    "print(var2)\n",
    "print(var3)"
   ]
  },
  {
   "cell_type": "markdown",
   "metadata": {},
   "source": [
    "Q4: Write a python program to print list of first 20 even numbers included 20"
   ]
  },
  {
   "cell_type": "code",
   "execution_count": 138,
   "metadata": {},
   "outputs": [
    {
     "name": "stdout",
     "output_type": "stream",
     "text": [
      "[0, 2, 4, 6, 8, 10, 12, 14, 16, 18, 20]\n"
     ]
    }
   ],
   "source": [
    "print(list(range(0, 22, 2)))"
   ]
  },
  {
   "cell_type": "markdown",
   "metadata": {},
   "source": [
    "Q5: Write a python program to print list of first 20 odd numbers"
   ]
  },
  {
   "cell_type": "code",
   "execution_count": 141,
   "metadata": {},
   "outputs": [
    {
     "name": "stdout",
     "output_type": "stream",
     "text": [
      "[1, 3, 5, 7, 9, 11, 13, 15, 17, 19]\n"
     ]
    }
   ],
   "source": [
    "print(list(range(1, 20, 2)))"
   ]
  },
  {
   "cell_type": "markdown",
   "metadata": {},
   "source": [
    "Q6: Write a python program to find sum of list elements"
   ]
  },
  {
   "cell_type": "code",
   "execution_count": 145,
   "metadata": {},
   "outputs": [
    {
     "name": "stdout",
     "output_type": "stream",
     "text": [
      "110\n"
     ]
    }
   ],
   "source": [
    "nums = [0, 2, 4, 6, 8, 10, 12, 14, 16, 18, 20]\n",
    "print(sum(nums))"
   ]
  },
  {
   "cell_type": "markdown",
   "metadata": {},
   "source": [
    "Q7: Write a python program to find max of list elements"
   ]
  },
  {
   "cell_type": "code",
   "execution_count": 147,
   "metadata": {},
   "outputs": [
    {
     "name": "stdout",
     "output_type": "stream",
     "text": [
      "101\n"
     ]
    }
   ],
   "source": [
    "nums = [1, 7, 0, -4, 100, 78, 9, 101]\n",
    "print(max(nums))"
   ]
  },
  {
   "cell_type": "markdown",
   "metadata": {},
   "source": [
    "Q8: Write a program that extracts the last three items in the list sports and assigns it to the variable last_3. Make sure to write your code so that it works no matter how many items are in the list."
   ]
  },
  {
   "cell_type": "code",
   "execution_count": 148,
   "metadata": {},
   "outputs": [
    {
     "name": "stdout",
     "output_type": "stream",
     "text": [
      "['curling', 'ping pong', 'hockey']\n"
     ]
    }
   ],
   "source": [
    "sports = ['cricket', 'football', 'volleyball', 'baseball', 'softball', 'track and field', 'curling', 'ping pong', 'hockey']\n",
    "last_3 = sports[-3:]\n",
    "print(last_3)"
   ]
  },
  {
   "cell_type": "markdown",
   "metadata": {},
   "source": [
    "Q9: Write code to determine how many 4’s are in the list nums and assign that value to the variable four. "
   ]
  },
  {
   "cell_type": "code",
   "execution_count": 150,
   "metadata": {},
   "outputs": [
    {
     "name": "stdout",
     "output_type": "stream",
     "text": [
      "3\n"
     ]
    }
   ],
   "source": [
    "nums = [4, 2, 23.4, 4, 545, 9, 1, 234.001, 5, 49, 8, 9 , 34, 52, 1, -2, 9.1, 4]\n",
    "fours = nums.count(4)\n",
    "print(fours)"
   ]
  },
  {
   "cell_type": "markdown",
   "metadata": {},
   "source": [
    "Q10: Assign the last element of lst to the variable last. Do this so that it works no matter how long lst is.\n",
    "\n"
   ]
  },
  {
   "cell_type": "code",
   "execution_count": 151,
   "metadata": {},
   "outputs": [
    {
     "name": "stdout",
     "output_type": "stream",
     "text": [
      "26trombones\n"
     ]
    }
   ],
   "source": [
    "lists = [\"hi\", \"goodbye\", \"python\", \"106\", \"506\", 91, ['all', 'Paul', 'Jackie', \"UMSI\", 1, \"Stephen\", 4.5], 109, \"chair\", \"pizza\", \"wolverine\", 2017, 3.92, 1817, \"account\", \"readings\", \"papers\", 12, \"facebook\", \"twitter\", 193.2, \"snapchat\", \"leaders and the best\", \"social\", \"1986\", 9, 29, \"holiday\", [\"women\", \"olympics\", \"gold\", \"rio\", 21, \"2016\", \"men\"], \"26trombones\"]\n",
    "last = lists[-1]\n",
    "print(last)"
   ]
  },
  {
   "cell_type": "markdown",
   "metadata": {},
   "source": [
    "Q11: Write a python program to check whether apple is their in list fruits or not"
   ]
  },
  {
   "cell_type": "code",
   "execution_count": 153,
   "metadata": {},
   "outputs": [
    {
     "name": "stdout",
     "output_type": "stream",
     "text": [
      "True\n"
     ]
    }
   ],
   "source": [
    "fruits = ['Banana', 'Mango', 'Orange','Apple', 'Pomegranate']\n",
    "#here we take help of the in and not in operator\n",
    "print('Apple' in fruits)"
   ]
  },
  {
   "cell_type": "markdown",
   "metadata": {},
   "source": [
    "## TUPPLES"
   ]
  },
  {
   "cell_type": "code",
   "execution_count": 157,
   "metadata": {},
   "outputs": [
    {
     "data": {
      "text/plain": [
       "['__add__',\n",
       " '__class__',\n",
       " '__contains__',\n",
       " '__delattr__',\n",
       " '__dir__',\n",
       " '__doc__',\n",
       " '__eq__',\n",
       " '__format__',\n",
       " '__ge__',\n",
       " '__getattribute__',\n",
       " '__getitem__',\n",
       " '__getnewargs__',\n",
       " '__gt__',\n",
       " '__hash__',\n",
       " '__init__',\n",
       " '__init_subclass__',\n",
       " '__iter__',\n",
       " '__le__',\n",
       " '__len__',\n",
       " '__lt__',\n",
       " '__mul__',\n",
       " '__ne__',\n",
       " '__new__',\n",
       " '__reduce__',\n",
       " '__reduce_ex__',\n",
       " '__repr__',\n",
       " '__rmul__',\n",
       " '__setattr__',\n",
       " '__sizeof__',\n",
       " '__str__',\n",
       " '__subclasshook__',\n",
       " 'count',\n",
       " 'index']"
      ]
     },
     "execution_count": 157,
     "metadata": {},
     "output_type": "execute_result"
    }
   ],
   "source": [
    "#Now lets switch to another data structure type which is Tupple.\n",
    "#A tuple—pronounced \"toople\" by some people and \"tupple\" by others—is like alist, but the elements are fixed. \n",
    "#An immutable list is called a tuple.A tuple looks just like a list except you use parentheses instead of square brackets.\n",
    "#Tupple can also be define without using brackets which we will check it out in a minute\n",
    "#Once you define a tuple, you can access individual elements by using each item’s index, just as you would for a list.\n",
    "\n",
    "#lets create a tupple comprises of different data types\n",
    "details = ('Smith', 100, 'Nick', 'Harry', False, 100.4)\n",
    "\n",
    "#Lets see what methods tupple consists of\n",
    "dir(details)\n",
    "#so only count and index as you can see on bottom"
   ]
  },
  {
   "cell_type": "markdown",
   "metadata": {},
   "source": [
    "### Creating a Tupple and Accessing its elements"
   ]
  },
  {
   "cell_type": "code",
   "execution_count": 160,
   "metadata": {},
   "outputs": [
    {
     "name": "stdout",
     "output_type": "stream",
     "text": [
      "lets check the type of tupple with brackets <class 'tuple'>\n",
      "\n",
      "lets check the type of tupple without brackets <class 'tuple'>\n",
      "\n",
      " ('Smith', 100, 'Nick', 'Harry', False, 100.4)\n",
      "\n",
      "Accessing fourth element->  Harry\n",
      "\n",
      "Accessing last element-> 100.4\n"
     ]
    }
   ],
   "source": [
    "#lets create a tupple comprises of different data types\n",
    "#tupple with brackets\n",
    "details = ('Smith', 100, 'Nick', 'Harry', False, 100.4)\n",
    "print('lets check the type of tupple with brackets', type(details))\n",
    "\n",
    "#lets make tupples without brackets\n",
    "informations = 'Charles', 'Martin', 1000, True, 99.99\n",
    "print('\\nlets check the type of tupple without brackets', type(informations))\n",
    "#and you can see we can define tupple with or without paranthesis, but the good practice is to define by using \n",
    "#round paranthesis. I have mentioned so you guys must aware of it\n",
    "\n",
    "#and lets print it out\n",
    "print('\\n', details)\n",
    "\n",
    "#we can access its elements in a same manner as we do in list\n",
    "print('\\nAccessing fourth element-> ', details[3])\n",
    "print('\\nAccessing last element->', details[-1])"
   ]
  },
  {
   "cell_type": "markdown",
   "metadata": {},
   "source": [
    "### Slicing in Tupple"
   ]
  },
  {
   "cell_type": "code",
   "execution_count": 121,
   "metadata": {},
   "outputs": [
    {
     "name": "stdout",
     "output_type": "stream",
     "text": [
      "('Smith', 100, 'Nick')\n",
      "\n",
      "(False, 100.4)\n"
     ]
    }
   ],
   "source": [
    "#you can do slicing in a similar manner as in list\n",
    "#lets gets first 3 elements\n",
    "print(details[0:3])\n",
    "print()\n",
    "#lets gets last two elements\n",
    "print(details[-2:])"
   ]
  },
  {
   "cell_type": "markdown",
   "metadata": {},
   "source": [
    "### Modification"
   ]
  },
  {
   "cell_type": "code",
   "execution_count": null,
   "metadata": {},
   "outputs": [],
   "source": [
    "#As mentioned earlier, tupples are immutable, means you cannot modify them, if you need then you have to define tupple \n",
    "#again\n",
    "\n",
    "#lets try modification: It should have to raise an error, lets ready for error\n",
    "details[0] = 'Johnson'\n",
    "#see it raise an error"
   ]
  },
  {
   "cell_type": "code",
   "execution_count": 123,
   "metadata": {},
   "outputs": [
    {
     "name": "stdout",
     "output_type": "stream",
     "text": [
      "('Johnson', 100, 'Nick', 'Harry', False, 100.4)\n"
     ]
    }
   ],
   "source": [
    "#so to avoid error and apply modification, we have to define tupple again\n",
    "details = ('Johnson', 100, 'Nick', 'Harry', False, 100.4)\n",
    "print(details)"
   ]
  },
  {
   "cell_type": "markdown",
   "metadata": {},
   "source": [
    "### Index and Count"
   ]
  },
  {
   "cell_type": "code",
   "execution_count": 124,
   "metadata": {},
   "outputs": [
    {
     "name": "stdout",
     "output_type": "stream",
     "text": [
      "2\n",
      "2\n"
     ]
    }
   ],
   "source": [
    "details = ('Johnson', 100, 'Nick', 'Harry', False, 100.4, 'Johnson')\n",
    "#lets find the index of Nick\n",
    "print(details.index('Nick'))\n",
    "\n",
    "#lets count how many time 'Johnson' came in our tupple\n",
    "print(details.count('Johnson'))\n",
    "\n",
    "#so thats it for tupple, I hope you guys have now great understanding regarding tupples. Lets try some examples"
   ]
  },
  {
   "cell_type": "markdown",
   "metadata": {},
   "source": [
    "## EXERCISES"
   ]
  },
  {
   "cell_type": "markdown",
   "metadata": {},
   "source": [
    "Q1: Write a Python program to create a tuple with numbers and print third item."
   ]
  },
  {
   "cell_type": "code",
   "execution_count": 156,
   "metadata": {},
   "outputs": [
    {
     "name": "stdout",
     "output_type": "stream",
     "text": [
      "15\n"
     ]
    }
   ],
   "source": [
    "#Create a tuple with numbers\n",
    "tuplex = (5, 10, 15, 20, 25)\n",
    "print(tuplex[2])"
   ]
  },
  {
   "cell_type": "markdown",
   "metadata": {},
   "source": [
    "Q2: Write a Python program to unpack a tuple in several variables."
   ]
  },
  {
   "cell_type": "code",
   "execution_count": 163,
   "metadata": {},
   "outputs": [
    {
     "name": "stdout",
     "output_type": "stream",
     "text": [
      "(4, 8, 3)\n",
      "n1:  4\n",
      "\n",
      "n2:  8\n",
      "\n",
      "n3:  3\n"
     ]
    }
   ],
   "source": [
    "#create a tuple\n",
    "tuples = 4, 8, 3 \n",
    "print(tuples)\n",
    "#unpack a tuple in variables\n",
    "n1, n2, n3 = tuples\n",
    "print('n1: ', n1)\n",
    "print('\\nn2: ', n2)\n",
    "print('\\nn3: ', n3)"
   ]
  },
  {
   "cell_type": "markdown",
   "metadata": {},
   "source": [
    "Q3: Write a Python program to get the 4th element and 4th element from last of a tuple."
   ]
  },
  {
   "cell_type": "code",
   "execution_count": 165,
   "metadata": {},
   "outputs": [
    {
     "name": "stdout",
     "output_type": "stream",
     "text": [
      "('w', 3, 'r', 'e', 's', 'o', 'u', 'r', 'c', 'e')\n",
      "4th element:  e\n",
      "\n",
      "4th element from last:  u\n"
     ]
    }
   ],
   "source": [
    "tupls = (\"w\", 3, \"r\", \"e\", \"s\", \"o\", \"u\", \"r\", \"c\", \"e\")\n",
    "print(tupls)\n",
    "#Get 4th item or  4th element of the tuple\n",
    "item = tupls[3]\n",
    "print('4th element: ', item)\n",
    "\n",
    "#Get item (4th element from last)by index negative\n",
    "item1 = tupls[-4]\n",
    "print('\\n4th element from last: ', item1)"
   ]
  },
  {
   "cell_type": "markdown",
   "metadata": {},
   "source": [
    "Q4: Write a Python program to convert a list to a tuple."
   ]
  },
  {
   "cell_type": "code",
   "execution_count": 166,
   "metadata": {},
   "outputs": [
    {
     "name": "stdout",
     "output_type": "stream",
     "text": [
      "[5, 10, 7, 4, 15, 3]\n",
      "(5, 10, 7, 4, 15, 3)\n"
     ]
    }
   ],
   "source": [
    "lists = [5, 10, 7, 4, 15, 3]\n",
    "print(lists)\n",
    "\n",
    "#use the python bult in tuple() function and passing list as parameter \n",
    "tuplss = tuple(lists)\n",
    "print(tuplss)"
   ]
  },
  {
   "cell_type": "markdown",
   "metadata": {},
   "source": [
    "Q5: Write a Python program to remove an item from a tuple."
   ]
  },
  {
   "cell_type": "code",
   "execution_count": 170,
   "metadata": {},
   "outputs": [
    {
     "name": "stdout",
     "output_type": "stream",
     "text": [
      "original ('w', 3, 'r', 's', 'o', 'u', 'r', 'c', 'e')\n",
      "First Method\n",
      "\n",
      "Remove 3rd item from tupple using slicing and merging ('w', 3, 's', 'o', 'u', 'r', 'c', 'e')\n",
      "\n",
      "Second Method\n",
      "\n",
      "Converting tupple to list->  ['w', 3, 'r', 's', 'o', 'u', 'r', 'c', 'e']\n",
      "('w', 3, 'r', 's', 'o', 'u', 'r', 'e')\n"
     ]
    }
   ],
   "source": [
    "tupls = \"w\", 3, \"r\", \"s\", \"o\", \"u\", \"r\", \"c\", \"e\"\n",
    "print('original', tupls)\n",
    "#tuples are immutable, so you can not remove elements\n",
    "\n",
    "#First method to remove element\n",
    "print('First Method')\n",
    "#using merge of tuples with the + operator you can remove an item and it will create a new tuple\n",
    "#Now lets remove third item or item at index 2\n",
    "tupls_new_1 = tupls[:2] + tupls[3:]\n",
    "print('\\nRemove 3rd item from tupple using slicing and merging', tupls_new_1)\n",
    "\n",
    "#Second method\n",
    "print('\\nSecond Method')\n",
    "#First convert tupple into list, then remove required element and then again convert list to tupple\n",
    "listx = list(tupls) \n",
    "print('\\nConverting tupple to list-> ', listx)\n",
    "\n",
    "#Now after converting list to convert we can easily remove element of our choice\n",
    "#lets remove c\n",
    "listx.remove(\"c\") \n",
    "#converting the list to tupple again\n",
    "tupls_new_2 = tuple(listx)\n",
    "print(tupls_new_2)"
   ]
  },
  {
   "cell_type": "markdown",
   "metadata": {},
   "source": [
    "## STRINGS"
   ]
  },
  {
   "cell_type": "code",
   "execution_count": 95,
   "metadata": {},
   "outputs": [
    {
     "name": "stdout",
     "output_type": "stream",
     "text": [
      "I am making a string using double quotes.\n",
      "I am making a string using single quotes.\n",
      "\n",
      "I told my friend, \"Python is my favorite language!\"\n",
      "\n",
      "The language 'Python' is named after Monty Python, not the snake.\n",
      "One of Python's strengths is its diverse and supportive community.\n"
     ]
    }
   ],
   "source": [
    "#Its time to discuss strings in detail.\n",
    "\n",
    "#Strings can be defined as sequential collections of characters. This means that the individual characters that make up \n",
    "#a string are in a particular order from left to right.Strings are also immutable like tupples\n",
    "\n",
    "#Anything inside the quotes is considered as string in Python, and you have options to use single or double quotes around \n",
    "#your strings.\n",
    "\n",
    "#1\n",
    "#lets make a string by using double quotes\n",
    "print(\"I am making a string using double quotes.\")\n",
    "\n",
    "#Similarly make another string using single quotes \n",
    "print('I am making a string using single quotes.')\n",
    "\n",
    "#you can see that their is no difference between them, its depends upon you what to use and when to use.\n",
    "\n",
    "#The flexibility of using either single or double quotes allows you to use quotes and apostrophes within your strings\n",
    "\n",
    "#2\n",
    "#let consider an example of quote within a string\n",
    "print()\n",
    "print('I told my friend, \"Python is my favorite language!\"')\n",
    "#you can see we got quote within a string in output \"Python is my favorite language!\"\n",
    "\n",
    "#similarly you can use apostrophes within a string\n",
    "print()\n",
    "print(\"The language 'Python' is named after Monty Python, not the snake.\")\n",
    "print(\"One of Python's strengths is its diverse and supportive community.\")\n",
    "#see we got apostrophes within a string in output\n",
    "\n",
    "#One thing to note here, if you want quote within a string then you should use single quote to make a string\n",
    "#and if you want apostrophes within a string then you should use double quotes to make a string"
   ]
  },
  {
   "cell_type": "markdown",
   "metadata": {},
   "source": [
    "### Accessing and Slicing"
   ]
  },
  {
   "cell_type": "code",
   "execution_count": null,
   "metadata": {},
   "outputs": [],
   "source": [
    "#you can access and slice string in a same manner as we did in list or tupple, lets check it out\n",
    "\n",
    "s = 'Monty Python'\n",
    "\n",
    "#1\n"
   ]
  },
  {
   "cell_type": "markdown",
   "metadata": {},
   "source": [
    "### Changing Case in a String with Methods"
   ]
  },
  {
   "cell_type": "code",
   "execution_count": 17,
   "metadata": {},
   "outputs": [
    {
     "name": "stdout",
     "output_type": "stream",
     "text": [
      "Title method-> I Love To Do Gardening\n",
      "\n",
      "Upper method-> I LOVE TO DO GARDENING\n",
      "\n",
      "Lower method-> i love to do gardening\n"
     ]
    }
   ],
   "source": [
    "#The most common methods which we normally use to change case in a string are;\n",
    "#1 string_name.title()->title() method displays each word in titlecase, where each word begins with a capital letter.\n",
    "#2 string_name.upper()->upper() method convert string to upper case\n",
    "#3 string_name.lower()->lower() method convert string to lower case\n",
    "\n",
    "#lets try all these three methods one by one\n",
    "\n",
    "#first we try title() method\n",
    "\n",
    "hobby = 'i love to do gardening'\n",
    "#As I already told you that we can apply method followed by the string name and dot\n",
    "print('Title method->', hobby.title())#it should have to return in title case means first character of every word should be capitalize\n",
    "\n",
    "#Now its time to try upper() method\n",
    "#again considering the same example\n",
    "print('\\nUpper method->', hobby.upper())#it should have to capitalize each character\n",
    "#see it works\n",
    "\n",
    "#and now we apply lower method\n",
    "print('\\nLower method->', hobby.lower())\n",
    "#and it converts all characters in lower case\n",
    "\n",
    "#The lower() method is especially helpful for storing data. Most of the times you dont want to trust the capitalization that \n",
    "#your clients provide, so you’ll convert strings to lowercase before storing them. At that point when you want to\n",
    "#display the information, you’ll utilize the case that makes the most sense for each string."
   ]
  },
  {
   "cell_type": "code",
   "execution_count": 23,
   "metadata": {},
   "outputs": [
    {
     "name": "stdout",
     "output_type": "stream",
     "text": [
      "\n",
      "<class 'str'>\n",
      "<class 'str'>\n"
     ]
    }
   ],
   "source": [
    "#lets taik about empty string or space\n",
    "#A string that contains no characters, often referred to as the empty string, is still considered to be a string.\n",
    "#lets see what that means\n",
    "empty = ''\n",
    "print(empty)#Its empty so we shouldn't get any output\n",
    "#lets check its type to confirm whether its a string or nor\n",
    "print(type(empty))\n",
    "#so we got confirmation\n",
    "\n",
    "#A string can also contains space and it can be represented as ' ' quotes of your choice and space between them\n",
    "space = ' '\n",
    "print(type(space))"
   ]
  },
  {
   "cell_type": "markdown",
   "metadata": {},
   "source": [
    "### Combining or Concatenating Strings"
   ]
  },
  {
   "cell_type": "code",
   "execution_count": 26,
   "metadata": {},
   "outputs": [
    {
     "name": "stdout",
     "output_type": "stream",
     "text": [
      "John Carrey\n",
      "John Carrey Martin\n"
     ]
    }
   ],
   "source": [
    "#we have already learn and practice this, lets do a quick recap of this\n",
    "\n",
    "first_name = \"John\"\n",
    "last_name = \"Carrey\"\n",
    "full_name = first_name + \" \" + last_name#in b/w them i have placed space\n",
    "print(full_name)\n",
    "\n",
    "#you can combine as many strings as you want\n",
    "first_name = \"john\"\n",
    "second_name = \"carrey\"\n",
    "third_name = 'martin'\n",
    "\n",
    "names = first_name + ' ' + second_name + ' ' + third_name\n",
    "print(names.title())\n"
   ]
  },
  {
   "cell_type": "code",
   "execution_count": null,
   "metadata": {},
   "outputs": [],
   "source": []
  },
  {
   "cell_type": "code",
   "execution_count": 30,
   "metadata": {},
   "outputs": [
    {
     "name": "stdout",
     "output_type": "stream",
     "text": [
      "False\n"
     ]
    },
    {
     "data": {
      "text/plain": [
       "'Hello'"
      ]
     },
     "execution_count": 30,
     "metadata": {},
     "output_type": "execute_result"
    }
   ],
   "source": [
    "#To programmers 'Hello' and 'Hello ' look pretty much the same. But to a program, they are two different strings.\n",
    "#And if you try to compare them by using ==, python raise an error due to extra white space in right side\n",
    "#lets first confirm it whether python raise an error or not\n",
    "print(\"Hello\" == \"Hello \")#you can see I have added extra space to right side of second string\n",
    "#so you can see it gives an error and thats what we want and focus on the error it raises\n",
    "#string. To ensure that no whitespace exists at the right end of a string, use\n",
    "\n",
    "#Python can look for extra whitespace on the right and left sides of a string. \n",
    "#To ensure that no whitespace exists at the right end of a string, use the rstrip() method and to ensure that \n",
    "#no whitespace exists at the left end of a string, use the lstrip() method\n",
    "\n",
    "#lets play with them\n",
    "#first we add white space at the right side\n",
    "greetings_r = 'Hello '\n",
    "#now we remove extra space from right using rstrip\n",
    "greetings.rstrip()#you can see we got rid from right white space"
   ]
  },
  {
   "cell_type": "code",
   "execution_count": 32,
   "metadata": {},
   "outputs": [
    {
     "data": {
      "text/plain": [
       "'Hello'"
      ]
     },
     "execution_count": 32,
     "metadata": {},
     "output_type": "execute_result"
    }
   ],
   "source": [
    "#now same for the left white space\n",
    "greetings_l = ' Hello'\n",
    "#we can remove left space by using lstrip method\n",
    "greetings_l.lstrip()\n",
    "#see it works, what if we had white spaces on both right and left hand side of a string"
   ]
  },
  {
   "cell_type": "code",
   "execution_count": 33,
   "metadata": {},
   "outputs": [
    {
     "data": {
      "text/plain": [
       "'Hello'"
      ]
     },
     "execution_count": 33,
     "metadata": {},
     "output_type": "execute_result"
    }
   ],
   "source": [
    "#So we can strip whitespace from both sides at once using strip() method\n",
    "greetings = ' Hello '\n",
    "greetings.strip()\n",
    "\n",
    "#In the real world, these stripping functions are used most often to clean up user input before it’s stored in a program."
   ]
  },
  {
   "cell_type": "markdown",
   "metadata": {},
   "source": [
    "### Count, index, find"
   ]
  },
  {
   "cell_type": "code",
   "execution_count": 47,
   "metadata": {},
   "outputs": [
    {
     "name": "stdout",
     "output_type": "stream",
     "text": [
      "2\n",
      "9\n",
      "4\n"
     ]
    }
   ],
   "source": [
    "#Count and index works in a same manner like in list or tupple\n",
    "\n",
    "#1\n",
    "#lets try an example\n",
    "st = \"python world\"\n",
    "#here we count how many o's in this string\n",
    "print(st.count('o'))\n",
    "#great it returns 2\n",
    "\n",
    "#2\n",
    "#Always remember one this that white space is a character, so when performing slicing or indexing always count white space\n",
    "#in it\n",
    "#lets find out the index of r and remeber space character also counts in\n",
    "print(st.index('r'))#it should have to return 9\n",
    "\n",
    "#and recall from list, whenever repeatation exist, index method returs index of that when it appears first time\n",
    "#so lets find out the index of o\n",
    "print(st.index('o'))\n",
    "#so thats it counting and indexing"
   ]
  },
  {
   "cell_type": "markdown",
   "metadata": {},
   "source": [
    "### Find"
   ]
  },
  {
   "cell_type": "code",
   "execution_count": 51,
   "metadata": {},
   "outputs": [
    {
     "name": "stdout",
     "output_type": "stream",
     "text": [
      "9\n",
      "-1\n"
     ]
    }
   ],
   "source": [
    "#We use the find() function to search for a substring within another string\n",
    "#find() finds the first occurrence of the substring and return its index\n",
    "#If the substring is not found, find() returns \n",
    "\n",
    "st = \"python world\"\n",
    "#lets find rl from st and remember it will give index of first occurenec\n",
    "print(st.find('rl'))\n",
    "#r is at index 9 and find returns its index\n",
    "\n",
    "#now try something different/\n",
    "print(st.find('mi'))#as mi is not the string, so thats why it returns -1"
   ]
  },
  {
   "cell_type": "markdown",
   "metadata": {},
   "source": [
    "### Accessing and Slicing"
   ]
  },
  {
   "cell_type": "code",
   "execution_count": 52,
   "metadata": {},
   "outputs": [
    {
     "name": "stdout",
     "output_type": "stream",
     "text": [
      "Acccessing P-> P\n",
      "\n",
      "Accessing last n-> n\n",
      "\n",
      "slicing last three character-> hon\n",
      "\n",
      "first 6 characters-> Monty P\n"
     ]
    }
   ],
   "source": [
    "#you can access and slice string in a same manner as we did in list or tupple, lets check it out\n",
    "\n",
    "s = 'Monty Python'\n",
    "\n",
    "#1\n",
    "#again dont forget space when accessing or slicing\n",
    "print('Acccessing P->', s[6])\n",
    "print(\"\\nAccessing last n->\", s[-1])\n",
    "\n",
    "#2\n",
    "#lets slice last three characters\n",
    "print('\\nslicing last three character->', s[-3:])\n",
    "#ok now slice first 6 characters and dont forget to count space\n",
    "print('\\nfirst 6 characters->', s[0:7])\n",
    "\n",
    "#So huh! thats it for accessing and slicing"
   ]
  },
  {
   "cell_type": "code",
   "execution_count": 102,
   "metadata": {},
   "outputs": [
    {
     "name": "stdout",
     "output_type": "stream",
     "text": [
      "M\n"
     ]
    },
    {
     "ename": "TypeError",
     "evalue": "'str' object does not support item assignment",
     "output_type": "error",
     "traceback": [
      "\u001b[1;31m---------------------------------------------------------------------------\u001b[0m",
      "\u001b[1;31mTypeError\u001b[0m                                 Traceback (most recent call last)",
      "\u001b[1;32m<ipython-input-102-830f16fc1128>\u001b[0m in \u001b[0;36m<module>\u001b[1;34m\u001b[0m\n\u001b[0;32m      2\u001b[0m \u001b[0ms\u001b[0m \u001b[1;33m=\u001b[0m \u001b[1;34m'Monty Python'\u001b[0m\u001b[1;33m\u001b[0m\u001b[1;33m\u001b[0m\u001b[0m\n\u001b[0;32m      3\u001b[0m \u001b[0mprint\u001b[0m\u001b[1;33m(\u001b[0m\u001b[0ms\u001b[0m\u001b[1;33m[\u001b[0m\u001b[1;36m0\u001b[0m\u001b[1;33m]\u001b[0m\u001b[1;33m)\u001b[0m\u001b[1;33m\u001b[0m\u001b[1;33m\u001b[0m\u001b[0m\n\u001b[1;32m----> 4\u001b[1;33m \u001b[0ms\u001b[0m\u001b[1;33m[\u001b[0m\u001b[1;36m0\u001b[0m\u001b[1;33m]\u001b[0m \u001b[1;33m=\u001b[0m \u001b[1;34m'J'\u001b[0m \u001b[1;31m#it should have to raise an error based as per our knowledge\u001b[0m\u001b[1;33m\u001b[0m\u001b[1;33m\u001b[0m\u001b[0m\n\u001b[0m\u001b[0;32m      5\u001b[0m \u001b[1;31m#so know its confirm that we cannot change strings\u001b[0m\u001b[1;33m\u001b[0m\u001b[1;33m\u001b[0m\u001b[1;33m\u001b[0m\u001b[0m\n",
      "\u001b[1;31mTypeError\u001b[0m: 'str' object does not support item assignment"
     ]
    }
   ],
   "source": [
    "#lets also check whether string is mutable or not\n",
    "s = 'Monty Python'\n",
    "print(s[0])\n",
    "s[0] = 'J' #it should have to raise an error based as per our knowledge\n",
    "#so know its confirm that we cannot change strings"
   ]
  },
  {
   "cell_type": "markdown",
   "metadata": {},
   "source": [
    "### Replace Method"
   ]
  },
  {
   "cell_type": "code",
   "execution_count": 103,
   "metadata": {},
   "outputs": [
    {
     "name": "stdout",
     "output_type": "stream",
     "text": [
      "Hello Universe\n",
      "Hellu Wurld\n"
     ]
    }
   ],
   "source": [
    "#Replace method replaces all occurrences of old substring with new\n",
    "#it takes two parameters, one which you want to replace or old string and second is the replacement string or new string\n",
    "#replace(old, new)\n",
    "\n",
    "stri = 'Hello World'\n",
    "#lets say you want to replace world with universe\n",
    "stri_replace_1 = stri.replace('World', 'Universe')#two parameters, old one and new one\n",
    "print(stri_replace_1)#lets print it out\n",
    "#you can see world replaces with universe\n",
    "\n",
    "#lets replace o with u\n",
    "stri_replace_2 = stri.replace('o', 'u')#Note that it replaces all occurence of old substring\n",
    "print(stri_replace_2)\n",
    "\n",
    "#I think thats enough for the replace method"
   ]
  },
  {
   "cell_type": "markdown",
   "metadata": {},
   "source": [
    "### startswith and endwith"
   ]
  },
  {
   "cell_type": "code",
   "execution_count": 104,
   "metadata": {},
   "outputs": [
    {
     "name": "stdout",
     "output_type": "stream",
     "text": [
      "Checking whether it starts with once or not->  True\n",
      "\n",
      "Checking whether it starts with O or not->  True\n",
      "\n",
      "Checking whether it starts with Earlier or not->  False\n",
      "\n",
      "time for the endswith\n",
      "\n",
      "Checking whether it ends with time or not->  True\n",
      "\n",
      "Checking whether it ends with e or not->  True\n",
      "\n",
      "Checking whether it ends with decade or not->  False\n"
     ]
    }
   ],
   "source": [
    "#startswith take a parameter and check whether the given parameter is a prefix of the string or not and return True or \n",
    "#False based on that\n",
    "\n",
    "#the opposite of startswith is endswith\n",
    "\n",
    "#endswith take a parameter and check whether the given parameter is a suffix of the string or not and return True or \n",
    "#False based on that\n",
    "\n",
    "essay = 'Once thier was a time'\n",
    "#lets check whether the given string starts with once or not\n",
    "print('Checking whether it starts with once or not-> ', essay.startswith('Once'))\n",
    "\n",
    "#or you can also give initials of first word, lets give o and check whether it gives True or not\n",
    "print('\\nChecking whether it starts with O or not-> ', essay.startswith('O'))\n",
    "\n",
    "#lets give something different to it\n",
    "print('\\nChecking whether it starts with Earlier or not-> ', essay.startswith('Earlier'))#it should have to return False\n",
    "\n",
    "print('\\ntime for the endswith')\n",
    "\n",
    "#Now its time to work with endswith\n",
    "print('\\nChecking whether it ends with time or not-> ', essay.endswith('time'))\n",
    "\n",
    "#or you can also give final character of the last word, lets give e and check whether it gives True or not\n",
    "print('\\nChecking whether it ends with e or not-> ', essay.endswith('e'))\n",
    "\n",
    "#lets give something different to it\n",
    "print('\\nChecking whether it ends with decade or not-> ', essay.endswith('decade'))#it should have to return False\n",
    "\n",
    "#I hope you guys now have clear intuition regarding startswith and endswith"
   ]
  },
  {
   "cell_type": "markdown",
   "metadata": {},
   "source": [
    "### Splitting and Joining Strings"
   ]
  },
  {
   "cell_type": "code",
   "execution_count": 105,
   "metadata": {},
   "outputs": [
    {
     "name": "stdout",
     "output_type": "stream",
     "text": [
      "['The', 'rain', 'in', 'Spain...']\n",
      "\n",
      "['123', '456', '789']\n",
      "\n",
      " ['The r', 'n in Sp', 'n...']\n",
      "\n",
      "['john', 'harry@wire', 'b', 'zac']\n"
     ]
    }
   ],
   "source": [
    "#The split method breaks a string into a list of words. Split method takes an optional argument called a delimiter and\n",
    "#by default, any number of whitespace characters is considered a word boundary.\n",
    "\n",
    "#1\n",
    "#let see what does it means\n",
    "rain = \"The rain in Spain...\"\n",
    "spl = rain.split()#here we havent pass any delimeter, so by default it splits string into list of words based on the\n",
    "#white space, lets print it\n",
    "print(spl)\n",
    "print()\n",
    "#see, it separates the because after it a whitespace was present then rain then in\n",
    "#lets try another example\n",
    "str_of_nums = '123 456 789'\n",
    "print(str_of_nums.split())\n",
    "#its separates numbers through whitespaces\n",
    "\n",
    "#2\n",
    "#now lets use delimeter \n",
    "rain = \"The rain in Spain...\"\n",
    "spl_1 = rain.split('ai')#The following example uses the string ai as the delimiter which means it splits words where ai\n",
    "#is present, lets print it out\n",
    "print('\\n',spl_1)\n",
    "#you can see it skips ai and place , to it place \n",
    "\n",
    "#lets try one more example so you guys got its clear understanding\n",
    "#lets use dot as delimeter\n",
    "print()\n",
    "wrd =  'john.harry@wire.b.zac'\n",
    "print(wrd.split('.'))#see it splits into list of words based on full stops"
   ]
  },
  {
   "cell_type": "code",
   "execution_count": 106,
   "metadata": {},
   "outputs": [
    {
     "name": "stdout",
     "output_type": "stream",
     "text": [
      "['Tom', 'Michael', 'Harry']\n",
      "\n",
      "list to string using space as a separator-> Tom Michael Harry\n",
      "\n",
      " <class 'str'>\n",
      "\n",
      "list to string using space as a separator-> Tom@Michael@Harry\n",
      "\n",
      "list to string using space as a separator-> TomMichaelHarry\n"
     ]
    }
   ],
   "source": [
    "#2 \n",
    "#The opposite of the split method is join. It converts list to string. You choose a desired separator string, \n",
    "#(often called the glue) and join the list with the glue between each of the elements.\n",
    "#its syntax is -> type of separator in quotes then .join and then pass list as parameter to it\n",
    "\n",
    "#So lets try to convert list to string\n",
    "names = ['Tom', 'Michael', 'Harry']\n",
    "print(names)\n",
    "print()\n",
    "#lets try to convert them to string separated by spaces\n",
    "names_str_1 = ' '.join(names)\n",
    "print('list to string using space as a separator->', names_str_1)\n",
    "#we can also confirm its type\n",
    "print('\\n', type(names_str_1))\n",
    "#so see it converts to string\n",
    "\n",
    "#lets try to convert them to string separated by at the rate @\n",
    "names_str_2 = '@'.join(names)\n",
    "print('\\nlist to string using space as a separator->', names_str_2)\n",
    "\n",
    "#lets try one last example\n",
    "#again converting names list to string separated empty string\n",
    "names_str_3 = ''.join(names)\n",
    "print('\\nlist to string using space as a separator->', names_str_3)\n",
    "#you can see their is no space between them\n",
    "\n",
    "#I hope this would be enough for you guys regarding spliting and joining"
   ]
  },
  {
   "cell_type": "markdown",
   "metadata": {},
   "source": [
    "### in and not in"
   ]
  },
  {
   "cell_type": "code",
   "execution_count": 107,
   "metadata": {},
   "outputs": [
    {
     "name": "stdout",
     "output_type": "stream",
     "text": [
      "True\n",
      "False\n",
      "True\n",
      "True\n"
     ]
    }
   ],
   "source": [
    "#its again similar to list, lets quickly try it\n",
    "rain = \"It's raining since afternoon\"\n",
    "print('since' in rain)\n",
    "print('morning' in rain)\n",
    "print('morning' not in rain)\n",
    "#lets check about white space\n",
    "print(' ' in rain)\n",
    "#so yeah its their and thats why it returns True, lets discuss one last function which is length and you guys already know\n",
    "#about it, so lets quickly dive in"
   ]
  },
  {
   "cell_type": "markdown",
   "metadata": {},
   "source": [
    "### len function"
   ]
  },
  {
   "cell_type": "code",
   "execution_count": 108,
   "metadata": {},
   "outputs": [
    {
     "name": "stdout",
     "output_type": "stream",
     "text": [
      "28\n"
     ]
    }
   ],
   "source": [
    "#in case of string len function returns no of characters in a string including white spaces\n",
    "rain = \"It's raining since afternoon\"\n",
    "print(len(rain))\n",
    "\n",
    "#So that's it for a string, I think I have covered all useful and necessary structures, methods and function of strings and\n",
    "#I hope you guys are now able to play with. "
   ]
  },
  {
   "cell_type": "markdown",
   "metadata": {},
   "source": [
    "## EXERCISES"
   ]
  },
  {
   "cell_type": "markdown",
   "metadata": {},
   "source": [
    "Q1: Write a for loop to print out each character of the string str_my on a separate line"
   ]
  },
  {
   "cell_type": "code",
   "execution_count": 16,
   "metadata": {},
   "outputs": [
    {
     "name": "stdout",
     "output_type": "stream",
     "text": [
      "U\n",
      "n\n",
      "i\n",
      "v\n",
      "e\n",
      "r\n",
      "s\n",
      "e\n"
     ]
    }
   ],
   "source": [
    "str_my = \"Universe\"\n",
    "\n",
    "for st in str_my:\n",
    "    print(st)\n"
   ]
  },
  {
   "cell_type": "markdown",
   "metadata": {},
   "source": [
    "Q1: Write a Python program to get a single string from two given strings, separated by a space and swap the first two characters of each string.\n",
    "\n",
    "Sample String : 'abc', 'xyz'\n",
    "\n",
    "Expected Result : 'xyc abz'"
   ]
  },
  {
   "cell_type": "code",
   "execution_count": 3,
   "metadata": {},
   "outputs": [
    {
     "name": "stdout",
     "output_type": "stream",
     "text": [
      "xyc abz\n"
     ]
    }
   ],
   "source": [
    "a = 'abc'\n",
    "b = 'xyz'\n",
    "#now we have to swap the first two characters of both string\n",
    "a_new = b[:2] + a[2:]#now string a consist of first two characters of b and characters after 2 remains of a or same \n",
    "b_new = a[:2] + b[2:]#now string b consist of first two characters of a and characters after 2 remains of b or same\n",
    "print(a_new + ' ' + b_new)#two new strings separated by space"
   ]
  },
  {
   "cell_type": "markdown",
   "metadata": {},
   "source": [
    "Q2: Write a Python program to add 'ing' at the end of a given string (length should be at least 3). If the given string already ends with 'ing' then add 'ly' instead. If the string length of the given string is less than 3, leave it unchanged."
   ]
  },
  {
   "cell_type": "code",
   "execution_count": 6,
   "metadata": {},
   "outputs": [
    {
     "name": "stdout",
     "output_type": "stream",
     "text": [
      "ab\n",
      "abcing\n",
      "abcingly\n"
     ]
    }
   ],
   "source": [
    "strs = ['ab', 'abc', 'abcing']\n",
    "\n",
    "for st in strs:\n",
    "    if len(st) < 3:#if len  of string less than 3 leave it unchanged\n",
    "        print(st)\n",
    "    elif len(st) >= 3:#and if len of string at least 3\n",
    "        if  st[-3:] == 'ing':#if string already ends with ing then add ly to it,\n",
    "            st += 'ly'\n",
    "            print(st)\n",
    "        else:##and if string does not ends with ing , then add ing to its end\n",
    "            st += 'ing'\n",
    "            print(st)\n"
   ]
  },
  {
   "cell_type": "markdown",
   "metadata": {},
   "source": [
    "Q3: Write a Python program to remove the characters which have odd index values of a given string."
   ]
  },
  {
   "cell_type": "code",
   "execution_count": 12,
   "metadata": {},
   "outputs": [
    {
     "name": "stdout",
     "output_type": "stream",
     "text": [
      "a\n",
      "ac\n",
      "ace\n",
      "\n",
      "final string would be-> ace\n"
     ]
    }
   ],
   "source": [
    "stri = 'abcdef'\n",
    "result = ''#empty string\n",
    "for i in range(len(stri)):\n",
    "    if i % 2 == 0:#only store even string values and remove odd index values\n",
    "        result = result + stri[i]#first index 0 or a which is even so if is True so result = ''+'a' = 'a', \n",
    "        #then index 1 or b is odd so if not true, then index 2 or c is even so if again True and result = 'a' + 'c' ='ac'\n",
    "        #then again 'd' is odd to if not True, then again e is at index 4 or even so, result = 'ac'+'e' = 'ace'\n",
    "        print(result) \n",
    "print('\\nfinal string would be->', result)"
   ]
  },
  {
   "cell_type": "markdown",
   "metadata": {},
   "source": [
    "Q5: Get the user to enter some text and print it out in reverse order."
   ]
  },
  {
   "cell_type": "code",
   "execution_count": 17,
   "metadata": {},
   "outputs": [
    {
     "name": "stdout",
     "output_type": "stream",
     "text": [
      "Enter some texthello\n",
      "olleh\n"
     ]
    }
   ],
   "source": [
    "txt = input(\"Enter some text\")\n",
    "print(txt[::-1])"
   ]
  },
  {
   "cell_type": "markdown",
   "metadata": {},
   "source": [
    "Q6: Write a Python script that takes input from the user and displays that input back in upper and lower cases."
   ]
  },
  {
   "cell_type": "code",
   "execution_count": 18,
   "metadata": {},
   "outputs": [
    {
     "name": "stdout",
     "output_type": "stream",
     "text": [
      "Enter something: They are going for a lunch\n",
      "Displaying user input in upper case-> THEY ARE GOING FOR A LUNCH\n",
      "Displaying user input in lower case-> they are going for a lunch\n"
     ]
    }
   ],
   "source": [
    "stri = input('Enter something: ')\n",
    "print('Displaying user input in upper case->', stri.upper())\n",
    "print('Displaying user input in lower case->', stri.lower())"
   ]
  },
  {
   "cell_type": "code",
   "execution_count": null,
   "metadata": {},
   "outputs": [],
   "source": []
  }
 ],
 "metadata": {
  "kernelspec": {
   "display_name": "Python 3",
   "language": "python",
   "name": "python3"
  },
  "language_info": {
   "codemirror_mode": {
    "name": "ipython",
    "version": 3
   },
   "file_extension": ".py",
   "mimetype": "text/x-python",
   "name": "python",
   "nbconvert_exporter": "python",
   "pygments_lexer": "ipython3",
   "version": "3.7.4"
  }
 },
 "nbformat": 4,
 "nbformat_minor": 4
}
