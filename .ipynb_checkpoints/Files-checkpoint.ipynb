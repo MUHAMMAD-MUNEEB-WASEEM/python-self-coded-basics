{
 "cells": [
  {
   "cell_type": "markdown",
   "metadata": {},
   "source": [
    "## Reading a file"
   ]
  },
  {
   "cell_type": "raw",
   "metadata": {},
   "source": [
    "When you want to work with a text file, the first step is to read the file into memory. We'll see how tp read the entire contents of a file or one line at a time."
   ]
  },
  {
   "cell_type": "markdown",
   "metadata": {},
   "source": [
    "### Reading an Entire file once at a time"
   ]
  },
  {
   "cell_type": "raw",
   "metadata": {},
   "source": [
    "I have already saved some data in python_files.txt which is in the same directory in which I am currently working."
   ]
  },
  {
   "cell_type": "code",
   "execution_count": 1,
   "metadata": {},
   "outputs": [],
   "source": [
    "#I will show you how it look like"
   ]
  },
  {
   "cell_type": "code",
   "execution_count": 2,
   "metadata": {},
   "outputs": [],
   "source": [
    "#You can see it contains 3 lines or 3 sentences"
   ]
  },
  {
   "cell_type": "code",
   "execution_count": 3,
   "metadata": {},
   "outputs": [],
   "source": [
    "#so lets play with it"
   ]
  },
  {
   "cell_type": "code",
   "execution_count": 24,
   "metadata": {},
   "outputs": [
    {
     "name": "stdout",
     "output_type": "stream",
     "text": [
      "This is the file which I have created for files section.\n",
      "I will tell you how to read write and append to a file.\n",
      "It is very easy to understand and help you deal files using python.\n",
      "\n",
      " <class 'str'>\n"
     ]
    }
   ],
   "source": [
    "with open('python_files.txt', 'r') as reader:\n",
    "    data = reader.read()\n",
    "    print(data)\n",
    "    print('\\n',type(data))"
   ]
  },
  {
   "cell_type": "code",
   "execution_count": 23,
   "metadata": {},
   "outputs": [],
   "source": [
    "#You can see it return us an entire data stored in python_files.txt"
   ]
  },
  {
   "cell_type": "code",
   "execution_count": 9,
   "metadata": {},
   "outputs": [],
   "source": [
    "#So lots of things going on here, lets unpack them"
   ]
  },
  {
   "cell_type": "raw",
   "metadata": {},
   "source": [
    "Let’s start with the open() function first. \n",
    "\n",
    "1.open() function will open a file for us to access the data inside it.\n",
    "\n",
    "2.Then keyword 'with' will automatically closes the file once access to it is no longer needed.\n",
    "\n",
    "3.The open() function needs two arguments: first argument is the name of the file(if in same directory) or complete path address(if file in different directory) you want to open in quotations, second the mode of operation you want to apply on that file also in quotations.\n",
    "\n",
    "-> Their are 3 modes.\n",
    "i.'w' allows you to write to a file.\n",
    "ii.'r' allows you to read or retrieve data from a file.\n",
    "iii.'a'allows you to append data to a file without overwriting to it.\n",
    "iv.'r+' mode do reading and writing at a same time.\n",
    "\n",
    "4.as is a keyword meaning that you're assigning a file handle to the file.\n",
    "\n",
    "5.file handle allows users to handle file like to read and write files etc, you can choose any name for file handle, in this case I have choosed reader.\n",
    "\n",
    "6.In the end of line we placed a colon, promising that there's more code to come…\n",
    "\n",
    "7.Once we have a file handle(reader) representing pyhthon_files.txt, we use the read() method on it in the second line of to read the entire data of the file at once and store it as one long string in variable data. When we print the value\n",
    "of data, we get the entire text file back in the form of one long string.\n",
    "\n",
    "8.Later in third line I have also verfied the type of data it returns using type function and it returns string."
   ]
  },
  {
   "cell_type": "markdown",
   "metadata": {},
   "source": [
    "#### Second Method: Using open() and close()"
   ]
  },
  {
   "cell_type": "code",
   "execution_count": 13,
   "metadata": {},
   "outputs": [
    {
     "name": "stdout",
     "output_type": "stream",
     "text": [
      "This is the file which I have created for files section.\n",
      "I will tell you how to read write and append to a file.\n",
      "It is very easy to understand and help you deal files using python.\n"
     ]
    }
   ],
   "source": [
    "reader = open('python_files.txt', 'r')\n",
    "print(reader.read())\n",
    "reader.close()"
   ]
  },
  {
   "cell_type": "raw",
   "metadata": {},
   "source": [
    "This is somewhat similar to what we have seen above\n",
    "\n",
    "1.Here we use file handler first and store object returns by the open function representing file python_files.txt\n",
    "2.Then we read an entire file.\n",
    "3.Then we close the file using close() function\n",
    "\n",
    "But this method causes to open and close file independently and if you forgot to close the file the file may never close or if you close it early by mistake then improperly closed files can cause data to be lost or corrupted.\n",
    "\n",
    "If you are working with larger files or applying many operation to a file then it's not always easy to know exactly when you should close a file.\n",
    "\n",
    "So I suggest you to make habbit of using 'with open' method because in that case Python will automatically figure that when to close the file. All you have to do is just open the file and start working on it as desired, trusting that Python will close it automatically for you when the time is right."
   ]
  },
  {
   "cell_type": "markdown",
   "metadata": {},
   "source": [
    "### Reading data line by line"
   ]
  },
  {
   "cell_type": "raw",
   "metadata": {},
   "source": [
    "Sometimes you want to examine your data line by line to extract particular information."
   ]
  },
  {
   "cell_type": "code",
   "execution_count": 27,
   "metadata": {},
   "outputs": [],
   "source": [
    "#We'll use a for loop to read data from the file line by line:\n",
    "#So let see how we can read data from the file line by line"
   ]
  },
  {
   "cell_type": "code",
   "execution_count": 28,
   "metadata": {},
   "outputs": [
    {
     "name": "stdout",
     "output_type": "stream",
     "text": [
      "This is the file which I have created for files section.\n",
      "\n",
      "I will tell you how to read write and append to a file.\n",
      "\n",
      "It is very easy to understand and help you deal files using python.\n"
     ]
    }
   ],
   "source": [
    "with open('python_files.txt', 'r') as reader:\n",
    "    for line in reader:\n",
    "        print(line)"
   ]
  },
  {
   "cell_type": "code",
   "execution_count": 29,
   "metadata": {},
   "outputs": [],
   "source": [
    "#You people might wondering why their is a gap between each line, the answer is"
   ]
  },
  {
   "cell_type": "raw",
   "metadata": {},
   "source": [
    "These blank lines is due to an invisible newline character at the end of each line in the text file and the print statement also adds its own newline each time we call it in for loop, so each time we end up with two newline characters at\n",
    "the end of each line, one from the file and one from the print statement.\n"
   ]
  },
  {
   "cell_type": "code",
   "execution_count": 31,
   "metadata": {},
   "outputs": [],
   "source": [
    "#I have already teach you guys a method to eliminate such spaces, and these methods are strip,lstrip and rstrip, you can \n",
    "#recall them from string section, rstrip eliminate any whitespace from righthand side, lstrip from left hand side and strip\n",
    "#from both sides\n",
    "\n",
    "#We get invisible newline character at the end of line means at right side so in that can we can us rstrip to get rid from\n",
    "#it"
   ]
  },
  {
   "cell_type": "raw",
   "metadata": {},
   "source": [
    "So now we will use rstrip() on each line in the print statement to eliminates these extra blank lines:"
   ]
  },
  {
   "cell_type": "code",
   "execution_count": 32,
   "metadata": {},
   "outputs": [
    {
     "name": "stdout",
     "output_type": "stream",
     "text": [
      "This is the file which I have created for files section.\n",
      "I will tell you how to read write and append to a file.\n",
      "It is very easy to understand and help you deal files using python.\n"
     ]
    }
   ],
   "source": [
    "with open('python_files.txt', 'r') as reader:\n",
    "    for line in reader:\n",
    "        print(line.rstrip())"
   ]
  },
  {
   "cell_type": "code",
   "execution_count": 33,
   "metadata": {},
   "outputs": [],
   "source": [
    "#So now the output looks good, you can also directly use strip inplace of rstrip to remove any spaces on either side"
   ]
  },
  {
   "cell_type": "markdown",
   "metadata": {},
   "source": [
    "### Reading list of lines and storing them for later use"
   ]
  },
  {
   "cell_type": "raw",
   "metadata": {},
   "source": [
    "When we use with open method to access data of file, the data is only available for inside the with block that.\n",
    "If you also want to gain access to a file’s contents the with block, you can store the file’s data or lines in a list inside the block. and then work with that list. \n",
    "\n",
    "So now what we are doing is storing the lines of our file in the form of list inside the with block and use them later when we need"
   ]
  },
  {
   "cell_type": "code",
   "execution_count": 34,
   "metadata": {},
   "outputs": [],
   "source": [
    "with open('python_files.txt', 'r') as reader:\n",
    "    list_of_lines = reader.readlines()"
   ]
  },
  {
   "cell_type": "raw",
   "metadata": {},
   "source": [
    "So what we did here is use the readlines() method takes each line from the file and stores it in a list. This list is\n",
    "then stored in variable list_of_lines, which we use later when needed after the with block ends."
   ]
  },
  {
   "cell_type": "code",
   "execution_count": 38,
   "metadata": {},
   "outputs": [],
   "source": [
    "#so lets print out list of lines to see how it looks"
   ]
  },
  {
   "cell_type": "code",
   "execution_count": 35,
   "metadata": {},
   "outputs": [
    {
     "data": {
      "text/plain": [
       "['This is the file which I have created for files section.\\n',\n",
       " 'I will tell you how to read write and append to a file.\\n',\n",
       " 'It is very easy to understand and help you deal files using python.']"
      ]
     },
     "execution_count": 35,
     "metadata": {},
     "output_type": "execute_result"
    }
   ],
   "source": [
    "list_of_lines"
   ]
  },
  {
   "cell_type": "code",
   "execution_count": 39,
   "metadata": {},
   "outputs": [],
   "source": [
    "#you can see it give us the list containing 3 lines each separated by comma and you can also see that invisible newline\n",
    "#character of which I have told you earlier and its on right hand side or at the end of each line thats why we used rstrip\n",
    "#or strip to remove it"
   ]
  },
  {
   "cell_type": "code",
   "execution_count": 40,
   "metadata": {},
   "outputs": [],
   "source": [
    "#Now we know how to iterate over the list items with the help of for loop"
   ]
  },
  {
   "cell_type": "code",
   "execution_count": 41,
   "metadata": {},
   "outputs": [
    {
     "name": "stdout",
     "output_type": "stream",
     "text": [
      "This is the file which I have created for files section.\n",
      "I will tell you how to read write and append to a file.\n",
      "It is very easy to understand and help you deal files using python.\n"
     ]
    }
   ],
   "source": [
    "for line in list_of_lines:#their are total 3 lines so this for loop will run 3 times printing a one line each time\n",
    "    print(line.rstrip())"
   ]
  },
  {
   "cell_type": "markdown",
   "metadata": {},
   "source": [
    "## Writing to a file "
   ]
  },
  {
   "cell_type": "raw",
   "metadata": {},
   "source": [
    "To write some text to a file, you will need to call 'with' followed by open() function with two arguments, first is the name of file in which you want to write(if file already exist) or create a new file with that name(if file does not exist) while a second argument is the mode which is write mode represented by 'w' telling Python that you want to write to the file."
   ]
  },
  {
   "cell_type": "code",
   "execution_count": 46,
   "metadata": {},
   "outputs": [],
   "source": [
    "#so lets write something to a file"
   ]
  },
  {
   "cell_type": "code",
   "execution_count": 45,
   "metadata": {},
   "outputs": [],
   "source": [
    "with open('testing.txt', 'w') as file:\n",
    "    file.write('I am writing first line in testing.txt\\n')\n",
    "    file.write('I am writing second line in testing.txt\\n')"
   ]
  },
  {
   "cell_type": "raw",
   "metadata": {},
   "source": [
    "Always remember that the the open() function will automatically creates the file you’re writing to if the file name you passed doesn’t already exist."
   ]
  },
  {
   "cell_type": "code",
   "execution_count": 47,
   "metadata": {},
   "outputs": [],
   "source": [
    "#So you dont have to worry about file creation, it will automatically do that for you"
   ]
  },
  {
   "cell_type": "raw",
   "metadata": {},
   "source": [
    "we use the write() method on the file object or file handler to write a string to the file. we use it two times to write two lines and remember that the write() function by default doesn’t add any newlines to the text you write. So if you are writing more than one line try to add new line character after each line which I already did at the end of each line"
   ]
  },
  {
   "cell_type": "code",
   "execution_count": 51,
   "metadata": {},
   "outputs": [],
   "source": [
    "#so now we know how to read data from a file, lets read it"
   ]
  },
  {
   "cell_type": "code",
   "execution_count": 52,
   "metadata": {},
   "outputs": [
    {
     "name": "stdout",
     "output_type": "stream",
     "text": [
      "I am writing first line in testing.txt\n",
      "I am writing second line in testing.txt\n",
      "\n"
     ]
    }
   ],
   "source": [
    "with open('testing.txt', 'r') as reader:\n",
    "    print(reader.read())"
   ]
  },
  {
   "cell_type": "raw",
   "metadata": {},
   "source": [
    "Their is one drawback of opening a file in write mode ('w') because if the file does not, Python will erase the file before returning the file object or file handler and when you write next time to the same file it will overwrite to the existing data in that file "
   ]
  },
  {
   "cell_type": "code",
   "execution_count": 53,
   "metadata": {},
   "outputs": [],
   "source": [
    "#let see whether it happens or not, I am again writing in testing.txt and see whether it overwrite the previous written \n",
    "#data or not"
   ]
  },
  {
   "cell_type": "code",
   "execution_count": 54,
   "metadata": {},
   "outputs": [],
   "source": [
    "with open('testing.txt', 'w') as file:\n",
    "    file.write('Writing second time to testing.txt')"
   ]
  },
  {
   "cell_type": "code",
   "execution_count": 55,
   "metadata": {},
   "outputs": [],
   "source": [
    "#now lets retrieve data from it"
   ]
  },
  {
   "cell_type": "code",
   "execution_count": 56,
   "metadata": {},
   "outputs": [
    {
     "name": "stdout",
     "output_type": "stream",
     "text": [
      "Writing second time to testing.txt\n"
     ]
    }
   ],
   "source": [
    "with open('testing.txt', 'r') as file:\n",
    "    print(file.read())"
   ]
  },
  {
   "cell_type": "code",
   "execution_count": 58,
   "metadata": {},
   "outputs": [],
   "source": [
    "#So you can see that's a huge drawback, and to get rid from it we have to open our file in append mode"
   ]
  },
  {
   "cell_type": "markdown",
   "metadata": {},
   "source": [
    "## Appending to a File"
   ]
  },
  {
   "cell_type": "raw",
   "metadata": {},
   "source": [
    "The benefit of opening your file in append mode is that Python doesn’t erase the file before returning the file object or file handler so when you add some data or content to a file, instead of writing over existing content, any lines you write to the file will be added at the end of the file. And Like write mode 'w' it will automatically create a file for you if a file does not exist."
   ]
  },
  {
   "cell_type": "code",
   "execution_count": 59,
   "metadata": {},
   "outputs": [],
   "source": [
    "#We have already check that our testing.txt file contains one line which is Writing second time to testing.txt. Now lets\n",
    "#open testing.txt in append mode and write something to it and that is over writing the existing content or not"
   ]
  },
  {
   "cell_type": "code",
   "execution_count": 64,
   "metadata": {},
   "outputs": [],
   "source": [
    "with open('testing.txt', 'a') as file:\n",
    "    file.write('\\nWriting a line using append method')\n"
   ]
  },
  {
   "cell_type": "raw",
   "metadata": {},
   "source": [
    "And you can see we use the 'a' argument to open the file in append mode rather than in write mode to avoid writing over the existing file and write a line 'Writing a line using append method' with newline character at the starting to get this line on new line."
   ]
  },
  {
   "cell_type": "code",
   "execution_count": 66,
   "metadata": {},
   "outputs": [],
   "source": [
    "#now its time to read testing.txt"
   ]
  },
  {
   "cell_type": "code",
   "execution_count": 67,
   "metadata": {},
   "outputs": [
    {
     "name": "stdout",
     "output_type": "stream",
     "text": [
      "Writing second time to testing.txt\n",
      "Writing a line using append method\n"
     ]
    }
   ],
   "source": [
    "with open('testing.txt', 'r') as file:\n",
    "    print(file.read())"
   ]
  },
  {
   "cell_type": "code",
   "execution_count": 68,
   "metadata": {},
   "outputs": [],
   "source": [
    "#you can see that it does not write over the previously written 'Writing second time testing.txt'"
   ]
  },
  {
   "cell_type": "code",
   "execution_count": 69,
   "metadata": {},
   "outputs": [],
   "source": [
    "#Now its time to discuss last mode"
   ]
  },
  {
   "cell_type": "markdown",
   "metadata": {},
   "source": [
    "## Mode to read and write to a file"
   ]
  },
  {
   "cell_type": "raw",
   "metadata": {},
   "source": [
    "We have already discussed read write and append mode, now its time to discuss an another mode which can perform both reading and writingat the same time.\n",
    "\n",
    "For this mode we use 'r+' as second argument to open function  "
   ]
  },
  {
   "cell_type": "code",
   "execution_count": 71,
   "metadata": {},
   "outputs": [
    {
     "name": "stdout",
     "output_type": "stream",
     "text": [
      "t\n",
      "Writing a line using append method\n"
     ]
    }
   ],
   "source": [
    "with open('testing.txt', 'r+') as file:\n",
    "    file.write('Reading and writing using r+ mode')\n",
    "    print(file.read())"
   ]
  },
  {
   "cell_type": "raw",
   "metadata": {},
   "source": [
    "You can see that it overwrites the previously written data and we get the remaining data which wasn't overwrite because the line we have passed used to overwrite the first line 'Writing second time to testing.tx' till 'x' and we get the remaining 't' and the 'second line'"
   ]
  },
  {
   "cell_type": "code",
   "execution_count": 73,
   "metadata": {},
   "outputs": [],
   "source": [
    "#something thing to remember about read and write mode is that"
   ]
  },
  {
   "cell_type": "raw",
   "metadata": {},
   "source": [
    "1.\"r+\" mode perform both reading and writing.\n",
    "\n",
    "2.It does not automatically creats a file\n",
    "\n",
    "3.It will also overwrite your existing data but does not completely erase unlike writing mode do, it write over the data and if some data remain left after overwriting then it will return us where writing mode first completely erase the content of file, make it empty and then starts to write in it."
   ]
  },
  {
   "cell_type": "code",
   "execution_count": 74,
   "metadata": {},
   "outputs": [],
   "source": [
    "#So these were the 4 common method use to read and write data to and from a file which we used, so that's it for handling\n",
    "#file using python, see you soon"
   ]
  },
  {
   "cell_type": "code",
   "execution_count": null,
   "metadata": {},
   "outputs": [],
   "source": []
  }
 ],
 "metadata": {
  "kernelspec": {
   "display_name": "Python 3",
   "language": "python",
   "name": "python3"
  },
  "language_info": {
   "codemirror_mode": {
    "name": "ipython",
    "version": 3
   },
   "file_extension": ".py",
   "mimetype": "text/x-python",
   "name": "python",
   "nbconvert_exporter": "python",
   "pygments_lexer": "ipython3",
   "version": "3.7.4"
  }
 },
 "nbformat": 4,
 "nbformat_minor": 4
}
