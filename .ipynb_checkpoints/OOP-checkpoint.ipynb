{
 "cells": [
  {
   "cell_type": "markdown",
   "metadata": {},
   "source": [
    "Object-oriented programming is an effective technique which is used in software writing. OOP consist of classes\n",
    "\n",
    "# Classes\n",
    "\n",
    "classes are templates, they represent things and situations and help you standardize and organize the information.\n",
    "and you create objects based on these classes which are called instance or objects. Working with a class means, defining the general behaviour of particular category which you can relate to different objects using instance or objects"
   ]
  },
  {
   "cell_type": "code",
   "execution_count": 1,
   "metadata": {},
   "outputs": [],
   "source": [
    "#Now lets write a class and discuss all factors one by one "
   ]
  },
  {
   "cell_type": "code",
   "execution_count": 2,
   "metadata": {},
   "outputs": [],
   "source": [
    "#Lets say you are running a school, children comes to your school for admission and you provide them with a form so they \n",
    "#can fill their personal information, now hold on, my question is whether you provide them blank sheet of paper??? \n",
    "#Obviously no and the reason is that you are only interested in certain kinds of information and for that you will provide\n",
    "#them with a form consist a set of information organized the same way for each children or student"
   ]
  },
  {
   "cell_type": "markdown",
   "metadata": {},
   "source": [
    "### CREATING A CLASS"
   ]
  },
  {
   "cell_type": "code",
   "execution_count": 39,
   "metadata": {},
   "outputs": [],
   "source": [
    "#Now we have taiked alot, its time to see code\n",
    "\n",
    "\n",
    "class Student():\n",
    "\n",
    "    \"\"\" A student admission form \"\"\"\n",
    "    def __init__(self, first_name, last_name, age, class_to_be_enrolled):\n",
    "        self.first_name = first_name\n",
    "        self.last_name = last_name\n",
    "        self.age = age\n",
    "        self.class_to_be_enrolled = class_to_be_enrolled\n",
    "        \n",
    "    def display(self):\n",
    "        return f\"A student name is {self.first_name.title() + ' ' + self.last_name.title()} with an age of {self.age}, and likely to be enrolled in class { self.class_to_be_enrolled}\"\n",
    "    def fees(self):\n",
    "        if self.class_to_be_enrolled < 1:\n",
    "            fees = 100\n",
    "            return f'Your monthly fees would be {fees} dollars'\n",
    "        elif self.class_to_be_enrolled < 5:\n",
    "            fees = 150\n",
    "            return f'Your monthly fees would be {fees} dollars'\n",
    "        else:\n",
    "            fees = 200\n",
    "            return f'Your monthly fees would be {fees} dollars'"
   ]
  },
  {
   "cell_type": "markdown",
   "metadata": {},
   "source": [
    "##### CREATING AN INSTANCE OR OBJECT(TESTING AS WE GO)"
   ]
  },
  {
   "cell_type": "code",
   "execution_count": 44,
   "metadata": {},
   "outputs": [
    {
     "name": "stdout",
     "output_type": "stream",
     "text": [
      "Accessing attribute using instance(student_159) of class Student->\n",
      "Andrew\n",
      "\n",
      "A student name is Andrew Tyler with an age of 7, and likely to be enrolled in class 2\n"
     ]
    },
    {
     "data": {
      "text/plain": [
       "'Your monthly fees would be 150 dollars'"
      ]
     },
     "execution_count": 44,
     "metadata": {},
     "output_type": "execute_result"
    }
   ],
   "source": [
    "student_159 = Student('andrew', 'tyler', 7, 2)\n",
    "print('Accessing attribute using instance(student_159) of class Student->')\n",
    "\n",
    "print(student_159.first_name.title())\n",
    "print()\n",
    "print(student_159.display())\n",
    "\n",
    "student_159.fees()"
   ]
  },
  {
   "cell_type": "code",
   "execution_count": 41,
   "metadata": {},
   "outputs": [],
   "source": [
    "#Now lets divide our problem into parts so it will be easy to understand"
   ]
  },
  {
   "cell_type": "raw",
   "metadata": {},
   "source": [
    "\n",
    "1.class Student():\n",
    "\n",
    "  \n",
    "2.  \"\"\" A student admission form \"\"\"\n",
    "\n",
    "\n",
    "3.    def __init__(self, first_name, last_name, age, class_to_be_enrolled):\n",
    "\n",
    "4.      self.first_name = first_name\n",
    "        self.last_name = last_name\n",
    "        self.age = age\n",
    "        self.class_to_be_enrolled = class_to_be_enrolled\n",
    "4.        \n",
    "\n",
    "5.    def display(self):\n",
    "        print(f\"A student name is {self.first_name.title() + ' ' + self.last_name.title()} with an age of {self.age}, and    likely to be enrolled in class { self.class_to_be_enrolled}\")\n",
    "5.\n",
    "\n",
    "6.    def fees(self):\n",
    "        if self.class_to_be_enrolled < 1:\n",
    "            fees = 100\n",
    "            return f'Your monthly fees would be {fees} dollars'\n",
    "        elif self.class_to_be_enrolled < 5:\n",
    "            fees = 150\n",
    "            return f'Your monthly fees would be {fees} dollars'\n",
    "        else:\n",
    "            fees = 200\n",
    "            return f'Your monthly fees would be {fees} dollars'\n",
    "6."
   ]
  },
  {
   "cell_type": "raw",
   "metadata": {},
   "source": [
    "7.student_159 = Student('andrew', 'tyler', 7, 2)\n",
    "\n",
    "print('Accessing attribute using instance(student_159) of class Student->')\n",
    "\n",
    "8.student_159.first_name.title()\n",
    "\n",
    "9.student_159.display()\n",
    "\n",
    "10.student_159.fees()"
   ]
  },
  {
   "cell_type": "markdown",
   "metadata": {},
   "source": [
    "Thats a code for student admission form. lots of things going on here, dont worry with in minutes you will be able to \n",
    "understand every single line of code and I have already make pdf of what I am gonna say here so dont worry about material,\n",
    "just focus on what I am saying, so now its time for unpacking \n",
    "\n",
    "so lets start with line 1 or\n",
    "\n",
    "###### Part 1(Creating Class):\n",
    "\n",
    "class Student():\n",
    "\n",
    "I have defined a class called Student. Note that I made S capital and By convention, capitalized names refer to classes\n",
    "in Python. In class definition, after class name their is an empty parentheses empty because we’re creating this class from  scratch and later you guys will also see something written with in paranthesis which means that the particular class has not created from scratch, but it consist of parts from some other class. For now lets forget this and keep in mind that empty paranthesis means creation of class from scratch \n",
    "\n",
    "\n",
    "###### Part 2(docstring):\n",
    "\n",
    "At 2 a document or docstring is defined to which you are already familiar describing about this class\n",
    "\n",
    "###### Part 3(The __init_() method and parameters):\n",
    "\n",
    "Now coming on towards def part\n",
    "\n",
    "Always remember that a function that’s part of a class is called method. Everything that you have already learned about\n",
    "functions also applies to methods but the only practical difference for now is the way we’ll call methods. \n",
    "\n",
    "The __init__() method at line followed by the def keyword is a special method which python executes automatically whenever we create a new instance or object based on the class, you can also called it as initializer or constructor, initializer in a sense that it initializes the state of instance, you people might wondering what is instance or object is, for now it is particular student information form or student admission form:\n",
    "\n",
    "for example student_159 is the registration no or form no of student and he is filling the admission form and mentioninig all required(standard) information in it \n",
    "\n",
    "The __init__() method has two leading and two trailing underscores, a convention that helps prevent Python’s default method names from conflicting with your method names.\n",
    "\n",
    "We have passed the keyword self then comma then comes the name of an attributes(which is discussed below) to include in each individual student form In our case, it's the first name, last name, age and class in which he want to be enrolled then closing paranthesis followed by a colon. TThe self parameter is required in the method definition you can also used your name or any other word in place of it but by convention we use self, and it must come first before the other parameters or attributes because 'It gives the individual instance (student_159 in our case) access to all the attributes and methods in the student class'.\n",
    "\n",
    "###### for now lets jump to part 7 creating an instance or object:\n",
    "\n",
    "When we make an instance of class Student which is student_159, Python will automatically call the __init__() method from the Student class. Then We’ll pass Student() a first name, last name, age and class to be enrolled as arguments; self is passed automatically, so we don’t need to pass it. Whenever we want to make an instance from the Student class,what we'll do is to provide values for only parameters other than self which in our case are first name, last name, age and class to be enrolled and we can access all those part of class Student using instance student_159 where self keyword is used(In our case all attribute and display(self) and fees(self) method).\n",
    "\n",
    "\n",
    "Now comes to part 4 which is the attributes part\n",
    "\n",
    "###### Part 4(Attributes and Self keyword):\n",
    "\n",
    "We have defined 4 variables each with the prefix self. Always remember that \n",
    "\n",
    "'Any variable prefixed with self is called Attribute' \n",
    "\n",
    "It is available to every method(function) in the class for example you can see that methods display(self) and fees(self) both consist of self parameter in paranthesis so we can call these attributes or variables in those function when needed which I have already done(see print statement of part 5 and 6), and we’ll also be able to access these attributes through any instance created from the class(see part 8).\n",
    "\n",
    "self.first_name = first_name takes the value stored in the parameter first_name and stores it in the attribute first_name, and it consist of prefix self so because of this it is then attached to the instance being created(student_159.first_name).\n",
    "\n",
    "You can give this attribute any name you like, as long as it's legal...\n",
    "self.rubbish = first_name\n",
    "But the easy thing to do is to duplicate the attribute name. That's what I have done \n",
    "self.first_name = first_name\n",
    "\n",
    "Follow the same process for\n",
    "\n",
    "self.last_name = last_name\n",
    "\n",
    "self.age = age\n",
    "\n",
    "self.class_to_be_enrolled = class_to_be_enrolled\n",
    "\n",
    "Definition for Attributes:\n",
    "\n",
    "'Variables that are accessible through instances like this are called attributes.'\n",
    "\n",
    "Its time for part 5\n",
    "\n",
    "###### Part 5 and Part 6(Methods):\n",
    "\n",
    "Now we have done till parts 4 and later are quite easy as you guys are already familiar with python functions which in classes are called methods.\n",
    "\n",
    "Our Student class has two other methods defined: display() and fees(). As these methods don’t need any information outside the class, we just define them to have one parameter, self and with the help of self keyword we can access these methods using instance of Student class(see part 9 and 10). \n",
    "\n",
    "I have already told you about part 7, 8, 9 and 10. Lets quickly recap it\n",
    "\n",
    "###### Part 7(Making an Instance of Class):\n",
    "An instance object of class Student is created with name student_159\n",
    "When we create an instance of a class—a fresh sheet to fill out—we say we instantiate the class. \n",
    "\n",
    "'Making an object or instance of a class is called instantiation'\n",
    "\n",
    "We begin with the name of the instance—its unique identifier. In our case, it's student_159 and note that it is unique becauses no two students can have same form no or school registration number.Then comes the equal sign, then the name of the class, and then the arguments or value to be assigned to the attribute in parentheses. We can use the class to create as many instances(As many form for hundreds and thousands of students registration but each having unique instance identifier or different school registration number)\n",
    "\n",
    "An instance help us to access all those part of class self keyword is used.\n",
    "\n",
    "###### Part 8(Accessing Attribute Using dot notation):\n",
    "Accessing attribute of class using instance object and it will print first name of student_159\n",
    "To access the attributes of an instance, you use dot notation. At 8 we access the value of studen_159 attribute first_name by writing\n",
    "\n",
    "student_159.first_name.title()\n",
    "\n",
    "You can also access other attributes using instance name followed by a dot and attribute name\n",
    "\n",
    "###### Part 9(Call Method):\n",
    "Calling or accessing display method of class using instance of class which is student_159 and it will print information about instance student_159\n",
    "\n",
    "To call a method of a class, give the name of the instance (in our case, student_159) and the method you want to call, separated by a dot. When Python reads student_159.display(), it looks for the method display() in the class Student and runs that code. \n",
    "\n",
    "###### Part 10(Call Method):\n",
    "Accessing fees method of class and its consist of self parameter so it have access to all attributes of class and it checks about class to be enrolled attribute and if class to be enrolled is less than class first then it will return monthly fees to be 100 dollars, if it is less than class 5th then it will return monthly fees to be 150 dollars and else 200 dollars\n",
    "\n",
    "Python interprets the line student_159.fees() in the same way as in part 9"
   ]
  },
  {
   "cell_type": "code",
   "execution_count": null,
   "metadata": {},
   "outputs": [],
   "source": []
  },
  {
   "cell_type": "markdown",
   "metadata": {},
   "source": [
    "##### Creating Multiple Instances"
   ]
  },
  {
   "cell_type": "code",
   "execution_count": 33,
   "metadata": {},
   "outputs": [],
   "source": [
    "#You can create as many instances from a class as you need. As you provide every new student with new form or different form\n",
    "#or registration number to get admission in your school same lies in case of instances remember that they are unique \n",
    "#identifier."
   ]
  },
  {
   "cell_type": "code",
   "execution_count": 46,
   "metadata": {},
   "outputs": [
    {
     "name": "stdout",
     "output_type": "stream",
     "text": [
      "Creating Instances\n",
      "\n",
      "**************** Accessing first name and age attributes of both instances using dot notation ***************\n",
      "\n",
      "Instance student_159\n",
      "\n",
      "Andrew\n",
      "7\n",
      "\n",
      "Instance student_160\n",
      "\n",
      "Nicholas\n",
      "10\n"
     ]
    }
   ],
   "source": [
    "#lets create another instance for new student who wants to get admission in your school and call that instance student_160\n",
    "\n",
    "print(\"Creating Instances\")\n",
    "\n",
    "student_159 = Student('andrew', 'tyler', 7, 2)\n",
    "student_160 = Student('Nicholas', 'Taylor', 10, 5)#new instance for new student\n",
    "\n",
    "print('\\n**************** Accessing first name and age attributes of both instances using dot notation ***************\\n')\n",
    "\n",
    "print('Instance student_159\\n')\n",
    "\n",
    "print(student_159.first_name.title())\n",
    "print(student_159.age)\n",
    "\n",
    "print('\\nInstance student_160\\n')\n",
    "\n",
    "print(student_160.first_name.title())\n",
    "print(student_160.age)\n"
   ]
  },
  {
   "cell_type": "code",
   "execution_count": 47,
   "metadata": {},
   "outputs": [
    {
     "name": "stdout",
     "output_type": "stream",
     "text": [
      "\n",
      "**************** Accessing display and fees methods of both instances using dot notation ***************\n",
      "\n",
      "Instance student_159\n",
      "\n",
      "A student name is Andrew Tyler with an age of 7, and likely to be enrolled in class 2\n",
      "Your monthly fees would be 150 dollars\n",
      "\n",
      "Instance student_160\n",
      "\n",
      "A student name is Nicholas Taylor with an age of 10, and likely to be enrolled in class 5\n",
      "Your monthly fees would be 200 dollars\n"
     ]
    }
   ],
   "source": [
    "#In the same way you can also access both instances methods\n",
    "print('\\n**************** Accessing display and fees methods of both instances using dot notation ***************\\n')\n",
    "\n",
    "print('Instance student_159\\n')\n",
    "\n",
    "print(student_159.display())\n",
    "print(student_159.fees())\n",
    "\n",
    "print('\\nInstance student_160\\n')\n",
    "\n",
    "print(student_160.display())\n",
    "print(student_160.fees())"
   ]
  },
  {
   "cell_type": "code",
   "execution_count": 16,
   "metadata": {},
   "outputs": [],
   "source": [
    "#Now lets use another real world example, this time I have made vehicle class, the vehicle can be car, bike truck whatever\n",
    "#you want. It will become complex as we go, so stick with me with concentration\n",
    "\n",
    "class Vehicle():\n",
    "    def __init__(self, vehicle_type, manufacturer, model, year, color):\n",
    "        self.vehicle_type = vehicle_type\n",
    "        self.manufacturer = manufacturer\n",
    "        self.model = model\n",
    "        self.year = year\n",
    "        self.color = color\n",
    "    \n",
    "    def description(self):\n",
    "        details = 'Vehicle type is ' + self.vehicle_type.title() + ' manufactured by ' + self.manufacturer.title() + ' having color ' + self.color.title() + ', model name is ' + self.model.title() + ' and year of manufacturing is ' + str(self.year)\n",
    "        return details"
   ]
  },
  {
   "cell_type": "markdown",
   "metadata": {},
   "source": [
    "###### Creating Instance"
   ]
  },
  {
   "cell_type": "code",
   "execution_count": 17,
   "metadata": {},
   "outputs": [],
   "source": [
    "car = Vehicle('car', 'mercedes benz', 'a-class sedan', 2019, 'black')"
   ]
  },
  {
   "cell_type": "markdown",
   "metadata": {},
   "source": [
    "###### Calling method using instance"
   ]
  },
  {
   "cell_type": "code",
   "execution_count": 18,
   "metadata": {},
   "outputs": [
    {
     "data": {
      "text/plain": [
       "'Vehicle type is Car manufactured by Mercedes Benz having color Black, model name is A-Class Sedan and year of manufacturing is 2019'"
      ]
     },
     "execution_count": 18,
     "metadata": {},
     "output_type": "execute_result"
    }
   ],
   "source": [
    "car.description()"
   ]
  },
  {
   "cell_type": "code",
   "execution_count": 20,
   "metadata": {},
   "outputs": [],
   "source": [
    "# I think you guys might know this time what happening here, its working is similar to previous class we saw\n",
    "#Again I have divided a problem into different parts so you guys dont have any confusion"
   ]
  },
  {
   "cell_type": "raw",
   "metadata": {},
   "source": [
    "1.class Vehicle():\n",
    "2.    def __init__(self, vehicle_type, manufacturer, model, year, color):\n",
    "3.        self.vehicle_type = vehicle_type\n",
    "          self.manufacturer = manufacturer\n",
    "          self.model = model\n",
    "          self.year = year\n",
    "          self.color = color\n",
    "    \n",
    "4.    def description(self):\n",
    "          details = 'Vehicle type is ' + self.vehicle_type.title() + ' manufactured by ' + self.manufacturer.title() + '  having color ' + self.color.title() + ', model name is ' + self.model.title() + ' and year of manufacturing is ' + str(self.year)\n",
    "        return details\n",
    "        \n",
    "        \n",
    "5.car = Vehicle('car', 'mercedes benz', 'a-class sedan', 2019, 'black')\n",
    "6.car.description()"
   ]
  },
  {
   "cell_type": "markdown",
   "metadata": {},
   "source": [
    "##### Part 1(Create Class):\n",
    "\n",
    "In Part 1 we simply create a class with name Vehicle with empty paranthesis which means it is created from scratch\n",
    "\n",
    "##### Part 2(__init__() method):\n",
    "\n",
    "At part 2 in function definition we define __init__() with self keyword as its first parameter along with 5 other parameters namely vehicle type, manufacturer, model, year, and color as we did before in student class\n",
    "We know that the __init__() method takes in these parameters and stores them in the attributes that will be\n",
    "associated with instances made from this class. So when we create our instance of class vehicle , we’ll need to specify a vehicle_type, manufacturer,model, year and color\n",
    "\n",
    "##### Part 3(Attributes):\n",
    "\n",
    "In part 3 we define 5 variables with prefix self which means these are attributes and are available to all methods of this class and can be access from outside using instance of this class\n",
    "\n",
    "##### Part 4(Method):\n",
    "\n",
    "At 4 we define a method called description(self) that return vehicle type, manufacturer company, model, year and color upon calling with the help of instance of class. This will spare us from having to print each attribute’s value individually. To use attribute values in description method, we use self.vehicle_type, self.manufacturer, self.model, self.year and self.color\n",
    "\n",
    "##### Part 5(Creating an Instance):\n",
    "\n",
    "we make an instance from the Vehicle class and store it in the variable Car and passed all required parameters to it.\n",
    "\n",
    "##### Part 6(Calling Method):\n",
    "\n",
    "Then we call method description() to show the details of car "
   ]
  },
  {
   "cell_type": "code",
   "execution_count": 21,
   "metadata": {},
   "outputs": [],
   "source": [
    "#Now its time to add complexity in it, To make the class more interesting, let’s add an attribute that changes\n",
    "#over time."
   ]
  },
  {
   "cell_type": "markdown",
   "metadata": {},
   "source": [
    "### Default Value for an Attribute"
   ]
  },
  {
   "cell_type": "raw",
   "metadata": {},
   "source": [
    "Previously we were storing parameter value in attributes, this time we will do the same but we add one default attribute,\n",
    "We know that every attribute in a class has some initial value, and it cane also be 0 or an empty string.\n",
    "In some cases, such as when setting a default value, it makes sense to specify this initial or default value in the body \n",
    "of the __init__() method which is attribute part and if we directly set default or initial value in attribute part\n",
    "for an attribute, we don’t have to include a parameter for that attribute in init() method."
   ]
  },
  {
   "cell_type": "code",
   "execution_count": 22,
   "metadata": {},
   "outputs": [],
   "source": [
    "#Now its time to add an attribute called odometer_reading that always starts with a default value of 0. \n",
    "#We can find our all attributes reading from discrption method and to read odometer reading we create another method named\n",
    "#reading_odometer to reach vehicle odometer reading when needed"
   ]
  },
  {
   "cell_type": "code",
   "execution_count": 36,
   "metadata": {},
   "outputs": [],
   "source": [
    "#here we copy pasted our vehicle class with addition of both default value for an attribute and reading odometer method\n",
    "\n",
    "class Vehicle():\n",
    "    def __init__(self, vehicle_type, manufacturer, model, year, color):\n",
    "        self.vehicle_type = vehicle_type\n",
    "        self.manufacturer = manufacturer\n",
    "        self.model = model\n",
    "        self.year = year\n",
    "        self.color = color\n",
    "        self.odometer_reading = 0#here we set our default value 0 for an attribute and what I have said earlier we dont\n",
    "        #need to add any parameter for it in init method\n",
    "    \n",
    "    def description(self):\n",
    "        details = 'Vehicle type is ' + self.vehicle_type.title() + ' manufactured by ' + self.manufacturer.title() + ' having color ' + self.color.title() + ', model name is ' + self.model.title() + ' and year of manufacturing is ' + str(self.year)\n",
    "        return details\n",
    "    def reading_odometer(self):\n",
    "        \"\"\"Method to read odometer reading\"\"\"\n",
    "        return f\"This vehicle has \" + str(self.odometer_reading) + \" miles.\""
   ]
  },
  {
   "cell_type": "code",
   "execution_count": 37,
   "metadata": {},
   "outputs": [],
   "source": [
    "#we again created an instance\n",
    "car = Vehicle('car', 'mercedes benz', 'a-class sedan', 2019, 'black')\n",
    "\n",
    "#This time when we create a new instance Python calls the __init__() method to  stores the vehicle type, manufacturer, model\n",
    "#year and color, and year values as attributes like it did in the previous example. Then Python creates a new attribute\n",
    "#called odometer_reading and sets its initial or default value to 0. We also have a new method called\n",
    "#read_odometer() which it easier to read a vehicle odometer reading or mileage."
   ]
  },
  {
   "cell_type": "code",
   "execution_count": 38,
   "metadata": {},
   "outputs": [
    {
     "data": {
      "text/plain": [
       "'This vehicle has 0 miles.'"
      ]
     },
     "execution_count": 38,
     "metadata": {},
     "output_type": "execute_result"
    }
   ],
   "source": [
    "#now this time we call reading odometer method using instance\n",
    "#and as we set odometer_reading attribute values to 0 so this method will return us 0\n",
    "car.reading_odometer()"
   ]
  },
  {
   "cell_type": "code",
   "execution_count": 39,
   "metadata": {},
   "outputs": [],
   "source": [
    "#most of the times people dont want to buy a vehicle that does not runs or having 0 mileage, so what if we want to update\n",
    "#attribute self.odometer reading value?? lets check how it is possible"
   ]
  },
  {
   "cell_type": "markdown",
   "metadata": {},
   "source": [
    "### Modify Attribute Value"
   ]
  },
  {
   "cell_type": "raw",
   "metadata": {},
   "source": [
    "We can change an attribute’s value in three ways: \n",
    "\n",
    "1.We can change the value directly by accessing attribute through an instance\n",
    "2.We can set the value through a method calling.\n",
    "3.We can increment the value (add a certain amount to it) through a method calling. "
   ]
  },
  {
   "cell_type": "code",
   "execution_count": 40,
   "metadata": {},
   "outputs": [],
   "source": [
    "#we'll see all these approaches one by one"
   ]
  },
  {
   "cell_type": "markdown",
   "metadata": {},
   "source": [
    "#### Modify Attribute Value by Accessing Attribute directly through an Instance"
   ]
  },
  {
   "cell_type": "code",
   "execution_count": 41,
   "metadata": {},
   "outputs": [],
   "source": [
    "#we already know how to access attribute of class using instance, you can find it in student class as well\n",
    "\n",
    "#To recall it to you guys, you can access attributes using instance name followed by a dot and attribute name"
   ]
  },
  {
   "cell_type": "raw",
   "metadata": {},
   "source": [
    "So to modify the value, after accessing particular attribute directly through an instance we assign it a new value, that's it"
   ]
  },
  {
   "cell_type": "code",
   "execution_count": 42,
   "metadata": {},
   "outputs": [],
   "source": [
    "#we have already created our instance car, let access attribute by using it and assign it a new value\n",
    "car.odometer_reading = 20 \n",
    "#we use instance name followed by a dot and then attribute name and directly assign it the new value\n",
    "#This line tells Python to take the instance car, find the attribute odometer_reading associated with it, and set the\n",
    "#value of that attribute to 20"
   ]
  },
  {
   "cell_type": "code",
   "execution_count": 43,
   "metadata": {},
   "outputs": [
    {
     "data": {
      "text/plain": [
       "'This vehicle has 20 miles.'"
      ]
     },
     "execution_count": 43,
     "metadata": {},
     "output_type": "execute_result"
    }
   ],
   "source": [
    "#you can also check odometer reading by calling reading odometer method\n",
    "car.reading_odometer()\n",
    "#see this time value changes from 0 to 20"
   ]
  },
  {
   "cell_type": "code",
   "execution_count": 44,
   "metadata": {},
   "outputs": [],
   "source": [
    "#This method is simple and easy to use for begining, but when you are making a software which will be used by many people,\n",
    "#then theor might be the chance of hacking etc so to avoid that we use second way of changing attribute value which uses\n",
    "#method to change attribute value"
   ]
  },
  {
   "cell_type": "markdown",
   "metadata": {},
   "source": [
    "#### Modifying an Attribute’s Value Through a Method"
   ]
  },
  {
   "cell_type": "code",
   "execution_count": 6,
   "metadata": {},
   "outputs": [],
   "source": [
    "#we have to create a method that help us to update the odometer value\n",
    "class Vehicle():\n",
    "    def __init__(self, vehicle_type, manufacturer, model, year, color):\n",
    "        self.vehicle_type = vehicle_type\n",
    "        self.manufacturer = manufacturer\n",
    "        self.model = model\n",
    "        self.year = year\n",
    "        self.color = color\n",
    "        self.odometer_reading = 0#here we set our default value 0 for an attribute and what I have said earlier we dont\n",
    "        #need to add any parameter for it in init method\n",
    "    \n",
    "    def description(self):\n",
    "        details = 'Vehicle type is ' + self.vehicle_type.title() + ' manufactured by ' + self.manufacturer.title() + ' having color ' + self.color.title() + ', model name is ' + self.model.title() + ' and year of manufacturing is ' + str(self.year)\n",
    "        return details\n",
    "    \n",
    "    def reading_odometer(self):\n",
    "        \"\"\" Method to read odometer reading\"\"\"\n",
    "        return f\"This vehicle has \" + str(self.odometer_reading) + \" miles.\"\n",
    "    \n",
    "    def update_odometer_reading(self, mileage):\n",
    "        \"\"\"Set or change the odometer reading to the new given value\"\"\"\n",
    "        if mileage >= self.odometer_reading:\n",
    "            self.odometer_reading = mileage\n",
    "        else:\n",
    "            print(\"You can't decrease the odometer reading\")"
   ]
  },
  {
   "cell_type": "code",
   "execution_count": 58,
   "metadata": {},
   "outputs": [],
   "source": [
    "#here we add update odometer reading method which takes mileage value as input and store or assign it to \n",
    "#self.odometer_reading if and only if the given new mileage value is greater than or equal to old odometer reading or old\n",
    "#mileage, so that no one can reduce back the odometer reading."
   ]
  },
  {
   "cell_type": "code",
   "execution_count": 59,
   "metadata": {},
   "outputs": [],
   "source": [
    "#again creating an instance\n",
    "car1 = Vehicle('car', 'mercedes benz', 'a-class sedan', 2019, 'black')\n",
    "\n",
    "#so lets try to change odometer reading using update odometer reading method\n",
    "car1.update_odometer_reading(30)"
   ]
  },
  {
   "cell_type": "code",
   "execution_count": 60,
   "metadata": {},
   "outputs": [
    {
     "data": {
      "text/plain": [
       "'This vehicle has 30 miles.'"
      ]
     },
     "execution_count": 60,
     "metadata": {},
     "output_type": "execute_result"
    }
   ],
   "source": [
    "#now check whether it has been updated or not using reading_odometer method\n",
    "car1.reading_odometer()\n",
    "#see it works nicely"
   ]
  },
  {
   "cell_type": "code",
   "execution_count": 1,
   "metadata": {},
   "outputs": [],
   "source": [
    "#Now its time to incremeant the value of an attribute through method"
   ]
  },
  {
   "cell_type": "markdown",
   "metadata": {},
   "source": [
    "#### Incrementing the Value of an Attribute through a Method"
   ]
  },
  {
   "cell_type": "code",
   "execution_count": 1,
   "metadata": {},
   "outputs": [],
   "source": [
    "#Sometime you want to increment an attribute’s value by a certain amount rather than set or assign an entirely new value\n",
    "#its just work like an accumulator pattern where new value added to previous one."
   ]
  },
  {
   "cell_type": "code",
   "execution_count": 3,
   "metadata": {},
   "outputs": [],
   "source": [
    "#Suppose our initial mileage or odometer reading is 30 miles, we drove our car from houston to dallas\n",
    "#which is around 240 miles, so how we can add new 240 miles to previous 30 miles, lets quickly check it out"
   ]
  },
  {
   "cell_type": "code",
   "execution_count": 3,
   "metadata": {},
   "outputs": [],
   "source": [
    "class Vehicle():\n",
    "    def __init__(self, vehicle_type, manufacturer, model, year, color):\n",
    "        self.vehicle_type = vehicle_type\n",
    "        self.manufacturer = manufacturer\n",
    "        self.model = model\n",
    "        self.year = year\n",
    "        self.color = color\n",
    "        self.odometer_reading = 0#here we set our default value 0 for an attribute and what I have said earlier we dont\n",
    "        #need to add any parameter for it in init method\n",
    "    \n",
    "    def description(self):\n",
    "        details = 'Vehicle type is ' + self.vehicle_type.title() + ' manufactured by ' + self.manufacturer.title() + ' having color ' + self.color.title() + ', model name is ' + self.model.title() + ' and year of manufacturing is ' + str(self.year)\n",
    "        return details\n",
    "    \n",
    "    def reading_odometer(self):\n",
    "        \"\"\" Method to read odometer reading\"\"\"\n",
    "        return f\"This vehicle has \" + str(self.odometer_reading) + \" miles.\"\n",
    "    \n",
    "    def update_odometer_reading(self, mileage):\n",
    "        \"\"\"Set or change the odometer reading to the new given value\"\"\"\n",
    "        if mileage >= self.odometer_reading:\n",
    "            self.odometer_reading = mileage\n",
    "        else:\n",
    "            print(\"You can't decrease the odometer reading\")\n",
    "    \n",
    "    def increment_in_odometer_reading(self, miles):\n",
    "        \"\"\"Add the new given amount of miles to the odometer reading\"\"\"\n",
    "        self.odometer_reading += miles"
   ]
  },
  {
   "cell_type": "code",
   "execution_count": 4,
   "metadata": {},
   "outputs": [],
   "source": [
    "#we have created new method increment in odometer reading which take new no of miles as input and add them to previous ones"
   ]
  },
  {
   "cell_type": "code",
   "execution_count": 5,
   "metadata": {},
   "outputs": [
    {
     "data": {
      "text/plain": [
       "'This vehicle has 30 miles.'"
      ]
     },
     "execution_count": 5,
     "metadata": {},
     "output_type": "execute_result"
    }
   ],
   "source": [
    "car2 = Vehicle('car', 'mercedes benz', 'a-class sedan', 2019, 'black')\n",
    "\n",
    "#first set odometer reading to 30 miles\n",
    "car2.update_odometer_reading(30)\n",
    "#now check the value of odometer reading for verification whether it is 30 or not\n",
    "car2.reading_odometer()"
   ]
  },
  {
   "cell_type": "code",
   "execution_count": 54,
   "metadata": {},
   "outputs": [],
   "source": [
    "#so now increase odometer value by calling increament in odometer reading\n",
    "car2.increment_in_odometer_reading(240)"
   ]
  },
  {
   "cell_type": "code",
   "execution_count": 55,
   "metadata": {},
   "outputs": [
    {
     "data": {
      "text/plain": [
       "'This vehicle has 270 miles.'"
      ]
     },
     "execution_count": 55,
     "metadata": {},
     "output_type": "execute_result"
    }
   ],
   "source": [
    "#now again check odometer reading whether 240 has added to 30 or not\n",
    "car2.reading_odometer()\n",
    "#see it works "
   ]
  },
  {
   "cell_type": "code",
   "execution_count": 58,
   "metadata": {},
   "outputs": [],
   "source": [
    "#Before switching on towards inheritance part lets add one more method to our vehicle class"
   ]
  },
  {
   "cell_type": "code",
   "execution_count": 61,
   "metadata": {},
   "outputs": [],
   "source": [
    "class Vehicle():\n",
    "    def __init__(self, vehicle_type, manufacturer, model, year, color):\n",
    "        self.vehicle_type = vehicle_type\n",
    "        self.manufacturer = manufacturer\n",
    "        self.model = model\n",
    "        self.year = year\n",
    "        self.color = color\n",
    "        self.odometer_reading = 0#here we set our default value 0 for an attribute and what I have said earlier we dont\n",
    "        #need to add any parameter for it in init method\n",
    "    \n",
    "    def description(self):\n",
    "        details = 'Vehicle type is ' + self.vehicle_type.title() + ' manufactured by ' + self.manufacturer.title() + ' having color ' + self.color.title() + ', model name is ' + self.model.title() + ' and year of manufacturing is ' + str(self.year)\n",
    "        return details\n",
    "    \n",
    "    def reading_odometer(self):\n",
    "        \"\"\" Method to read odometer reading\"\"\"\n",
    "        return f\"This vehicle has \" + str(self.odometer_reading) + \" miles.\"\n",
    "    \n",
    "    def update_odometer_reading(self, mileage):\n",
    "        \"\"\"Set or change the odometer reading to the new given value\"\"\"\n",
    "        if mileage >= self.odometer_reading:\n",
    "            self.odometer_reading = mileage\n",
    "        else:\n",
    "            print(\"You can't decrease the odometer reading\")\n",
    "    \n",
    "    def increment_in_odometer_reading(self, miles):\n",
    "        \"\"\"Add the new given amount of miles to the odometer reading\"\"\"\n",
    "        self.odometer_reading += miles\n",
    "    \n",
    "    def about_vehicle_fuel(self):\n",
    "        return \"This vehicle class is suitable for all vehicles regardless of their fuel type\""
   ]
  },
  {
   "cell_type": "code",
   "execution_count": 65,
   "metadata": {},
   "outputs": [],
   "source": [
    "#The purpose of adding about_vehicle_tank method is that this vehicle class can be applied on all vehicles regardless\n",
    "#of their fuel type. It can be Diesel, petrol , cng etc.."
   ]
  },
  {
   "cell_type": "code",
   "execution_count": 67,
   "metadata": {},
   "outputs": [
    {
     "data": {
      "text/plain": [
       "'This vehicle class is suitable for all vehicles regardless of their fuel type'"
      ]
     },
     "execution_count": 67,
     "metadata": {},
     "output_type": "execute_result"
    }
   ],
   "source": [
    "#lets quickly call this method using instance \n",
    "car2 = Vehicle('car', 'mercedes benz', 'a-class sedan', 2019, 'black')\n",
    "\n",
    "car2.about_vehicle_fuel()"
   ]
  },
  {
   "cell_type": "code",
   "execution_count": null,
   "metadata": {},
   "outputs": [],
   "source": []
  },
  {
   "cell_type": "code",
   "execution_count": 68,
   "metadata": {},
   "outputs": [],
   "source": [
    "#so we have seen 3 methods to change attributes value, \n",
    "\n",
    "#first by directly accessing attribute using instance\n",
    "#second setting an attribute value with the help of method\n",
    "#third incrementing an attribute value with the help of metod"
   ]
  },
  {
   "cell_type": "markdown",
   "metadata": {},
   "source": [
    "## INHERITANCE"
   ]
  },
  {
   "cell_type": "raw",
   "metadata": {},
   "source": [
    "Let's say we are wtiting a class which is a specialized version of another class we have already written, so in that case we can use inheritance. The benefit of using inheritance is that we don't have to start from scratch when writing a class similar to some other class we have already written. The original class or class we have already written before is called the parent class or super class, and the new class or the class similar to parent class is called the child class or sub class. When we inherits child class from parent class, it automatically takes on all the attributes methods and class variables of the parent class so we don't need to write them again. The child class inherits all attributes and methods from its parent class but is also free to define new attributes and methods of its own."
   ]
  },
  {
   "cell_type": "raw",
   "metadata": {},
   "source": [
    "For example: You have written a class Pet from scratch and defined attributes and methods related to it. Say find need to write about cat as pet so instead of writing class Cat from scratch, what you do is to inherits methods and attributes for class cat which is child class from class Pet which is parent class. If you feel you want to add something new or different in class Cat, you are free to define new methods and attributes of its own"
   ]
  },
  {
   "cell_type": "raw",
   "metadata": {},
   "source": [
    "Basically inheritance give us facility of code reuseability. We can use \"is a\" relation to check inheritance.\n",
    "\n",
    "For example:\n",
    "\n",
    "1.Home \"is a\" building->(true)\n",
    "2.Man \"is a\" human->(true)\n",
    "3.tree \"is a\" building->(false)\n",
    "4.Flowerpot \"is a\" tree->(true)\n",
    "\n",
    "The class to be inherit(parent class)\n",
    "The class that inherit(child class)"
   ]
  },
  {
   "cell_type": "raw",
   "metadata": {},
   "source": [
    "let's use \"is a\" relation to check about inheritance\n",
    "\n",
    "What's you opinion, Can we create a class Car which inherits methods and attribute from class Vehicle?\n",
    "Let's find out.\n",
    "\n",
    "Car \"is a\" Vehicle->True\n",
    "\n",
    "So it means Car class can become the child of Vehicle class "
   ]
  },
  {
   "cell_type": "raw",
   "metadata": {},
   "source": [
    "#So lets dive into code"
   ]
  },
  {
   "cell_type": "code",
   "execution_count": 69,
   "metadata": {},
   "outputs": [],
   "source": [
    "class Car(Vehicle):\n",
    "    pass"
   ]
  },
  {
   "cell_type": "raw",
   "metadata": {},
   "source": [
    "The first line of a child classes to which we used  to create a class looks a little bit different than non-child or parent classes as we have to pass the parent class into the child class as a parameter. Here we create a class Car which is the child of Vehicle class as we passed Vehicle as parameter to it.\n",
    "\n",
    "Child classes can add more methods of its own, override existing parent class methods, or simply accept the default parent class methods with the 'pass' keyword, but note we cannot add new attributes in child class of its own, to add new attribute we used Super() function which we'll see in mins."
   ]
  },
  {
   "cell_type": "code",
   "execution_count": 70,
   "metadata": {},
   "outputs": [],
   "source": [
    "#So for now all attributes and methods of parent class(which is Vehicle class in our case) inherited in child class\n",
    "#(which is car class in our case). lets create an instance from child class to access these attributes and methods"
   ]
  },
  {
   "cell_type": "code",
   "execution_count": 71,
   "metadata": {},
   "outputs": [],
   "source": [
    "suv = Car('car', 'mazda', 'CX-3', 2019, 'black')"
   ]
  },
  {
   "cell_type": "raw",
   "metadata": {},
   "source": [
    "We have created an instance or object from class Car named suv that makes use of each of the attributes and methods of the Vehicle class even though you can see we did not define those methods and attributes in the Car child class and that because we used inheritance. Now after creating an instance, we only needed to pass the required parameters which are vehicle type, manufacturer, model, year and color."
   ]
  },
  {
   "cell_type": "code",
   "execution_count": 72,
   "metadata": {},
   "outputs": [
    {
     "name": "stdout",
     "output_type": "stream",
     "text": [
      "\n",
      "************ Accessing Attributes *********************\n",
      "\n",
      "Car\n",
      "Mazda\n",
      "CX-3\n",
      "\n",
      "************ Accessing Methods *********************\n",
      "\n",
      "Vehicle type is Car manufactured by Mazda having color Black, model name is Cx-3 and year of manufacturing is 2019\n"
     ]
    }
   ],
   "source": [
    "#So now lets try to access attributes and methods \n",
    "print('\\n************ Accessing Attributes *********************\\n')\n",
    "print(suv.vehicle_type.title())\n",
    "print(suv.manufacturer.title())\n",
    "print(suv.model)\n",
    "\n",
    "#So you can see we used same technique to access attributes, nothing has been changed and by accessing attributes using \n",
    "#instance from child class, we also got confirmation that our class Car inherited Vehicle class, in a similar way lets try\n",
    "#to access methods\n",
    "\n",
    "print('\\n************ Accessing Methods *********************\\n')\n",
    "print(suv.description())\n",
    "#So yeah again its quite similar to what we have done before"
   ]
  },
  {
   "cell_type": "markdown",
   "metadata": {},
   "source": [
    "### The Super() Function"
   ]
  },
  {
   "cell_type": "raw",
   "metadata": {},
   "source": [
    "Earlier I told you guys the disadvantage of doing inheritance using this method is that we cannot define new attributes related to child class. And it is not necessary to use super function when we need to define new attributes, it also work with existing attributes and method. So our priority for performing inheritance would be Super function as with help of it we can define new attributes, override existing parent class methods and can also dealt with older or existing attributes and methods."
   ]
  },
  {
   "cell_type": "raw",
   "metadata": {},
   "source": [
    "The super() function is commonly define within the __init__() method because that is where you will most likely need to add some uniqueness to the child class and then complete initialization from the parent."
   ]
  },
  {
   "cell_type": "code",
   "execution_count": 73,
   "metadata": {},
   "outputs": [],
   "source": [
    "#Now we are trying to inherit car class from vehicle class using super function "
   ]
  },
  {
   "cell_type": "code",
   "execution_count": 75,
   "metadata": {},
   "outputs": [],
   "source": [
    "class Car1(Vehicle):\n",
    "    def __init__(self, vehicle_type, manufacturer, model, year, color):\n",
    "        \"\"\"Initializing attributes of the parent class using super() function\"\"\"\n",
    "        super().__init__(vehicle_type, manufacturer, model, year, color)"
   ]
  },
  {
   "cell_type": "code",
   "execution_count": 76,
   "metadata": {},
   "outputs": [],
   "source": [
    "suv1 = Car1('Car', 'Honda', 'HR-V', 2018, 'black')"
   ]
  },
  {
   "cell_type": "raw",
   "metadata": {},
   "source": [
    "Now lets unpack what we have done above\n",
    "\n",
    "First we define the child class named Car in a similar way as we did before by passing parent class name in parenthesis. After that the __init__() method takes in the information required to make a Car instance.\n",
    "\n",
    "Then we use super() function which is a special function as it helps Python to make connections between the parent and child class. This super function line tells Python to call the __init__() method from Car’s parent class which is Vehicle class, which provide Car instance all the attributes of its parent class. The name super comes from a convention of calling the parent class a superclass and the child class a subclass\n",
    "\n",
    "After that we create instance of Car1 class to check whether inheritance has been done or not.\n",
    "What does instance creation line do is that this line calls the __init__() method defined in Car class, which in turn tells Python to call the __init__() method defined in the parent class Vehicle. For that  We provide the arguments 'Car', 'Honda', 'HR-V', 2018, and 'black'"
   ]
  },
  {
   "cell_type": "markdown",
   "metadata": {},
   "source": [
    "#### Invoking the  Parent Class's Method"
   ]
  },
  {
   "cell_type": "code",
   "execution_count": 25,
   "metadata": {},
   "outputs": [
    {
     "data": {
      "text/plain": [
       "'Vehicle type is Car manufactured by Honda having color Black, model name is Hr-V and year of manufacturing is 2018'"
      ]
     },
     "execution_count": 25,
     "metadata": {},
     "output_type": "execute_result"
    }
   ],
   "source": [
    "#So now its time to test it out\n",
    "#So we are calling description method using instance of Car1\n",
    "suv1.description()"
   ]
  },
  {
   "cell_type": "code",
   "execution_count": 26,
   "metadata": {},
   "outputs": [
    {
     "data": {
      "text/plain": [
       "'This vehicle has 0 miles.'"
      ]
     },
     "execution_count": 26,
     "metadata": {},
     "output_type": "execute_result"
    }
   ],
   "source": [
    "#in a similar way you can also play with other attributes and methods\n",
    "suv1.reading_odometer()"
   ]
  },
  {
   "cell_type": "code",
   "execution_count": 27,
   "metadata": {},
   "outputs": [],
   "source": [
    "#till now we are using parent class methods and attributes in child class, now its time to define child's class own methods\n",
    "#attributes"
   ]
  },
  {
   "cell_type": "markdown",
   "metadata": {},
   "source": [
    "#### Defining Attributes and Methods for the Child Class"
   ]
  },
  {
   "cell_type": "raw",
   "metadata": {},
   "source": [
    "If you need to define some extra functionality to your child class you are free add any new attributes and methods necessary to differentiate the child class from the parent class."
   ]
  },
  {
   "cell_type": "raw",
   "metadata": {},
   "source": [
    "Let’s add an attribute in our child class:\n",
    "For example: speed  method to report on this speed. \n",
    "We’ll store the speed and write a method that prints a description about the speed of car"
   ]
  },
  {
   "cell_type": "code",
   "execution_count": 80,
   "metadata": {},
   "outputs": [],
   "source": [
    "class Car(Vehicle):\n",
    "    def __init__(self, vehicle_type, manufacturer, model, year, color):\n",
    "        \"\"\"Initializing attributes of the parent class then initializing attribute for child class\"\"\"\n",
    "        super().__init__(vehicle_type, manufacturer, model, year, color)\n",
    "        self.speed = 0#this is the attribute specific to our Car class and we have set its default value to 20, you can\n",
    "        #set what you want its depend upon you\n",
    "    \n",
    "    def about_speed(self):\n",
    "        \"\"\"About the speed of car\"\"\"\n",
    "        return f'A person is driving a car with a speed of {self.speed} miles/h'"
   ]
  },
  {
   "cell_type": "code",
   "execution_count": 81,
   "metadata": {},
   "outputs": [],
   "source": [
    "my_audi = Car('Car', 'Audi', 'R8', 2017, 'black')"
   ]
  },
  {
   "cell_type": "raw",
   "metadata": {},
   "source": [
    "Now quickly see what we done knew here. Firstly we add a new attribute self.speed and set its initial value to 70.\n",
    "Note that this attribute will be associated with all instances created from the Car class but won’t be associated with\n",
    "any instances of Vehicle. We also add a method called about_speed(self) that returns speed of car. So when we call this method using instance of Car class we get a speed of car specific to car class. "
   ]
  },
  {
   "cell_type": "code",
   "execution_count": 82,
   "metadata": {},
   "outputs": [
    {
     "data": {
      "text/plain": [
       "'Vehicle type is Car manufactured by Audi having color Black, model name is R8 and year of manufacturing is 2017'"
      ]
     },
     "execution_count": 82,
     "metadata": {},
     "output_type": "execute_result"
    }
   ],
   "source": [
    "#calling description method from parent class to get description about Car class\n",
    "my_audi.description()"
   ]
  },
  {
   "cell_type": "code",
   "execution_count": 83,
   "metadata": {},
   "outputs": [
    {
     "data": {
      "text/plain": [
       "'A person is driving a car with a speed of 0 miles/h'"
      ]
     },
     "execution_count": 83,
     "metadata": {},
     "output_type": "execute_result"
    }
   ],
   "source": [
    "#Now calling about speed method specific to our child class\n",
    "my_audi.about_speed()\n",
    "\n",
    "#As we set its initial value to 0 so it return 0 km/h speed"
   ]
  },
  {
   "cell_type": "code",
   "execution_count": 84,
   "metadata": {},
   "outputs": [],
   "source": [
    "#so now lets add one more method so we can update the speed of car or you can say modify modify attribute value using \n",
    "#method"
   ]
  },
  {
   "cell_type": "code",
   "execution_count": 85,
   "metadata": {},
   "outputs": [],
   "source": [
    "class Car(Vehicle):\n",
    "    def __init__(self, vehicle_type, manufacturer, model, year, color):\n",
    "        \"\"\"Initializing attributes of the parent class then initializing attribute for child class\"\"\"\n",
    "        super().__init__(vehicle_type, manufacturer, model, year, color)\n",
    "        self.speed = 0#this is the attribute specific to our Car class and we have set its default value to 20, you can\n",
    "        #set what you want its depend upon you\n",
    "    \n",
    "    def about_speed(self):\n",
    "        \"\"\"About the speed of car\"\"\"\n",
    "        return f'A person is driving a car with a speed of {self.speed} miles/h'\n",
    "    \n",
    "    def update_speed(self,new_speed):\n",
    "        self.speed = new_speed"
   ]
  },
  {
   "cell_type": "code",
   "execution_count": 86,
   "metadata": {},
   "outputs": [],
   "source": [
    "#Now here we have added update_speed method which take new speed and assign it self.speed attribute which we can later read\n",
    "#using about_speed method and both methods are specific to Car class\n",
    "#so again creating our instance of Car class"
   ]
  },
  {
   "cell_type": "code",
   "execution_count": 87,
   "metadata": {},
   "outputs": [],
   "source": [
    "my_audi = Car('Car', 'Audi', 'R8', 2017, 'black')"
   ]
  },
  {
   "cell_type": "code",
   "execution_count": 88,
   "metadata": {},
   "outputs": [],
   "source": [
    "#Now we are using update speed method to update the speed of car\n",
    "my_audi.update_speed(50)"
   ]
  },
  {
   "cell_type": "code",
   "execution_count": 89,
   "metadata": {},
   "outputs": [
    {
     "data": {
      "text/plain": [
       "'A person is driving a car with a speed of 50 miles/h'"
      ]
     },
     "execution_count": 89,
     "metadata": {},
     "output_type": "execute_result"
    }
   ],
   "source": [
    "#Now checking whether speed of car update from 0 to 50 or not\n",
    "my_audi.about_speed()"
   ]
  },
  {
   "cell_type": "code",
   "execution_count": 90,
   "metadata": {},
   "outputs": [],
   "source": [
    "#So it works amazingly"
   ]
  },
  {
   "cell_type": "markdown",
   "metadata": {},
   "source": [
    "#### Overriding Methods from the Parent Class"
   ]
  },
  {
   "cell_type": "raw",
   "metadata": {},
   "source": [
    "When you are working with your child class and you find any method that is not feasible or totally related to your child class, then you can override that particular method from the parent class that doesn’t fit what you’re trying to model with the child class. To override a method, you define a method in the child class with the same name as the method you want to override in the parent class. Python will ignore the parent class method and only pay attention to the method you define in the child class.\n",
    "\n",
    "\"If a method is defined for a child or subclass class, and also defined for its parent class, then sub class method is called and not the parent’s class.\"\n",
    "\n",
    "We have a about_vehicle_fuel() method which shows that we can apply our vehicle class to all kind of vehicles regardless of the fuel they used. Let's say our child class Car is specific for only gas or petrol cars then we need to modify about_vehicle_fuel() method to show that 'This car class is suitable for only gas or petrol cars' , so our next task is to  you to override this method."
   ]
  },
  {
   "cell_type": "code",
   "execution_count": 91,
   "metadata": {},
   "outputs": [],
   "source": [
    "#its very easy, lets quickly see how we can do this"
   ]
  },
  {
   "cell_type": "code",
   "execution_count": 94,
   "metadata": {},
   "outputs": [],
   "source": [
    "class Car(Vehicle):\n",
    "    def __init__(self, vehicle_type, manufacturer, model, year, color):\n",
    "        \"\"\"Initializing attributes of the parent class then initializing attribute for child class\"\"\"\n",
    "        super().__init__(vehicle_type, manufacturer, model, year, color)\n",
    "        self.speed = 0#this is the attribute specific to our Car class and we have set its default value to 20, you can\n",
    "        #set what you want its depend upon you\n",
    "    \n",
    "    def about_speed(self):\n",
    "        \"\"\"About the speed of car\"\"\"\n",
    "        return f'A person is driving a car with a speed of {self.speed} miles/h'\n",
    "    \n",
    "    def update_speed(self,new_speed):\n",
    "        self.speed = new_speed\n",
    "    \n",
    "    def about_vehicle_fuel(self):\n",
    "        return \"This Car class is only suitable for gas or petrol cars\""
   ]
  },
  {
   "cell_type": "raw",
   "metadata": {},
   "source": [
    "Now when we tries to call about_vehicle_fuel() method with the Car class, Python will ignore the method about_vehicle_fuel() in parent or vehicle class and run this child class code instead."
   ]
  },
  {
   "cell_type": "code",
   "execution_count": 96,
   "metadata": {},
   "outputs": [],
   "source": [
    "#lets quickly try whether it is working or not\n",
    "#again here we created an instance of Car class\n",
    "my_audi = Car('Car', 'Audi', 'R8', 2017, 'black')"
   ]
  },
  {
   "cell_type": "code",
   "execution_count": 97,
   "metadata": {},
   "outputs": [
    {
     "data": {
      "text/plain": [
       "'This Car class is only suitable for gas or petrol cars'"
      ]
     },
     "execution_count": 97,
     "metadata": {},
     "output_type": "execute_result"
    }
   ],
   "source": [
    "#now calling about_vehicle_fuel method from car class\n",
    "my_audi.about_vehicle_fuel()"
   ]
  },
  {
   "cell_type": "code",
   "execution_count": 98,
   "metadata": {},
   "outputs": [],
   "source": [
    "#see it override the method from parent class"
   ]
  },
  {
   "cell_type": "raw",
   "metadata": {},
   "source": [
    "So what we got to know is that when you use inheritance, we can make our child classes retain what we need in it and override anything we don’t need from the parent class."
   ]
  },
  {
   "cell_type": "markdown",
   "metadata": {},
   "source": [
    "#### Instances as Attributes"
   ]
  },
  {
   "cell_type": "code",
   "execution_count": 99,
   "metadata": {},
   "outputs": [],
   "source": [
    "#like other topics we have seen in classes, this is an another important topic, so tighten your seat belts"
   ]
  },
  {
   "cell_type": "code",
   "execution_count": 100,
   "metadata": {},
   "outputs": [],
   "source": [
    "#Most people does not teach this topic to students, But if you want to get mastery in OOP and classes, you also\n",
    "#got to understand this topic"
   ]
  },
  {
   "cell_type": "raw",
   "metadata": {},
   "source": [
    "When making software or modeling something from the real world in code, you may realise that you’re adding more and more details to a class, which results in large number of attributes and methods and that your files are becoming\n",
    "lengthy. One technique which might work in these situation is that you can break your large class into smaller classes that work together so that longer part of class can be written as a separate class. \n",
    "\n",
    "For example, if we continue to adding details to our Car class, after sometime we might realize that we’re adding many attributes and methods specific to the car’s speed so in this case speed might be the longer part of our class and when we see this happening, we can stop and move those speed related attributes and methods to a separate class which can be called as Speed. Then we can use a Speed instance as an attribute in the our Car class:"
   ]
  },
  {
   "cell_type": "code",
   "execution_count": 6,
   "metadata": {},
   "outputs": [],
   "source": [
    "#lets see how this works"
   ]
  },
  {
   "cell_type": "code",
   "execution_count": null,
   "metadata": {},
   "outputs": [],
   "source": [
    "#here I have copy pasted our Vehicle class which we have already seen before"
   ]
  },
  {
   "cell_type": "code",
   "execution_count": 102,
   "metadata": {},
   "outputs": [],
   "source": [
    "class Vehicle():\n",
    "    def __init__(self, vehicle_type, manufacturer, model, year, color):\n",
    "        self.vehicle_type = vehicle_type\n",
    "        self.manufacturer = manufacturer\n",
    "        self.model = model\n",
    "        self.year = year\n",
    "        self.color = color\n",
    "        self.odometer_reading = 0#here we set our default value 0 for an attribute and what I have said earlier we dont\n",
    "        #need to add any parameter for it in init method\n",
    "    \n",
    "    def description(self):\n",
    "        details = 'Vehicle type is ' + self.vehicle_type.title() + ' manufactured by ' + self.manufacturer.title() + ' having color ' + self.color.title() + ', model name is ' + self.model.title() + ' and year of manufacturing is ' + str(self.year)\n",
    "        return details\n",
    "    \n",
    "    def reading_odometer(self):\n",
    "        \"\"\" Method to read odometer reading\"\"\"\n",
    "        return f\"This vehicle has \" + str(self.odometer_reading) + \" miles.\"\n",
    "    \n",
    "    def update_odometer_reading(self, mileage):\n",
    "        \"\"\"Set or change the odometer reading to the new given value\"\"\"\n",
    "        if mileage >= self.odometer_reading:\n",
    "            self.odometer_reading = mileage\n",
    "        else:\n",
    "            print(\"You can't decrease the odometer reading\")\n",
    "    \n",
    "    def increment_in_odometer_reading(self, miles):\n",
    "        \"\"\"Add the new given amount of miles to the odometer reading\"\"\"\n",
    "        self.odometer_reading += miles\n",
    "    \n",
    "    def about_vehicle_fuel(self):\n",
    "        return \"This vehicle class is suitable for all vehicles regardless of their fuel type\""
   ]
  },
  {
   "cell_type": "code",
   "execution_count": 103,
   "metadata": {},
   "outputs": [],
   "source": [
    "#we know this is our parent class "
   ]
  },
  {
   "cell_type": "code",
   "execution_count": 108,
   "metadata": {},
   "outputs": [],
   "source": [
    "#Now lets create Speed class, the benefit of making Speed class separately is that we can now add many complexity in it \n",
    "#just like below I have added one more method named stop which brings down our speed to 0 upon calling. \n",
    "\n",
    "#So later use speed instance as an attribute in our Car class"
   ]
  },
  {
   "cell_type": "code",
   "execution_count": 127,
   "metadata": {},
   "outputs": [],
   "source": [
    "class Speed():\n",
    "    \"\"\"Modelling a speed for the car.\"\"\"\n",
    "\n",
    "    def __init__(self, speed, max_speed=196):\n",
    "        \"\"\"Initializing speed's attribute\"\"\"\n",
    "        self.speed = speed\n",
    "        self.max_speed = 196\n",
    "        \n",
    "    def about_speed(self):\n",
    "        \"\"\"About the speed of car\"\"\"\n",
    "        return f'A person is driving a car with a speed of {self.speed} miles/h having a max speed of {self.max_speed} miles/h'\n",
    "    \n",
    "    def update_speed(self,new_speed):\n",
    "        self.speed = new_speed\n",
    "        \n",
    "    def stop(self):\n",
    "        self.speed = 0"
   ]
  },
  {
   "cell_type": "raw",
   "metadata": {},
   "source": [
    "Here what we have done is define a new class called Speed that doesn’t inherit from any other class. The __init__() method at has two parameters namely speed and max_speed followed by self keyword. The speed parameter is compulsory to pass which stores self.speed and you can also notice that max_speed is an optional parameter that sets the car's max_speed to 196 if no value is provided . The method related to speed like about_speed() and update_speed has also been moved to this Speed class with little modification as well one new method named stop() which brings down the car speed to 0"
   ]
  },
  {
   "cell_type": "code",
   "execution_count": 128,
   "metadata": {},
   "outputs": [],
   "source": [
    "#now we can use Speed instance as an attribute in our Car class. So now we are modifying our Car's class"
   ]
  },
  {
   "cell_type": "code",
   "execution_count": 129,
   "metadata": {},
   "outputs": [],
   "source": [
    "class Car(Vehicle):\n",
    "    \n",
    "    def __init__(self, vehicle_type, manufacturer, model, year, color):\n",
    "        \"\"\"Initializing attributes of the parent class then initializing attribute for child class\"\"\"\n",
    "        super().__init__(vehicle_type, manufacturer, model, year, color)\n",
    "        \n",
    "        self.speed = Speed(70)#I have only passed one require parameter for speed of car where as max speed would use its\n",
    "        #default value which 196 miles/h\n",
    "    \n",
    "    def about_vehicle_fuel(self):\n",
    "        return \"This Car class is only suitable for gas or petrol cars\""
   ]
  },
  {
   "cell_type": "raw",
   "metadata": {},
   "source": [
    "So what we have done in Car class is that add an attribute called self.speed. This line tells Python to create a new instance of Speed (with a speed of 70 and default max speed of 196 miles/h, because we’re not specifying any value to it) and store that instance in the attribute self.speed. This will happen every time the __init__() method is called; any Car instance will now have a Speed instance created automatically."
   ]
  },
  {
   "cell_type": "code",
   "execution_count": 130,
   "metadata": {},
   "outputs": [],
   "source": [
    "#So thats how we use speed instance as an attribute(self.speed) in our car class. "
   ]
  },
  {
   "cell_type": "code",
   "execution_count": 131,
   "metadata": {},
   "outputs": [],
   "source": [
    "#now lets create instance of our car class as we did earlier"
   ]
  },
  {
   "cell_type": "code",
   "execution_count": 132,
   "metadata": {},
   "outputs": [],
   "source": [
    "my_audi = Car('Car', 'Audi', 'R8', 2017, 'black')"
   ]
  },
  {
   "cell_type": "code",
   "execution_count": 133,
   "metadata": {},
   "outputs": [
    {
     "data": {
      "text/plain": [
       "'Vehicle type is Car manufactured by Audi having color Black, model name is R8 and year of manufacturing is 2017'"
      ]
     },
     "execution_count": 133,
     "metadata": {},
     "output_type": "execute_result"
    }
   ],
   "source": [
    "#you can also call some of its method\n",
    "my_audi.description()\n",
    "#so its working absolutely fine"
   ]
  },
  {
   "cell_type": "code",
   "execution_count": 134,
   "metadata": {},
   "outputs": [
    {
     "data": {
      "text/plain": [
       "'A person is driving a car with a speed of 70 miles/h having a max speed of 196 miles/h'"
      ]
     },
     "execution_count": 134,
     "metadata": {},
     "output_type": "execute_result"
    }
   ],
   "source": [
    "my_audi.speed.about_speed()"
   ]
  },
  {
   "cell_type": "code",
   "execution_count": null,
   "metadata": {},
   "outputs": [],
   "source": [
    "#lets quickly unpack what above line of code is doing, its very simple and you guys will understand it within a min"
   ]
  },
  {
   "cell_type": "raw",
   "metadata": {},
   "source": [
    "What does this line do is that it tells Python to look at the instance my_audi(belongs to Car class), find its speed attribute(define in Car class), and call the method about_speed() that’s associated with the Speed instance(Speed class) stored in the attribute."
   ]
  },
  {
   "cell_type": "code",
   "execution_count": 139,
   "metadata": {},
   "outputs": [],
   "source": [
    "#similarly you can also call other methods as well\n",
    "my_audi.speed.update_speed(100)\n",
    "#this line again do the same thing, It looks for instance my_audi, find its speed attribute and call the update speed \n",
    "#method that's associated with the Speed instance stored in this attribute"
   ]
  },
  {
   "cell_type": "code",
   "execution_count": 140,
   "metadata": {},
   "outputs": [
    {
     "data": {
      "text/plain": [
       "'A person is driving a car with a speed of 100 miles/h having a max speed of 196 miles/h'"
      ]
     },
     "execution_count": 140,
     "metadata": {},
     "output_type": "execute_result"
    }
   ],
   "source": [
    "#now lets see whether our speed updated or not\n",
    "my_audi.speed.about_speed()\n",
    "#So yeah it works as aspected"
   ]
  },
  {
   "cell_type": "raw",
   "metadata": {},
   "source": [
    "You can see how much our car class has been shrinked, think of larger games and software how much complexity they had, so \n",
    "that' why this method is used to break longer classes into smaller part by separating all related topics into some \n",
    "particular class and called that particular class intance as an attribute to main class"
   ]
  },
  {
   "cell_type": "code",
   "execution_count": 142,
   "metadata": {},
   "outputs": [],
   "source": [
    "#After reaching to this point in the course, you people might realize there are often no right or wrong approaches to \n",
    "#modeling real-world situations. Some approaches are more efficient than others, but it takes practice to find the most \n",
    "#efficient representations. If your code is working as you want it to, you’re doing well! Don’t be discouraged if you \n",
    "#find you’re ripping apart your classes and rewriting them several times using different approaches. In the quest to write\n",
    "#accurate, efficient code, everyone goes through this process."
   ]
  },
  {
   "cell_type": "code",
   "execution_count": 1,
   "metadata": {},
   "outputs": [],
   "source": [
    "#lets see some question related to classes"
   ]
  },
  {
   "cell_type": "markdown",
   "metadata": {},
   "source": [
    "## EXERCISES"
   ]
  },
  {
   "cell_type": "markdown",
   "metadata": {},
   "source": [
    "Q1: Make a class called Dinner. The __init__() method for Dinner should store two attributes: a restaurant_name and a cuisine_type. Make a method called describe_restaurant() that prints these two pieces of information, and a method called open_restaurant() that prints a message indicating that the restaurant is open for dinner. Make an instance called dinner from your class. Print the two attributes individually, and then call both methods"
   ]
  },
  {
   "cell_type": "code",
   "execution_count": 29,
   "metadata": {},
   "outputs": [],
   "source": [
    "class Dinner():\n",
    "    def __init__(self,restaurant_name,cuisine_type):#passing two parameters to store in attreibutes\n",
    "        self.restaurant_name = restaurant_name#two attributes\n",
    "        self.cuisine_type = cuisine_type\n",
    "    def describe_restaurant(self):#method printing both the information\n",
    "        print(f\"The name of restaurant is {self.restaurant_name.title()} and cuisine_type is {self.cuisine_type.title()}\")\n",
    "    def open_restaurant(self):#method display that the restaurant is open for dinner\n",
    "        print(f\"{self.restaurant_name} restaurant is open for dinner\")"
   ]
  },
  {
   "cell_type": "markdown",
   "metadata": {},
   "source": [
    "#### Creating an instance"
   ]
  },
  {
   "cell_type": "code",
   "execution_count": 30,
   "metadata": {},
   "outputs": [],
   "source": [
    "#creating an instance of class Dinner\n",
    "dinner = Dinner(\"Elevon Madison Park\", \"Contemporary American\")"
   ]
  },
  {
   "cell_type": "markdown",
   "metadata": {},
   "source": [
    "#### Calling Attributes individually"
   ]
  },
  {
   "cell_type": "code",
   "execution_count": 31,
   "metadata": {},
   "outputs": [
    {
     "data": {
      "text/plain": [
       "'Elevon Madison Park'"
      ]
     },
     "execution_count": 31,
     "metadata": {},
     "output_type": "execute_result"
    }
   ],
   "source": [
    "dinner.restaurant_name"
   ]
  },
  {
   "cell_type": "code",
   "execution_count": 32,
   "metadata": {},
   "outputs": [
    {
     "data": {
      "text/plain": [
       "'Contemporary American'"
      ]
     },
     "execution_count": 32,
     "metadata": {},
     "output_type": "execute_result"
    }
   ],
   "source": [
    "dinner.cuisine_type"
   ]
  },
  {
   "cell_type": "markdown",
   "metadata": {},
   "source": [
    "#### Calling both the methods"
   ]
  },
  {
   "cell_type": "code",
   "execution_count": 33,
   "metadata": {},
   "outputs": [
    {
     "name": "stdout",
     "output_type": "stream",
     "text": [
      "The name of restaurant is Elevon Madison Park and cuisine_type is Contemporary American\n"
     ]
    }
   ],
   "source": [
    "dinner.describe_restaurant()"
   ]
  },
  {
   "cell_type": "code",
   "execution_count": 34,
   "metadata": {},
   "outputs": [
    {
     "name": "stdout",
     "output_type": "stream",
     "text": [
      "Elevon Madison Park restaurant is open for dinner\n"
     ]
    }
   ],
   "source": [
    "dinner.open_restaurant()"
   ]
  },
  {
   "cell_type": "markdown",
   "metadata": {},
   "source": [
    "Q2: Use the above mention program. Add an attribute called customer_served with a default value of 0. \n",
    "Add a method called set_customer_served() that lets you set the number of customers that have been served. Call this method with a new number and print the value. Add another method called increment_customer_served() that lets you increment\n",
    "the number of customers who’ve been served. Call this method with any number you like that could represent how many customers were served in, say, a day of business."
   ]
  },
  {
   "cell_type": "code",
   "execution_count": 59,
   "metadata": {},
   "outputs": [],
   "source": [
    "class Dinner():\n",
    "    \n",
    "    def __init__(self,restaurant_name,cuisine_type):#passing two parameters to store in attreibutes\n",
    "        self.restaurant_name = restaurant_name#two attributes\n",
    "        self.cuisine_type = cuisine_type\n",
    "        self.customer_served = 0#setting default value to 0 \n",
    "    \n",
    "    def describe_restaurant(self):#method printing both the information\n",
    "        print(f\"The name of restaurant is {self.restaurant_name.title()} and cuisine_type is {self.cuisine_type.title()}\")\n",
    "    \n",
    "    def open_restaurant(self):#method display that the restaurant is open for dinner\n",
    "        print(f\"{self.restaurant_name} restaurant is open for dinner\")\n",
    "        \n",
    "    def set_customer_served(self, customers_served):#it modify attribute method 2\n",
    "        \"\"\"adding set_customer_served method to set no of customers that have been served\"\"\"\n",
    "        self.customer_served = customers_served\n",
    "        return f'Customers that have been served were {self.customer_served}'\n",
    "    \n",
    "    def increment_customer_served(self, customers_served):#its modify attribute method 3\n",
    "        \"\"\"Adding increment_customer_served method to increment no of customers that have been served\"\"\"\n",
    "        self.customer_served += customers_served\n",
    "        return f'Customers who have been served till now were {self.customer_served}'"
   ]
  },
  {
   "cell_type": "code",
   "execution_count": 60,
   "metadata": {},
   "outputs": [],
   "source": [
    "#creating an instance of class Dinner\n",
    "dinner = Dinner(\"Elevon Madison Park\", \"Contemporary American\")"
   ]
  },
  {
   "cell_type": "code",
   "execution_count": 61,
   "metadata": {},
   "outputs": [
    {
     "data": {
      "text/plain": [
       "0"
      ]
     },
     "execution_count": 61,
     "metadata": {},
     "output_type": "execute_result"
    }
   ],
   "source": [
    "#calling self.customer_Served attribute\n",
    "dinner.customer_served"
   ]
  },
  {
   "cell_type": "code",
   "execution_count": 62,
   "metadata": {},
   "outputs": [
    {
     "data": {
      "text/plain": [
       "'Customers that have been served were 20'"
      ]
     },
     "execution_count": 62,
     "metadata": {},
     "output_type": "execute_result"
    }
   ],
   "source": [
    "#calling set_customer_served method and passing no of customers that have been served\n",
    "dinner.set_customer_served(20)"
   ]
  },
  {
   "cell_type": "code",
   "execution_count": 63,
   "metadata": {},
   "outputs": [
    {
     "data": {
      "text/plain": [
       "'Customers who have been served till now were 50'"
      ]
     },
     "execution_count": 63,
     "metadata": {},
     "output_type": "execute_result"
    }
   ],
   "source": [
    "#calling set_increment_customer_served method and passing no of customers so 20 + 30 = 50 customers served till now\n",
    "dinner.increment_customer_served(30)"
   ]
  },
  {
   "cell_type": "markdown",
   "metadata": {},
   "source": [
    "Q3: Make a class called User. Create two attributes called first_name and last_name, and then create several other attributes that are typically stored in a user profile. Make a method called display_user_info() that prints a summary\n",
    "of the user’s information. Make another method called greeting_user() that prints a personalized greeting to the user.\n",
    "Create an instance of an user, and call both methods for an user."
   ]
  },
  {
   "cell_type": "code",
   "execution_count": 90,
   "metadata": {},
   "outputs": [],
   "source": [
    "class User():\n",
    "    \n",
    "    def __init__(self,first_name, last_name,age,gender):#here I have defined 4 attributes for firstname, lastname, ages and\n",
    "        #gender\n",
    "        self.first_name= first_name\n",
    "        self.last_name = last_name\n",
    "        self.age = age\n",
    "        self.gender = gender\n",
    "    \n",
    "    def describe_user_info(self):#method that displays user info\n",
    "        print(f\"first name is {self.first_name.title()}, last name is {self.last_name.title()}, age is {self.age} and gender is {self.gender.title()}\")\n",
    "       \n",
    "    def greeting_user(self):#method that greets user\n",
    "        print(f\"Hello {self.first_name.title() +' ' + self.last_name.title()}!\")        "
   ]
  },
  {
   "cell_type": "code",
   "execution_count": 94,
   "metadata": {},
   "outputs": [],
   "source": [
    "#creating an instance of an user\n",
    "johnson = User('johnson', 'charles', 23, 'female')"
   ]
  },
  {
   "cell_type": "code",
   "execution_count": 95,
   "metadata": {},
   "outputs": [
    {
     "name": "stdout",
     "output_type": "stream",
     "text": [
      "first name is Johnson, last name is Charles, age is 23 and gender is Female\n"
     ]
    }
   ],
   "source": [
    "#calling describe user info method\n",
    "harry.describe_user_info()"
   ]
  },
  {
   "cell_type": "code",
   "execution_count": 96,
   "metadata": {},
   "outputs": [
    {
     "name": "stdout",
     "output_type": "stream",
     "text": [
      "Hello Johnson Charles!\n"
     ]
    }
   ],
   "source": [
    "#calling greeting user method\n",
    "johnson.greeting_user()"
   ]
  },
  {
   "cell_type": "markdown",
   "metadata": {},
   "source": [
    "Q4: Continue to the above user problem, add an attribute called user_login_attempts to your User class. Write a method called increment_user_login_attempts() that increments the value of user_login_attempts by 1. Write\n",
    "another method called reset_user_login_attempts() that resets the value of user_login_attempts to 0.\n",
    "Make an instance of the User class and call increment_login_attempts() to see whether value of user_login_attempts incremented or not. Print the value of user_login_attempts to make sure it was incremented properly, and then call reset_user_login_attempts(). Print login_attempts again to make sure it was reset to 0."
   ]
  },
  {
   "cell_type": "code",
   "execution_count": 104,
   "metadata": {},
   "outputs": [],
   "source": [
    "class User():\n",
    "    \n",
    "    def __init__(self,first_name, last_name,age,gender):#here I have defined 4 attributes for firstname, lastname, ages and\n",
    "        #gender\n",
    "        self.first_name= first_name\n",
    "        self.last_name = last_name\n",
    "        self.age = age\n",
    "        self.gender = gender\n",
    "        self.user_login_attempts = 0#define user login attempts with default value of zero\n",
    "    \n",
    "    def describe_user_info(self):#method that displays user info\n",
    "        print(f\"first name is {self.first_name.title()}, last name is {self.last_name.title()}, age is {self.age} and gender is {self.gender.title()}\")\n",
    "       \n",
    "    def greeting_user(self):#method that greets user\n",
    "        print(f\"Hello {self.first_name.title() +' ' + self.last_name.title()}!\")       \n",
    "    \n",
    "    def increment_user_login_attempts(self):#method to increment user login attempts by 1\n",
    "        self.user_login_attempts += 1\n",
    "        return   self.user_login_attempts\n",
    "    \n",
    "    def reset_user_login_attempts(self):#reset user login attempts again to 0\n",
    "        self.user_login_attempts = 0\n",
    "        return  self.user_login_attempts"
   ]
  },
  {
   "cell_type": "code",
   "execution_count": 105,
   "metadata": {},
   "outputs": [],
   "source": [
    "#creating an instance of an user\n",
    "johnson = User('johnson', 'charles', 23, 'female')"
   ]
  },
  {
   "cell_type": "code",
   "execution_count": 106,
   "metadata": {},
   "outputs": [
    {
     "data": {
      "text/plain": [
       "0"
      ]
     },
     "execution_count": 106,
     "metadata": {},
     "output_type": "execute_result"
    }
   ],
   "source": [
    "johnson.user_login_attempts"
   ]
  },
  {
   "cell_type": "code",
   "execution_count": 107,
   "metadata": {},
   "outputs": [
    {
     "data": {
      "text/plain": [
       "1"
      ]
     },
     "execution_count": 107,
     "metadata": {},
     "output_type": "execute_result"
    }
   ],
   "source": [
    "johnson.increment_user_login_attempts()"
   ]
  },
  {
   "cell_type": "code",
   "execution_count": 109,
   "metadata": {},
   "outputs": [
    {
     "data": {
      "text/plain": [
       "0"
      ]
     },
     "execution_count": 109,
     "metadata": {},
     "output_type": "execute_result"
    }
   ],
   "source": [
    "johnson.reset_user_login_attempts()"
   ]
  },
  {
   "cell_type": "code",
   "execution_count": null,
   "metadata": {},
   "outputs": [],
   "source": []
  }
 ],
 "metadata": {
  "kernelspec": {
   "display_name": "Python 3",
   "language": "python",
   "name": "python3"
  },
  "language_info": {
   "codemirror_mode": {
    "name": "ipython",
    "version": 3
   },
   "file_extension": ".py",
   "mimetype": "text/x-python",
   "name": "python",
   "nbconvert_exporter": "python",
   "pygments_lexer": "ipython3",
   "version": "3.7.4"
  }
 },
 "nbformat": 4,
 "nbformat_minor": 4
}
