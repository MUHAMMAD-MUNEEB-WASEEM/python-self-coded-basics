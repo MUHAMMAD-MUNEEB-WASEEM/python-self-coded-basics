{
 "cells": [
  {
   "cell_type": "markdown",
   "metadata": {},
   "source": [
    "## FUNCTIONS IN PYTHON"
   ]
  },
  {
   "cell_type": "markdown",
   "metadata": {},
   "source": [
    "### Function definition and syntax"
   ]
  },
  {
   "cell_type": "code",
   "execution_count": 30,
   "metadata": {},
   "outputs": [],
   "source": [
    "# Function is some reusable code which may or may not takes arguments(s) as input, does some computation,\n",
    "#and then returns a result or results\n",
    "#Means its not necessary that every function needs arguments, its depends upon your problem but ya itm takes arguments in\n",
    "#mpst of the cases and we will see them in detail so no worry and be happy\n",
    "\n",
    "#We define can define a function by following these steps, first clearly listen to me with focus and then we'll se its \n",
    "#syntax\n",
    "\n",
    "#1. header line which begins with a 'def'(definition) keyword followed by the name of function and some parameters if \n",
    "#required in paranthesis and ends with a colon. Now after definining the header line its time for the body of function\n",
    "\n",
    "#2.A body of function consists of one or more Python statements, and each indented the same amount – 4 spaces is the Python\n",
    "#standard indent– from the header line\n",
    "\n",
    "#Now lets quickly visualize the above 2 steps\n",
    "\n",
    "#lets define a function without parameters \n",
    "#def name():#this is the header line which starts with a def keyword followed by name of the function and no parameters in\n",
    "#this case in paranthesis and ends with a colon\n",
    "#    statement 1#and see each statement is indented with 4 spaces or simply tab\n",
    "#    statement 2\n",
    "\n",
    "#lets define a function with parameters \n",
    "#def name(a,b):#this is the header line which starts with a def keyword followed by name of the function \n",
    "#and have parameters in this case in paranthesis and ends with a colon\n",
    "#    statement 1#and see each statement is indented with 4 spaces or simply tab\n",
    "#    statement 2\n",
    "\n",
    "#We can define as many parameters as we want and we will discuss more about parameters later in this course, so just \n",
    "#remember that we can define function with or without parameters\n",
    "\n",
    "#complete function \n",
    "#def name():\n",
    "#    statement 1\n",
    "#    statement 3\n",
    "\n",
    "#Now lets start with functions and we will discuss much more infotmation about it step by step as we move forward \n",
    "\n",
    "#docstring\n",
    "#If you want to mention information about any function, you can also do this by using docstring which describes what \n",
    "#the that function does and it is placed just after the header in triple quotes. Now you people might wondering why triple\n",
    "#quotes are used, Did you ask this question from yourself??? You have learned alot about python and till now the habit of\n",
    "#answering question must be developed in yourself which will grow you as a programmer, \n"
   ]
  },
  {
   "cell_type": "markdown",
   "metadata": {},
   "source": [
    "### Function definition, docstring, use of triple quotes and function call/function invocation"
   ]
  },
  {
   "cell_type": "code",
   "execution_count": 34,
   "metadata": {},
   "outputs": [
    {
     "name": "stdout",
     "output_type": "stream",
     "text": [
      "Hello, nice to meet you \n"
     ]
    }
   ],
   "source": [
    "\n",
    "#docstring\n",
    "#If you want to mention information about any function, you can also do this by using docstring which describes what \n",
    "#the that function does and it is placed just after the header in triple quotes. Now you people might wondering why triple\n",
    "#quotes are used, Did you ask this question from yourself??? You have learned alot about python and till now the habit of\n",
    "#answering question must be developed in yourself which will grow you as a programmer, Now lets quickly define our first \n",
    "#function and see about docstring\n",
    "#first show students by single quotes and when I will enter with in the string it goes to next line and also out of the\n",
    "#string, then show students with triple quotes and again press enter within the string and this time it will not go out \n",
    "#of the string\n",
    "def hello():#this is called function definition\n",
    "    \"\"\"This function is used to say hello\"\"\"\n",
    "    print('Hello, nice to meet you ')\n",
    "\n",
    "# to execute a function We call/invoke the function by using the function name, parentheses, and arguments if present and \n",
    "#this is called function invocation or function call, remember this term\n",
    "#lets do this \n",
    "hello()\n"
   ]
  },
  {
   "cell_type": "code",
   "execution_count": 33,
   "metadata": {},
   "outputs": [
    {
     "name": "stdout",
     "output_type": "stream",
     "text": [
      "Hello, nice to meet you \n"
     ]
    }
   ],
   "source": [
    "#Second method\n",
    "#you can also store function in another variable so you can it when you want\n",
    "d = hello()#again this is called function invocation or function call\n",
    "d\n"
   ]
  },
  {
   "cell_type": "code",
   "execution_count": 35,
   "metadata": {},
   "outputs": [
    {
     "name": "stdout",
     "output_type": "stream",
     "text": [
      "Hello, nice to meet you \n"
     ]
    },
    {
     "data": {
      "text/plain": [
       "'This function is used to say hello'"
      ]
     },
     "execution_count": 35,
     "metadata": {},
     "output_type": "execute_result"
    }
   ],
   "source": [
    "#third method\n",
    "#you can also retrieve information from function by using function name.__doc__ and this __(double underscore is called)\n",
    "#dandor so function name then dot then dandor then doc and then again __, lets check whether its working or not\n",
    "hello().__doc__\n",
    "\n",
    "#and the third method is also used to retrive documentation or doc string that you written while defining a function just\n",
    "#remove paranthesis which are with function name\n",
    "hello.__doc__ \n",
    "\n",
    "#By convention, Python programmers use docstrings for the key documentation of their functions. It depends upon you whether\n",
    "#you want to mention docstring in your function or not, we will do interchangably \n",
    "\n",
    "#So in short I have teach you guys 3 ways to retrieve information from function and way to how to get docstring of \n",
    "#particular function"
   ]
  },
  {
   "cell_type": "markdown",
   "metadata": {},
   "source": [
    "### Parameter less function"
   ]
  },
  {
   "cell_type": "code",
   "execution_count": 10,
   "metadata": {},
   "outputs": [],
   "source": [
    "#Now lets make a function that we will used for addition\n",
    "def add():\n",
    "    a = 5\n",
    "    b = 9\n",
    "    c = a+b\n",
    "    print(\"The addition of a and b gives us-> \",c)"
   ]
  },
  {
   "cell_type": "code",
   "execution_count": 11,
   "metadata": {},
   "outputs": [
    {
     "name": "stdout",
     "output_type": "stream",
     "text": [
      "The addition of a and b gives us->  14\n"
     ]
    }
   ],
   "source": [
    "#as by the definition of function which states that function is reusable, so we can use this any time to perform addition\n",
    "add()"
   ]
  },
  {
   "cell_type": "code",
   "execution_count": 12,
   "metadata": {},
   "outputs": [
    {
     "name": "stdout",
     "output_type": "stream",
     "text": [
      "The addition of a and b gives us->  14\n"
     ]
    }
   ],
   "source": [
    "#similarly by following second method of function invocation, you can also store in some variable\n",
    "a = add()#Note that variables used in a function has no connections with the variables you usesd outside the fucntion\n",
    "#as you can say I have declared variable in add function and at the same time I am also using it outside the function, so \n",
    "#always keep this in mind, their no connection b/w variables inside and outside the function\n",
    "a"
   ]
  },
  {
   "cell_type": "code",
   "execution_count": 14,
   "metadata": {},
   "outputs": [],
   "source": [
    "#one thing to note here when I call that variable in which we store our function in different cell, it does not return any\n",
    "#output, see ->Press shift + enter \n",
    "a\n",
    "#see we donot get any output here"
   ]
  },
  {
   "cell_type": "markdown",
   "metadata": {},
   "source": [
    "### Difference between Print and Return statements"
   ]
  },
  {
   "cell_type": "code",
   "execution_count": 18,
   "metadata": {},
   "outputs": [
    {
     "name": "stdout",
     "output_type": "stream",
     "text": [
      "14\n"
     ]
    }
   ],
   "source": [
    "#So you people might think that earlier I said that function is a reusable piece of code but now he i say you cannot use\n",
    "#it other than one particular cell? As I am here to answer all of your questions, so the answer is we have to use return \n",
    "#statement inside a function to get that particular output so we can use it any where by storing in some variable\n",
    "#So lets read what the return function is and what's the difference between print and return-> refers to print vs return\n",
    "#slide\n",
    "#So inshort, we use return statement to get back the output and store it in sum variable so we can use it anywhere we want\n",
    "#Now lets try our add function example with return statement\n",
    "def add():\n",
    "    a = 5\n",
    "    b = 9\n",
    "    c = a+b\n",
    "    return c #or you can also write return a+b, it totally depends upon you\n",
    "add_function = add()\n",
    "print(add_function)#here return function return us the output 14, which we store in variable add_function and to visualize\n",
    "#it we use print statement"
   ]
  },
  {
   "cell_type": "code",
   "execution_count": 21,
   "metadata": {},
   "outputs": [
    {
     "data": {
      "text/plain": [
       "14"
      ]
     },
     "execution_count": 21,
     "metadata": {},
     "output_type": "execute_result"
    }
   ],
   "source": [
    "#So lets check can we use add function other than one particular cell now \n",
    "add_function"
   ]
  },
  {
   "cell_type": "code",
   "execution_count": 23,
   "metadata": {},
   "outputs": [
    {
     "name": "stdout",
     "output_type": "stream",
     "text": [
      "14\n"
     ]
    }
   ],
   "source": [
    "print(add_function)\n",
    "\n",
    "\n",
    "#so now you can use your function anywhere you want \n",
    "#So till now we see basic syntax of function with or without parameters, than discuss function without parameters in detail\n",
    "#than 3 methods of function invocation, why docstring is used, why triple quotes used to make documentation and how we \n",
    "#can check docstring of function, then difference between print and return statement"
   ]
  },
  {
   "cell_type": "markdown",
   "metadata": {},
   "source": [
    "### Function with Parameters"
   ]
  },
  {
   "cell_type": "code",
   "execution_count": 26,
   "metadata": {},
   "outputs": [
    {
     "data": {
      "text/plain": [
       "130"
      ]
     },
     "execution_count": 26,
     "metadata": {},
     "output_type": "execute_result"
    }
   ],
   "source": [
    "#now its time to discuss functions with parameters or arguments what you want to say\n",
    "\n",
    "#An argument is a piece of information that is passed from a function call to a function. When we call the function,\n",
    "#we place the value we want the function to work with in parentheses.\n",
    "#so lets check what that means, Earlier we use add function , but problem with that function was everytime it returns 14 \n",
    "#when we call it, So let say you make a function that generates or return salary of employee, so my question is that does\n",
    "#every employee within a company recieves same salary??? Yes I hear you, you are right, Its not necessary, so to handle \n",
    "#such kind of problems we give values to function in form of parameter or arguments to make it dynamic. And this will be \n",
    "#our bonus question which we discuss in bonus section, Now lets apply this strategy on our addition function\n",
    "\n",
    "def add(a, b):#parameters here are a and b, you can define many parameters or argumentsv you want their no limitation of it\n",
    "    c = a + b#function use information which is a and b in this case to calculate sum\n",
    "    return c\n",
    "#again note that, parameters or arguments and variable used inside the function body has no connection with the variables \n",
    "#used outside the body\n",
    "#Recall argument definition, Now its time to elaborate it. We call add function and give it 2 parameters or arguments and\n",
    "#function work on those arguments or parameters\n",
    "add_f = add(30, 100)\n",
    "add_f"
   ]
  },
  {
   "cell_type": "code",
   "execution_count": 35,
   "metadata": {},
   "outputs": [
    {
     "data": {
      "text/plain": [
       "2200"
      ]
     },
     "execution_count": 35,
     "metadata": {},
     "output_type": "execute_result"
    }
   ],
   "source": [
    "#you can give any value you want, you can even do external operations\n",
    "2*add(100, 1000)#add function returns 1100 and you externally multiply it with 2 so total 2200\n"
   ]
  },
  {
   "cell_type": "markdown",
   "metadata": {},
   "source": [
    "### Don't Confuse Function Parameters with Function Arguments"
   ]
  },
  {
   "cell_type": "code",
   "execution_count": 31,
   "metadata": {},
   "outputs": [
    {
     "data": {
      "text/plain": [
       "2200"
      ]
     },
     "execution_count": 31,
     "metadata": {},
     "output_type": "execute_result"
    }
   ],
   "source": [
    "#People sometimes speak of arguments and parameters interchangeably. Don’t be surprised if you see the variables\n",
    "#in a function definition referred to as arguments or the variables in a function call referred to as parameters.\n",
    "\n",
    "#But more precisely, \n",
    "\n",
    "#A parameter is a variable which we use in the function definition. \n",
    "#An argument is a value we pass into the function as its input when we call the function"
   ]
  },
  {
   "cell_type": "code",
   "execution_count": 29,
   "metadata": {},
   "outputs": [
    {
     "name": "stdout",
     "output_type": "stream",
     "text": [
      "You entered correct password, Welcome David Cameron to your account\n"
     ]
    }
   ],
   "source": [
    "#let say you want to greet user with its name, so here we need one argument which is name of person, and again let say its\n",
    "#email login section, their billions of people who use emails, so when username enter its name, it will greet it with \n",
    "#welcome followed by its name\n",
    "def greet(username):#again we use return statement as we know we can use this function anywhere we want, so try to make it habbit\n",
    "    greet_user = print(f'You entered correct password, Welcome {username} to your account')\n",
    "    return greet_user\n",
    "\n",
    "greetings = greet('David Cameron')"
   ]
  },
  {
   "cell_type": "markdown",
   "metadata": {},
   "source": [
    "### Positional Arguments"
   ]
  },
  {
   "cell_type": "code",
   "execution_count": 36,
   "metadata": {},
   "outputs": [],
   "source": [
    "#When we call or invoke a python function, it matches each argument given in the function call with a \n",
    "#parameter in the function definition.The simplest way to do this is based on the order of the arguments provided.\n",
    "#and by matching values this way are called positional arguments.\n",
    "\n",
    "#we have one other way by which we can get free ourselfs of order of providing arguments, which we discuss after this, but\n",
    "#lets discuss it."
   ]
  },
  {
   "cell_type": "code",
   "execution_count": 45,
   "metadata": {},
   "outputs": [
    {
     "name": "stdout",
     "output_type": "stream",
     "text": [
      "The husband name is 'John' and the wife name is 'Marrie'\n"
     ]
    }
   ],
   "source": [
    "#lets define a function, which print someone full name\n",
    "def aboutfamily(husband_name, wife_name):#function name aboutfamily with parameters pet_name, pet_type, pet_food\n",
    "    family = print(f\"The husband name is '{husband_name}' and the wife name is '{wife_name}'\")\n",
    "    return family\n",
    "\n",
    "family_info = aboutfamily('John', 'Marrie')\n",
    "#Function definition accepts two arguments,  husband name at first position and wife name at second postion and we follow \n",
    "#same order during function call by giving husband name 'JOhn ' first and wife name 'Marrie ' second. \n",
    "\n",
    "#Position matters in a sense that what if swap there positions during function call"
   ]
  },
  {
   "cell_type": "code",
   "execution_count": 46,
   "metadata": {},
   "outputs": [
    {
     "name": "stdout",
     "output_type": "stream",
     "text": [
      "The husband name is 'Marrie' and the wife name is 'John'\n"
     ]
    }
   ],
   "source": [
    "family_info_swap = aboutfamily('Marrie', 'John')\n",
    "#See what it does is place Marrie at husband name position and John at wife name position, thats why you have to follow\n",
    "#same order during function call as you define in function definition"
   ]
  },
  {
   "cell_type": "markdown",
   "metadata": {},
   "source": [
    "### Keyword Arguments"
   ]
  },
  {
   "cell_type": "code",
   "execution_count": 53,
   "metadata": {},
   "outputs": [
    {
     "name": "stdout",
     "output_type": "stream",
     "text": [
      "The husband name is 'John' and the wife name is 'Marrie'\n",
      "\n",
      "**** Verifying that order of positions of parameters does not matter when working with keyword Arguement ****\n",
      "\n",
      "The husband name is 'John' and the wife name is 'Marrie'\n"
     ]
    }
   ],
   "source": [
    "#Earlier I gave you a hint that their is another way by which we dont have to follow order of positional arguments and that\n",
    "#way is called keywords arguements\n",
    "#What Keyword arguments do is basically free you from correctly ordering your arguments in the function call, and\n",
    "#they clarify the role of each value in the function call.\n",
    "\n",
    "#A keyword argument is a name-value pair that you pass to a function. You directly associate the name and the value within\n",
    "#the argument, so when you pass the argument to the function, there’s no confusion\n",
    "\n",
    "#In our aboutfamily function, names are husband and wife name and values are John and marrie\n",
    "#lets see how it works\n",
    "aboutfamily(husband_name='John', wife_name='Marrie')\n",
    "\n",
    "#lets recall quickly that parameters are define during function definition and arguments pass during function call\n",
    "#What happened here is when we call the about family function,we explicitly tell Python which parameter each argument \n",
    "#should be matched with. When Python reads the function call, it knows to store the argument 'John' in the parameter\n",
    "#husband name and the argument 'Marrie' in wife name. \n",
    "print('\\n**** Verifying that order of positions of parameters does not matter when working with keyword Arguement ****\\n')\n",
    "#lets quickly swap their position during function call to get confirmation that by following keywords arguments way we dont\n",
    "#have to worry about order of positions of parameters\n",
    "aboutfamily(wife_name='Marrie', husband_name='John')\n",
    "#see both give same outputs\n",
    "#In short The order of keyword arguments doesn’t matter because Python knows where each value should go\n",
    "\n",
    "#one thing to remember is that When you use keyword arguments, be sure to use the exact names of the arguments during \n",
    "#function call as in function definition "
   ]
  },
  {
   "cell_type": "markdown",
   "metadata": {},
   "source": [
    "### Default Values"
   ]
  },
  {
   "cell_type": "code",
   "execution_count": 59,
   "metadata": {},
   "outputs": [],
   "source": [
    "#consider a scenerio\n",
    "#let say you are gathering information about freelancer such as their name and pay in your area or city. So here by \n",
    "#default job is freelancer and if some one willing to mention more precise about his her skills as freelancer that he orshe\n",
    "#welcome to mention it. In this whole scenerio, job parameter consist of default value which is freelancer\n",
    "\n",
    "#When writing a function, we can define a default value for each parameter. If an argument for a default parameter is\n",
    "#provided in the function call, Python uses the argument value. If not, it uses the parameter’s default value which we set\n",
    "#during function definition. Note When we use default values, any parameter having a default value needs to be listed\n",
    "#after all the parameters that don’t have default values"
   ]
  },
  {
   "cell_type": "code",
   "execution_count": 65,
   "metadata": {},
   "outputs": [
    {
     "name": "stdout",
     "output_type": "stream",
     "text": [
      "Olivia is earning 1000 as a freelancer online\n",
      "Ahmed is earning 1000 as a developer online\n"
     ]
    }
   ],
   "source": [
    "#1\n",
    "#let create a function keeping abouve mentioned data gathering scenerio in our mind\n",
    "def online_earning(name, pay, job='freelancer'):#job parameter has default value freelancer and it is listed in last\n",
    "    info = print(f'{name} is earning {pay} as a {job} online')\n",
    "    return info\n",
    "\n",
    "details = online_earning(name='Olivia', pay=1000)#see as olivia doesnot mention his precise freelance skill, sojobparameter\n",
    "#uses its default value\n",
    "\n",
    "#Now lets mention someones skill by which he she earning as freelancer\n",
    "details_1 = online_earning(name='Ahmed', pay=1000, job='developer')#see Ahmed has provided the argument for job which is \n",
    "#default parameter, so this time python uses the argument value\n",
    "\n",
    "#Now lets try one more example to make your concepts crystal clear then we move to the next topic\n",
    "#Let's say you code a function that calculates state sales tax on a retail sale"
   ]
  },
  {
   "cell_type": "code",
   "execution_count": 74,
   "metadata": {},
   "outputs": [
    {
     "name": "stdout",
     "output_type": "stream",
     "text": [
      "Sales is 200 and tax for the state America is 16.0 with tax rate 0.08\n",
      "Sales is 300 and tax for the state Australia is 27.0 with tax rate 0.09\n"
     ]
    }
   ],
   "source": [
    "#Now lets try one more example to make your concepts crystal clear then we move to the next topic\n",
    "#Let's say you code a function that calculates state sales tax on a retail sale\n",
    "\n",
    "def tax(sales, state='America', tax_rate=0.08):#it has two default values, one in state parameter and other in tax_rate param\n",
    "    calculation = sales*tax_rate#first it calculate tax by multiplying sales with tax rate\n",
    "    overall_tax = print(f'Sales is {int(sales)} and tax for the state {state} is {calculation} with tax rate {tax_rate}')\n",
    "    return overall_tax\n",
    "\n",
    "#so what this function does it consider you by default american citizen and applies tax rate of america to calculate tax\n",
    "#over the given sales argument. lets check it out\n",
    "tax_calculation = tax(200)\n",
    "\n",
    "#let say if you are a person living in austrailia and you want to calculate how much tax you have to pay based on your \n",
    "#australia tax rate then you can easily change default values by passing arguments to those parameters and python then \n",
    "#consider your arguments in place of the default values, thats why we make state and tax rate default values\n",
    "tax_calculation_australia = tax(300, state='Australia', tax_rate=0.09)\n",
    "\n",
    "#So till now we have learned about positional parameters which depends upon the order of arguments and parameters, keyword\n",
    "#argument make us free from following the order, and default values by which can set default value for parameter such thatif\n",
    "#user enter any argument for that default parameter we can use that argument other wise python uses default value defined\n",
    "#in function definition\n",
    "\n",
    "#It doesn’t really matter which calling style you use. As long as your function calls produce\n",
    "#the output you want, just use the style you find easiest to understand.\n",
    "#understanding of function till here"
   ]
  },
  {
   "cell_type": "markdown",
   "metadata": {},
   "source": [
    "#### Making an Argument optional"
   ]
  },
  {
   "cell_type": "code",
   "execution_count": 80,
   "metadata": {},
   "outputs": [
    {
     "name": "stdout",
     "output_type": "stream",
     "text": [
      "David lee Cameron\n",
      "Taylor  Jordan\n"
     ]
    }
   ],
   "source": [
    "#you can also make argument optional with the help of default values. Sometimes it can be benefitical to make an argument \n",
    "#optional so that people using that function can choose to provide extra information only if they want to. You can use \n",
    "#default values to make an argument optional \n",
    "\n",
    "#lets create a program that make full name based on first name, middle name and last name as parameters, Note that it isnot\n",
    "#necessary that everyone should have middle name, so we have to set middle name optional here by assigning empty string or\n",
    "#some specific name if tribes or cast system matters\n",
    "def fullname(first_name, last_name, middle_name = ''):#note that again we have placed parameter with default value attheend\n",
    "    name = first_name + ' ' + middle_name + ' ' + last_name#it generates name by using string concatenation following by\n",
    "    #space between each name\n",
    "    return name\n",
    "\n",
    "complete_name = fullname('David', 'Cameron', 'lee')#here I have passed argument for middle name which is lee \n",
    "#also notice that I am not using keyword argument here, so thats why I am following order of postion of parameters\n",
    "print(complete_name)\n",
    "\n",
    "#Now lets define a person name having no middle name\n",
    "#now I am using keyword argument here\n",
    "complete_name_1 = fullname(first_name = 'Taylor', last_name = 'Jordan')\n",
    "print(complete_name_1)"
   ]
  },
  {
   "cell_type": "markdown",
   "metadata": {},
   "source": [
    "### Passing an Arbitrary Number of Arguments"
   ]
  },
  {
   "cell_type": "code",
   "execution_count": 14,
   "metadata": {},
   "outputs": [
    {
     "name": "stdout",
     "output_type": "stream",
     "text": [
      "('tikka', 'fajita', 'olive')\n",
      "\n",
      "****************** Using for loop to print each item separately ************************\n",
      "\n",
      "I love Pepperoni topping\n",
      "I love Mushrooms topping\n",
      "I love Extra cheese topping\n",
      "\n",
      "****************  Using positional and Arbitrary Arguments together ***********************\n",
      "\n",
      "Thank you Tom for ordering large pizza with topping/toppings ('Pepperoni', 'Mushrooms', 'Extra cheese'), your token no is 299\n"
     ]
    }
   ],
   "source": [
    "#Sometimes you don’t know how many arguments a function needs to accept. To tackle such kind of situation Python allows a \n",
    "#function to collect an arbitrary number of arguments from the calling statement.\n",
    "#we use *asterik. The asterisk with the parameter name in function definition tells Python to make an empty tuple\n",
    "#and pack whatever values it receives into this tuple. You can pass as many arbitrary arguments as you want during function\n",
    "#call and all those arbitrary arguements will save in the form of tupple.\n",
    "\n",
    "def pizza(*pizzatoppings):#the asterik with parameter pizzatoppings shows this function can recieve unlimited no of \n",
    "    #arguments and when we check pizzatoppings parameter it return tupple containing all those arguments related to topping\n",
    "    return pizzatoppings\n",
    "\n",
    "piz_top = pizza('tikka', 'fajita', 'olive')\n",
    "print(piz_top)\n",
    "#see it returns tupple containing all three arguements which we passed, you can also print them out separately using for\n",
    "#loop\n",
    "\n",
    "print('\\n****************** Using for loop to print each item separately ************************\\n')\n",
    "\n",
    "#you guys already know how to do it, lets quickly check it out \n",
    "def pizza_1(*pizzatoppings):\n",
    "    for topping in pizzatoppings:#it iterates over each item in pizzatoppings and print them one by one\n",
    "        print(f'I love {topping} topping')\n",
    "        \n",
    "piz_top_1 = pizza_1('Pepperoni', 'Mushrooms', 'Extra cheese')\n",
    "\n",
    "#See I told you its quite simple, you can also combine positional or keyword arguments with arbitrary arguments\n",
    "#Python first matches positional and keyword arguments with the param in func def and then matches any remaining arguments\n",
    "#with final parameter with asterik. For example, if the function needs to take in a size for the pizza, that\n",
    "#parameter must come before the parameter *toppings:\n",
    "\n",
    "print('\\n****************  Using positional and Arbitrary Arguments together ***********************\\n')\n",
    "\n",
    "def fresh_pizza(customer_name, token_no, size_of_pizza, *toppings):\n",
    "    return f'Thank you {customer_name.title()} for ordering {size_of_pizza} pizza with topping/toppings {toppings}, your token no is {token_no}'\n",
    "\n",
    "order_pizza = fresh_pizza('Tom', 299, 'large', 'Pepperoni', 'Mushrooms', 'Extra cheese')\n",
    "print(order_pizza)\n",
    "\n",
    "#see its very easy peasy, \n"
   ]
  },
  {
   "cell_type": "markdown",
   "metadata": {},
   "source": [
    "### Passing Arbitrary Keyword Arguments"
   ]
  },
  {
   "cell_type": "code",
   "execution_count": 31,
   "metadata": {},
   "outputs": [
    {
     "name": "stdout",
     "output_type": "stream",
     "text": [
      "the key is Size and the value is Medium\n",
      "the key is Flavour and the value is Fajita\n",
      "the key is Topping and the value is Pepperoni\n",
      "{'size': 'medium', 'flavour': 'fajita', 'topping': 'pepperoni'}\n",
      "Thank you Smith for ordering pizza, your order no is 101\n",
      "Pizza'sFlavour is Tikka\n",
      "Pizza'sTopping is Olive\n",
      "Pizza'sSize is Large\n",
      "{'flavour': 'tikka', 'topping': 'olive', 'size': 'large'}\n"
     ]
    }
   ],
   "source": [
    "#Earlier we pass arbitrary no of arguments in which we use single asterik, so you people might think what the difference \n",
    "#between arbitrary no of arguments and arbitrary keyword arguments, First of all recall what is keyword arguments, they are\n",
    "#key value or name value pair, same lies here, single asterik method return us tupple, here we use double asterik with\n",
    "#parameter name and recieve dictionary with key is the name of the the that and value is the value of arguements that you\n",
    "#pass during function call\n",
    "\n",
    "#I am again repeating-> key is the name of the argument that you and value of dict is the value of argument that you pass \n",
    "#during function call during function call\n",
    "#Lets see how it works\n",
    "\n",
    "#double asterisks before the parameter name cause Python to create an empty dictionary with name of parameter and pack\n",
    "#whatever name-value pairs it receives from function call into this dictionary. Within the function, you can access the\n",
    "#name value or key value pairs just as you would for any dictionary.\n",
    "\n",
    "#Now the question which might raise here why we are using this, Sometimes you’ll want to accept an arbitrary number of \n",
    "#arguments, but you won’t know ahead of time what kind of information will be passed to the function.\n",
    "\n",
    "#Earlier with arbitrary no of postional arguments, we know that we only get toppings but did not know the exact no of \n",
    "#toppings so arbitrary no of positional arguments are used to handle specific task\n",
    "\n",
    "#Arbitrary no of keyword arguements are used to handle general purpose task like getting employee details, consisting of \n",
    "#its name gender phone numbers mail etc or incase of pizza like size of pizza, toppings, flavours, etc\n",
    "\n",
    "def lovely_pizza(**order_pizza):\n",
    "    for k, v in order_pizza.items():#iterating over key which is name of the argument and value which is value of arguement\n",
    "        print (f'the key is {k.title()} and the value is {v.title()}')#print key value pair\n",
    "    return order_pizza#confirming whether it returns dictionary or not\n",
    "        \n",
    "pizza_1 = lovely_pizza(size = 'medium', flavour = 'fajita', topping = 'pepperoni')\n",
    "print(pizza_1)\n",
    "\n",
    "#similarly you can also use arbitrary no of keyword arguments with postional or keyword arguments, lets quickly check it\n",
    "#out\n",
    "\n",
    "print('\\n************************* Using postional or keyword arguments with arbitrary no of keyword arguements')\n",
    "\n",
    "def fav_pizza(customer_name, order_no, **pizza_details):\n",
    "    print (f'Thank you {customer_name} for ordering pizza, your order no is {order_no}')\n",
    "    for k, v in pizza_details.items():#iterating over arbitrary no of keyword arguments which are in the form of dictionary\n",
    "        print(f\"Pizza's{k.title()} is {v.title()}\")# printing details\n",
    "    return pizza_details\n",
    "pizza_2 = fav_pizza('Smith', 101, flavour='tikka', topping='olive', size='large')\n",
    "print(pizza_2)"
   ]
  },
  {
   "cell_type": "code",
   "execution_count": 12,
   "metadata": {},
   "outputs": [],
   "source": [
    "#I have tried to cover all kind of variation regarding argumentsand parameters, try to practice them quickly as possible as\n",
    "#they are the essential part of functions in python\n",
    "\n",
    "#Now lets move towards the other topic"
   ]
  },
  {
   "cell_type": "markdown",
   "metadata": {},
   "source": [
    "###  Functions can call other functions (Composition)"
   ]
  },
  {
   "cell_type": "code",
   "execution_count": 11,
   "metadata": {},
   "outputs": [
    {
     "name": "stdout",
     "output_type": "stream",
     "text": [
      "883\n"
     ]
    }
   ],
   "source": [
    "#In python functions we write can be used and called from other functions. \n",
    "#This is one of the most important ways that computer programmers take a large problem and break it down into a group \n",
    "#of smaller problems to save time and extra work. The process of breaking a problem into smaller subproblems\n",
    "#is called functional decomposition\n",
    "\n",
    "#Lets try an example in which\n",
    "# The first function called cube simply computes the cube of a given number. The second function called\n",
    "#sum_of_cubes makes use of cube function that we previously define to compute the cube of numbers and then we simply sum\n",
    "#them, so by doing this we get sum of cubes of numbers\n",
    "\n",
    "def cube(x):#this function simply computes the cube of a given number and return it so we can store it\n",
    "    y = x * x * x\n",
    "    return y\n",
    "\n",
    "def sum_of_cubes(x,y,z):#this function takes three param so that it will calculate sum of three numbers that have beencubed\n",
    "    a = cube(x)#it apply cube function to first param which is x and store it in a\n",
    "    b = cube(y)#then it apply cube function to seconnd param which is y and store it in b\n",
    "    c = cube(z)#then it apply cube function to third param which is z and store it in c\n",
    "\n",
    "    return a+b+c#later it will return sum of three numbers that were cubed\n",
    "\n",
    "#I am again reminding you guys that variables used within the function have no connection with the variables outside the\n",
    "#function, so these below a,b,c are different from those which is in sum of cubes function\n",
    "a = -5\n",
    "b = 2\n",
    "c = 10\n",
    "result = sum_of_cubes(a,b,c)#call sum of cubes function and pass a,b,c having 5,2,10 values correspondingly as argument\n",
    "print(result)\n",
    "\n",
    "#so thats it for it"
   ]
  },
  {
   "cell_type": "code",
   "execution_count": 9,
   "metadata": {},
   "outputs": [],
   "source": [
    "#You can use functions with all the Python structures you’ve learned about so far.\n",
    "#lets try some more examples before going on to exercise questions"
   ]
  },
  {
   "cell_type": "code",
   "execution_count": 5,
   "metadata": {},
   "outputs": [
    {
     "name": "stdout",
     "output_type": "stream",
     "text": [
      "Enter your first name: harry\n",
      "Enter your last name: marshell\n",
      "\n",
      "Welcome to party Harry Marshell\n",
      "Enter your first name: #ohn\n",
      "Enter your last name: smith\n"
     ]
    }
   ],
   "source": [
    "#lets try an example with while loop\n",
    "#I have written a program in which it continously ask user to enter its first and last name anf then it welcomes them in a\n",
    "#party, see I have mentioned word continously here, so we use while loop, but we know we have to give one termination \n",
    "#condition to while loop otherwise it continouly run till infinite times, lets dive into code and see what that termination\n",
    "#condition is\n",
    "\n",
    "def greetings():#here we take input using while loop thats why no parameters required here\n",
    "    while True:\n",
    "        first_name = input('Enter your first name: ')\n",
    "        last_name = input('Enter your last name: ')\n",
    "        if first_name.startswith('#') or last_name.startswith('#'):#recall startwith which check first initial of string\n",
    "            #here our termination condition is if first character of whether first name or the last name is # while loop\n",
    "            #will terminate, other wise it prints welcome to party, so quickly check it out\n",
    "            break\n",
    "        else:\n",
    "            print (\"\\nWelcome to party\", first_name.title() + ' ' + last_name.title()) \n",
    "\n",
    "wel = greetings()"
   ]
  },
  {
   "cell_type": "code",
   "execution_count": 8,
   "metadata": {},
   "outputs": [
    {
     "name": "stdout",
     "output_type": "stream",
     "text": [
      "6\n"
     ]
    }
   ],
   "source": [
    "#Now lets write a fucntion that takes list of numbers or items as input and count no of items in that list, we know how to \n",
    "#do it, we have already done this a lot of times using for loop or more probably the accumulator pattern, what we have to\n",
    "#do is just place the whole accumulator structure with in the function body, lets quickly see what does I mean\n",
    "\n",
    "def counter(lst):#it takes list of numbers thats why I passed lst as param\n",
    "    count = 0#accumulator variable\n",
    "    for elem in lst:#iterate over all list elements\n",
    "        count = count + 1#every time count value increases by 1\n",
    "    return count#return no of elements or count \n",
    "counting = counter([1, 2, 3, 4, 5, 6])#passing list as argument containing 6 elements\n",
    "print(counting)\n",
    "#see it gives write answer"
   ]
  },
  {
   "cell_type": "markdown",
   "metadata": {},
   "source": [
    "## Lambda Expressions"
   ]
  },
  {
   "cell_type": "raw",
   "metadata": {},
   "source": [
    "#As I mentioned in the title of course, I will take you deep in python, so with deep hearts lets welcome lambda expressions\n",
    "\n",
    "#It is an alternative notation for creating a function\n",
    "\n",
    "#Most people consider it hard to use, but in my opinion its quite simple, you guys will learn it with in 5 mins\n",
    "#So lets go for a code and after that I'll explain you the syntax\n",
    "\n",
    "def function_name(parameter):you can call parameter or argument what you want\n",
    "    return expression\n",
    "\n",
    "#This is normal python function and it is equivalent to\n",
    "\n",
    "function_name = lambda parameter: expression\n",
    "\n",
    "The syntax of a lambda expression is that the word “lambda” followed by parameter names, note that parameter names must be separated by commas but not inside (parentheses), then followed by a colon and then an expression. \n",
    "\n",
    "#It is not necessary to store lambda function in variable, you can directly use it and below is its syntax\n",
    "\n",
    "lambda parameter: expression \n",
    "\n",
    "And because it does not have any name so it called anonymous function object\n",
    "\n",
    "#See what I told you, you guys will learn to use within 5 mins and your 5 mins are over. So lets try few example of it\n",
    " "
   ]
  },
  {
   "cell_type": "code",
   "execution_count": 30,
   "metadata": {},
   "outputs": [
    {
     "name": "stdout",
     "output_type": "stream",
     "text": [
      "7\n",
      "7\n",
      "7\n"
     ]
    }
   ],
   "source": [
    "#lets write a function both in normal and in lambda terms that takes a number as input and return 5 added to it\n",
    "1#\n",
    "def added(num):\n",
    "    return num + 5\n",
    "\n",
    "number_func = added(2)\n",
    "print(number_func)#so yeah it quite simple with normal function syntax, it is also simple with lambda expression, lets\n",
    "#quickly check it out\n",
    "\n",
    "#2\n",
    "added = lambda num : num + 5\n",
    "#here I have define above function in terms of lambda expression\n",
    "print(added(2))#now lets call it and print it and see it give us the correct answer\n",
    "\n",
    "#3\n",
    "#lets see one more example with two parameters\n",
    "added_1 = lambda num1, num2: num1+num2#function name is added_1 and it takes two parameters num1 and num2 separated by coma\n",
    "print(added_1(3, 4))\n",
    "\n",
    "\n",
    "#It totally depend upon students either they want to used normal function syntax or lambda expressions. \n",
    "#Some students find it easy to work with lambda expressions than to refer to a function by name.\n",
    "#While others find the syntax of lambda expressions confusing. It’s totally up to you which version you want to use though \n",
    "#you will need to be able to read and understand lambda expressions that are written by others. "
   ]
  },
  {
   "cell_type": "code",
   "execution_count": 27,
   "metadata": {},
   "outputs": [
    {
     "name": "stdout",
     "output_type": "stream",
     "text": [
      "<function <lambda> at 0x00000242630E7318>\n"
     ]
    }
   ],
   "source": [
    "print(lambda num1,num2: num1+num2)"
   ]
  },
  {
   "cell_type": "code",
   "execution_count": 1,
   "metadata": {},
   "outputs": [],
   "source": [
    "#Now after learning about the functions, Its time for some exercise questions, see you there"
   ]
  },
  {
   "cell_type": "markdown",
   "metadata": {},
   "source": [
    "## EXERCISES"
   ]
  },
  {
   "cell_type": "markdown",
   "metadata": {},
   "source": [
    "Q1: Write a function called favorite_movie() that accepts one\n",
    "parameter, title of movie. The function should print a message, such as One of my\n",
    "favorite movie is 'movie name'. Call the function, making sure to\n",
    "include a movie title as an argument in the function call."
   ]
  },
  {
   "cell_type": "code",
   "execution_count": 4,
   "metadata": {},
   "outputs": [
    {
     "name": "stdout",
     "output_type": "stream",
     "text": [
      "One of my favorite movie is 'The Shawshank Redemption'\n"
     ]
    }
   ],
   "source": [
    "#first we start with function definition containing function name and one parameter for title of the movies\n",
    "def favorite_movie(movie_title):\n",
    "    print(f\"One of my favorite movie is '{movie_title.title()}'\")#it prints this msg here\n",
    "    \n",
    "#calling the function and passing movie title as argument\n",
    "movie = favorite_movie('The Shawshank Redemption')\n",
    "#time to check the output\n",
    "movie\n",
    "#so now move towards second problem"
   ]
  },
  {
   "cell_type": "markdown",
   "metadata": {},
   "source": [
    "Q2: Write a function called add that takes any number as its input and returns that sum with 5 added."
   ]
  },
  {
   "cell_type": "code",
   "execution_count": 5,
   "metadata": {},
   "outputs": [
    {
     "name": "stdout",
     "output_type": "stream",
     "text": [
      "15\n"
     ]
    }
   ],
   "source": [
    "#Its quite simple problem, just to warm up you guys\n",
    "def add(num):\n",
    "    return num + 5#return sum with 5 added\n",
    "\n",
    "addition = add(10)\n",
    "print(addition)"
   ]
  },
  {
   "cell_type": "markdown",
   "metadata": {},
   "source": [
    "Q3: Write a function sum_of_squares(lst) that computes the sum of the squares of the numbers in the list lst. For example, sum_of_squares([2, 3, 4]) should return 4+9+16 which is 29:"
   ]
  },
  {
   "cell_type": "code",
   "execution_count": 7,
   "metadata": {},
   "outputs": [
    {
     "name": "stdout",
     "output_type": "stream",
     "text": [
      "29\n"
     ]
    }
   ],
   "source": [
    "def sum_of_squares(lst):\n",
    "    _sum = 0#initializing sum to 0\n",
    "    for num in lst:\n",
    "        _sum = _sum + num**2#sum of squares\n",
    "    return _sum#now returning sum\n",
    "#doing function invocation here\n",
    "sum_square = sum_of_squares([2, 3, 4])#passing list as argument\n",
    "print(sum_square)#it guve us the correct output"
   ]
  },
  {
   "cell_type": "markdown",
   "metadata": {},
   "source": [
    "Q4: Write a function to count how many even numbers are in a list."
   ]
  },
  {
   "cell_type": "code",
   "execution_count": 10,
   "metadata": {},
   "outputs": [
    {
     "data": {
      "text/plain": [
       "5"
      ]
     },
     "execution_count": 10,
     "metadata": {},
     "output_type": "execute_result"
    }
   ],
   "source": [
    "def count_even(lst):\n",
    "    count = 0\n",
    "    for num in lst:#iterate over list elements\n",
    "        if num % 2 == 0:#checking whether number is even\n",
    "            count = count + 1#if number is even,count value increases\n",
    "        else:\n",
    "            continue#else move to the next iteration\n",
    "    return count#in the end return count variable\n",
    "\n",
    "num_list = list(range(1, 12))#here I have created a list containing numbers from 1 to 11 where 5 are the even numbers\n",
    "even_numbers = count_even(num_list)#passing the above declare list here\n",
    "even_numbers#running the function and it give us the correct output"
   ]
  },
  {
   "cell_type": "markdown",
   "metadata": {},
   "source": [
    "Q5: Write a function named number_testing that takes a number as input. If the number is greater than 5, the function should return “Greater than 5.” If the number is less than 5, the function should return “Less than 5.” If the number is equal to 5, the function should return “Equal to 5.”"
   ]
  },
  {
   "cell_type": "code",
   "execution_count": 20,
   "metadata": {},
   "outputs": [
    {
     "name": "stdout",
     "output_type": "stream",
     "text": [
      "Greater than 5.\n"
     ]
    }
   ],
   "source": [
    "def number_testing(num):#one parameter for number\n",
    "    if num > 5:#checking whether num is greater or lesser or equal to 5\n",
    "        return \"Greater than 5.\"\n",
    "    elif num < 5:\n",
    "        return \"Less than 5.\"\n",
    "    else:\n",
    "        return \"Equal to 5.\"\n",
    "\n",
    "num_test = number_testing(7)#passing 7 as argument\n",
    "#it should have to return greater than 5\n",
    "print(num_test)#and it gives correctly\n",
    "\n",
    "#in a similar way, you guys can also make a function that can perform calculation or more precisely a calculator function\n",
    "#that take two numbers and operation to perform on them as input and checking what kind of operator user has given and based\n",
    "#on that operator type, calculator should be able to perform calculation. Try this by yourself, I you face any difficulty, \n",
    "#no problem, I have already mentioned it in bonus section"
   ]
  },
  {
   "cell_type": "markdown",
   "metadata": {},
   "source": [
    "BONUS-> Write a function named calculator that work as a calculator. It takes two numbers as input and an operator to perform calculation on those two numbers."
   ]
  },
  {
   "cell_type": "code",
   "execution_count": 16,
   "metadata": {},
   "outputs": [
    {
     "name": "stdout",
     "output_type": "stream",
     "text": [
      "15\n"
     ]
    }
   ],
   "source": [
    "def calculator(a,b,operator):#it consist of 3 parameters, 2 for numbers and 1 for an operator\n",
    "    if operator == \"+\":#I have defined different operation here from addition to remainder \n",
    "        c = a + b\n",
    "        return c\n",
    "    elif operator == \"-\":\n",
    "        c = a - b\n",
    "        return c\n",
    "    elif operator == \"*\":\n",
    "        c =a * b \n",
    "        return c\n",
    "    elif operator == \"//\":\n",
    "        c = a // b\n",
    "        return c\n",
    "    elif operator == '%':\n",
    "        c = a % b\n",
    "        return c\n",
    "    else:\n",
    "        print(\"The operation is not define\")\n",
    "        \n",
    "calculation = calculator(a = 10, b = 5, operator = '+')#here I used keyword argument\n",
    "print(calculation)"
   ]
  },
  {
   "cell_type": "markdown",
   "metadata": {},
   "source": [
    "Q6: Write a function that accepts a list of items a person wants\n",
    "on a burger. The function should have one parameter that collects as many\n",
    "items as the function call provides, and it should print a summary of the sandwich\n",
    "that is being ordered"
   ]
  },
  {
   "cell_type": "code",
   "execution_count": 25,
   "metadata": {},
   "outputs": [
    {
     "name": "stdout",
     "output_type": "stream",
     "text": [
      "The burger is ordered having ('Chicken patty', 'Mayo', 'Red Sauce', 'Cheese') in it\n"
     ]
    }
   ],
   "source": [
    "def burger(*items):#here we are using arbitrary no of arguments technique and remember it returns a tuple\n",
    "    print(f'The burger is ordered having {items} in it')\n",
    "    \n",
    "burger('Chicken patty', 'Mayo', 'Red Sauce', 'Cheese')"
   ]
  },
  {
   "cell_type": "markdown",
   "metadata": {},
   "source": [
    "Q7: Write a function that stores information about a car in a dictionary.\n",
    "The function should always receive a manufacturer and a model name. It\n",
    "should then accept an arbitrary number of keyword arguments. Call the function\n",
    "with the required information and two other name-value pairs, such as a\n",
    "color or an optional feature. Your function should work for a call like this one:\n",
    "car = make_car('subaru', 'outback', color='blue', tow_package=True)\n",
    "\n",
    "Print the dictionary that’s returned to make sure all the information was\n",
    "stored correctly."
   ]
  },
  {
   "cell_type": "code",
   "execution_count": 30,
   "metadata": {},
   "outputs": [
    {
     "name": "stdout",
     "output_type": "stream",
     "text": [
      "{'manufacturer': 'subaru', 'model name': 'outback', 'color': 'blue', 'tow_package': True}\n"
     ]
    }
   ],
   "source": [
    "def car_info(manufacturer, model_name, **extra_car_info):\n",
    "    information = {}#define empty dictionary so we can store all information of car in it\n",
    "    \n",
    "    information['manufacturer'] = manufacturer#storing manufacturer inforamtation in dict\n",
    "    information['model name'] = model_name##storing model inforamtation in dict\n",
    "    \n",
    "    for k, v in extra_car_info.items():#as we know with double asterik, we recieve dictionary, so we iterate over it so \n",
    "        #that we can store its information in out information dictionary where key is the name of the argument and value\n",
    "        #is the value of argument\n",
    "        information[k] = v\n",
    "    \n",
    "    return information#and in the end it returns information dictionary\n",
    "\n",
    "car = car_info('subaru', 'outback', color='blue', tow_package=True)\n",
    "print(car)"
   ]
  },
  {
   "cell_type": "markdown",
   "metadata": {},
   "source": [
    "Q8: You will need to write two functions for this problem. The first function, divide that takes in any number and returns that same number divided by 2. The second function called sum should take any number, divide it by 2, and add 6. It should return this new number. You should call the divide function within the sum function. Do not worry about decimals. "
   ]
  },
  {
   "cell_type": "code",
   "execution_count": 22,
   "metadata": {},
   "outputs": [
    {
     "name": "stdout",
     "output_type": "stream",
     "text": [
      "2.0\n",
      "8.0\n"
     ]
    }
   ],
   "source": [
    "def divide(a):#it divdes any given number by 2, and here we are doing floating point division\n",
    "    x = a/2\n",
    "    return x\n",
    "\n",
    "def sum(b):#this function will take any number as input, use previously defined divide function to perform division and \n",
    "    #then add 6 to it\n",
    "    y = divide(b) + 6\n",
    "    return y\n",
    "\n",
    "print(divide(4))#checking whether divide function works correctly\n",
    "print(sum(4))#calling sum function with 4 where 4 first divide by 2 so we get 2 and then 6 will add to it so 2 + 6 = 8"
   ]
  },
  {
   "cell_type": "markdown",
   "metadata": {},
   "source": [
    "Q9: Write a python program which takes list as input and return its last element using lambda expression"
   ]
  },
  {
   "cell_type": "code",
   "execution_count": 32,
   "metadata": {},
   "outputs": [
    {
     "name": "stdout",
     "output_type": "stream",
     "text": [
      "5\n"
     ]
    }
   ],
   "source": [
    "last_elem = lambda lst: lst[-1]\n",
    "\n",
    "print(last_elem([1, 2, 3, 4, 5]))#see it returns last element"
   ]
  },
  {
   "cell_type": "markdown",
   "metadata": {},
   "source": [
    "Q10: Define a python function called multiplication that takes three parameters. The first parameter would be an integer. A second parameter named opt_int should be optional with a default value of 7. The final parameter, change, should also be optional but with a default value of False. The function should multiply the two integers together, and if change is True, it should change the sign of the product before returning it."
   ]
  },
  {
   "cell_type": "code",
   "execution_count": 37,
   "metadata": {},
   "outputs": [
    {
     "name": "stdout",
     "output_type": "stream",
     "text": [
      "-40\n"
     ]
    }
   ],
   "source": [
    "#we have to define a function with name 'number' with three parameters, first parameter should be an integer, second param\n",
    "#should also be interger but its optional means it depend upon user whether they want to give it or not and thats why we\n",
    "#set its value to 7 to avoid any kind of error and the third parameter with naem change should also be optional but consider\n",
    "#only boolean values and we set its default value to False, we multiply both integer and optional integer and if change \n",
    "#value changes to True by user what does it do it return product of two numbers but with opposite sign other wise returns\n",
    "#the same product\n",
    "\n",
    "#I think after learning alot about functions, they should now be easy for you guys, lets quickly check it out\n",
    "\n",
    "def multiplication(num, opt_int=7, change = False):#takes three parameters with two option\n",
    "    product = num * opt_int #taking product of two ingers\n",
    "    if change == True:#checking change parameter value and if its true, it reverses the sign of product otherwise returns \n",
    "        #same\n",
    "        return -product\n",
    "    else:\n",
    "        return mult\n",
    "    \n",
    "multiply = multiplication(5,opt_int = 8, change=True)#what I do here is change the optional int value to 8 and change\n",
    "#parameter value to True so when we multiply 5 with 8 we get 40 and we set change to True so we get answer with oposite\n",
    "#sign so finally negative -40\n",
    "print(multiply)\n",
    "\n",
    "\n",
    "#So that all for functions, I Hope now you guys have great understanding regarding python functions, See you in OOP section\n",
    "#take care good bye"
   ]
  },
  {
   "cell_type": "code",
   "execution_count": null,
   "metadata": {},
   "outputs": [],
   "source": []
  }
 ],
 "metadata": {
  "kernelspec": {
   "display_name": "Python 3",
   "language": "python",
   "name": "python3"
  },
  "language_info": {
   "codemirror_mode": {
    "name": "ipython",
    "version": 3
   },
   "file_extension": ".py",
   "mimetype": "text/x-python",
   "name": "python",
   "nbconvert_exporter": "python",
   "pygments_lexer": "ipython3",
   "version": "3.7.4"
  }
 },
 "nbformat": 4,
 "nbformat_minor": 4
}
