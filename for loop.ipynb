{
 "cells": [
  {
   "cell_type": "markdown",
   "metadata": {},
   "source": [
    "## FOR LOOPS"
   ]
  },
  {
   "cell_type": "code",
   "execution_count": 2,
   "metadata": {},
   "outputs": [],
   "source": [
    "#A basic building block of all programs is to be able to repeat some code over and over again. We refer to this \n",
    "#repetitive idea as iteration. In this section, we will explore some mechanisms for basic iteration.\n",
    "\n",
    "#In Python, the for statement allows us to write programs that implement iteration. For loops are called “definite loops” \n",
    "#because they execute an exact number of times. \n",
    "#We say that “definite loops iterate through the members of a set\n",
    "\n",
    "#The overall syntax is for <loop_var_name> in <sequence>:\n",
    "#loop_var_name is also called iterator and sequence is also called iterable\n",
    "\n",
    "#1. Between the words for and in, there must be a variable name for the loop variable. You can’t put a whole expression \n",
    "#there.\n",
    "#2. A colon is required at the end of the line\n",
    "#3. After the word in and before the colon is an expression that must evaluate to a sequence (e.g, a string or a list or a \n",
    "#tuple). It could be a literal, or a variable name, or a more complex expression.\n",
    "\n",
    "##################################### What is iterator and iterable #########################################\n",
    "\n",
    "#The iterable is the object that you will parsing through in a for loop. Generally, this object does not change\n",
    "#while the for loop is being executed.\n",
    "\n",
    "#The iterator (loop) variable is the variable which stores a portion of the iterable when the for loop is being executed. \n",
    "#Each time the loop iterates, the value of the iterator variable will change to a different portion of the iterable."
   ]
  },
  {
   "cell_type": "code",
   "execution_count": 6,
   "metadata": {},
   "outputs": [
    {
     "name": "stdout",
     "output_type": "stream",
     "text": [
      "Their is a match and Harry you are required here, come quickly.\n",
      "Their is a match and Tom you are required here, come quickly.\n",
      "Their is a match and Mat you are required here, come quickly.\n",
      "Their is a match and Taylor you are required here, come quickly.\n",
      "Their is a match and Smith you are required here, come quickly.\n",
      "Their is a match and Joseph you are required here, come quickly.\n"
     ]
    }
   ],
   "source": [
    "# As a simple example, let’s say you have a cricket match, and you want to msg 6 of your friends inviting them for a match.\n",
    "#Let suppose for a second mobile phone is not invented yet and you want to send them msg using python, I know I have said \n",
    "#something that is on another level but lets assume together.\n",
    "#one way is we create separate varible for each and print msg separately to each\n",
    "#What if we send msg to all by writing two lines of code, so are you ready, lets dive in together\n",
    "for friend in ['Harry', 'Tom', 'Mat', 'Taylor', 'Smith', 'Joseph']:\n",
    "    print('Their is a match and',friend, 'you are required here, come quickly.')#lets print and magic happens\n",
    "\n",
    "#here iterator is friend and iterable or sequence is a list\n",
    "#try to put that iterator which is related to your condition for better understanding\n",
    "#first iterator which is friend uses harry and print a msg, then it Tom and so on\n",
    "#Note that for loops works until the list is not empty and after joseph thier is no more friends name so for loop ends\n",
    "#thats why it is called finite or defininte loops"
   ]
  },
  {
   "cell_type": "code",
   "execution_count": 1,
   "metadata": {},
   "outputs": [
    {
     "name": "stdout",
     "output_type": "stream",
     "text": [
      "G\n",
      "o\n",
      " \n",
      "S\n",
      "p\n",
      "o\n",
      "t\n",
      " \n",
      "G\n",
      "o\n",
      "G\n",
      "Go\n",
      "o \n",
      " S\n",
      "Sp\n",
      "po\n",
      "ot\n",
      "t \n",
      " G\n",
      "Go\n",
      "o"
     ]
    }
   ],
   "source": [
    "#lets try string as a sequence with for loop\n",
    "for st in \"Go Spot Go\":\n",
    "    print(st)#first G assigned to st, then o, then space, then s then p and so on\n",
    "\n",
    "#you can also get result in one line\n",
    "for st in 'Go Spot Go':\n",
    "    print(st, end='')"
   ]
  },
  {
   "cell_type": "code",
   "execution_count": 4,
   "metadata": {},
   "outputs": [
    {
     "name": "stdout",
     "output_type": "stream",
     "text": [
      "0\n",
      "1\n",
      "2\n",
      "\n",
      "This loop will run three times\n",
      "This loop will run three times\n",
      "This loop will run three times\n"
     ]
    }
   ],
   "source": [
    "#using range function to iterate\n",
    "for i in range(0,3):#this for loop runs three times\n",
    "    print(i)\n",
    "print()    \n",
    "#you can also put statements inside it\n",
    "for i in range(3):#Now here I have only given stop range which is upto, so by default loop start from 0 till 2 as3excluded \n",
    "    print('This loop will run three times')\n",
    "    \n",
    "#you guys can use range with list, string, tupple dictionary etc, lets try it with string"
   ]
  },
  {
   "cell_type": "code",
   "execution_count": 16,
   "metadata": {},
   "outputs": [
    {
     "name": "stdout",
     "output_type": "stream",
     "text": [
      "10\n",
      "iterator 0\n",
      "value G\n",
      "iterator 1\n",
      "value o\n",
      "iterator 2\n",
      "value  \n",
      "iterator 3\n",
      "value s\n",
      "iterator 4\n",
      "value p\n",
      "iterator 5\n",
      "value o\n",
      "iterator 6\n",
      "value t\n",
      "iterator 7\n",
      "value  \n",
      "iterator 8\n",
      "value G\n",
      "iterator 9\n",
      "value o\n",
      "\n",
      "Food Example\n",
      "\n",
      "iterator 0\n",
      "I love eating Burger\n",
      "iterator 1\n",
      "I love eating Ice Cream\n",
      "iterator 2\n",
      "I love eating Juice\n",
      "iterator 3\n",
      "I love eating Rice\n",
      "iterator 4\n",
      "I love eating Pizza\n"
     ]
    }
   ],
   "source": [
    "stri = 'Go spot Go'\n",
    "#you guys can check len of stri\n",
    "print(len(stri))\n",
    "for st in range(len(stri)):#in other words, range function will run 10 times from 0 to 9\n",
    "    print('iterator', st)\n",
    "    print('value', stri[st])\n",
    "    \n",
    "#first of all iterator value is 0, and stri[0] is G, then iterator value [1] and stri[1] is o and so on\n",
    "#Now I hope you guys got clear understanding how for loop work using range function, lets try it with list\n",
    "#lets try food example\n",
    "print('\\nFood Example\\n')\n",
    "\n",
    "foods = ['burger', 'ice cream', 'juice', 'rice', 'pizza']\n",
    "#burger at 0 position, icecream at 1 and so on till pizza at 4 so we give pass five in range function or just len of list\n",
    "#to generalize\n",
    "for food in range(len(foods)):\n",
    "    print('iterator', food)\n",
    "    print('I love eating', foods[food].title())#title method is used to capitalize initials of foods\n",
    "    \n",
    "#in a same manner, you can use range with tupple just replace the square paranthesis of list with the round paranthesis"
   ]
  },
  {
   "cell_type": "markdown",
   "metadata": {},
   "source": [
    "### The Accumulator Pattern"
   ]
  },
  {
   "cell_type": "markdown",
   "metadata": {},
   "source": [
    "A common programming “pattern” is is to traverse a sequence,accumulating a value as we go, such as the total-so-far or the largest-so-far. That way, at the end of the traversal we have accumulated a single value, such as the sum total of all the items or the largest item.\n",
    "\n",
    "The charactheristics of the accumulation pattern includes:\n",
    "initializing an “accumulator” variable to an initial value (such as 0 if accumulating a sum)\n",
    "\n",
    "iterating (e.g., traversing the items in a sequence)\n",
    "\n",
    "updating the accumulator variable on each iteration (i.e., when processing each item in the sequence)."
   ]
  },
  {
   "cell_type": "code",
   "execution_count": 18,
   "metadata": {},
   "outputs": [
    {
     "name": "stdout",
     "output_type": "stream",
     "text": [
      "iterator 1\n",
      "sum 1\n",
      "iterator 2\n",
      "sum 3\n",
      "iterator 3\n",
      "sum 6\n",
      "iterator 4\n",
      "sum 10\n",
      "iterator 5\n",
      "sum 15\n",
      "iterator 6\n",
      "sum 21\n",
      "iterator 7\n",
      "sum 28\n",
      "iterator 8\n",
      "sum 36\n",
      "iterator 9\n",
      "sum 45\n",
      "iterator 10\n",
      "sum 55\n",
      "55\n"
     ]
    }
   ],
   "source": [
    "nums = [1, 2, 3, 4, 5, 6, 7, 8, 9, 10]\n",
    "_sum = 0#here sum is an accumulator variable\n",
    "#here i use _sum instead of sum because sum is a python built in function \n",
    "for n in nums:\n",
    "    print('iterator', n)\n",
    "    _sum = _sum + n#first n is 1 so 0+1=1 then n is 2 so 1+2=3, then n=3 and 3+3=6 and so on\n",
    "    print('sum', _sum)#it helps you in confirming what happens every time\n",
    "print(_sum)"
   ]
  },
  {
   "cell_type": "code",
   "execution_count": 20,
   "metadata": {},
   "outputs": [
    {
     "name": "stdout",
     "output_type": "stream",
     "text": [
      "1\n",
      "2\n",
      "3\n",
      "4\n",
      "5\n",
      "6\n",
      "7\n",
      "8\n",
      "9\n",
      "10\n",
      "11\n",
      "For loop runs-> 11\n"
     ]
    }
   ],
   "source": [
    "#we can also count how many times a loop runs, it is helpful when we dont know the end limit and we are curious of finding\n",
    "#how many times a loop runs\n",
    "count = 0#here count is the accumulator variable\n",
    "for i in range(0, 21, 2):\n",
    "    count = count + 1#when first time loop runs, count shows 1, then 2nd time 1+1=2, then 3rd time 2+1=3 and so on\n",
    "    print(count)\n",
    "print('For loop runs->', count)#the loop runs 11 times\n",
    "    \n"
   ]
  },
  {
   "cell_type": "markdown",
   "metadata": {},
   "source": [
    "### enumerate()"
   ]
  },
  {
   "cell_type": "code",
   "execution_count": 21,
   "metadata": {},
   "outputs": [
    {
     "name": "stdout",
     "output_type": "stream",
     "text": [
      "index:0, fruit:apple\n",
      "index:1, fruit:orange\n",
      "index:2, fruit:banana\n",
      "index:3, fruit:mango\n",
      "index:4, fruit:pomegranate\n",
      "index:5, fruit:Guava\n"
     ]
    }
   ],
   "source": [
    "#what if you want to track index of certain item in a for loop?Always ask such questions from yourself, if you dont get\n",
    "#your answers, then I am always here to help you, if i also not know its answer, I will search for it and give reply to\n",
    "#you, its also help to enhance my knowledge, we learn together grow together\n",
    "#We use enumerate() on the list, string or tupple to get the index of each item, as well as the value.\n",
    "fruits = ['apple', 'orange', 'banana', 'mango', 'pomegranate', 'Guava']\n",
    "for index, fruit in enumerate(fruits):\n",
    "    print(f'index:{index}, fruit:{fruit}' )"
   ]
  },
  {
   "cell_type": "code",
   "execution_count": 28,
   "metadata": {},
   "outputs": [
    {
     "name": "stdout",
     "output_type": "stream",
     "text": [
      "index:0, code:H\n",
      "index:1, code:e\n",
      "index:2, code: \n",
      "index:3, code:i\n",
      "index:4, code:s\n",
      "index:5, code: \n",
      "index:6, code:k\n",
      "index:7, code:n\n",
      "index:8, code:o\n",
      "index:9, code:w\n",
      "index:10, code:n\n",
      "index:11, code: \n",
      "index:12, code:f\n",
      "index:13, code:o\n",
      "index:14, code:r\n",
      "index:15, code: \n",
      "index:16, code:h\n",
      "index:17, code:i\n",
      "index:18, code:s\n",
      "index:19, code: \n",
      "index:20, code:c\n",
      "index:21, code:o\n",
      "index:22, code:d\n",
      "index:23, code:i\n",
      "index:24, code:n\n",
      "index:25, code:g\n",
      "index:26, code: \n",
      "index:27, code:s\n",
      "index:28, code:k\n",
      "index:29, code:i\n",
      "index:30, code:l\n",
      "index:31, code:l\n",
      "index:32, code:s\n"
     ]
    }
   ],
   "source": [
    "#you can also try enumerate to string\n",
    "coder = 'He is known for his coding skills'\n",
    "for index, code in enumerate(coder):\n",
    "    print(f'index:{index}, code:{coder[index]}')#coder[0] gives h, coder[1] gives e, coder[2] gives space"
   ]
  },
  {
   "cell_type": "code",
   "execution_count": 29,
   "metadata": {},
   "outputs": [],
   "source": [
    "#their are some keywords especially the two most common continue and break which we discuss in while loop"
   ]
  },
  {
   "cell_type": "markdown",
   "metadata": {},
   "source": [
    "### Nested For loop"
   ]
  },
  {
   "cell_type": "code",
   "execution_count": 32,
   "metadata": {},
   "outputs": [],
   "source": [
    "#Nested for loops are mostly used with nested data structures, especially lists and/or dictionaries to traverse them."
   ]
  },
  {
   "cell_type": "code",
   "execution_count": 38,
   "metadata": {},
   "outputs": [
    {
     "name": "stdout",
     "output_type": "stream",
     "text": [
      "outer list:  ['a', 'b', 'c']\n",
      "inner list elements: a\n",
      "inner list elements: b\n",
      "inner list elements: c\n",
      "outer list:  ['d', 'e']\n",
      "inner list elements: d\n",
      "inner list elements: e\n",
      "outer list:  ['f', 'g', 'h']\n",
      "inner list elements: f\n",
      "inner list elements: g\n",
      "inner list elements: h\n"
     ]
    }
   ],
   "source": [
    "characters = [['a', 'b', 'c'],['d', 'e'],['f', 'g', 'h']]\n",
    "#here [a, b, c] is at 0 position of characters, [d, e] at characters[1] and [f, g, h] at characters[2]\n",
    "for lst in characters:#outer for loop\n",
    "    print(\"outer list: \", lst)\n",
    "    #when x=0 we have [a, b, c] and second for loop is used to iterate over it so we get a, then b and then c\n",
    "    for ch in lst:#inner for loop\n",
    "        print('inner list elements:', ch)\n",
    "        #second time we have [d, e] from outer loop and we iterate over it using inner loop and thus we get d and then e\n",
    "        #third time we have [f, g, g] from outer loop and we iterate over it using inner loop and thus we get f,g and thenh\n"
   ]
  },
  {
   "cell_type": "code",
   "execution_count": 44,
   "metadata": {},
   "outputs": [
    {
     "name": "stdout",
     "output_type": "stream",
     "text": [
      "outer loop result-> ['apples', 'bananas', 'oranges', 'blueberries', 'lemons']\n",
      "elements of inner loop apples\n",
      "elements of inner loop bananas\n",
      "\n",
      "words which starts from b-> bananas\n",
      "elements of inner loop oranges\n",
      "elements of inner loop blueberries\n",
      "\n",
      "words which starts from b-> blueberries\n",
      "elements of inner loop lemons\n",
      "outer loop result-> ['carrots', 'peas', 'cucumbers', 'green beans']\n",
      "elements of inner loop carrots\n",
      "elements of inner loop peas\n",
      "elements of inner loop cucumbers\n",
      "\n",
      "words which starts from b-> cucumbers\n",
      "elements of inner loop green beans\n",
      "\n",
      "words which starts from b-> green beans\n",
      "outer loop result-> ['root beer', 'smoothies', 'cranberry juice']\n",
      "elements of inner loop root beer\n",
      "\n",
      "words which starts from b-> root beer\n",
      "elements of inner loop smoothies\n",
      "elements of inner loop cranberry juice\n",
      "\n",
      "words which starts from b-> cranberry juice\n",
      "\n",
      "list consisting of all those items having b's in them ['bananas', 'blueberries', 'cucumbers', 'green beans', 'root beer', 'cranberry juice']\n"
     ]
    }
   ],
   "source": [
    "#you can also append results in an empty list, wondering how it happens, I am here why you fear, lets check it out together\n",
    "\n",
    "#now here we want to append all those things which consists of b in a new list b_strings\n",
    "#as data is nested, so we use two for loops, one to access elements of outer loop and second to access elements of inner\n",
    "#loop\n",
    "lists = [['apples', 'bananas', 'oranges', 'blueberries', 'lemons'], ['carrots', 'peas', 'cucumbers', 'green beans'], ['root beer', 'smoothies', 'cranberry juice']]\n",
    "\n",
    "b_strings = []\n",
    "for lst in lists:\n",
    "    print('outer loop result->', lst)\n",
    "    #first time we get ['apples', 'bananas', 'oranges', 'blueberries', 'lemons']\n",
    "    #so to iterate over its elements we use another for loop\n",
    "    for word in lst:\n",
    "        print('elements of inner loop', word)\n",
    "        #it iterates over 'apples', 'bananas', 'oranges', 'blueberries', 'lemons' and to check whether word staring from b\n",
    "        #if is use to store all those words in a b_strings list which consist of b's in it \n",
    "        if \"b\" in word:\n",
    "            print('\\nwords which starts from b->',word)\n",
    "            b_strings.append(word)\n",
    "\n",
    "print(\"\\nlist consisting of all those items having b's in them\", b_strings)"
   ]
  },
  {
   "cell_type": "code",
   "execution_count": 31,
   "metadata": {},
   "outputs": [],
   "source": [
    "#lets play with some exercise questions to gain understanding regarding for loops"
   ]
  },
  {
   "cell_type": "markdown",
   "metadata": {},
   "source": [
    "## EXERCISES"
   ]
  },
  {
   "cell_type": "markdown",
   "metadata": {},
   "source": [
    "Q1:Store the names of a few of your friends in a list called names print a message to them. The text of each message\n",
    "should be the same, but each message \n",
    "\n",
    "should be personalized with the person’s name."
   ]
  },
  {
   "cell_type": "code",
   "execution_count": 47,
   "metadata": {},
   "outputs": [
    {
     "name": "stdout",
     "output_type": "stream",
     "text": [
      "How are you Adam?\n",
      "How are you Martin?\n",
      "How are you Harry?\n",
      "How are you Smith?\n"
     ]
    }
   ],
   "source": [
    "names = ['Adam', 'Martin', 'Harry', 'Smith']\n",
    "for name in names:\n",
    "    print(f'How are you {name}?')"
   ]
  },
  {
   "cell_type": "markdown",
   "metadata": {},
   "source": [
    "Q2: Think of at least three kinds of your favorite pizza. Store these pizza names in a list, and then use a for loop to \n",
    "\n",
    "print a sentence using the name of the pizza instead of printing just the name of the pizza. For each pizza you should \n",
    "\n",
    "have one line of output containing a simple statement like I like pepperoni pizza."
   ]
  },
  {
   "cell_type": "code",
   "execution_count": 49,
   "metadata": {},
   "outputs": [
    {
     "name": "stdout",
     "output_type": "stream",
     "text": [
      "I like Tikka pizza\n",
      "I like Fajita pizza\n",
      "I like Chicken Supreme pizza\n",
      "I like Pepperoni pizza\n"
     ]
    }
   ],
   "source": [
    "pizzas = ['tikka', 'fajita', 'chicken supreme', 'pepperoni']\n",
    "for pizza in pizzas:\n",
    "    print(f'I like {pizza.title()} pizza')"
   ]
  },
  {
   "cell_type": "markdown",
   "metadata": {},
   "source": [
    "Q3: A number raised to the third power is called a cube. For example,\n",
    "the cube of 2 is written as 2**3 in Python. Make a list of the first 10 numbers (that\n",
    "\n",
    "is, the integer from 1 through 10), and use a for loop to print out\n",
    "the cube of each integer in single line with tab space."
   ]
  },
  {
   "cell_type": "code",
   "execution_count": 53,
   "metadata": {},
   "outputs": [
    {
     "name": "stdout",
     "output_type": "stream",
     "text": [
      "1\t8\t27\t64\t125\t216\t343\t512\t729\t1000\t"
     ]
    }
   ],
   "source": [
    "cubes = list(range(1,11))\n",
    "for cube in cubes:\n",
    "    print(cube**3, end='\\t')"
   ]
  },
  {
   "cell_type": "markdown",
   "metadata": {},
   "source": [
    "Q4: Write one for loop to print out each element of the list things. Then, write another for loop to print out the\n",
    "TYPE of each element of the list things. To complete this problem you should have written two different for loops, \n",
    "each of which iterates over the list things, but each of those 2 for loops should have a different result."
   ]
  },
  {
   "cell_type": "code",
   "execution_count": 54,
   "metadata": {},
   "outputs": [
    {
     "name": "stdout",
     "output_type": "stream",
     "text": [
      "Welcome\n",
      "100\n",
      "9\n",
      "5.9\n",
      "8.6\n",
      "90323239232\n",
      "going to start\n",
      "\n",
      "25\n",
      "<class 'str'>\n",
      "<class 'int'>\n",
      "<class 'int'>\n",
      "<class 'float'>\n",
      "<class 'float'>\n",
      "<class 'int'>\n",
      "<class 'str'>\n",
      "<class 'str'>\n",
      "<class 'int'>\n"
     ]
    }
   ],
   "source": [
    "things = [\"Welcome\", 100, 9, 5.9, 8.6, 90323239232, \"going to start\", \"\", 25]\n",
    "#first for loop to print out each element\n",
    "for thing in things:\n",
    "    print(thing)\n",
    "#second for loop to print type of each element of list things\n",
    "for thing in things:\n",
    "    print(type(thing))"
   ]
  },
  {
   "cell_type": "markdown",
   "metadata": {},
   "source": [
    "Q5: Write code that uses iteration to print out the length of each element of the list stored in stri"
   ]
  },
  {
   "cell_type": "code",
   "execution_count": 57,
   "metadata": {},
   "outputs": [
    {
     "name": "stdout",
     "output_type": "stream",
     "text": [
      "5\n",
      "0\n",
      "7\n",
      "9\n",
      "13\n"
     ]
    }
   ],
   "source": [
    "stri = [\"hello\", \"\", \"goodbye\", \"wonderful\", \"I love Python\"]\n",
    "\n",
    "# Write your code here.\n",
    "for st in stri:\n",
    "    print(len(st))"
   ]
  },
  {
   "cell_type": "markdown",
   "metadata": {},
   "source": [
    "Q6: Write code to count the number of characters in stris using the accumulation pattern and assign the answer to a variable num_of_chars. Do NOT use the len function to solve the problem"
   ]
  },
  {
   "cell_type": "code",
   "execution_count": 61,
   "metadata": {},
   "outputs": [
    {
     "name": "stdout",
     "output_type": "stream",
     "text": [
      "57\n"
     ]
    }
   ],
   "source": [
    "stri = \"The quick brown rhino jumped over the extremely lazy fox.\"\n",
    "\n",
    "num_of_chars = 0#this is the example of accumulator pattern and num_of_chars is the accumulator variavle\n",
    "\n",
    "for i in stri:\n",
    "    num_of_chars = num_of_chars + 1\n",
    "    #or you can also write as num_of_chars += 1\n",
    "print(num_of_chars)\n"
   ]
  },
  {
   "cell_type": "markdown",
   "metadata": {},
   "source": [
    "Q7: addition_str is a string with a list of numbers separated by the + sign. Write code that uses the accumulation pattern to take the sum of all of the numbers and assigns it to sum_val (an integer). (You should use the .split(\"+\") function to split by \"+\" and int() to cast to an integer)."
   ]
  },
  {
   "cell_type": "code",
   "execution_count": 64,
   "metadata": {},
   "outputs": [
    {
     "name": "stdout",
     "output_type": "stream",
     "text": [
      "['2', '5', '10', '20']\n",
      "2\n",
      "7\n",
      "17\n",
      "37\n",
      "\n",
      "the total sum is 37\n"
     ]
    }
   ],
   "source": [
    "addition_str = \"2+5+10+20\"\n",
    "\n",
    "addition_str_lst = addition_str.split(\"+\")#convert into list and lets check out the list\n",
    "print(addition_str_lst)\n",
    "sum_val=0\n",
    "\n",
    "for num in addition_str_lst:#these numbers are in strings, so we have to convert them to int using int() data type\n",
    "    sum_val = sum_val + int(num)\n",
    "    print(sum_val)#you can also track sum_val if you want using print within for loop\n",
    "\n",
    "print('\\nthe total sum is', sum_val)\n",
    "\n",
    "\n"
   ]
  },
  {
   "cell_type": "markdown",
   "metadata": {},
   "source": [
    "Q8: Write a program that will print out a greeting to each family member invited to party in the list. This list should also keep track of how many members have been greeted and note that each time a new member has been greeted."
   ]
  },
  {
   "cell_type": "code",
   "execution_count": 69,
   "metadata": {},
   "outputs": [
    {
     "name": "stdout",
     "output_type": "stream",
     "text": [
      "1 have already in party\n",
      "2 have already in party\n",
      "3 have already in party\n",
      "4 have already in party\n",
      "5 have already in party\n"
     ]
    }
   ],
   "source": [
    "family_members = ['Alen', 'John', 'Stacy', 'Ali', 'Marry']\n",
    "num_of_family_members = 0\n",
    "for member in family_members:\n",
    "    ('Welcome to the party', member)\n",
    "    num_of_family_members += 1\n",
    "    print(f'{str(num_of_family_members)} have already in party')"
   ]
  },
  {
   "cell_type": "markdown",
   "metadata": {},
   "source": [
    "Q9: Make a list of four or more usernames, including the name\n",
    "'admin'. Imagine you are writing code that will print a greeting to each user\n",
    "after they log in to a website. Loop through the list, and print a greeting to\n",
    "each user:\n",
    "    \n",
    "• If the username is 'admin', print a special greeting, such as Hi admin,\n",
    "would you like to see a status report?\n",
    "\n",
    "• Otherwise, print a generic greeting, such as Hi Eric, thank you for logging\n",
    "in again."
   ]
  },
  {
   "cell_type": "code",
   "execution_count": 5,
   "metadata": {},
   "outputs": [
    {
     "name": "stdout",
     "output_type": "stream",
     "text": [
      "Hi charlie, thank you for logging in again.\n",
      "Hi ahmed, thank you for logging in again.\n",
      "Hi carry, thank you for logging in again.\n",
      "Hi admin, would you like to see a status report?\n",
      "Hi marie, thank you for logging in again.\n"
     ]
    }
   ],
   "source": [
    "usernames = ['charlie', 'ahmed', 'carry', 'admin', 'marie']\n",
    "for username in usernames:\n",
    "    if username.lower() == 'admin'.lower():#special meg for admin and lower method is use to avoid the case error \n",
    "        print('Hi admin, would you like to see a status report?')\n",
    "    else:#for normal people\n",
    "        print(f'Hi {username}, thank you for logging in again.')\n"
   ]
  },
  {
   "cell_type": "markdown",
   "metadata": {},
   "source": [
    "Q10: Do the following to create a program that simulates how websites ensure that everyone has a unique username.\n",
    "\n",
    "• Make a list of four or more usernames called current_users.\n",
    "\n",
    "• Make another list of four usernames called new_users. Make sure one or two of the new usernames are also in the current_users list.\n",
    "\n",
    "• Loop through the new_users list to see if each new username has already been used. If it has, print a message that the person will need to enter a new username. If a username has not been used, print a message saying that the username is available.\n",
    "\n",
    "• Make sure your comparison is case insensitive. If 'John' has been used, 'JOHN' should not be accepted."
   ]
  },
  {
   "cell_type": "code",
   "execution_count": 77,
   "metadata": {},
   "outputs": [
    {
     "name": "stdout",
     "output_type": "stream",
     "text": [
      "Carry has already been used\n",
      "Ahmed has already been used\n",
      "Smith is available\n",
      "John is available\n"
     ]
    }
   ],
   "source": [
    "current_users = ['charlie', 'ahmed', 'carry', 'marie']\n",
    "new_users = ['carry', 'ahmed', 'smith', 'john']\n",
    "for user in new_users:\n",
    "    if user in current_users:#check whether user name already in use or not\n",
    "        print(f'{user.title()} has already been used')\n",
    "    else:\n",
    "        print(f'{user.title()} is available')"
   ]
  },
  {
   "cell_type": "markdown",
   "metadata": {},
   "source": [
    "Q11: Make a python program that conatains your nine favourite dishes in a list called foods. Print the message, The first three items in the list are: Then use a slice to print the first three items from that program’s list. \n",
    "\n",
    "Print the message, Three items from the middle of the list are: Use a slice to print three items from the middle of the list.\n",
    "\n",
    "Print the message, The last three items in the list are: Use a slice to print the last three items in the list."
   ]
  },
  {
   "cell_type": "code",
   "execution_count": 84,
   "metadata": {},
   "outputs": [
    {
     "name": "stdout",
     "output_type": "stream",
     "text": [
      "The first three items in the list are:\n",
      "\n",
      "sandwich\n",
      "ice cream\n",
      "burger\n",
      "\n",
      "Three items from the middle of the list are:\n",
      "\n",
      "cake\n",
      "chips\n",
      "macroni\n",
      "\n",
      "The last three items in the list are:\n",
      "\n",
      "chicken roll\n",
      "pizza\n",
      "lasagne\n"
     ]
    }
   ],
   "source": [
    "foods=['sandwich','ice cream','burger','cake','chips','macroni','chicken roll','pizza','lasagne']\n",
    "\n",
    "print(f\"The first three items in the list are:\\n\")\n",
    "\n",
    "for food in foods[:3]:\n",
    "    print(food)\n",
    "    \n",
    "print(f\"\\nThree items from the middle of the list are:\\n\")\n",
    "for food in foods[3:6]:\n",
    "    print(food)\n",
    "\n",
    "print(f\"\\nThe last three items in the list are:\\n\")\n",
    "for food in foods[6:9]:\n",
    "    print(food)"
   ]
  },
  {
   "cell_type": "markdown",
   "metadata": {},
   "source": [
    "Q12: Write a python program that prints the largest number in the given list. List = [2,10,6,1,4,29,87,114,23,65,91,116,400,588,23,45] "
   ]
  },
  {
   "cell_type": "code",
   "execution_count": 87,
   "metadata": {},
   "outputs": [
    {
     "name": "stdout",
     "output_type": "stream",
     "text": [
      "588\n"
     ]
    }
   ],
   "source": [
    "#We make a variable that contains first value of lis as the largest value we have seen so far. If the current\n",
    "#number we are looking at is larger, it is the new largest value we have seen so far\n",
    "lists = [2,10,6,1,4,29,87,114,23,65,91,116,400,588,23,45] \n",
    "largest_so_far = lists[0]#initialize largest so far as the first number of the list\n",
    "for num in lists:#iterate over the list elements\n",
    "    if num > largest_so_far:#if current number is greater than largest_so_far, then current number is consider as largest\n",
    "        largest_so_far = num\n",
    "    else:#and if current num is less than or equal to largest_so_far then our largest_so_far would be same\n",
    "        largest_so_far = largest_so_far \n",
    "print(largest_so_far)"
   ]
  },
  {
   "cell_type": "markdown",
   "metadata": {},
   "source": [
    "Q13: Write a python program that prints the smallest number in the given list. List = [2,10,6,1,4,29,87,114,23,65,91,116,400,588,23,45] "
   ]
  },
  {
   "cell_type": "code",
   "execution_count": 89,
   "metadata": {},
   "outputs": [
    {
     "name": "stdout",
     "output_type": "stream",
     "text": [
      "1\n"
     ]
    }
   ],
   "source": [
    "#same for the smallest_so_far, just change greater than with less than\n",
    "#We make a variable that contains first value of list as the smallest value we have seen so far. If the current\n",
    "#number we are looking at is smaller, it is the new smallest value we have seen so far\n",
    "lists = [2,10,6,1,4,29,87,114,23,65,91,116,400,588,23,45] \n",
    "smallest_so_far = lists[0]#initialize smallest so far as the first number of the list\n",
    "for num in lists:#iterate over the list elements\n",
    "    if num < smallest_so_far:#if current number is smaller than smallest_so_far, then current number is consider assmallest\n",
    "        smallest_so_far = num\n",
    "    else:#and if current num is greater than or equal to smallest_so_far then our smallest_so_far would be same\n",
    "        smallest_so_far = smallest_so_far \n",
    "print(smallest_so_far)"
   ]
  },
  {
   "cell_type": "markdown",
   "metadata": {},
   "source": [
    "Q14: Write a python program to find avg of given list using for loop: lists = [2,10,6,1,4,29,87,114,23,65,91,116,400,588,23,45] "
   ]
  },
  {
   "cell_type": "code",
   "execution_count": 92,
   "metadata": {},
   "outputs": [
    {
     "name": "stdout",
     "output_type": "stream",
     "text": [
      "count-> 1\n",
      "sum-> 2\n",
      "count-> 2\n",
      "sum-> 12\n",
      "count-> 3\n",
      "sum-> 18\n",
      "count-> 4\n",
      "sum-> 19\n",
      "count-> 5\n",
      "sum-> 23\n",
      "count-> 6\n",
      "sum-> 52\n",
      "count-> 7\n",
      "sum-> 139\n",
      "count-> 8\n",
      "sum-> 253\n",
      "count-> 9\n",
      "sum-> 276\n",
      "count-> 10\n",
      "sum-> 341\n",
      "count-> 11\n",
      "sum-> 432\n",
      "count-> 12\n",
      "sum-> 548\n",
      "count-> 13\n",
      "sum-> 948\n",
      "count-> 14\n",
      "sum-> 1536\n",
      "count-> 15\n",
      "sum-> 1559\n",
      "count-> 16\n",
      "sum-> 1604\n",
      "\n",
      "The avg of the given list is-> 100.25\n"
     ]
    }
   ],
   "source": [
    "#An average just combines the counting and sum patterns and divides when the loop is done.\n",
    " \n",
    "lists = [2,10,6,1,4,29,87,114,23,65,91,116,400,588,23,45] \n",
    "count = 0\n",
    "_sum = 0\n",
    "for num in lists:\n",
    "    count = count+1\n",
    "    _sum = _sum + num\n",
    "    print('count->', count)\n",
    "    print('sum->', _sum)\n",
    "print('\\nThe avg of the given list is->', _sum/count)"
   ]
  },
  {
   "cell_type": "markdown",
   "metadata": {},
   "source": [
    "## WHILE LOOP"
   ]
  },
  {
   "cell_type": "code",
   "execution_count": 1,
   "metadata": {},
   "outputs": [],
   "source": [
    "#There is another Python statement that can likewise be used to build an iteration. It is called the while statement.\n",
    "#like the if statement, it uses a boolean expression to control the flow of execution.\n",
    "#While loops are called “indefinite loops” because the body of while loop will be repeated as long as the controlling\n",
    "#boolean expression evaluates to True.\n",
    "\n",
    "#More formally, here is the flow of execution for a while statement:\n",
    "#1. Evaluate the condition, yielding False or True.\n",
    "\n",
    "#2. If the condition is False, leave or exit the while statement and proceed execution at the next statement.\n",
    "\n",
    "#3. If the condition is True, execute each one of the statements in the body and then afterwards return back to step 1.\n",
    "\n",
    "#Notice that if the condition is False the first time through the loop, the statements inside the loop are never executed.\n",
    "\n",
    "#Note that it is necessary that the body of the loop should change the value of one or more variables so that eventually \n",
    "#the condition becomes False and the loop terminates. Otherwise the loop will repeat forever."
   ]
  },
  {
   "cell_type": "code",
   "execution_count": 13,
   "metadata": {},
   "outputs": [
    {
     "name": "stdout",
     "output_type": "stream",
     "text": [
      "Count-> 0\n",
      "Count-> 1\n",
      "Count-> 2\n",
      "Count-> 3\n",
      "Count-> 4\n",
      "Count-> 5\n",
      "Count-> 6\n",
      "\n",
      "**********Trying to calculate sum**************\n",
      "\n",
      "\n",
      "sum so far-> 1\n",
      "value of accum-> 2\n",
      "\n",
      "sum so far-> 3\n",
      "value of accum-> 3\n",
      "\n",
      "sum so far-> 6\n",
      "value of accum-> 4\n",
      "\n",
      "sum so far-> 10\n",
      "value of accum-> 5\n",
      "\n",
      "sum so far-> 15\n",
      "value of accum-> 6\n",
      "\n",
      "So the sum of numbers from 1 to 5 is-> 15\n"
     ]
    }
   ],
   "source": [
    "#So lets use while loop for counting from 0 to 6\n",
    "#first of all lets declare the counter variable\n",
    "count = 0\n",
    "#As we have to do counting from 0 to 6 including 6 so while loop should be set to keep running as long as the value \n",
    "#of count variabel is less than or equal to 6 and after that loop will be terminated.\n",
    "while count<=6:\n",
    "#The code inside the loop prints the value of current_number and then adds 1 to that value with count = count + 1.\n",
    "    print('Count->', count)\n",
    "    count = count + 1\n",
    "    #Python repeats the loop as long as the condition of count <= 6 is true. firstly 0 is less than equal to 6, \n",
    "    #Python prints 0 and then adds 1, making the count variable 1. again 1 is less than equal to 6, Python prints 1\n",
    "    #and adds 1 again, making the count varibale to 2, and so on. As we set condition of count variable to less than equal to \n",
    "    #6 Once the value of count varible becomes 7 it checks whether 7 is less than or equal to 6 or not and get False, so \n",
    "    #the loop stops running and the program ends: \n",
    "\n",
    "print('\\n**********Trying to calculate sum**************\\n')\n",
    "#Now try another similar example, calculate sum upto the given number or bound\n",
    "#lets say we want to calculate sum from 1 to 5 including 5, so we set sum to 0\n",
    "_sum = 0\n",
    "#now set accumulator variable to 1 as we need sum from 1 to 5 \n",
    "accum = 1\n",
    "while accum<=5:\n",
    "    _sum = _sum + accum#first 0 + 1=1, then 1+2=3, then 3+3=6, then 6+4=10, then 10+5=15, then accum becomes and as 6 is not\n",
    "    #less than equal to 5 so the loop will terminate\n",
    "    accum = accum+1#here accum is used to terminate the loop\n",
    "    print('\\nsum so far->', _sum)\n",
    "    print('value of accum->', accum)\n",
    "    \n",
    "print('\\nSo the sum of numbers from 1 to 5 is->', _sum)"
   ]
  },
  {
   "cell_type": "markdown",
   "metadata": {},
   "source": [
    "### The Listener Loop OR Letting User to Choose when to terminate the loop"
   ]
  },
  {
   "cell_type": "code",
   "execution_count": 14,
   "metadata": {},
   "outputs": [],
   "source": [
    "#One very common structure is called a listener loop. Inside the while loop there is a function call to get user input.\n",
    "#The loop continues to run indefinitely, until a particular input is received from user which terminate the loop."
   ]
  },
  {
   "cell_type": "code",
   "execution_count": 2,
   "metadata": {},
   "outputs": [
    {
     "name": "stdout",
     "output_type": "stream",
     "text": [
      "Enter a msg or 'terminate' to end the while loop: hello\n",
      "hello\n",
      "Enter a msg or 'terminate' to end the while loop: bye\n",
      "bye\n",
      "Enter a msg or 'terminate' to end the while loop: terminate\n",
      "terminate\n",
      "\n",
      "The loop is terminated!\n"
     ]
    }
   ],
   "source": [
    "#lets try an example in which while loop runs until it recieves special msg from user like 'terminate'\n",
    "\n",
    "msg = \"\"#as we are dealing with string, thats why we define emty string\n",
    "while msg != 'terminate':\n",
    "    msg = input(\"Enter a msg or 'terminate' to end the while loop: \")\n",
    "    print(msg)\n",
    "print('\\nThe loop is terminated!')\n",
    "\n",
    "#Explanation:\n",
    "#we declare msg variable to empty string because when testing while first time, it needs something to compare with \n",
    "#'terminate' so we know we can compare string to string and empty string is a good choice as empty string and terminate\n",
    "#are not equal to it goes into the body of while loop, here it ask user to input any msg you want and if you want to \n",
    "#terminate the loop, you have to enter 'terminate', first user enter 'hello', it stores in msg variable and below print\n",
    "#statement will print it then again goes to while and test whether hello is equal to terminate as it is not so it again\n",
    "#comes into the body of while loop and again ask user to enter msg, this user enters bye and print statment will again\n",
    "#print it and again while test that bye is not equal to terminate which is True so this loop again runs and ask user to\n",
    "#again enter and this time user enters terminate so print statement will print it and again while test whether terminate is\n",
    "#is not equal to terminate and here it recieves False so loop will end\n",
    "\n",
    "#in this way you can also make a program to ask user to enter its password to login into its id, so you want that program,\n",
    "#try it by yourself as it is very easy, if you fail to do it, no worry I am here why you fear, we will discuss it in our \n",
    "#exercise section"
   ]
  },
  {
   "cell_type": "markdown",
   "metadata": {},
   "source": [
    "### FLAG"
   ]
  },
  {
   "cell_type": "code",
   "execution_count": 1,
   "metadata": {},
   "outputs": [
    {
     "name": "stdout",
     "output_type": "stream",
     "text": [
      "Enter a msg or 'terminate' to end the while loop: hello\n",
      "hello\n",
      "Enter a msg or 'terminate' to end the while loop: hi\n",
      "hi\n",
      "Enter a msg or 'terminate' to end the while loop: bye\n",
      "bye\n",
      "Enter a msg or 'terminate' to end the while loop: terminate\n"
     ]
    }
   ],
   "source": [
    "#Now you know how to use listener loop, lets try its general pattern which is almost similar to listener loop, the \n",
    "#difference is only while has to check whether flag is set to true or False, in short our overall while statement needs to\n",
    "#check only one condition: whether or not the flag is currently True.Flag is just a convention, you can use any variable \n",
    "#you want\n",
    "flag = True\n",
    "while flag:\n",
    "    msg = input(\"Enter a msg or 'terminate' to end the while loop: \")\n",
    "    if msg == 'terminate':\n",
    "        flag = False\n",
    "    else:\n",
    "        print(msg)\n",
    "#you can see it almost similar to our previous program, just we add conditional statement, which is not quite hard to \n",
    "#understand, lets unpack what is going on \n",
    "\n",
    "#Explanation:\n",
    "#We set the variable flag to True so the program starts in an active state. Doing so makes the while statement \n",
    "#simpler because no comparison is made in the while statement itself; the logic is taken care of in other parts of\n",
    "#the program. As long as the flag variable remains True, the loop will continuees to run. In while loop, it first ask user\n",
    "#to enter a msg or terminate to quite the while loop and store user response in msg variable and then if statement checks\n",
    "#the value of msg once the user enters their input. If the user enters 'terminate', we set flag to False, and the while \n",
    "#loop stops. If the user enters anything other than terminate, the else part print their input as a msg\n",
    "\n",
    "#I am again reminding you guys its not necessary so use flag, you can change its name depending on your case, you can \n",
    "#follow this program to make password program, or we will discuss that in minutes. "
   ]
  },
  {
   "cell_type": "markdown",
   "metadata": {},
   "source": [
    "### Break and Continue"
   ]
  },
  {
   "cell_type": "code",
   "execution_count": 7,
   "metadata": {},
   "outputs": [
    {
     "name": "stdout",
     "output_type": "stream",
     "text": [
      "Please enter the name of restaurant you have already visited or enter 'stop' when you are done: disfrutar\n",
      "I have a great time in Disfrutar!\n",
      "Please enter the name of restaurant you have already visited or enter 'stop' when you are done: restaurant 360\n",
      "I have a great time in Restaurant 360!\n",
      "Please enter the name of restaurant you have already visited or enter 'stop' when you are done: stop\n",
      "\n",
      "User terminates the loop!\n"
     ]
    }
   ],
   "source": [
    "#Python provides ways for us to control the flow of iteration with a two keywords: break and continue.\n",
    "\n",
    "#break:\n",
    "#break allows the program to immediately ‘break out’ of the loop, regardless of the loop’s conditional structure. \n",
    "#OR you can say that;\n",
    "#The break statement ends the current loop and jumps to the statement immediately following the loop without rechecking\n",
    "#the condition\n",
    "\n",
    "#lets try how to use break statement\n",
    "#For example, consider a program that asks the user about restaurants they’ve already visited. \n",
    "#We can stop the while loop in this program by calling break as soon as the user enters the 'stop' value:\n",
    "\n",
    "while True:\n",
    "    restaurant = input(\"Please enter the name of restaurant you have already visited or enter 'stop' when you are done: \")\n",
    "    if restaurant == 'stop':\n",
    "        break\n",
    "    else:\n",
    "        print(f\"I have a great time in {restaurant.title()}!\")\n",
    "print('\\nUser terminates the loop!')\n",
    "\n",
    "#this is also very easy to understand and here you can see we use break statement instead of flag structure\n",
    "#This loop starts with while True and will run forever unless it reaches a break statement. The loop in this program \n",
    "#continues asking the user to enter the names of restaurants they visited until they enter 'stop'. When they enter\n",
    "#'stop', the break statement runs, causing Python to exit the loop and run print statement immediately following the loop\n",
    "\n",
    "#I hope you guys understand how break statement works, we will solve some of its in minutes, Now its time to see how\n",
    "#continue statement works"
   ]
  },
  {
   "cell_type": "code",
   "execution_count": 9,
   "metadata": {},
   "outputs": [
    {
     "name": "stdout",
     "output_type": "stream",
     "text": [
      "1\n",
      "3\n",
      "5\n",
      "7\n",
      "9\n"
     ]
    }
   ],
   "source": [
    "#The continue statement allows the program to immediately “continue” with the next iteration means\n",
    "#The continue statement ends the current iteration and jumps to the top of the loop and starts the next iteration\n",
    "\n",
    "#let see how it works\n",
    "\n",
    "#For example, consider a loop that counts from 1 to 10 but prints only the odd numbers in that range:\n",
    "num = 0\n",
    "while num < 10:\n",
    "    num += 1\n",
    "    if num % 2 == 0:\n",
    "        continue\n",
    "    print(num)\n",
    "    \n",
    "#I think its not difficult for you guys to understand this, lets dive in whats happening here\n",
    "\n",
    "#First we set num to 0. Because it’s less than 10,while is True and Python enters the while loop,and inside the loop, we \n",
    "#increment the count by 1 at, so first time num is 1. The if statement then checks the modulo of num and If the modulo or\n",
    "#remainder is 0 which means num is divisible by 2 or even, the continue statement tells Python to ignore the rest \n",
    "#of the loop and return to the beginning of while and starts next iteration and If the num is not divisible by 2\n",
    "#the rest of the loop is executed and Python prints the num:\n"
   ]
  },
  {
   "cell_type": "code",
   "execution_count": 10,
   "metadata": {},
   "outputs": [],
   "source": [
    "#lets practice some of while loop examples"
   ]
  },
  {
   "cell_type": "markdown",
   "metadata": {},
   "source": [
    "## EXERCISES"
   ]
  },
  {
   "cell_type": "markdown",
   "metadata": {},
   "source": [
    "Q1: Using a while loop, create a list nums that contains the numbers 0 through 32. Your while loop should initialize a counter variable to 0. On each iteration, the loop should append the current value of the counter to the list and the counter should increase by 1. The while loop should stop when the counter is greater than 32."
   ]
  },
  {
   "cell_type": "code",
   "execution_count": 13,
   "metadata": {},
   "outputs": [
    {
     "name": "stdout",
     "output_type": "stream",
     "text": [
      "[0, 1, 2, 3, 4, 5, 6, 7, 8, 9, 10, 11, 12, 13, 14, 15, 16, 17, 18, 19, 20, 21, 22, 23, 24, 25, 26, 27, 28, 29, 30, 31, 32]\n"
     ]
    }
   ],
   "source": [
    "nums = []#empty list in which we append values using while loop\n",
    "count = 0#counter variable\n",
    "while count<=32:#condition that count shouldn't greater than 32\n",
    "    nums.append(count)#creatung a list nums that will stores numbers from 0 to 32\n",
    "    count += 1#increament count\n",
    "print(nums)"
   ]
  },
  {
   "cell_type": "markdown",
   "metadata": {},
   "source": [
    "Q2: Create a while loop that initializes a counter at 0 and will run until the counter reaches 40. If the value of the counter is divisible by 10, append the value to the list, tens."
   ]
  },
  {
   "cell_type": "code",
   "execution_count": 16,
   "metadata": {},
   "outputs": [
    {
     "name": "stdout",
     "output_type": "stream",
     "text": [
      "[0, 10, 20, 30, 40]\n"
     ]
    }
   ],
   "source": [
    "tens = []#creating an empty lists\n",
    "count = 0\n",
    "\n",
    "while count<=40:#loop will run till 40\n",
    "    if count % 10 == 0:#conditional statement checking whether count is divisible by 10 or not\n",
    "        tens.append(count)\n",
    "    count = count + 1\n",
    "print(tens)"
   ]
  },
  {
   "cell_type": "markdown",
   "metadata": {},
   "source": [
    "Q3: Creat a while loop that returns a sublist of the original list. The sublist should contain the same values of the original list up until it reaches the number 5 (it should not contain the number 5)."
   ]
  },
  {
   "cell_type": "code",
   "execution_count": 23,
   "metadata": {},
   "outputs": [
    {
     "name": "stdout",
     "output_type": "stream",
     "text": [
      "1\n",
      "2\n",
      "3\n",
      "4\n",
      "[1, 2, 3, 4]\n"
     ]
    }
   ],
   "source": [
    "original_list = list(range(1,11))#creating original list\n",
    "sub_list = []\n",
    "count = 0#defining counter that helps to terminate the while loop\n",
    "while count<len(original_list):#this loop will run till lenght of original list or 10 times\n",
    "    if original_list[count] != int(5):#append all number to sublist except 5\n",
    "        sub_list.append(original_list[count])\n",
    "    else:#when original_list[count] == 5, the loop will break,\n",
    "        break\n",
    "    count = count + 1#count increament till loop does not break, when loop breaks, we get sublist\n",
    "    print(count)\n",
    "print(sub_list)"
   ]
  },
  {
   "cell_type": "markdown",
   "metadata": {},
   "source": [
    "Q4: Write a python program which ask user to its enter email id and password. It continuosly prompt user to enter the correct password incase of incorrect one until the user enters the correct password.\n",
    "\n",
    "Note: To generalize, the password is: abcdef"
   ]
  },
  {
   "cell_type": "code",
   "execution_count": 36,
   "metadata": {
    "scrolled": true
   },
   "outputs": [
    {
     "name": "stdout",
     "output_type": "stream",
     "text": [
      "Enter you email address: martincrow@fakeaccount.com\n",
      "Enter you password to login to your id: pqrst\n",
      "\n",
      "You have enter incorrect password, please try again!\n",
      "Enter you password to login to your id: abcdef\n",
      "\n",
      "Welcome to you id\n"
     ]
    }
   ],
   "source": [
    "email = input('Enter you email address: ')#ask user to enter it email id\n",
    "while True:\n",
    "    password=input('Enter you password to login to your id: ')#ask user to enter its password\n",
    "    if password != str('abcdef'):#if user enter incorrect password, then it display this msg\n",
    "        print('\\nYou have enter incorrect password, please try again!')\n",
    "    else:#else it will login user to its id\n",
    "        print(f'\\nWelcome to you id')\n",
    "        break#and the loop will terminate"
   ]
  },
  {
   "cell_type": "markdown",
   "metadata": {},
   "source": [
    "Q5: Write a loop that prompts the user to enter a series of pizza toppings until they enter a 'leave' value. As they enter each topping, print a message saying you’ll add that topping to their pizza."
   ]
  },
  {
   "cell_type": "code",
   "execution_count": 41,
   "metadata": {},
   "outputs": [
    {
     "name": "stdout",
     "output_type": "stream",
     "text": [
      "Enter a topping that you want: mushrooms\n",
      "I will add mushrooms to you pizza!\n",
      "Enter a topping that you want: black olives\n",
      "I will add black olives to you pizza!\n",
      "Enter a topping that you want: extra cheese\n",
      "I will add extra cheese to you pizza!\n",
      "Enter a topping that you want: leave\n"
     ]
    }
   ],
   "source": [
    "topping = ''\n",
    "while True:\n",
    "    topping = input('Enter a topping that you want: ')\n",
    "    if topping!= 'leave':\n",
    "        print(f'I will add {topping} to you pizza!')\n",
    "    else: \n",
    "        break"
   ]
  },
  {
   "cell_type": "markdown",
   "metadata": {},
   "source": [
    "Q6: A movie theater charges different ticket prices depending on a person’s age. If a person is under the age of 3, the ticket is free; if they are between 3 and 12, the ticket is 11 dollars; and if they are over age 12, the ticket is\n",
    "16 dollars. Write a loop in which you ask users their age, and then tell them the cost of their movie ticket. No need to terminate the loop"
   ]
  },
  {
   "cell_type": "code",
   "execution_count": null,
   "metadata": {},
   "outputs": [
    {
     "name": "stdout",
     "output_type": "stream",
     "text": [
      "Enter you age: 2\n",
      "The ticket is free!\n",
      "Enter you age: 9\n",
      "The ticket is of 11 dollars!\n",
      "Enter you age: 20\n",
      "The ticket is of 16 dollars!\n"
     ]
    }
   ],
   "source": [
    "while True :\n",
    "    age = int(input('Enter you age: '))\n",
    "    if age < 3:\n",
    "        print('The ticket is free!')\n",
    "    elif age >= 3 and age <=12:\n",
    "        price = 11\n",
    "        print(f'The ticket is of {price} dollars!')\n",
    "    else:\n",
    "        price = 16 \n",
    "        print(f'The ticket is of {price} dollars!')"
   ]
  },
  {
   "cell_type": "markdown",
   "metadata": {},
   "source": [
    "Q7: Make a list called sandwich_orders and fill it with the names of various sandwiches. Then make an empty list called finished_sandwiches. Loop through the list of sandwich orders and print a message for each order, such as I made your tuna sandwich. As each sandwich is made, move it to the list of finished sandwiches. After all the sandwiches have been made, print a message listing each sandwich that was made."
   ]
  },
  {
   "cell_type": "code",
   "execution_count": 7,
   "metadata": {},
   "outputs": [
    {
     "name": "stdout",
     "output_type": "stream",
     "text": [
      "I made your fajita sandwich\n",
      "I made your chicken sandwich\n",
      "I made your vegetable sandwich\n",
      "I made your club sandwich\n",
      "I made your tuna sandwich\n",
      "finished sandwiches are ['fajita sandwich', 'chicken sandwich', 'vegetable sandwich', 'club sandwich', 'tuna sandwich']\n"
     ]
    }
   ],
   "source": [
    "sandwich_orders = ['fajita sandwich', 'chicken sandwich', 'vegetable sandwich', 'club sandwich', 'tuna sandwich']\n",
    "#this is a lisr of sandwich orders\n",
    "finished_sandwiches = []#creating empty list\n",
    "count = 0\n",
    "while count < len(sandwich_orders):#loop runs till number of orders\n",
    "    print(f'I made your {sandwich_orders[count]}')\n",
    "    finished_sandwiches.append(sandwich_orders[count])#append all finished sandwiches to finished sandwiches list\n",
    "    count = count + 1\n",
    "print('finished sandwiches are', finished_sandwiches)#when loop complete, print all finished sandwiches"
   ]
  },
  {
   "cell_type": "markdown",
   "metadata": {},
   "source": [
    "Q8:A number raised to the third power is called a cube. For example, the cube of 2 is written as 2**3 in Python. Make a list of the first 10 numbers (that\n",
    "\n",
    "is, the integer from 1 through 10), and use a while loop to print out\n",
    "the cube of each integer in single line with tab space."
   ]
  },
  {
   "cell_type": "code",
   "execution_count": 1,
   "metadata": {},
   "outputs": [
    {
     "name": "stdout",
     "output_type": "stream",
     "text": [
      "1\t8\t27\t64\t125\t216\t343\t512\t729\t1000\t"
     ]
    }
   ],
   "source": [
    "nums = list(range(1, 11))\n",
    "count = 0\n",
    "while count < len(nums):\n",
    "    print(nums[count]**3, end='\\t')\n",
    "    count = count + 1"
   ]
  },
  {
   "cell_type": "markdown",
   "metadata": {},
   "source": [
    "Q9: Make a list of four or more usernames, including the name\n",
    "'admin'. Imagine you are writing code that will print a greeting to each user\n",
    "after they log in to a website. Loop through the list, and print a greeting to\n",
    "each user:\n",
    "    \n",
    "• If the username is 'admin', print a special greeting, such as Hi admin,\n",
    "would you like to see a status report?\n",
    "\n",
    "• Otherwise, print a generic greeting, such as Hi Eric, thank you for logging\n",
    "in again."
   ]
  },
  {
   "cell_type": "code",
   "execution_count": 7,
   "metadata": {},
   "outputs": [
    {
     "name": "stdout",
     "output_type": "stream",
     "text": [
      "Hi charlie, thank you for logging in again.\n",
      "Hi ahmed, thank you for logging in again.\n",
      "Hi carry, thank you for logging in again.\n",
      "Hi admin, would you like to see a status report?\n",
      "Hi marie, thank you for logging in again.\n"
     ]
    }
   ],
   "source": [
    "usernames = ['charlie', 'ahmed', 'carry', 'admin', 'marie']\n",
    "count = 0\n",
    "while count < len(usernames):\n",
    "    if usernames[count].lower() == 'admin'.lower():#special meg for admin and lower method is use to avoid the case error \n",
    "        print('Hi admin, would you like to see a status report?')\n",
    "    else:#for normal people\n",
    "        print(f'Hi {usernames[count]}, thank you for logging in again.')\n",
    "    count = count + 1"
   ]
  },
  {
   "cell_type": "markdown",
   "metadata": {},
   "source": [
    "Q10: Write a python program to find avg of given list using while loop: lists = [2,10,6,1,4,29,87,114,23,65,91,116,400,588,23,45] "
   ]
  },
  {
   "cell_type": "code",
   "execution_count": 17,
   "metadata": {},
   "outputs": [
    {
     "name": "stdout",
     "output_type": "stream",
     "text": [
      "count-> 1\n",
      "sum-> 2\n",
      "count-> 2\n",
      "sum-> 12\n",
      "count-> 3\n",
      "sum-> 18\n",
      "count-> 4\n",
      "sum-> 19\n",
      "count-> 5\n",
      "sum-> 23\n",
      "count-> 6\n",
      "sum-> 52\n",
      "count-> 7\n",
      "sum-> 139\n",
      "count-> 8\n",
      "sum-> 253\n",
      "count-> 9\n",
      "sum-> 276\n",
      "count-> 10\n",
      "sum-> 341\n",
      "count-> 11\n",
      "sum-> 432\n",
      "count-> 12\n",
      "sum-> 548\n",
      "count-> 13\n",
      "sum-> 948\n",
      "count-> 14\n",
      "sum-> 1536\n",
      "count-> 15\n",
      "sum-> 1559\n",
      "count-> 16\n",
      "sum-> 1604\n",
      "\n",
      "The avg of the given list is-> 100.25\n"
     ]
    }
   ],
   "source": [
    "#An average just combines the counting and sum patterns and divides when the loop is done.\n",
    " \n",
    "lists = [2,10,6,1,4,29,87,114,23,65,91,116,400,588,23,45] \n",
    "count = 0\n",
    "_sum = 0\n",
    "while count < len(lists):\n",
    "    _sum = _sum +lists[count]#to get access to list elements\n",
    "    count = count+1\n",
    "    print('count->', count)\n",
    "    print('sum->', _sum)\n",
    "print('\\nThe avg of the given list is->', _sum/count)"
   ]
  },
  {
   "cell_type": "code",
   "execution_count": null,
   "metadata": {},
   "outputs": [],
   "source": []
  }
 ],
 "metadata": {
  "kernelspec": {
   "display_name": "Python 3",
   "language": "python",
   "name": "python3"
  },
  "language_info": {
   "codemirror_mode": {
    "name": "ipython",
    "version": 3
   },
   "file_extension": ".py",
   "mimetype": "text/x-python",
   "name": "python",
   "nbconvert_exporter": "python",
   "pygments_lexer": "ipython3",
   "version": "3.7.4"
  }
 },
 "nbformat": 4,
 "nbformat_minor": 4
}
