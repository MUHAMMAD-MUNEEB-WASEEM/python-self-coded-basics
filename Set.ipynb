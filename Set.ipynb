{
 "cells": [
  {
   "cell_type": "raw",
   "metadata": {},
   "source": [
    "Earlier I told you that their are 4 built in data structures in python. We have already discussed three of it. Now its time to discussed remaining 4th data structure type which is Sets. Sets is not most commonly used data structure unlike dictionaries, list and tuple, but its necessary to know about it."
   ]
  },
  {
   "cell_type": "raw",
   "metadata": {},
   "source": [
    "Set is a collection of items enclosed in curly brackets and does not follow any order or indexing"
   ]
  },
  {
   "cell_type": "code",
   "execution_count": 14,
   "metadata": {},
   "outputs": [],
   "source": [
    "#lets see how we can create a set\n",
    "\n",
    "a = {'apple', 1, 'orange'}"
   ]
  },
  {
   "cell_type": "code",
   "execution_count": 4,
   "metadata": {},
   "outputs": [
    {
     "name": "stdout",
     "output_type": "stream",
     "text": [
      "{1, 'orange', 'apple'}\n"
     ]
    }
   ],
   "source": [
    "print(a)"
   ]
  },
  {
   "cell_type": "raw",
   "metadata": {},
   "source": [
    "You cannot store bolean item like True or False in a set"
   ]
  },
  {
   "cell_type": "markdown",
   "metadata": {},
   "source": [
    "### Access Items of a Set"
   ]
  },
  {
   "cell_type": "code",
   "execution_count": 5,
   "metadata": {},
   "outputs": [],
   "source": [
    "#As I have mentioned that items of set are unordered due to which they does not follow any indexing, to print items, you \n",
    "#have to loop throgh the items of set"
   ]
  },
  {
   "cell_type": "code",
   "execution_count": 7,
   "metadata": {},
   "outputs": [
    {
     "name": "stdout",
     "output_type": "stream",
     "text": [
      "1\n",
      "orange\n",
      "apple\n"
     ]
    }
   ],
   "source": [
    "for item in a:\n",
    "    print(item)"
   ]
  },
  {
   "cell_type": "code",
   "execution_count": 8,
   "metadata": {},
   "outputs": [],
   "source": [
    "#similary you can also check whether some particular item is present in a set or not by using 'in' and 'not in' operators "
   ]
  },
  {
   "cell_type": "code",
   "execution_count": 11,
   "metadata": {},
   "outputs": [
    {
     "name": "stdout",
     "output_type": "stream",
     "text": [
      "True\n",
      "False\n"
     ]
    }
   ],
   "source": [
    "#lets check whether apple is their in a set or not\n",
    "\n",
    "print('apple' in a)\n",
    "\n",
    "#similary check about fish\n",
    "print('fish' in a)#so it is not their"
   ]
  },
  {
   "cell_type": "markdown",
   "metadata": {},
   "source": [
    "### Mutable/Immutable"
   ]
  },
  {
   "cell_type": "raw",
   "metadata": {},
   "source": [
    "Set elements are immutable means we cannot changed them, but set itself is mutable means we can add or remove elements from it."
   ]
  },
  {
   "cell_type": "markdown",
   "metadata": {},
   "source": [
    "### Adding Items"
   ]
  },
  {
   "cell_type": "raw",
   "metadata": {},
   "source": [
    "We can add items in a set in two ways:\n",
    "\n",
    "1.We can add one item in a set using the add() method.\n",
    "2.We can add more than one item to a set by using the update() method."
   ]
  },
  {
   "cell_type": "code",
   "execution_count": 12,
   "metadata": {},
   "outputs": [],
   "source": [
    "#lets quickly check both of these methods"
   ]
  },
  {
   "cell_type": "markdown",
   "metadata": {},
   "source": [
    "#### add() method"
   ]
  },
  {
   "cell_type": "code",
   "execution_count": 76,
   "metadata": {},
   "outputs": [
    {
     "name": "stdout",
     "output_type": "stream",
     "text": [
      "{1, 'fish', 'orange', 'apple'}\n"
     ]
    }
   ],
   "source": [
    "#this is our previously defined set store in variable a\n",
    "a = {'apple', 1, 'orange'}\n",
    "\n",
    "#now to add one item to it, we use add method with value within the paranthesis\n",
    "a.add('fish')\n",
    "print(a)\n",
    "#so now fish has been added to it"
   ]
  },
  {
   "cell_type": "markdown",
   "metadata": {},
   "source": [
    "#### update() method"
   ]
  },
  {
   "cell_type": "code",
   "execution_count": 77,
   "metadata": {},
   "outputs": [],
   "source": [
    "#Update method also work in a same way with the benefit that we can pass multiple items within the paranthesis."
   ]
  },
  {
   "cell_type": "code",
   "execution_count": 78,
   "metadata": {},
   "outputs": [
    {
     "name": "stdout",
     "output_type": "stream",
     "text": [
      "{1, 'apple', 'ball', 'banana', 'fish', 'orange'}\n"
     ]
    }
   ],
   "source": [
    "#here We have use update method and pass 2 items by using square brackets followed by method paranthesis\n",
    "a.update(['banana', 'ball'])\n",
    "\n",
    "print(a)"
   ]
  },
  {
   "cell_type": "code",
   "execution_count": 79,
   "metadata": {},
   "outputs": [
    {
     "name": "stdout",
     "output_type": "stream",
     "text": [
      "{1, 'mango', 'cup', 'apple', 'ball', 'banana', 'fish', 'orange'}\n"
     ]
    }
   ],
   "source": [
    "#you can also use round paranthesis to pass multiple items\n",
    "a.update(('mango', 'cup'))\n",
    "\n",
    "print(a)"
   ]
  },
  {
   "cell_type": "markdown",
   "metadata": {},
   "source": [
    "### Removing Item"
   ]
  },
  {
   "cell_type": "raw",
   "metadata": {},
   "source": [
    "We can remove items from set by following three ways:\n",
    "\n",
    "1.By using remove() method.\n",
    "2.By using discard() method.\n",
    "3.By using pop method."
   ]
  },
  {
   "cell_type": "code",
   "execution_count": 80,
   "metadata": {},
   "outputs": [],
   "source": [
    "#In working all three methods are different from each other, so lets quickly discuss them."
   ]
  },
  {
   "cell_type": "markdown",
   "metadata": {},
   "source": [
    "#### remove() method"
   ]
  },
  {
   "cell_type": "code",
   "execution_count": 81,
   "metadata": {},
   "outputs": [],
   "source": [
    "#lets use remove method first"
   ]
  },
  {
   "cell_type": "code",
   "execution_count": 82,
   "metadata": {},
   "outputs": [
    {
     "name": "stdout",
     "output_type": "stream",
     "text": [
      "{1, 'mango', 'cup', 'apple', 'ball', 'banana', 'fish'}\n"
     ]
    }
   ],
   "source": [
    "#So here I have removed 'orange' from our set a\n",
    "\n",
    "a.remove('orange')\n",
    "print(a)\n",
    "\n",
    "#you can see orange is not their in a set"
   ]
  },
  {
   "cell_type": "raw",
   "metadata": {},
   "source": [
    "One thing to note here is that if an item to be removed is not their in a set, then remove() method will raise an error"
   ]
  },
  {
   "cell_type": "code",
   "execution_count": 83,
   "metadata": {},
   "outputs": [],
   "source": [
    "#Its time to see whether it raise an error if we remove item house from set a"
   ]
  },
  {
   "cell_type": "code",
   "execution_count": 84,
   "metadata": {},
   "outputs": [
    {
     "ename": "KeyError",
     "evalue": "'house'",
     "output_type": "error",
     "traceback": [
      "\u001b[1;31m---------------------------------------------------------------------------\u001b[0m",
      "\u001b[1;31mKeyError\u001b[0m                                  Traceback (most recent call last)",
      "\u001b[1;32m<ipython-input-84-158bd493b912>\u001b[0m in \u001b[0;36m<module>\u001b[1;34m\u001b[0m\n\u001b[1;32m----> 1\u001b[1;33m \u001b[0ma\u001b[0m\u001b[1;33m.\u001b[0m\u001b[0mremove\u001b[0m\u001b[1;33m(\u001b[0m\u001b[1;34m'house'\u001b[0m\u001b[1;33m)\u001b[0m\u001b[1;33m\u001b[0m\u001b[1;33m\u001b[0m\u001b[0m\n\u001b[0m\u001b[0;32m      2\u001b[0m \u001b[1;31m#so you can see it raise an error\u001b[0m\u001b[1;33m\u001b[0m\u001b[1;33m\u001b[0m\u001b[1;33m\u001b[0m\u001b[0m\n",
      "\u001b[1;31mKeyError\u001b[0m: 'house'"
     ]
    }
   ],
   "source": [
    "a.remove('house')\n",
    "#so you can see it raise an error"
   ]
  },
  {
   "cell_type": "markdown",
   "metadata": {},
   "source": [
    "#### discard() method"
   ]
  },
  {
   "cell_type": "raw",
   "metadata": {},
   "source": [
    "So another way is to use discard method, as it does not raise an error if item to be removed does not exist"
   ]
  },
  {
   "cell_type": "code",
   "execution_count": 85,
   "metadata": {},
   "outputs": [],
   "source": [
    "#lets check it again by passing house item to it\n",
    "a.discard('house')\n",
    "\n",
    "#so you can see it does not raise an error, lets try to remove item of a set using discard method\""
   ]
  },
  {
   "cell_type": "code",
   "execution_count": 86,
   "metadata": {},
   "outputs": [
    {
     "name": "stdout",
     "output_type": "stream",
     "text": [
      "{1, 'mango', 'apple', 'ball', 'banana', 'fish'}\n"
     ]
    }
   ],
   "source": [
    "#So here we have removed cup from our set a\n",
    "a.discard('cup')\n",
    "\n",
    "print(a)"
   ]
  },
  {
   "cell_type": "markdown",
   "metadata": {},
   "source": [
    "#### pop() method"
   ]
  },
  {
   "cell_type": "raw",
   "metadata": {},
   "source": [
    "pop() method also used to remove set items and it removes last item, but we know that set items are unordered, so in the end we will not know exactly what item gets removed. "
   ]
  },
  {
   "cell_type": "code",
   "execution_count": 87,
   "metadata": {},
   "outputs": [],
   "source": [
    "#Previously we have also use pop method with list and we know that we can also store removing item in a variable which we\n",
    "#already did in list, so lets try to do same thing here"
   ]
  },
  {
   "cell_type": "code",
   "execution_count": 88,
   "metadata": {},
   "outputs": [
    {
     "name": "stdout",
     "output_type": "stream",
     "text": [
      "1\n"
     ]
    }
   ],
   "source": [
    "#So here we have removed last set item and store it in removed_item variable, and print that remove item\n",
    "removed_item = a.pop()\n",
    "\n",
    "print(removed_item)"
   ]
  },
  {
   "cell_type": "code",
   "execution_count": 89,
   "metadata": {},
   "outputs": [],
   "source": [
    "#see privoulsy 1 was at first position and pop remove last item, but as I told you guys set does not follow order so it\n",
    "#removed 1 which verfies that set items are unordered"
   ]
  },
  {
   "cell_type": "code",
   "execution_count": 90,
   "metadata": {},
   "outputs": [],
   "source": [
    "#So these were the three methods which are used in removing set items"
   ]
  },
  {
   "cell_type": "markdown",
   "metadata": {},
   "source": [
    "### len() method"
   ]
  },
  {
   "cell_type": "raw",
   "metadata": {},
   "source": [
    "len() method returns the len of a set"
   ]
  },
  {
   "cell_type": "code",
   "execution_count": 91,
   "metadata": {},
   "outputs": [
    {
     "name": "stdout",
     "output_type": "stream",
     "text": [
      "{'mango', 'apple', 'ball', 'banana', 'fish'}\n"
     ]
    }
   ],
   "source": [
    "#this time our set a has 5 items\n",
    "print(a)"
   ]
  },
  {
   "cell_type": "code",
   "execution_count": 92,
   "metadata": {},
   "outputs": [
    {
     "name": "stdout",
     "output_type": "stream",
     "text": [
      "5\n"
     ]
    }
   ],
   "source": [
    "#lets verify this using len method to it\n",
    "print(len(a))\n",
    "\n",
    "#so it give us the correct result"
   ]
  },
  {
   "cell_type": "markdown",
   "metadata": {},
   "source": [
    "### clear() method"
   ]
  },
  {
   "cell_type": "raw",
   "metadata": {},
   "source": [
    "clear method is used to make a set empty"
   ]
  },
  {
   "cell_type": "code",
   "execution_count": 93,
   "metadata": {},
   "outputs": [
    {
     "name": "stdout",
     "output_type": "stream",
     "text": [
      "set()\n"
     ]
    }
   ],
   "source": [
    "a.clear()\n",
    "print(a)"
   ]
  },
  {
   "cell_type": "code",
   "execution_count": 94,
   "metadata": {},
   "outputs": [
    {
     "name": "stdout",
     "output_type": "stream",
     "text": [
      "0\n"
     ]
    }
   ],
   "source": [
    "#see it return empty set, you can also verify it by using len method\n",
    "print(len(a))"
   ]
  },
  {
   "cell_type": "code",
   "execution_count": 95,
   "metadata": {},
   "outputs": [],
   "source": [
    "#see it returns 0"
   ]
  },
  {
   "cell_type": "markdown",
   "metadata": {},
   "source": [
    "### del keyword"
   ]
  },
  {
   "cell_type": "raw",
   "metadata": {},
   "source": [
    "del keyword is used to delete the set completely"
   ]
  },
  {
   "cell_type": "code",
   "execution_count": 96,
   "metadata": {},
   "outputs": [],
   "source": [
    "#here I have defined a new set b, lets delete this set\n",
    "b = {'mango', 'apple', 'ball', 'banana', 'fish'}"
   ]
  },
  {
   "cell_type": "code",
   "execution_count": 97,
   "metadata": {},
   "outputs": [],
   "source": [
    "del b"
   ]
  },
  {
   "cell_type": "code",
   "execution_count": 100,
   "metadata": {},
   "outputs": [
    {
     "ename": "NameError",
     "evalue": "name 'b' is not defined",
     "output_type": "error",
     "traceback": [
      "\u001b[1;31m---------------------------------------------------------------------------\u001b[0m",
      "\u001b[1;31mNameError\u001b[0m                                 Traceback (most recent call last)",
      "\u001b[1;32m<ipython-input-100-691388e18a33>\u001b[0m in \u001b[0;36m<module>\u001b[1;34m\u001b[0m\n\u001b[0;32m      1\u001b[0m \u001b[1;31m#I have deleted a set b, lets check it by using print statement\u001b[0m\u001b[1;33m\u001b[0m\u001b[1;33m\u001b[0m\u001b[1;33m\u001b[0m\u001b[0m\n\u001b[1;32m----> 2\u001b[1;33m \u001b[0mprint\u001b[0m\u001b[1;33m(\u001b[0m\u001b[0mb\u001b[0m\u001b[1;33m)\u001b[0m\u001b[1;33m\u001b[0m\u001b[1;33m\u001b[0m\u001b[0m\n\u001b[0m\u001b[0;32m      3\u001b[0m \u001b[1;31m#see it return b is not define as we have already deleted it\u001b[0m\u001b[1;33m\u001b[0m\u001b[1;33m\u001b[0m\u001b[1;33m\u001b[0m\u001b[0m\n",
      "\u001b[1;31mNameError\u001b[0m: name 'b' is not defined"
     ]
    }
   ],
   "source": [
    "#I have deleted a set b, lets check it by using print statement\n",
    "print(b)\n",
    "#see it return b is not define as we have already deleted it"
   ]
  },
  {
   "cell_type": "markdown",
   "metadata": {},
   "source": [
    "### Joining Sets"
   ]
  },
  {
   "cell_type": "raw",
   "metadata": {},
   "source": [
    "We can join two or more sets in Python in several ways.\n",
    "\n",
    "1 Firstly We can use the union() method.\n",
    "2.Secondly by using the update() method which is used to inserts all the it ems from one set into another set"
   ]
  },
  {
   "cell_type": "markdown",
   "metadata": {},
   "source": [
    "#### Union() method"
   ]
  },
  {
   "cell_type": "raw",
   "metadata": {},
   "source": [
    "union() method combines two sets and  returns a new set containing all items from two sets"
   ]
  },
  {
   "cell_type": "code",
   "execution_count": 4,
   "metadata": {},
   "outputs": [
    {
     "name": "stdout",
     "output_type": "stream",
     "text": [
      "{'orange', 20, 'apple', 10, 30, 'mango'}\n"
     ]
    }
   ],
   "source": [
    "#So now let see how union method works\n",
    "set_a= {\"orange\", \"apple\" , \"mango\"}\n",
    "set_b = {10, 20, 30}\n",
    "\n",
    "set_c = set_a.union(set_b)\n",
    "\n",
    "#union method will return a new set containing items from both of the above sets irrespective of their order\n",
    "#and we store that new set in set_c, the syntax is quite simple, name of first set followed by union method and then name\n",
    "#of second set within the paranthesis\n",
    "#lets print out set_c\n",
    "\n",
    "print(set_c)"
   ]
  },
  {
   "cell_type": "code",
   "execution_count": 5,
   "metadata": {},
   "outputs": [
    {
     "name": "stdout",
     "output_type": "stream",
     "text": [
      "{'orange', 20, 'apple', 10, 30, 'mango'}\n"
     ]
    }
   ],
   "source": [
    "#You can also use this syntax to apply union on two sets\n",
    "\n",
    "set_a= {\"orange\", \"apple\" , \"mango\"}\n",
    "set_b = {10, 20, 30}\n",
    "\n",
    "set_d = set.union(set_a, set_b)\n",
    "#here we used set then union method and name of sets onto which you want to apply union within the paranthesis\n",
    "#and store the new or returning set in variable set_d\n",
    "\n",
    "#here we print it out and we got the same result as above\n",
    "print(set_d)"
   ]
  },
  {
   "cell_type": "markdown",
   "metadata": {},
   "source": [
    "#### update() method"
   ]
  },
  {
   "cell_type": "raw",
   "metadata": {},
   "source": [
    "update() method which is used to inserts all the items from one set into another set"
   ]
  },
  {
   "cell_type": "code",
   "execution_count": 6,
   "metadata": {},
   "outputs": [],
   "source": [
    "#let see how it works"
   ]
  },
  {
   "cell_type": "code",
   "execution_count": 9,
   "metadata": {},
   "outputs": [
    {
     "name": "stdout",
     "output_type": "stream",
     "text": [
      "{10, 100, 20, 'pineapple', 'guava', 'mango'}\n"
     ]
    }
   ],
   "source": [
    "set_1 = {\"guava\", \"pineapple\" , \"mango\"}\n",
    "set_2 = {10, 100, 20}\n",
    "\n",
    "set_1.update(set_2)\n",
    "#it has the similar syntax to what we have set in union method just replaces union with update.\\\n",
    "#so here we are inserting all set2 items in set 1\n",
    "\n",
    "print(set_1)\n",
    "#so now lets print set_1 to check whether it has been updated or not"
   ]
  },
  {
   "cell_type": "code",
   "execution_count": 32,
   "metadata": {},
   "outputs": [],
   "source": [
    "#so you can see now it contains 6 items, 3 which it already has and 3 from set 2"
   ]
  },
  {
   "cell_type": "raw",
   "metadata": {},
   "source": [
    "#Note that there are other methods too that joins two sets and keeps ONLY the duplicates, or NEVER the duplicates, check the full list of set methods in the bottom of this page."
   ]
  },
  {
   "cell_type": "markdown",
   "metadata": {},
   "source": [
    "### difference method()"
   ]
  },
  {
   "cell_type": "raw",
   "metadata": {},
   "source": [
    "It takes difference between two or more sets and return a new set of items "
   ]
  },
  {
   "cell_type": "code",
   "execution_count": 13,
   "metadata": {},
   "outputs": [
    {
     "name": "stdout",
     "output_type": "stream",
     "text": [
      "{'orange', 'mango'}\n"
     ]
    }
   ],
   "source": [
    "set_a = {'apple', 'mango', 'orange'}\n",
    "set_b = {'apple', 'banana', 'pineapple'}\n",
    "\n",
    "set_c = set_a.difference(set_b)\n",
    "\n",
    "#it takes difference between set a and set b but as you can see notation represents as subtract set_b items from set a\n",
    "#So In this case it returns a set that contains the items that only exist in set a after subtracting set_b items\n",
    "\n",
    "#so apple will be subtracted from set a as it is also in set b\n",
    "print(set_c)#so it have to print mango and orange, let see whether we are correct or not\n",
    "#so yeah it works great"
   ]
  },
  {
   "cell_type": "markdown",
   "metadata": {},
   "source": [
    "### The set() constructor"
   ]
  },
  {
   "cell_type": "raw",
   "metadata": {},
   "source": [
    "We can also make a set by using the set() constructor.\n",
    "It is like when we use list() constructor to make a list"
   ]
  },
  {
   "cell_type": "code",
   "execution_count": 19,
   "metadata": {},
   "outputs": [
    {
     "name": "stdout",
     "output_type": "stream",
     "text": [
      "{1, 'orange', 'banana', 'apple'}\n"
     ]
    }
   ],
   "source": [
    "a = set(('apple', 'banana', 'orange', 1))\n",
    "print(a)"
   ]
  },
  {
   "cell_type": "raw",
   "metadata": {},
   "source": [
    "Similarly you can also define an empty set as we did in list"
   ]
  },
  {
   "cell_type": "code",
   "execution_count": 21,
   "metadata": {},
   "outputs": [
    {
     "name": "stdout",
     "output_type": "stream",
     "text": [
      "set()\n"
     ]
    }
   ],
   "source": [
    "b = set()\n",
    "print(b)\n",
    "#see it prints an empty set"
   ]
  },
  {
   "cell_type": "code",
   "execution_count": 17,
   "metadata": {},
   "outputs": [],
   "source": [
    "#So now lets move towards the last method"
   ]
  },
  {
   "cell_type": "markdown",
   "metadata": {},
   "source": [
    "### Intersection() method"
   ]
  },
  {
   "cell_type": "raw",
   "metadata": {},
   "source": [
    "intersection() method is used to returns a set, that is the intersection of two other sets.\n",
    "you can also say that it returns a set containing the items that are common in both the sets."
   ]
  },
  {
   "cell_type": "code",
   "execution_count": 15,
   "metadata": {},
   "outputs": [
    {
     "name": "stdout",
     "output_type": "stream",
     "text": [
      "{'apple'}\n"
     ]
    }
   ],
   "source": [
    "set_a = {'apple', 'mango', 'orange'}\n",
    "set_b = {'apple', 'banana', 'pineapple'}\n",
    "\n",
    "set_c = set_a.intersection(set_b)\n",
    "#We can see that apple is common in both set a and set b so intersection method will return apple and store it in set c\n",
    "#we can check that by printing set c\n",
    "print(set_c)"
   ]
  },
  {
   "cell_type": "code",
   "execution_count": null,
   "metadata": {},
   "outputs": [],
   "source": [
    "#So that's all for a set, as I already mentioned that, it is not commonly used data structure but you have to know what is\n",
    "#set and some of its basic operations"
   ]
  },
  {
   "cell_type": "markdown",
   "metadata": {},
   "source": [
    "## EXERCISE"
   ]
  },
  {
   "cell_type": "markdown",
   "metadata": {},
   "source": [
    "Q1: Write a python program to check whether \"mango\" is present in the fruits set or not"
   ]
  },
  {
   "cell_type": "code",
   "execution_count": 24,
   "metadata": {},
   "outputs": [
    {
     "name": "stdout",
     "output_type": "stream",
     "text": [
      "Mango is their in a fruit set!\n"
     ]
    }
   ],
   "source": [
    "fruits = {\"mango\", \"banana\", \"pineapple\"}\n",
    "\n",
    "if \"mango\" in fruits:#it uses in operator to check whether mango is their in a frutis set\n",
    "    \\\n",
    "    print(\"Mango is their in a fruit set!\")\n",
    "else:\n",
    "    print(\"Mango is not their in a fruit set!\")"
   ]
  },
  {
   "cell_type": "markdown",
   "metadata": {},
   "source": [
    "Q2: Write a python program to add 'cherry' in a fruits set"
   ]
  },
  {
   "cell_type": "code",
   "execution_count": 25,
   "metadata": {},
   "outputs": [
    {
     "name": "stdout",
     "output_type": "stream",
     "text": [
      "{'cherry', 'banana', 'pineapple', 'mango'}\n"
     ]
    }
   ],
   "source": [
    "#we can use add method to add cherry to a fruits set\n",
    "fruits.add('cherry')\n",
    "print(fruits)"
   ]
  },
  {
   "cell_type": "markdown",
   "metadata": {},
   "source": [
    "Q3: Write a python program to add more fruits(more than one) to our fruits set"
   ]
  },
  {
   "cell_type": "code",
   "execution_count": 26,
   "metadata": {},
   "outputs": [
    {
     "name": "stdout",
     "output_type": "stream",
     "text": [
      "{'orange', 'apple', 'cherry', 'pineapple', 'banana', 'mango'}\n"
     ]
    }
   ],
   "source": [
    "#we have used update method to do this\n",
    "fruits.update(['orange', 'apple'])\n",
    "\n",
    "#lets print out our fruits set\n",
    "print(fruits)"
   ]
  },
  {
   "cell_type": "markdown",
   "metadata": {},
   "source": [
    "Q4: Write a python program to remove pineapple from a fruits set without raising an error(if pineapple not present in fruits set)"
   ]
  },
  {
   "cell_type": "code",
   "execution_count": 27,
   "metadata": {},
   "outputs": [
    {
     "name": "stdout",
     "output_type": "stream",
     "text": [
      "{'orange', 'apple', 'cherry', 'banana', 'mango'}\n"
     ]
    }
   ],
   "source": [
    "fruits = {'orange', 'apple', 'cherry', 'pineapple', 'banana', 'mango'}\n",
    "\n",
    "fruits.discard('pineapple')\n",
    "\n",
    "print(fruits)"
   ]
  },
  {
   "cell_type": "markdown",
   "metadata": {},
   "source": [
    "Q5: Write a python program to find common items between two given sets"
   ]
  },
  {
   "cell_type": "code",
   "execution_count": 30,
   "metadata": {},
   "outputs": [
    {
     "name": "stdout",
     "output_type": "stream",
     "text": [
      "{1, 4}\n"
     ]
    }
   ],
   "source": [
    "#we have used intersection method to do this\n",
    "set1 = {1, 2, 3, 4}\n",
    "set2 = {10, 1, 4, 5}\n",
    "\n",
    "set3 = set1.intersection(set2)\n",
    "print(set3)"
   ]
  },
  {
   "cell_type": "markdown",
   "metadata": {},
   "source": [
    "Q6: Write a python program to return a new set containing items from both given set"
   ]
  },
  {
   "cell_type": "code",
   "execution_count": 31,
   "metadata": {},
   "outputs": [
    {
     "name": "stdout",
     "output_type": "stream",
     "text": [
      "{1, 2, 3, 4, 5, 10}\n"
     ]
    }
   ],
   "source": [
    "#we have used union method to do this\n",
    "set1 = {1, 2, 3, 4}\n",
    "set2 = {10, 1, 4, 5}\n",
    "\n",
    "set3 = set1.union(set2)\n",
    "print(set3)"
   ]
  },
  {
   "cell_type": "code",
   "execution_count": null,
   "metadata": {},
   "outputs": [],
   "source": []
  }
 ],
 "metadata": {
  "kernelspec": {
   "display_name": "Python 3",
   "language": "python",
   "name": "python3"
  },
  "language_info": {
   "codemirror_mode": {
    "name": "ipython",
    "version": 3
   },
   "file_extension": ".py",
   "mimetype": "text/x-python",
   "name": "python",
   "nbconvert_exporter": "python",
   "pygments_lexer": "ipython3",
   "version": "3.7.4"
  }
 },
 "nbformat": 4,
 "nbformat_minor": 4
}
