{
 "cells": [
  {
   "cell_type": "markdown",
   "metadata": {},
   "source": [
    "#### What is an Exception"
   ]
  },
  {
   "cell_type": "code",
   "execution_count": 1,
   "metadata": {},
   "outputs": [],
   "source": [
    "#An exception is defined as a condition that can’t be easily handled by the normal flow-of-control of a Python program. \n",
    "#that condition can be dividing a number by 0 or accessing element of that index which is not in a list(out of range) etc\n",
    "#Exceptions can often be defined as being “errors” but this is not always the case. All errors in Python are dealt with\n",
    "#using exceptions."
   ]
  },
  {
   "cell_type": "code",
   "execution_count": 2,
   "metadata": {},
   "outputs": [],
   "source": [
    "#To handle an exception we use try/except control structure\n",
    "#The try/except control structure process a run-time error and continue on with program execution.\n",
    "#Those run time error can be dividing by zero, calling an invalid function, accessing element which is not in the sequence\n",
    "#(out of range)etc"
   ]
  },
  {
   "cell_type": "code",
   "execution_count": 3,
   "metadata": {},
   "outputs": [],
   "source": [
    "#lets see the syntax of try/except"
   ]
  },
  {
   "cell_type": "raw",
   "metadata": {},
   "source": [
    "try:\n",
    "   <try clause code block>\n",
    "except <ErrorType>:\n",
    "   <exception handler code block>"
   ]
  },
  {
   "cell_type": "code",
   "execution_count": 4,
   "metadata": {},
   "outputs": [],
   "source": [
    "#Now quickly see how does try/except syntax works\n",
    "\n",
    "#If the code in the try section works - the except section would be skipped\n",
    "#If the code in the try section fails - it jumps to the except section"
   ]
  },
  {
   "cell_type": "code",
   "execution_count": 5,
   "metadata": {},
   "outputs": [],
   "source": [
    "#lets dive into code"
   ]
  },
  {
   "cell_type": "code",
   "execution_count": 8,
   "metadata": {},
   "outputs": [
    {
     "ename": "IndexError",
     "evalue": "list index out of range",
     "output_type": "error",
     "traceback": [
      "\u001b[1;31m---------------------------------------------------------------------------\u001b[0m",
      "\u001b[1;31mIndexError\u001b[0m                                Traceback (most recent call last)",
      "\u001b[1;32m<ipython-input-8-9b8a6750d07e>\u001b[0m in \u001b[0;36m<module>\u001b[1;34m\u001b[0m\n\u001b[0;32m      3\u001b[0m \u001b[1;31m#we try to access index 3, I know this is not in the list, python raise an error out of range, but we can handle that error\u001b[0m\u001b[1;33m\u001b[0m\u001b[1;33m\u001b[0m\u001b[1;33m\u001b[0m\u001b[0m\n\u001b[0;32m      4\u001b[0m \u001b[1;31m#using try/except control structure\u001b[0m\u001b[1;33m\u001b[0m\u001b[1;33m\u001b[0m\u001b[1;33m\u001b[0m\u001b[0m\n\u001b[1;32m----> 5\u001b[1;33m \u001b[0mfruits\u001b[0m\u001b[1;33m[\u001b[0m\u001b[1;36m3\u001b[0m\u001b[1;33m]\u001b[0m\u001b[1;31m#see it gives list index out of range\u001b[0m\u001b[1;33m\u001b[0m\u001b[1;33m\u001b[0m\u001b[0m\n\u001b[0m",
      "\u001b[1;31mIndexError\u001b[0m: list index out of range"
     ]
    }
   ],
   "source": [
    "#lets consider a list of fruits\n",
    "fruits =  ['apple', 'mango', 'orange']\n",
    "#we try to access index 3, I know this is not in the list, python raise an error out of range, but we can handle that error\n",
    "#using try/except control structure\n",
    "fruits[3]#see it gives list index out of range"
   ]
  },
  {
   "cell_type": "code",
   "execution_count": 9,
   "metadata": {},
   "outputs": [
    {
     "name": "stdout",
     "output_type": "stream",
     "text": [
      "We handle error using try and excep, try secion won't work as we are trying to access index out of range so except section works\n"
     ]
    }
   ],
   "source": [
    "#now lets use try/except to avoid error\n",
    "try:\n",
    "    a = fruits[3]\n",
    "    print(a)\n",
    "except:\n",
    "    print(\"We handle error using try and excep, try secion won't work as we are trying to access index out of range so except section works\")\n",
    "    \n",
    "#lets see does we avoid python error, check whether except section works or not"
   ]
  },
  {
   "cell_type": "code",
   "execution_count": 2,
   "metadata": {},
   "outputs": [
    {
     "name": "stdout",
     "output_type": "stream",
     "text": [
      "[0, 1, '36 can not be divided by 0', 0, '36 can not be divided by 0', 0]\n"
     ]
    }
   ],
   "source": [
    "#see it works\n",
    "#let try one more example before moving on to exercise\n",
    "#lets take a list of numbers and divide 36 by each list number and store their remainder in remainder list\n",
    "#the main thing is that list also consist of 0's and we know 36 can not be divide by 0, so to handle such \n",
    "#kind of situation we use try/except, lets see how it works\n",
    "\n",
    "numbers = [4, 5, 0, 6, 0, 9]\n",
    "\n",
    "remainder = []\n",
    "for num in numbers:\n",
    "    try:\n",
    "        remainder.append(36%num)\n",
    "    except:\n",
    "        remainder.append(f'36 can not be divided by {num}')\n",
    "print(remainder)\n",
    "\n",
    "#so what is heppening in this code is that first we define an empty list and then to iterate over all list elements we used\n",
    "#for loop here, then comes the try except clause we append remainder of 36 divided by number into remainder list so when\n",
    "#4 comes we know 36 divided by 4 has 0 remainder so 0 append to list, then in next iteration 36 divided by 5 returns 1 \n",
    "#reaminder so try clause also append it to remainder list, then 0 comes and we know 36 can not be divided by zero as \n",
    "#python will raise zero division error, so to avoid that errot except clause will run and it will append msg containing\n",
    "#'36 can not be divided by zero' to remainder list then 6 comes then again 0 comes try clause will not run as 36 cannot be\n",
    "#divided by 0 so again except clause will run and append msg to list, so lets print out remainder list\n",
    "\n",
    "\n",
    "#see we get all correct remainders but as I have said 36 cannot be divided by zero, so except clause append msg to \n",
    "#remainder list and we can see that msg inplace of 36 divided by 0"
   ]
  },
  {
   "cell_type": "code",
   "execution_count": 18,
   "metadata": {},
   "outputs": [],
   "source": [
    "#Its an small and easy topic so we'll do few exercise questions of it"
   ]
  },
  {
   "cell_type": "markdown",
   "metadata": {},
   "source": [
    "## EXERCISE"
   ]
  },
  {
   "cell_type": "markdown",
   "metadata": {},
   "source": [
    "Q1: Write a python program which add second character of each word of words list to characters list."
   ]
  },
  {
   "cell_type": "code",
   "execution_count": 22,
   "metadata": {},
   "outputs": [
    {
     "name": "stdout",
     "output_type": "stream",
     "text": [
      "['p', 'a', 'does not have second character', 'a', 'does not have second character', 'o']\n"
     ]
    }
   ],
   "source": [
    "words = ['apple', 'car', 'm', 'ball', 'c', 'dog']#this is our words list containing words\n",
    "\n",
    "characters = []#here I define empty characters list which we'll use to append second character of each word from words list\n",
    "\n",
    "for word in words:#now iterating over all words of words list\n",
    "    try:#try clause append second character or character at index 1 of each word to characters list\n",
    "        characters.append(word[1])\n",
    "    except:#third element and 5th element only have one character, they does not have second character so to avoid out of\n",
    "        #range error we use except clause which append 'does not have second character' msg inplace of them\n",
    "        characters.append('does not have second character')\n",
    "        \n",
    "print(characters)#so lets try to print characters list\n",
    "#see it contains msg 'does not have second character' in place of third and fifth element and rest contains second charac\n",
    "#of each word"
   ]
  },
  {
   "cell_type": "markdown",
   "metadata": {},
   "source": [
    "Q2: Write a python program which add second element of each list in list(nested list) named cities to sec_elem list"
   ]
  },
  {
   "cell_type": "code",
   "execution_count": 27,
   "metadata": {},
   "outputs": [
    {
     "name": "stdout",
     "output_type": "stream",
     "text": [
      "['Karachi', 'list does not have second element', 'Houston', 'list does not have second element']\n"
     ]
    }
   ],
   "source": [
    "cities = [['Los Angles', 'Karachi', 'New York'], ['Toronto'], ['Mumbai', 'Houston', 'Dallas'], ['Dhaka']]\n",
    "#the above list is nested list named cities\n",
    "sec_elem = []#empty list to add second element of each inner list\n",
    "\n",
    "for city in cities:#iterating over outer list\n",
    "    try:\n",
    "        sec_elem.append(city[1])#append second element of each inner list\n",
    "    except:#as second and 4th inner list does not have second element so msg 'list  does not have second element' will be\n",
    "        #append in place of them\n",
    "        sec_elem.append('list does not have second element')\n",
    "print(sec_elem)"
   ]
  },
  {
   "cell_type": "markdown",
   "metadata": {},
   "source": [
    "Q3: Write a python program which calculates total no of mangoes in three stores can be visualized in the form of dictionary "
   ]
  },
  {
   "cell_type": "code",
   "execution_count": 12,
   "metadata": {},
   "outputs": [
    {
     "name": "stdout",
     "output_type": "stream",
     "text": [
      "no mango\n",
      "error <class 'KeyError'>\n",
      "Total number of mangoes: 20\n"
     ]
    }
   ],
   "source": [
    "import sys\n",
    "\n",
    "#if wanted to know type of error, use sys.exc_info()[0] and it will tell about the class of error\n",
    "\n",
    "things = [{\"Mangoes\": 10, 'Chicken': 6, \"Carrot\": 20},{\"Mangoes\": 10, \"Oranges\": 9, \"Fish\": 2}, {\"Fish\": 23, \"Guave\": 9, \"Potato\": 30}]\n",
    "total = 0\n",
    "\n",
    "for dictionary in things:\n",
    "    try:\n",
    "        total = total + dictionary['Mangoes']\n",
    "    except:\n",
    "        error = sys.exc_info()[0]\n",
    "        print(\"no mango\")\n",
    "        print(\"error\", error)\n",
    "print(\"Total number of mangoes:\", total)\n"
   ]
  },
  {
   "cell_type": "markdown",
   "metadata": {},
   "source": [
    "## try, except, or else!"
   ]
  },
  {
   "cell_type": "raw",
   "metadata": {},
   "source": [
    "The try/except statement also has an else clause. The else will only run if there are no errors raised. We will spend a few moments looking at a couple examples:"
   ]
  },
  {
   "cell_type": "code",
   "execution_count": 18,
   "metadata": {},
   "outputs": [
    {
     "name": "stdout",
     "output_type": "stream",
     "text": [
      "No error occurred!\n"
     ]
    }
   ],
   "source": [
    "my_dict = {\"a\":1, \"b\":2, \"c\":3}\n",
    "\n",
    "try:\n",
    "    value = my_dict[\"a\"]\n",
    "except KeyError:\n",
    "    print(\"A KeyError occurred!\")\n",
    "else:\n",
    "    print(\"No error occurred!\")"
   ]
  },
  {
   "cell_type": "markdown",
   "metadata": {},
   "source": [
    "## The finally Statement"
   ]
  },
  {
   "cell_type": "raw",
   "metadata": {},
   "source": [
    "It will always run whether try block runs or except blocks run"
   ]
  },
  {
   "cell_type": "code",
   "execution_count": 16,
   "metadata": {},
   "outputs": [
    {
     "name": "stdout",
     "output_type": "stream",
     "text": [
      "A KeyError occurred!\n",
      "The finally statement has executed!\n"
     ]
    }
   ],
   "source": [
    "my_dict = {\"a\":1, \"b\":2, \"c\":3}\n",
    "\n",
    "try:\n",
    "    value = my_dict[\"d\"]\n",
    "except KeyError:\n",
    "    print(\"A KeyError occurred!\")\n",
    "finally:\n",
    "    print(\"The finally statement has executed!\")"
   ]
  },
  {
   "cell_type": "code",
   "execution_count": null,
   "metadata": {},
   "outputs": [],
   "source": []
  }
 ],
 "metadata": {
  "kernelspec": {
   "display_name": "Python 3",
   "language": "python",
   "name": "python3"
  },
  "language_info": {
   "codemirror_mode": {
    "name": "ipython",
    "version": 3
   },
   "file_extension": ".py",
   "mimetype": "text/x-python",
   "name": "python",
   "nbconvert_exporter": "python",
   "pygments_lexer": "ipython3",
   "version": "3.7.4"
  }
 },
 "nbformat": 4,
 "nbformat_minor": 4
}
